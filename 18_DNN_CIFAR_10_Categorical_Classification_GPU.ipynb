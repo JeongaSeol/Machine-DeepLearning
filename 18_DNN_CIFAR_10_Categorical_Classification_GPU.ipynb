{
  "nbformat": 4,
  "nbformat_minor": 0,
  "metadata": {
    "colab": {
      "name": "18_DNN_CIFAR_10_Categorical_Classification_GPU.ipynb",
      "provenance": [],
      "collapsed_sections": []
    },
    "kernelspec": {
      "name": "python3",
      "display_name": "Python 3"
    },
    "accelerator": "GPU"
  },
  "cells": [
    {
      "cell_type": "markdown",
      "metadata": {
        "id": "q2Pr7oBdYLdf"
      },
      "source": [
        "# CIFAR 10 - Categorical Classification"
      ]
    },
    {
      "cell_type": "code",
      "metadata": {
        "id": "RbPgODpVzdHI"
      },
      "source": [
        "import warnings\n",
        "warnings.filterwarnings('ignore')"
      ],
      "execution_count": 1,
      "outputs": []
    },
    {
      "cell_type": "markdown",
      "metadata": {
        "id": "H49A769LYp-a"
      },
      "source": [
        "# I. CIFAR 10 Data_Set Load & Review"
      ]
    },
    {
      "cell_type": "markdown",
      "metadata": {
        "id": "vb6EIkRcbPb4"
      },
      "source": [
        "> ## 1) Load CIFAR 10 Data_Set"
      ]
    },
    {
      "cell_type": "code",
      "metadata": {
        "id": "DxstjE8b_6Te",
        "colab": {
          "base_uri": "https://localhost:8080/"
        },
        "outputId": "12e54d1c-3d8d-43c8-e5da-3bd66d745ee6"
      },
      "source": [
        "from tensorflow.keras.datasets import cifar10\n",
        "\n",
        "(X_train, y_train), (X_test, y_test) = cifar10.load_data()"
      ],
      "execution_count": 2,
      "outputs": [
        {
          "output_type": "stream",
          "name": "stdout",
          "text": [
            "Downloading data from https://www.cs.toronto.edu/~kriz/cifar-10-python.tar.gz\n",
            "170500096/170498071 [==============================] - 2s 0us/step\n",
            "170508288/170498071 [==============================] - 2s 0us/step\n"
          ]
        }
      ]
    },
    {
      "cell_type": "markdown",
      "metadata": {
        "id": "Mt11QE0EHCiJ"
      },
      "source": [
        "* Train_Data Information"
      ]
    },
    {
      "cell_type": "code",
      "metadata": {
        "id": "KT_Mr_Hb__VH",
        "colab": {
          "base_uri": "https://localhost:8080/"
        },
        "outputId": "515837c1-7c9f-4ca0-f8f5-3f17cd28bbb0"
      },
      "source": [
        "print(len(X_train))\n",
        "print(X_train.shape)\n",
        "\n",
        "print(len(y_train))\n",
        "print(y_train[0:5])"
      ],
      "execution_count": 3,
      "outputs": [
        {
          "output_type": "stream",
          "name": "stdout",
          "text": [
            "50000\n",
            "(50000, 32, 32, 3)\n",
            "50000\n",
            "[[6]\n",
            " [9]\n",
            " [9]\n",
            " [4]\n",
            " [1]]\n"
          ]
        }
      ]
    },
    {
      "cell_type": "markdown",
      "metadata": {
        "id": "QolAqIwgHGRI"
      },
      "source": [
        "* Test_Data Information"
      ]
    },
    {
      "cell_type": "code",
      "metadata": {
        "id": "NtkD2BKUANZE",
        "colab": {
          "base_uri": "https://localhost:8080/"
        },
        "outputId": "087482d7-6fac-443a-ee38-83188d9814bd"
      },
      "source": [
        "print(len(X_test))\n",
        "print(X_test.shape)\n",
        "\n",
        "print(len(y_test))\n",
        "print(y_test[0:5])"
      ],
      "execution_count": 4,
      "outputs": [
        {
          "output_type": "stream",
          "name": "stdout",
          "text": [
            "10000\n",
            "(10000, 32, 32, 3)\n",
            "10000\n",
            "[[3]\n",
            " [8]\n",
            " [8]\n",
            " [0]\n",
            " [6]]\n"
          ]
        }
      ]
    },
    {
      "cell_type": "markdown",
      "metadata": {
        "id": "BBSg_oWbZCyr"
      },
      "source": [
        "> ## 2) Visualization"
      ]
    },
    {
      "cell_type": "code",
      "metadata": {
        "id": "OV19FumXAWGH",
        "colab": {
          "base_uri": "https://localhost:8080/",
          "height": 266
        },
        "outputId": "91623c77-f22f-4216-b0ed-99e0990b3cce"
      },
      "source": [
        "import matplotlib.pyplot as plt\n",
        "\n",
        "digit = X_train[0]\n",
        "plt.imshow(digit)\n",
        "plt.show()"
      ],
      "execution_count": 5,
      "outputs": [
        {
          "output_type": "display_data",
          "data": {
            "image/png": "[encoded data removed]",
            "text/plain": [
              "<Figure size 432x288 with 1 Axes>"
            ]
          },
          "metadata": {
            "needs_background": "light"
          }
        }
      ]
    },
    {
      "cell_type": "code",
      "metadata": {
        "id": "wWXMkCE8NyAg",
        "cellView": "code",
        "colab": {
          "base_uri": "https://localhost:8080/"
        },
        "outputId": "678db471-6503-4a8e-f40e-29e97efe6450"
      },
      "source": [
        "import numpy as np\n",
        "np.set_printoptions(linewidth = 150)\n",
        "\n",
        "print(X_train[0][0])"
      ],
      "execution_count": 6,
      "outputs": [
        {
          "output_type": "stream",
          "name": "stdout",
          "text": [
            "[[ 59  62  63]\n",
            " [ 43  46  45]\n",
            " [ 50  48  43]\n",
            " [ 68  54  42]\n",
            " [ 98  73  52]\n",
            " [119  91  63]\n",
            " [139 107  75]\n",
            " [145 110  80]\n",
            " [149 117  89]\n",
            " [149 120  93]\n",
            " [131 103  77]\n",
            " [125  99  76]\n",
            " [142 115  91]\n",
            " [144 112  86]\n",
            " [137 105  79]\n",
            " [129  97  71]\n",
            " [137 106  79]\n",
            " [134 106  76]\n",
            " [124  97  64]\n",
            " [139 113  78]\n",
            " [139 112  75]\n",
            " [133 105  69]\n",
            " [136 105  74]\n",
            " [139 108  77]\n",
            " [152 120  89]\n",
            " [163 131 100]\n",
            " [168 136 108]\n",
            " [159 129 102]\n",
            " [158 130 104]\n",
            " [158 132 108]\n",
            " [152 125 102]\n",
            " [148 124 103]]\n"
          ]
        }
      ]
    },
    {
      "cell_type": "markdown",
      "metadata": {
        "id": "Mk9XL5vGHor6"
      },
      "source": [
        "# II. Data Preprocessing"
      ]
    },
    {
      "cell_type": "markdown",
      "metadata": {
        "id": "ec8zU4XCZRUF"
      },
      "source": [
        "> ## 1) Reshape and Normalization"
      ]
    },
    {
      "cell_type": "markdown",
      "metadata": {
        "id": "olI6ZPtEIb8H"
      },
      "source": [
        "* reshape\n",
        " * (50000, 32, 32, 3) to (50000, 3072)"
      ]
    },
    {
      "cell_type": "code",
      "metadata": {
        "id": "8-toPn1ZAmFd",
        "colab": {
          "base_uri": "https://localhost:8080/"
        },
        "outputId": "b67ae0c1-83c3-460f-cda4-09672c19a837"
      },
      "source": [
        "X_train = X_train.reshape((50000,32*32*3))\n",
        "X_test = X_test.reshape((10000, 32*32*3))\n",
        "\n",
        "X_train.shape, X_test.shape"
      ],
      "execution_count": 7,
      "outputs": [
        {
          "output_type": "execute_result",
          "data": {
            "text/plain": [
              "((50000, 3072), (10000, 3072))"
            ]
          },
          "metadata": {},
          "execution_count": 7
        }
      ]
    },
    {
      "cell_type": "markdown",
      "metadata": {
        "id": "UN-xPWjYIeWL"
      },
      "source": [
        "* Normalization"
      ]
    },
    {
      "cell_type": "code",
      "metadata": {
        "id": "SoGHuYeFIGBj"
      },
      "source": [
        "X_train = X_train.astype(float)/255\n",
        "X_test = X_test.astype(float)/255"
      ],
      "execution_count": 8,
      "outputs": []
    },
    {
      "cell_type": "code",
      "metadata": {
        "id": "m1HezAboV-x8",
        "colab": {
          "base_uri": "https://localhost:8080/"
        },
        "outputId": "4025597b-6022-45fc-ada8-8f2614ef255d"
      },
      "source": [
        "print(X_train[4])"
      ],
      "execution_count": 9,
      "outputs": [
        {
          "output_type": "stream",
          "name": "stdout",
          "text": [
            "[0.66666667 0.70588235 0.77647059 ... 0.28627451 0.30196078 0.31372549]\n"
          ]
        }
      ]
    },
    {
      "cell_type": "markdown",
      "metadata": {
        "id": "BtSROU80aF12"
      },
      "source": [
        "> ## 2) One Hot Encoding"
      ]
    },
    {
      "cell_type": "code",
      "metadata": {
        "id": "eC48Oym3Ao8E"
      },
      "source": [
        "from tensorflow.keras.utils import to_categorical\n",
        "\n",
        "y_train = to_categorical(y_train)\n",
        "y_test = to_categorical(y_test)\n"
      ],
      "execution_count": 10,
      "outputs": []
    },
    {
      "cell_type": "code",
      "metadata": {
        "id": "q1O-NsoJMyWU",
        "colab": {
          "base_uri": "https://localhost:8080/"
        },
        "outputId": "098e573d-69a2-4e9c-a4c9-341a4bcbcbbe"
      },
      "source": [
        "print(y_train[:5])"
      ],
      "execution_count": 11,
      "outputs": [
        {
          "output_type": "stream",
          "name": "stdout",
          "text": [
            "[[0. 0. 0. 0. 0. 0. 1. 0. 0. 0.]\n",
            " [0. 0. 0. 0. 0. 0. 0. 0. 0. 1.]\n",
            " [0. 0. 0. 0. 0. 0. 0. 0. 0. 1.]\n",
            " [0. 0. 0. 0. 1. 0. 0. 0. 0. 0.]\n",
            " [0. 1. 0. 0. 0. 0. 0. 0. 0. 0.]]\n"
          ]
        }
      ]
    },
    {
      "cell_type": "markdown",
      "metadata": {
        "id": "NTwZiSjiop3v"
      },
      "source": [
        "# III. Keras Modeling"
      ]
    },
    {
      "cell_type": "markdown",
      "metadata": {
        "id": "j5CT0TurJCkc"
      },
      "source": [
        "> ## 1) Model Define"
      ]
    },
    {
      "cell_type": "markdown",
      "metadata": {
        "id": "ydDCl0jTJD58"
      },
      "source": [
        "* 모델 신경망 구조 정의\n"
      ]
    },
    {
      "cell_type": "code",
      "metadata": {
        "id": "II0DskRdAcHS"
      },
      "source": [
        "from tensorflow.keras import models\n",
        "from tensorflow.keras import layers\n",
        "\n",
        "mnist = models.Sequential()\n",
        "mnist.add(layers.Dense(512, activation = 'relu', input_shape=(32*32*3, )))\n",
        "mnist.add(layers.Dense(256, activation = 'relu'))\n",
        "mnist.add(layers.Dense(10, activation = 'softmax'))"
      ],
      "execution_count": 13,
      "outputs": []
    },
    {
      "cell_type": "markdown",
      "metadata": {
        "id": "PqrObAHZJTN8"
      },
      "source": [
        "* 모델 구조 확인"
      ]
    },
    {
      "cell_type": "code",
      "metadata": {
        "id": "wbtjOA4XMTUd",
        "colab": {
          "base_uri": "https://localhost:8080/"
        },
        "outputId": "ae7f3082-3886-42da-9906-0b5d148013f3"
      },
      "source": [
        "mnist.summary()"
      ],
      "execution_count": 14,
      "outputs": [
        {
          "output_type": "stream",
          "name": "stdout",
          "text": [
            "Model: \"sequential_1\"\n",
            "_________________________________________________________________\n",
            "Layer (type)                 Output Shape              Param #   \n",
            "=================================================================\n",
            "dense_1 (Dense)              (None, 512)               1573376   \n",
            "_________________________________________________________________\n",
            "dense_2 (Dense)              (None, 256)               131328    \n",
            "_________________________________________________________________\n",
            "dense_3 (Dense)              (None, 10)                2570      \n",
            "=================================================================\n",
            "Total params: 1,707,274\n",
            "Trainable params: 1,707,274\n",
            "Non-trainable params: 0\n",
            "_________________________________________________________________\n"
          ]
        }
      ]
    },
    {
      "cell_type": "markdown",
      "metadata": {
        "id": "tpjBDBeYoyuj"
      },
      "source": [
        "> ## 2) Model Compile"
      ]
    },
    {
      "cell_type": "markdown",
      "metadata": {
        "id": "f3sxkQa0JoUr"
      },
      "source": [
        "* 모델 학습방법 설정"
      ]
    },
    {
      "cell_type": "code",
      "metadata": {
        "id": "AyK_t1qwAi6M"
      },
      "source": [
        "mnist.compile(loss = 'categorical_crossentropy',\n",
        "              optimizer = 'rmsprop',\n",
        "              metrics = ['accuracy'])\n"
      ],
      "execution_count": 15,
      "outputs": []
    },
    {
      "cell_type": "markdown",
      "metadata": {
        "id": "umiq4B-Xo3OB"
      },
      "source": [
        "> ## 3) Model Fit"
      ]
    },
    {
      "cell_type": "markdown",
      "metadata": {
        "id": "1KuXREziKMD1"
      },
      "source": [
        "* 약 5분"
      ]
    },
    {
      "cell_type": "code",
      "metadata": {
        "id": "zxwqwAqRAqRP",
        "colab": {
          "base_uri": "https://localhost:8080/"
        },
        "outputId": "c61bbc87-0764-410f-a833-6ce6abc9613b"
      },
      "source": [
        "%%time\n",
        "\n",
        "Hist_mnist = mnist.fit(X_train, y_train,\n",
        "                       epochs = 100,\n",
        "                       batch_size = 128,\n",
        "                       validation_split = 0.2)\n"
      ],
      "execution_count": 16,
      "outputs": [
        {
          "output_type": "stream",
          "name": "stdout",
          "text": [
            "Epoch 1/100\n",
            "313/313 [==============================] - 6s 8ms/step - loss: 2.2344 - accuracy: 0.2456 - val_loss: 1.9200 - val_accuracy: 0.3037\n",
            "Epoch 2/100\n",
            "313/313 [==============================] - 2s 7ms/step - loss: 1.8260 - accuracy: 0.3420 - val_loss: 1.8379 - val_accuracy: 0.3429\n",
            "Epoch 3/100\n",
            "313/313 [==============================] - 2s 7ms/step - loss: 1.7209 - accuracy: 0.3829 - val_loss: 1.6912 - val_accuracy: 0.3961\n",
            "Epoch 4/100\n",
            "313/313 [==============================] - 2s 7ms/step - loss: 1.6530 - accuracy: 0.4105 - val_loss: 1.6605 - val_accuracy: 0.4088\n",
            "Epoch 5/100\n",
            "313/313 [==============================] - 2s 7ms/step - loss: 1.6002 - accuracy: 0.4291 - val_loss: 1.8033 - val_accuracy: 0.3772\n",
            "Epoch 6/100\n",
            "313/313 [==============================] - 2s 7ms/step - loss: 1.5587 - accuracy: 0.4446 - val_loss: 1.5865 - val_accuracy: 0.4385\n",
            "Epoch 7/100\n",
            "313/313 [==============================] - 2s 7ms/step - loss: 1.5272 - accuracy: 0.4551 - val_loss: 1.6898 - val_accuracy: 0.4091\n",
            "Epoch 8/100\n",
            "313/313 [==============================] - 2s 7ms/step - loss: 1.4912 - accuracy: 0.4705 - val_loss: 1.6135 - val_accuracy: 0.4315\n",
            "Epoch 9/100\n",
            "313/313 [==============================] - 2s 7ms/step - loss: 1.4610 - accuracy: 0.4800 - val_loss: 1.5608 - val_accuracy: 0.4453\n",
            "Epoch 10/100\n",
            "313/313 [==============================] - 2s 8ms/step - loss: 1.4410 - accuracy: 0.4841 - val_loss: 1.6493 - val_accuracy: 0.4375\n",
            "Epoch 11/100\n",
            "313/313 [==============================] - 2s 7ms/step - loss: 1.4183 - accuracy: 0.4927 - val_loss: 1.6014 - val_accuracy: 0.4445\n",
            "Epoch 12/100\n",
            "313/313 [==============================] - 2s 7ms/step - loss: 1.3953 - accuracy: 0.5053 - val_loss: 1.5312 - val_accuracy: 0.4651\n",
            "Epoch 13/100\n",
            "313/313 [==============================] - 2s 7ms/step - loss: 1.3709 - accuracy: 0.5109 - val_loss: 1.6908 - val_accuracy: 0.4276\n",
            "Epoch 14/100\n",
            "313/313 [==============================] - 2s 7ms/step - loss: 1.3542 - accuracy: 0.5158 - val_loss: 1.6335 - val_accuracy: 0.4442\n",
            "Epoch 15/100\n",
            "313/313 [==============================] - 2s 7ms/step - loss: 1.3321 - accuracy: 0.5202 - val_loss: 1.5353 - val_accuracy: 0.4603\n",
            "Epoch 16/100\n",
            "313/313 [==============================] - 2s 7ms/step - loss: 1.3147 - accuracy: 0.5301 - val_loss: 1.7102 - val_accuracy: 0.4193\n",
            "Epoch 17/100\n",
            "313/313 [==============================] - 2s 7ms/step - loss: 1.3008 - accuracy: 0.5383 - val_loss: 1.5454 - val_accuracy: 0.4675\n",
            "Epoch 18/100\n",
            "313/313 [==============================] - 2s 7ms/step - loss: 1.2776 - accuracy: 0.5443 - val_loss: 1.5976 - val_accuracy: 0.4621\n",
            "Epoch 19/100\n",
            "313/313 [==============================] - 2s 7ms/step - loss: 1.2646 - accuracy: 0.5515 - val_loss: 1.6732 - val_accuracy: 0.4418\n",
            "Epoch 20/100\n",
            "313/313 [==============================] - 2s 7ms/step - loss: 1.2461 - accuracy: 0.5570 - val_loss: 1.5098 - val_accuracy: 0.4827\n",
            "Epoch 21/100\n",
            "313/313 [==============================] - 2s 7ms/step - loss: 1.2300 - accuracy: 0.5631 - val_loss: 1.5523 - val_accuracy: 0.4725\n",
            "Epoch 22/100\n",
            "313/313 [==============================] - 2s 7ms/step - loss: 1.2182 - accuracy: 0.5669 - val_loss: 1.5465 - val_accuracy: 0.4651\n",
            "Epoch 23/100\n",
            "313/313 [==============================] - 2s 7ms/step - loss: 1.2004 - accuracy: 0.5739 - val_loss: 1.7411 - val_accuracy: 0.4548\n",
            "Epoch 24/100\n",
            "313/313 [==============================] - 2s 7ms/step - loss: 1.1858 - accuracy: 0.5797 - val_loss: 1.5588 - val_accuracy: 0.4851\n",
            "Epoch 25/100\n",
            "313/313 [==============================] - 2s 7ms/step - loss: 1.1742 - accuracy: 0.5837 - val_loss: 1.5784 - val_accuracy: 0.4773\n",
            "Epoch 26/100\n",
            "313/313 [==============================] - 2s 7ms/step - loss: 1.1530 - accuracy: 0.5908 - val_loss: 1.6256 - val_accuracy: 0.4714\n",
            "Epoch 27/100\n",
            "313/313 [==============================] - 2s 7ms/step - loss: 1.1471 - accuracy: 0.5928 - val_loss: 1.5709 - val_accuracy: 0.4790\n",
            "Epoch 28/100\n",
            "313/313 [==============================] - 2s 7ms/step - loss: 1.1337 - accuracy: 0.5959 - val_loss: 1.5363 - val_accuracy: 0.4895\n",
            "Epoch 29/100\n",
            "313/313 [==============================] - 2s 7ms/step - loss: 1.1232 - accuracy: 0.5998 - val_loss: 1.6997 - val_accuracy: 0.4686\n",
            "Epoch 30/100\n",
            "313/313 [==============================] - 2s 7ms/step - loss: 1.1033 - accuracy: 0.6056 - val_loss: 1.6480 - val_accuracy: 0.4865\n",
            "Epoch 31/100\n",
            "313/313 [==============================] - 2s 7ms/step - loss: 1.0942 - accuracy: 0.6123 - val_loss: 1.6854 - val_accuracy: 0.4701\n",
            "Epoch 32/100\n",
            "313/313 [==============================] - 2s 7ms/step - loss: 1.0842 - accuracy: 0.6150 - val_loss: 1.7214 - val_accuracy: 0.4722\n",
            "Epoch 33/100\n",
            "313/313 [==============================] - 2s 7ms/step - loss: 1.0685 - accuracy: 0.6189 - val_loss: 1.6514 - val_accuracy: 0.4780\n",
            "Epoch 34/100\n",
            "313/313 [==============================] - 2s 7ms/step - loss: 1.0606 - accuracy: 0.6248 - val_loss: 1.6093 - val_accuracy: 0.5006\n",
            "Epoch 35/100\n",
            "313/313 [==============================] - 2s 7ms/step - loss: 1.0505 - accuracy: 0.6272 - val_loss: 1.6619 - val_accuracy: 0.4925\n",
            "Epoch 36/100\n",
            "313/313 [==============================] - 2s 7ms/step - loss: 1.0438 - accuracy: 0.6271 - val_loss: 1.6853 - val_accuracy: 0.4762\n",
            "Epoch 37/100\n",
            "313/313 [==============================] - 2s 7ms/step - loss: 1.0284 - accuracy: 0.6351 - val_loss: 1.7110 - val_accuracy: 0.4681\n",
            "Epoch 38/100\n",
            "313/313 [==============================] - 2s 7ms/step - loss: 1.0183 - accuracy: 0.6368 - val_loss: 1.6669 - val_accuracy: 0.4883\n",
            "Epoch 39/100\n",
            "313/313 [==============================] - 2s 7ms/step - loss: 1.0057 - accuracy: 0.6429 - val_loss: 1.6890 - val_accuracy: 0.4893\n",
            "Epoch 40/100\n",
            "313/313 [==============================] - 2s 7ms/step - loss: 0.9960 - accuracy: 0.6442 - val_loss: 1.8987 - val_accuracy: 0.4570\n",
            "Epoch 41/100\n",
            "313/313 [==============================] - 2s 7ms/step - loss: 0.9894 - accuracy: 0.6475 - val_loss: 1.9289 - val_accuracy: 0.4640\n",
            "Epoch 42/100\n",
            "313/313 [==============================] - 2s 7ms/step - loss: 0.9804 - accuracy: 0.6505 - val_loss: 1.8526 - val_accuracy: 0.4778\n",
            "Epoch 43/100\n",
            "313/313 [==============================] - 2s 7ms/step - loss: 0.9737 - accuracy: 0.6536 - val_loss: 1.7837 - val_accuracy: 0.5003\n",
            "Epoch 44/100\n",
            "313/313 [==============================] - 2s 7ms/step - loss: 0.9631 - accuracy: 0.6603 - val_loss: 1.8210 - val_accuracy: 0.4794\n",
            "Epoch 45/100\n",
            "313/313 [==============================] - 2s 7ms/step - loss: 0.9537 - accuracy: 0.6632 - val_loss: 1.8021 - val_accuracy: 0.4733\n",
            "Epoch 46/100\n",
            "313/313 [==============================] - 2s 7ms/step - loss: 0.9409 - accuracy: 0.6690 - val_loss: 1.8547 - val_accuracy: 0.4821\n",
            "Epoch 47/100\n",
            "313/313 [==============================] - 2s 7ms/step - loss: 0.9396 - accuracy: 0.6651 - val_loss: 1.7939 - val_accuracy: 0.4939\n",
            "Epoch 48/100\n",
            "313/313 [==============================] - 2s 7ms/step - loss: 0.9285 - accuracy: 0.6676 - val_loss: 1.8851 - val_accuracy: 0.4920\n",
            "Epoch 49/100\n",
            "313/313 [==============================] - 2s 7ms/step - loss: 0.9261 - accuracy: 0.6703 - val_loss: 1.8406 - val_accuracy: 0.4855\n",
            "Epoch 50/100\n",
            "313/313 [==============================] - 2s 7ms/step - loss: 0.9127 - accuracy: 0.6762 - val_loss: 2.0601 - val_accuracy: 0.4581\n",
            "Epoch 51/100\n",
            "313/313 [==============================] - 2s 7ms/step - loss: 0.9031 - accuracy: 0.6797 - val_loss: 1.9179 - val_accuracy: 0.4827\n",
            "Epoch 52/100\n",
            "313/313 [==============================] - 2s 7ms/step - loss: 0.9030 - accuracy: 0.6814 - val_loss: 1.9049 - val_accuracy: 0.4792\n",
            "Epoch 53/100\n",
            "313/313 [==============================] - 2s 7ms/step - loss: 0.8913 - accuracy: 0.6821 - val_loss: 1.9258 - val_accuracy: 0.4818\n",
            "Epoch 54/100\n",
            "313/313 [==============================] - 2s 7ms/step - loss: 0.8847 - accuracy: 0.6834 - val_loss: 1.9063 - val_accuracy: 0.4789\n",
            "Epoch 55/100\n",
            "313/313 [==============================] - 2s 7ms/step - loss: 0.8792 - accuracy: 0.6843 - val_loss: 1.9452 - val_accuracy: 0.4845\n",
            "Epoch 56/100\n",
            "313/313 [==============================] - 2s 7ms/step - loss: 0.8746 - accuracy: 0.6881 - val_loss: 2.0993 - val_accuracy: 0.4725\n",
            "Epoch 57/100\n",
            "313/313 [==============================] - 2s 7ms/step - loss: 0.8643 - accuracy: 0.6939 - val_loss: 2.1855 - val_accuracy: 0.4583\n",
            "Epoch 58/100\n",
            "313/313 [==============================] - 2s 7ms/step - loss: 0.8623 - accuracy: 0.6922 - val_loss: 2.0434 - val_accuracy: 0.4910\n",
            "Epoch 59/100\n",
            "313/313 [==============================] - 2s 7ms/step - loss: 0.8538 - accuracy: 0.6957 - val_loss: 2.1176 - val_accuracy: 0.4806\n",
            "Epoch 60/100\n",
            "313/313 [==============================] - 2s 7ms/step - loss: 0.8440 - accuracy: 0.6974 - val_loss: 2.0781 - val_accuracy: 0.4749\n",
            "Epoch 61/100\n",
            "313/313 [==============================] - 2s 7ms/step - loss: 0.8400 - accuracy: 0.7011 - val_loss: 2.0010 - val_accuracy: 0.4829\n",
            "Epoch 62/100\n",
            "313/313 [==============================] - 2s 7ms/step - loss: 0.8352 - accuracy: 0.7016 - val_loss: 2.0442 - val_accuracy: 0.4815\n",
            "Epoch 63/100\n",
            "313/313 [==============================] - 2s 7ms/step - loss: 0.8239 - accuracy: 0.7057 - val_loss: 2.1566 - val_accuracy: 0.4768\n",
            "Epoch 64/100\n",
            "313/313 [==============================] - 2s 7ms/step - loss: 0.8234 - accuracy: 0.7068 - val_loss: 2.2327 - val_accuracy: 0.4809\n",
            "Epoch 65/100\n",
            "313/313 [==============================] - 2s 7ms/step - loss: 0.8190 - accuracy: 0.7081 - val_loss: 2.2379 - val_accuracy: 0.4626\n",
            "Epoch 66/100\n",
            "313/313 [==============================] - 2s 7ms/step - loss: 0.8088 - accuracy: 0.7132 - val_loss: 2.1451 - val_accuracy: 0.4806\n",
            "Epoch 67/100\n",
            "313/313 [==============================] - 2s 7ms/step - loss: 0.8111 - accuracy: 0.7097 - val_loss: 2.2015 - val_accuracy: 0.4698\n",
            "Epoch 68/100\n",
            "313/313 [==============================] - 2s 7ms/step - loss: 0.7977 - accuracy: 0.7170 - val_loss: 2.1671 - val_accuracy: 0.4791\n",
            "Epoch 69/100\n",
            "313/313 [==============================] - 2s 7ms/step - loss: 0.7945 - accuracy: 0.7141 - val_loss: 2.1396 - val_accuracy: 0.4826\n",
            "Epoch 70/100\n",
            "313/313 [==============================] - 2s 7ms/step - loss: 0.7888 - accuracy: 0.7196 - val_loss: 2.1211 - val_accuracy: 0.4829\n",
            "Epoch 71/100\n",
            "313/313 [==============================] - 2s 7ms/step - loss: 0.7835 - accuracy: 0.7203 - val_loss: 2.2113 - val_accuracy: 0.4813\n",
            "Epoch 72/100\n",
            "313/313 [==============================] - 2s 7ms/step - loss: 0.7754 - accuracy: 0.7226 - val_loss: 2.2674 - val_accuracy: 0.4782\n",
            "Epoch 73/100\n",
            "313/313 [==============================] - 2s 7ms/step - loss: 0.7716 - accuracy: 0.7241 - val_loss: 2.2243 - val_accuracy: 0.4850\n",
            "Epoch 74/100\n",
            "313/313 [==============================] - 2s 7ms/step - loss: 0.7702 - accuracy: 0.7235 - val_loss: 2.3590 - val_accuracy: 0.4799\n",
            "Epoch 75/100\n",
            "313/313 [==============================] - 2s 7ms/step - loss: 0.7657 - accuracy: 0.7279 - val_loss: 2.3024 - val_accuracy: 0.4750\n",
            "Epoch 76/100\n",
            "313/313 [==============================] - 2s 7ms/step - loss: 0.7638 - accuracy: 0.7311 - val_loss: 2.2603 - val_accuracy: 0.4735\n",
            "Epoch 77/100\n",
            "313/313 [==============================] - 2s 8ms/step - loss: 0.7570 - accuracy: 0.7300 - val_loss: 2.5626 - val_accuracy: 0.4652\n",
            "Epoch 78/100\n",
            "313/313 [==============================] - 2s 8ms/step - loss: 0.7509 - accuracy: 0.7313 - val_loss: 2.5053 - val_accuracy: 0.4686\n",
            "Epoch 79/100\n",
            "313/313 [==============================] - 2s 7ms/step - loss: 0.7461 - accuracy: 0.7336 - val_loss: 2.4448 - val_accuracy: 0.4741\n",
            "Epoch 80/100\n",
            "313/313 [==============================] - 2s 8ms/step - loss: 0.7454 - accuracy: 0.7349 - val_loss: 2.6315 - val_accuracy: 0.4716\n",
            "Epoch 81/100\n",
            "313/313 [==============================] - 2s 7ms/step - loss: 0.7409 - accuracy: 0.7369 - val_loss: 2.3953 - val_accuracy: 0.4792\n",
            "Epoch 82/100\n",
            "313/313 [==============================] - 2s 8ms/step - loss: 0.7282 - accuracy: 0.7407 - val_loss: 2.4655 - val_accuracy: 0.4806\n",
            "Epoch 83/100\n",
            "313/313 [==============================] - 2s 7ms/step - loss: 0.7341 - accuracy: 0.7390 - val_loss: 2.5361 - val_accuracy: 0.4858\n",
            "Epoch 84/100\n",
            "313/313 [==============================] - 2s 7ms/step - loss: 0.7263 - accuracy: 0.7421 - val_loss: 2.5991 - val_accuracy: 0.4626\n",
            "Epoch 85/100\n",
            "313/313 [==============================] - 2s 7ms/step - loss: 0.7203 - accuracy: 0.7437 - val_loss: 2.4949 - val_accuracy: 0.4743\n",
            "Epoch 86/100\n",
            "313/313 [==============================] - 2s 7ms/step - loss: 0.7189 - accuracy: 0.7430 - val_loss: 2.5550 - val_accuracy: 0.4821\n",
            "Epoch 87/100\n",
            "313/313 [==============================] - 2s 7ms/step - loss: 0.7148 - accuracy: 0.7470 - val_loss: 2.4509 - val_accuracy: 0.4729\n",
            "Epoch 88/100\n",
            "313/313 [==============================] - 2s 8ms/step - loss: 0.7153 - accuracy: 0.7481 - val_loss: 2.6468 - val_accuracy: 0.4750\n",
            "Epoch 89/100\n",
            "313/313 [==============================] - 2s 8ms/step - loss: 0.7027 - accuracy: 0.7477 - val_loss: 2.8736 - val_accuracy: 0.4664\n",
            "Epoch 90/100\n",
            "313/313 [==============================] - 2s 7ms/step - loss: 0.6979 - accuracy: 0.7497 - val_loss: 2.7872 - val_accuracy: 0.4615\n",
            "Epoch 91/100\n",
            "313/313 [==============================] - 2s 7ms/step - loss: 0.7024 - accuracy: 0.7497 - val_loss: 2.6003 - val_accuracy: 0.4772\n",
            "Epoch 92/100\n",
            "313/313 [==============================] - 2s 7ms/step - loss: 0.6965 - accuracy: 0.7537 - val_loss: 2.5504 - val_accuracy: 0.4667\n",
            "Epoch 93/100\n",
            "313/313 [==============================] - 2s 7ms/step - loss: 0.6908 - accuracy: 0.7553 - val_loss: 2.5453 - val_accuracy: 0.4676\n",
            "Epoch 94/100\n",
            "313/313 [==============================] - 2s 8ms/step - loss: 0.6881 - accuracy: 0.7527 - val_loss: 2.6655 - val_accuracy: 0.4610\n",
            "Epoch 95/100\n",
            "313/313 [==============================] - 2s 7ms/step - loss: 0.6826 - accuracy: 0.7575 - val_loss: 2.5983 - val_accuracy: 0.4873\n",
            "Epoch 96/100\n",
            "313/313 [==============================] - 2s 7ms/step - loss: 0.6853 - accuracy: 0.7576 - val_loss: 2.6410 - val_accuracy: 0.4808\n",
            "Epoch 97/100\n",
            "313/313 [==============================] - 2s 7ms/step - loss: 0.6771 - accuracy: 0.7593 - val_loss: 2.6478 - val_accuracy: 0.4886\n",
            "Epoch 98/100\n",
            "313/313 [==============================] - 2s 7ms/step - loss: 0.6737 - accuracy: 0.7602 - val_loss: 2.8379 - val_accuracy: 0.4775\n",
            "Epoch 99/100\n",
            "313/313 [==============================] - 2s 7ms/step - loss: 0.6794 - accuracy: 0.7602 - val_loss: 2.6085 - val_accuracy: 0.4782\n",
            "Epoch 100/100\n",
            "313/313 [==============================] - 2s 7ms/step - loss: 0.6601 - accuracy: 0.7652 - val_loss: 3.1076 - val_accuracy: 0.4659\n",
            "CPU times: user 3min 38s, sys: 26.4 s, total: 4min 4s\n",
            "Wall time: 3min 55s\n"
          ]
        }
      ]
    },
    {
      "cell_type": "markdown",
      "metadata": {
        "id": "FnnIyFtNKhbD"
      },
      "source": [
        "> ## 4) 학습 결과 시각화"
      ]
    },
    {
      "cell_type": "markdown",
      "metadata": {
        "id": "YgXRhVauKqOm"
      },
      "source": [
        "* Loss Visualization"
      ]
    },
    {
      "cell_type": "code",
      "metadata": {
        "id": "OQ4ke8BbKi50",
        "colab": {
          "base_uri": "https://localhost:8080/",
          "height": 404
        },
        "outputId": "ec15b9ce-5cf3-43ba-d6d3-eae4cdd3b748"
      },
      "source": [
        "import matplotlib.pyplot as plt\n",
        "epochs = range(1, len(Hist_mnist.history['loss']) + 1)\n",
        "plt.figure(figsize = (9, 6))\n",
        "plt.plot(epochs, Hist_mnist.history['loss'])\n",
        "plt.plot(epochs, Hist_mnist.history['val_loss'])\n",
        "# plt.ylim(0, 0.25)\n",
        "plt.title('Training & Validation Loss')\n",
        "plt.xlabel('Epochs')\n",
        "plt.ylabel('Loss')\n",
        "plt.legend(['Training Loss', 'Validation Loss'])\n",
        "plt.grid()\n",
        "plt.show()\n"
      ],
      "execution_count": 17,
      "outputs": [
        {
          "output_type": "display_data",
          "data": {
            "image/png": "[encoded data removed]",
            "text/plain": [
              "<Figure size 648x432 with 1 Axes>"
            ]
          },
          "metadata": {
            "needs_background": "light"
          }
        }
      ]
    },
    {
      "cell_type": "markdown",
      "metadata": {
        "id": "_uJSOLBko7lh"
      },
      "source": [
        "> ## 5) Model Evaluate"
      ]
    },
    {
      "cell_type": "markdown",
      "metadata": {
        "id": "i-TqAB2ALGzZ"
      },
      "source": [
        "* Loss & Accuracy"
      ]
    },
    {
      "cell_type": "code",
      "metadata": {
        "id": "OF30PuZsAxQJ",
        "colab": {
          "base_uri": "https://localhost:8080/"
        },
        "outputId": "ff39c64d-a876-497c-f3fe-d79fe2179be5"
      },
      "source": [
        "loss, accuracy = mnist.evaluate(X_test, y_test)\n",
        "\n",
        "print('Loss = {:.5f}'.format(loss))\n",
        "print('Accuracy = {:.5f}'.format(accuracy))"
      ],
      "execution_count": 18,
      "outputs": [
        {
          "output_type": "stream",
          "name": "stdout",
          "text": [
            "313/313 [==============================] - 1s 3ms/step - loss: 3.0299 - accuracy: 0.4513\n",
            "Loss = 3.02990\n",
            "Accuracy = 0.45130\n"
          ]
        }
      ]
    },
    {
      "cell_type": "markdown",
      "metadata": {
        "id": "1PRY6gAXo_PX"
      },
      "source": [
        "> ## 6) Model Predict"
      ]
    },
    {
      "cell_type": "markdown",
      "metadata": {
        "id": "M_pFxK4PLjxX"
      },
      "source": [
        "* Probability"
      ]
    },
    {
      "cell_type": "code",
      "metadata": {
        "id": "vCdPbgU1ajoV",
        "colab": {
          "base_uri": "https://localhost:8080/"
        },
        "outputId": "13d17284-8733-4304-c02e-ae575bb0398a"
      },
      "source": [
        "np.set_printoptions(suppress = True, precision = 9)\n",
        "\n",
        "print(mnist.predict(X_test[:1, :]))"
      ],
      "execution_count": 19,
      "outputs": [
        {
          "output_type": "stream",
          "name": "stdout",
          "text": [
            "[[0.000001748 0.000010349 0.00000685  0.90619814  0.0284839   0.06134939  0.000000009 0.000000483 0.000243314 0.003705855]]\n"
          ]
        }
      ]
    },
    {
      "cell_type": "markdown",
      "metadata": {
        "id": "V10JgtGdLmKb"
      },
      "source": [
        "* Class"
      ]
    },
    {
      "cell_type": "code",
      "metadata": {
        "id": "xW6AhMK9a7RK",
        "colab": {
          "base_uri": "https://localhost:8080/"
        },
        "outputId": "3ff2bcab-0c89-4cea-a65f-828184569b87"
      },
      "source": [
        "print(np.argmax(mnist.predict(X_test[:1, :])))"
      ],
      "execution_count": 20,
      "outputs": [
        {
          "output_type": "stream",
          "name": "stdout",
          "text": [
            "3\n"
          ]
        }
      ]
    },
    {
      "cell_type": "markdown",
      "metadata": {
        "id": "sN48I9GrLxOX"
      },
      "source": [
        "# \n",
        "# \n",
        "# \n",
        "# The End\n",
        "# \n",
        "# \n",
        "# "
      ]
    }
  ]
}