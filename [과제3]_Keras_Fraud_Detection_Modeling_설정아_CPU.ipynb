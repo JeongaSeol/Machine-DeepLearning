{
  "nbformat": 4,
  "nbformat_minor": 0,
  "metadata": {
    "colab": {
      "name": "[과제_3]_Keras_Fraud_Detection_Modeling_설정아 CPU.ipynb",
      "provenance": [],
      "collapsed_sections": []
    },
    "kernelspec": {
      "name": "python3",
      "display_name": "Python 3"
    }
  },
  "cells": [
    {
      "cell_type": "markdown",
      "metadata": {
        "id": "q2Pr7oBdYLdf"
      },
      "source": [
        "# Kaggle 신용카드 사기 검출 (Google Drive Mount)\n",
        "https://www.kaggle.com/mlg-ulb/creditcardfraud\n",
        "## Credit Card Fraud Detection\n",
        "* creditcard.csv (284,807 * 31)\n",
        "* Class : 0 (정상), 1 (사기)\n",
        "* 사기 검출(Fraud Detection), 이상 탐지(Anomaly Detection)"
      ]
    },
    {
      "cell_type": "code",
      "metadata": {
        "id": "RbPgODpVzdHI"
      },
      "source": [
        "import warnings\n",
        "warnings.filterwarnings('ignore')"
      ],
      "execution_count": 1,
      "outputs": []
    },
    {
      "cell_type": "markdown",
      "metadata": {
        "id": "hp2jzMV4Eb0e"
      },
      "source": [
        "# I. Google Drive Mount\n",
        "* 'creditCardFraud.zip' 파일을 구글드라이브에 업로드 후 진행"
      ]
    },
    {
      "cell_type": "code",
      "metadata": {
        "id": "EkooevWlEpae",
        "colab": {
          "base_uri": "https://localhost:8080/"
        },
        "outputId": "0c39fd60-2de7-4ad9-91ac-077695f1bef1"
      },
      "source": [
        "from google.colab import drive\n",
        "\n",
        "drive.mount('/content/drive')"
      ],
      "execution_count": 2,
      "outputs": [
        {
          "output_type": "stream",
          "name": "stdout",
          "text": [
            "Mounted at /content/drive\n"
          ]
        }
      ]
    },
    {
      "cell_type": "markdown",
      "metadata": {
        "id": "rBrMKlsgEvV7"
      },
      "source": [
        "* 마운트 결과 확인"
      ]
    },
    {
      "cell_type": "code",
      "metadata": {
        "id": "ZAA_YjrVExu7",
        "colab": {
          "base_uri": "https://localhost:8080/"
        },
        "outputId": "4dcf66a0-7376-4556-ac97-b96aae3e9f48"
      },
      "source": [
        "!ls -l '/content/drive/My Drive/Colab Notebooks/datasets/creditCardFraud.zip'"
      ],
      "execution_count": 3,
      "outputs": [
        {
          "output_type": "stream",
          "name": "stdout",
          "text": [
            "-rw------- 1 root root 69155672 Mar 31 15:04 '/content/drive/My Drive/Colab Notebooks/datasets/creditCardFraud.zip'\n"
          ]
        }
      ]
    },
    {
      "cell_type": "markdown",
      "metadata": {
        "id": "1DyFdyVxFyHK"
      },
      "source": [
        "# II. Data Preprocessing"
      ]
    },
    {
      "cell_type": "markdown",
      "metadata": {
        "id": "D9zdBsGKnLUo"
      },
      "source": [
        "> ## 1) Unzip 'creditCardFraud.zip'\n",
        "\n",
        "* Colab 파일시스템에 'creditcard.csv' 파일 생성"
      ]
    },
    {
      "cell_type": "code",
      "metadata": {
        "id": "WkuHaDXcnUtY",
        "colab": {
          "base_uri": "https://localhost:8080/"
        },
        "outputId": "71830f2b-15e5-40b5-f803-e122dab53e83"
      },
      "source": [
        "!unzip /content/drive/My\\ Drive/Colab\\ Notebooks/datasets/creditCardFraud.zip"
      ],
      "execution_count": 4,
      "outputs": [
        {
          "output_type": "stream",
          "name": "stdout",
          "text": [
            "Archive:  /content/drive/My Drive/Colab Notebooks/datasets/creditCardFraud.zip\n",
            "  inflating: creditcard.csv          \n"
          ]
        }
      ]
    },
    {
      "cell_type": "markdown",
      "metadata": {
        "id": "O_8T9fKaE1Dh"
      },
      "source": [
        "* creditcard.csv 파일 확인"
      ]
    },
    {
      "cell_type": "code",
      "metadata": {
        "id": "VcWMC7zwExLX",
        "colab": {
          "base_uri": "https://localhost:8080/"
        },
        "outputId": "565aa288-3cea-473f-a0a6-e9536edd5b97"
      },
      "source": [
        "!ls -l"
      ],
      "execution_count": 5,
      "outputs": [
        {
          "output_type": "stream",
          "name": "stdout",
          "text": [
            "total 147304\n",
            "-rw-r--r-- 1 root root 150828752 Sep 20  2019 creditcard.csv\n",
            "drwx------ 5 root root      4096 Sep 29 00:55 drive\n",
            "drwxr-xr-x 1 root root      4096 Sep 16 13:40 sample_data\n"
          ]
        }
      ]
    },
    {
      "cell_type": "markdown",
      "metadata": {
        "id": "C1IbUVmgFJWi"
      },
      "source": [
        "> ## 2) 데이터 읽어오기\n",
        "\n",
        "* pandas DataFrame"
      ]
    },
    {
      "cell_type": "code",
      "metadata": {
        "id": "oyKuNQuXEywU",
        "colab": {
          "base_uri": "https://localhost:8080/"
        },
        "outputId": "65aa7692-747d-4d38-e45e-698e94f02c60"
      },
      "source": [
        "import pandas as pd\n",
        "\n",
        "DF = pd.read_csv('creditcard.csv')\n",
        "\n",
        "DF.info()"
      ],
      "execution_count": 6,
      "outputs": [
        {
          "output_type": "stream",
          "name": "stdout",
          "text": [
            "<class 'pandas.core.frame.DataFrame'>\n",
            "RangeIndex: 284807 entries, 0 to 284806\n",
            "Data columns (total 31 columns):\n",
            " #   Column  Non-Null Count   Dtype  \n",
            "---  ------  --------------   -----  \n",
            " 0   Time    284807 non-null  float64\n",
            " 1   V1      284807 non-null  float64\n",
            " 2   V2      284807 non-null  float64\n",
            " 3   V3      284807 non-null  float64\n",
            " 4   V4      284807 non-null  float64\n",
            " 5   V5      284807 non-null  float64\n",
            " 6   V6      284807 non-null  float64\n",
            " 7   V7      284807 non-null  float64\n",
            " 8   V8      284807 non-null  float64\n",
            " 9   V9      284807 non-null  float64\n",
            " 10  V10     284807 non-null  float64\n",
            " 11  V11     284807 non-null  float64\n",
            " 12  V12     284807 non-null  float64\n",
            " 13  V13     284807 non-null  float64\n",
            " 14  V14     284807 non-null  float64\n",
            " 15  V15     284807 non-null  float64\n",
            " 16  V16     284807 non-null  float64\n",
            " 17  V17     284807 non-null  float64\n",
            " 18  V18     284807 non-null  float64\n",
            " 19  V19     284807 non-null  float64\n",
            " 20  V20     284807 non-null  float64\n",
            " 21  V21     284807 non-null  float64\n",
            " 22  V22     284807 non-null  float64\n",
            " 23  V23     284807 non-null  float64\n",
            " 24  V24     284807 non-null  float64\n",
            " 25  V25     284807 non-null  float64\n",
            " 26  V26     284807 non-null  float64\n",
            " 27  V27     284807 non-null  float64\n",
            " 28  V28     284807 non-null  float64\n",
            " 29  Amount  284807 non-null  float64\n",
            " 30  Class   284807 non-null  int64  \n",
            "dtypes: float64(30), int64(1)\n",
            "memory usage: 67.4 MB\n"
          ]
        }
      ]
    },
    {
      "cell_type": "code",
      "metadata": {
        "id": "AAK4c1S8GCeR",
        "colab": {
          "base_uri": "https://localhost:8080/",
          "height": 226
        },
        "outputId": "c34bf495-0912-4032-d271-0b14c50a8598"
      },
      "source": [
        "DF.head()"
      ],
      "execution_count": 7,
      "outputs": [
        {
          "output_type": "execute_result",
          "data": {
            "text/html": [
              "<div>\n",
              "<style scoped>\n",
              "    .dataframe tbody tr th:only-of-type {\n",
              "        vertical-align: middle;\n",
              "    }\n",
              "\n",
              "    .dataframe tbody tr th {\n",
              "        vertical-align: top;\n",
              "    }\n",
              "\n",
              "    .dataframe thead th {\n",
              "        text-align: right;\n",
              "    }\n",
              "</style>\n",
              "<table border=\"1\" class=\"dataframe\">\n",
              "  <thead>\n",
              "    <tr style=\"text-align: right;\">\n",
              "      <th></th>\n",
              "      <th>Time</th>\n",
              "      <th>V1</th>\n",
              "      <th>V2</th>\n",
              "      <th>V3</th>\n",
              "      <th>V4</th>\n",
              "      <th>V5</th>\n",
              "      <th>V6</th>\n",
              "      <th>V7</th>\n",
              "      <th>V8</th>\n",
              "      <th>V9</th>\n",
              "      <th>V10</th>\n",
              "      <th>V11</th>\n",
              "      <th>V12</th>\n",
              "      <th>V13</th>\n",
              "      <th>V14</th>\n",
              "      <th>V15</th>\n",
              "      <th>V16</th>\n",
              "      <th>V17</th>\n",
              "      <th>V18</th>\n",
              "      <th>V19</th>\n",
              "      <th>V20</th>\n",
              "      <th>V21</th>\n",
              "      <th>V22</th>\n",
              "      <th>V23</th>\n",
              "      <th>V24</th>\n",
              "      <th>V25</th>\n",
              "      <th>V26</th>\n",
              "      <th>V27</th>\n",
              "      <th>V28</th>\n",
              "      <th>Amount</th>\n",
              "      <th>Class</th>\n",
              "    </tr>\n",
              "  </thead>\n",
              "  <tbody>\n",
              "    <tr>\n",
              "      <th>0</th>\n",
              "      <td>0.0</td>\n",
              "      <td>-1.359807</td>\n",
              "      <td>-0.072781</td>\n",
              "      <td>2.536347</td>\n",
              "      <td>1.378155</td>\n",
              "      <td>-0.338321</td>\n",
              "      <td>0.462388</td>\n",
              "      <td>0.239599</td>\n",
              "      <td>0.098698</td>\n",
              "      <td>0.363787</td>\n",
              "      <td>0.090794</td>\n",
              "      <td>-0.551600</td>\n",
              "      <td>-0.617801</td>\n",
              "      <td>-0.991390</td>\n",
              "      <td>-0.311169</td>\n",
              "      <td>1.468177</td>\n",
              "      <td>-0.470401</td>\n",
              "      <td>0.207971</td>\n",
              "      <td>0.025791</td>\n",
              "      <td>0.403993</td>\n",
              "      <td>0.251412</td>\n",
              "      <td>-0.018307</td>\n",
              "      <td>0.277838</td>\n",
              "      <td>-0.110474</td>\n",
              "      <td>0.066928</td>\n",
              "      <td>0.128539</td>\n",
              "      <td>-0.189115</td>\n",
              "      <td>0.133558</td>\n",
              "      <td>-0.021053</td>\n",
              "      <td>149.62</td>\n",
              "      <td>0</td>\n",
              "    </tr>\n",
              "    <tr>\n",
              "      <th>1</th>\n",
              "      <td>0.0</td>\n",
              "      <td>1.191857</td>\n",
              "      <td>0.266151</td>\n",
              "      <td>0.166480</td>\n",
              "      <td>0.448154</td>\n",
              "      <td>0.060018</td>\n",
              "      <td>-0.082361</td>\n",
              "      <td>-0.078803</td>\n",
              "      <td>0.085102</td>\n",
              "      <td>-0.255425</td>\n",
              "      <td>-0.166974</td>\n",
              "      <td>1.612727</td>\n",
              "      <td>1.065235</td>\n",
              "      <td>0.489095</td>\n",
              "      <td>-0.143772</td>\n",
              "      <td>0.635558</td>\n",
              "      <td>0.463917</td>\n",
              "      <td>-0.114805</td>\n",
              "      <td>-0.183361</td>\n",
              "      <td>-0.145783</td>\n",
              "      <td>-0.069083</td>\n",
              "      <td>-0.225775</td>\n",
              "      <td>-0.638672</td>\n",
              "      <td>0.101288</td>\n",
              "      <td>-0.339846</td>\n",
              "      <td>0.167170</td>\n",
              "      <td>0.125895</td>\n",
              "      <td>-0.008983</td>\n",
              "      <td>0.014724</td>\n",
              "      <td>2.69</td>\n",
              "      <td>0</td>\n",
              "    </tr>\n",
              "    <tr>\n",
              "      <th>2</th>\n",
              "      <td>1.0</td>\n",
              "      <td>-1.358354</td>\n",
              "      <td>-1.340163</td>\n",
              "      <td>1.773209</td>\n",
              "      <td>0.379780</td>\n",
              "      <td>-0.503198</td>\n",
              "      <td>1.800499</td>\n",
              "      <td>0.791461</td>\n",
              "      <td>0.247676</td>\n",
              "      <td>-1.514654</td>\n",
              "      <td>0.207643</td>\n",
              "      <td>0.624501</td>\n",
              "      <td>0.066084</td>\n",
              "      <td>0.717293</td>\n",
              "      <td>-0.165946</td>\n",
              "      <td>2.345865</td>\n",
              "      <td>-2.890083</td>\n",
              "      <td>1.109969</td>\n",
              "      <td>-0.121359</td>\n",
              "      <td>-2.261857</td>\n",
              "      <td>0.524980</td>\n",
              "      <td>0.247998</td>\n",
              "      <td>0.771679</td>\n",
              "      <td>0.909412</td>\n",
              "      <td>-0.689281</td>\n",
              "      <td>-0.327642</td>\n",
              "      <td>-0.139097</td>\n",
              "      <td>-0.055353</td>\n",
              "      <td>-0.059752</td>\n",
              "      <td>378.66</td>\n",
              "      <td>0</td>\n",
              "    </tr>\n",
              "    <tr>\n",
              "      <th>3</th>\n",
              "      <td>1.0</td>\n",
              "      <td>-0.966272</td>\n",
              "      <td>-0.185226</td>\n",
              "      <td>1.792993</td>\n",
              "      <td>-0.863291</td>\n",
              "      <td>-0.010309</td>\n",
              "      <td>1.247203</td>\n",
              "      <td>0.237609</td>\n",
              "      <td>0.377436</td>\n",
              "      <td>-1.387024</td>\n",
              "      <td>-0.054952</td>\n",
              "      <td>-0.226487</td>\n",
              "      <td>0.178228</td>\n",
              "      <td>0.507757</td>\n",
              "      <td>-0.287924</td>\n",
              "      <td>-0.631418</td>\n",
              "      <td>-1.059647</td>\n",
              "      <td>-0.684093</td>\n",
              "      <td>1.965775</td>\n",
              "      <td>-1.232622</td>\n",
              "      <td>-0.208038</td>\n",
              "      <td>-0.108300</td>\n",
              "      <td>0.005274</td>\n",
              "      <td>-0.190321</td>\n",
              "      <td>-1.175575</td>\n",
              "      <td>0.647376</td>\n",
              "      <td>-0.221929</td>\n",
              "      <td>0.062723</td>\n",
              "      <td>0.061458</td>\n",
              "      <td>123.50</td>\n",
              "      <td>0</td>\n",
              "    </tr>\n",
              "    <tr>\n",
              "      <th>4</th>\n",
              "      <td>2.0</td>\n",
              "      <td>-1.158233</td>\n",
              "      <td>0.877737</td>\n",
              "      <td>1.548718</td>\n",
              "      <td>0.403034</td>\n",
              "      <td>-0.407193</td>\n",
              "      <td>0.095921</td>\n",
              "      <td>0.592941</td>\n",
              "      <td>-0.270533</td>\n",
              "      <td>0.817739</td>\n",
              "      <td>0.753074</td>\n",
              "      <td>-0.822843</td>\n",
              "      <td>0.538196</td>\n",
              "      <td>1.345852</td>\n",
              "      <td>-1.119670</td>\n",
              "      <td>0.175121</td>\n",
              "      <td>-0.451449</td>\n",
              "      <td>-0.237033</td>\n",
              "      <td>-0.038195</td>\n",
              "      <td>0.803487</td>\n",
              "      <td>0.408542</td>\n",
              "      <td>-0.009431</td>\n",
              "      <td>0.798278</td>\n",
              "      <td>-0.137458</td>\n",
              "      <td>0.141267</td>\n",
              "      <td>-0.206010</td>\n",
              "      <td>0.502292</td>\n",
              "      <td>0.219422</td>\n",
              "      <td>0.215153</td>\n",
              "      <td>69.99</td>\n",
              "      <td>0</td>\n",
              "    </tr>\n",
              "  </tbody>\n",
              "</table>\n",
              "</div>"
            ],
            "text/plain": [
              "   Time        V1        V2        V3  ...       V27       V28  Amount  Class\n",
              "0   0.0 -1.359807 -0.072781  2.536347  ...  0.133558 -0.021053  149.62      0\n",
              "1   0.0  1.191857  0.266151  0.166480  ... -0.008983  0.014724    2.69      0\n",
              "2   1.0 -1.358354 -1.340163  1.773209  ... -0.055353 -0.059752  378.66      0\n",
              "3   1.0 -0.966272 -0.185226  1.792993  ...  0.062723  0.061458  123.50      0\n",
              "4   2.0 -1.158233  0.877737  1.548718  ...  0.219422  0.215153   69.99      0\n",
              "\n",
              "[5 rows x 31 columns]"
            ]
          },
          "metadata": {},
          "execution_count": 7
        }
      ]
    },
    {
      "cell_type": "markdown",
      "metadata": {
        "id": "HIEYGzLnLuxL"
      },
      "source": [
        "* 0 (정상) Class와 1 (사기) Class 개수"
      ]
    },
    {
      "cell_type": "code",
      "metadata": {
        "id": "E4NroBx4JDeP",
        "colab": {
          "base_uri": "https://localhost:8080/"
        },
        "outputId": "5d71908c-ad85-4f59-bae2-6473dc9b2dba"
      },
      "source": [
        "DF.Class.value_counts()"
      ],
      "execution_count": 8,
      "outputs": [
        {
          "output_type": "execute_result",
          "data": {
            "text/plain": [
              "0    284315\n",
              "1       492\n",
              "Name: Class, dtype: int64"
            ]
          },
          "metadata": {},
          "execution_count": 8
        }
      ]
    },
    {
      "cell_type": "markdown",
      "metadata": {
        "id": "OncXWy-mMF2j"
      },
      "source": [
        "* 0 (정상) Class와 1 (사기) Class 비율"
      ]
    },
    {
      "cell_type": "code",
      "metadata": {
        "id": "8HWyf0GMJipF",
        "colab": {
          "base_uri": "https://localhost:8080/"
        },
        "outputId": "4dde44a8-3473-4c71-88e5-96bd6be6efcc"
      },
      "source": [
        "(DF.Class.value_counts() / DF.shape[0]) * 100"
      ],
      "execution_count": 9,
      "outputs": [
        {
          "output_type": "execute_result",
          "data": {
            "text/plain": [
              "0    99.827251\n",
              "1     0.172749\n",
              "Name: Class, dtype: float64"
            ]
          },
          "metadata": {},
          "execution_count": 9
        }
      ]
    },
    {
      "cell_type": "markdown",
      "metadata": {
        "id": "rUf0Vq7kG0FQ"
      },
      "source": [
        "> ## 3) Time 열(Column) 삭제"
      ]
    },
    {
      "cell_type": "code",
      "metadata": {
        "id": "ECv33P4FHE1F",
        "colab": {
          "base_uri": "https://localhost:8080/",
          "height": 101
        },
        "outputId": "88d3a2a0-4511-459e-c425-af09c8557cdf"
      },
      "source": [
        "DF.drop('Time', axis = 1, inplace = True)\n",
        "\n",
        "DF.head(1)"
      ],
      "execution_count": 10,
      "outputs": [
        {
          "output_type": "execute_result",
          "data": {
            "text/html": [
              "<div>\n",
              "<style scoped>\n",
              "    .dataframe tbody tr th:only-of-type {\n",
              "        vertical-align: middle;\n",
              "    }\n",
              "\n",
              "    .dataframe tbody tr th {\n",
              "        vertical-align: top;\n",
              "    }\n",
              "\n",
              "    .dataframe thead th {\n",
              "        text-align: right;\n",
              "    }\n",
              "</style>\n",
              "<table border=\"1\" class=\"dataframe\">\n",
              "  <thead>\n",
              "    <tr style=\"text-align: right;\">\n",
              "      <th></th>\n",
              "      <th>V1</th>\n",
              "      <th>V2</th>\n",
              "      <th>V3</th>\n",
              "      <th>V4</th>\n",
              "      <th>V5</th>\n",
              "      <th>V6</th>\n",
              "      <th>V7</th>\n",
              "      <th>V8</th>\n",
              "      <th>V9</th>\n",
              "      <th>V10</th>\n",
              "      <th>V11</th>\n",
              "      <th>V12</th>\n",
              "      <th>V13</th>\n",
              "      <th>V14</th>\n",
              "      <th>V15</th>\n",
              "      <th>V16</th>\n",
              "      <th>V17</th>\n",
              "      <th>V18</th>\n",
              "      <th>V19</th>\n",
              "      <th>V20</th>\n",
              "      <th>V21</th>\n",
              "      <th>V22</th>\n",
              "      <th>V23</th>\n",
              "      <th>V24</th>\n",
              "      <th>V25</th>\n",
              "      <th>V26</th>\n",
              "      <th>V27</th>\n",
              "      <th>V28</th>\n",
              "      <th>Amount</th>\n",
              "      <th>Class</th>\n",
              "    </tr>\n",
              "  </thead>\n",
              "  <tbody>\n",
              "    <tr>\n",
              "      <th>0</th>\n",
              "      <td>-1.359807</td>\n",
              "      <td>-0.072781</td>\n",
              "      <td>2.536347</td>\n",
              "      <td>1.378155</td>\n",
              "      <td>-0.338321</td>\n",
              "      <td>0.462388</td>\n",
              "      <td>0.239599</td>\n",
              "      <td>0.098698</td>\n",
              "      <td>0.363787</td>\n",
              "      <td>0.090794</td>\n",
              "      <td>-0.5516</td>\n",
              "      <td>-0.617801</td>\n",
              "      <td>-0.99139</td>\n",
              "      <td>-0.311169</td>\n",
              "      <td>1.468177</td>\n",
              "      <td>-0.470401</td>\n",
              "      <td>0.207971</td>\n",
              "      <td>0.025791</td>\n",
              "      <td>0.403993</td>\n",
              "      <td>0.251412</td>\n",
              "      <td>-0.018307</td>\n",
              "      <td>0.277838</td>\n",
              "      <td>-0.110474</td>\n",
              "      <td>0.066928</td>\n",
              "      <td>0.128539</td>\n",
              "      <td>-0.189115</td>\n",
              "      <td>0.133558</td>\n",
              "      <td>-0.021053</td>\n",
              "      <td>149.62</td>\n",
              "      <td>0</td>\n",
              "    </tr>\n",
              "  </tbody>\n",
              "</table>\n",
              "</div>"
            ],
            "text/plain": [
              "         V1        V2        V3        V4  ...       V27       V28  Amount  Class\n",
              "0 -1.359807 -0.072781  2.536347  1.378155  ...  0.133558 -0.021053  149.62      0\n",
              "\n",
              "[1 rows x 30 columns]"
            ]
          },
          "metadata": {},
          "execution_count": 10
        }
      ]
    },
    {
      "cell_type": "markdown",
      "metadata": {
        "id": "uF_FNdiaHcFi"
      },
      "source": [
        "> ## 4) train_test_split( )\n",
        "\n",
        "* X (Input), y (Output) 지정"
      ]
    },
    {
      "cell_type": "code",
      "metadata": {
        "id": "IRQX3mslHhC2",
        "colab": {
          "base_uri": "https://localhost:8080/"
        },
        "outputId": "70665406-4fba-4f45-808f-f499fc748d02"
      },
      "source": [
        "X = DF.iloc[:,:-1]\n",
        "y = DF.iloc[:, -1]\n",
        "\n",
        "X.shape, y.shape"
      ],
      "execution_count": 11,
      "outputs": [
        {
          "output_type": "execute_result",
          "data": {
            "text/plain": [
              "((284807, 29), (284807,))"
            ]
          },
          "metadata": {},
          "execution_count": 11
        }
      ]
    },
    {
      "cell_type": "markdown",
      "metadata": {
        "id": "f53LeC-IMx_T"
      },
      "source": [
        "* With 'Stratify'"
      ]
    },
    {
      "cell_type": "code",
      "metadata": {
        "id": "i4e13zFqH0xP",
        "colab": {
          "base_uri": "https://localhost:8080/"
        },
        "outputId": "2c88227f-4e94-441f-dd30-85f85091a8dc"
      },
      "source": [
        "from sklearn.model_selection import train_test_split \n",
        "\n",
        "X_train, X_test, y_train, y_test = train_test_split(X, y,\n",
        "                                                    test_size = 0.3,\n",
        "                                                    random_state = 2045,\n",
        "                                                    stratify = y)\n",
        "\n",
        "X_train.shape, y_train.shape, X_test.shape, y_test.shape"
      ],
      "execution_count": 12,
      "outputs": [
        {
          "output_type": "execute_result",
          "data": {
            "text/plain": [
              "((199364, 29), (199364,), (85443, 29), (85443,))"
            ]
          },
          "metadata": {},
          "execution_count": 12
        }
      ]
    },
    {
      "cell_type": "markdown",
      "metadata": {
        "id": "q8NA1xnGNTtY"
      },
      "source": [
        "* Train_Data와 Test_Data의 1 (부정) 비율이 균형"
      ]
    },
    {
      "cell_type": "code",
      "metadata": {
        "id": "FMk7PWicKyDB",
        "colab": {
          "base_uri": "https://localhost:8080/"
        },
        "outputId": "8478ce7b-cd6d-4761-a3a4-e3455d4160a1"
      },
      "source": [
        "print('Train_Data :','\\n', (y_train.value_counts() / y_train.shape[0]) * 100)\n",
        "print('Test_Data :','\\n', (y_test.value_counts() / y_test.shape[0]) * 100)"
      ],
      "execution_count": 13,
      "outputs": [
        {
          "output_type": "stream",
          "name": "stdout",
          "text": [
            "Train_Data : \n",
            " 0    99.827451\n",
            "1     0.172549\n",
            "Name: Class, dtype: float64\n",
            "Test_Data : \n",
            " 0    99.826785\n",
            "1     0.173215\n",
            "Name: Class, dtype: float64\n"
          ]
        }
      ]
    },
    {
      "cell_type": "markdown",
      "metadata": {
        "id": "kvsN9jNLDQO6"
      },
      "source": [
        "# I. Keras Modeling"
      ]
    },
    {
      "cell_type": "markdown",
      "metadata": {
        "id": "FV8W8pDnDeZY"
      },
      "source": [
        "## 1) Model Define"
      ]
    },
    {
      "cell_type": "code",
      "metadata": {
        "colab": {
          "base_uri": "https://localhost:8080/"
        },
        "id": "zCLfUDgBDpQl",
        "outputId": "73b6c46a-c6cf-43d0-ba47-fe79078cdff0"
      },
      "source": [
        "from tensorflow.keras import models\n",
        "from tensorflow.keras import layers\n",
        "\n",
        "Model_fd = models.Sequential()\n",
        "Model_fd.add(layers.Dense(10, activation = 'relu', input_shape=(29,)))\n",
        "Model_fd.add(layers.Dense(6, activation = 'relu'))\n",
        "Model_fd.add(layers.Dense(1, activation = 'sigmoid'))\n",
        "\n",
        "Model_fd.summary()"
      ],
      "execution_count": 27,
      "outputs": [
        {
          "output_type": "stream",
          "name": "stdout",
          "text": [
            "Model: \"sequential_4\"\n",
            "_________________________________________________________________\n",
            "Layer (type)                 Output Shape              Param #   \n",
            "=================================================================\n",
            "dense_9 (Dense)              (None, 10)                300       \n",
            "_________________________________________________________________\n",
            "dense_10 (Dense)             (None, 6)                 66        \n",
            "_________________________________________________________________\n",
            "dense_11 (Dense)             (None, 1)                 7         \n",
            "=================================================================\n",
            "Total params: 373\n",
            "Trainable params: 373\n",
            "Non-trainable params: 0\n",
            "_________________________________________________________________\n"
          ]
        }
      ]
    },
    {
      "cell_type": "code",
      "metadata": {
        "colab": {
          "base_uri": "https://localhost:8080/",
          "height": 422
        },
        "id": "dvQ0SyByFYr0",
        "outputId": "cf320825-3146-48bd-dcff-0e4541fc0926"
      },
      "source": [
        "# 모델 레이어 시각화\n",
        "\n",
        "from tensorflow.keras import utils\n",
        "\n",
        "utils.plot_model(Model_fd,\n",
        "                 show_shapes = True, \n",
        "                 show_dtype = True)"
      ],
      "execution_count": 28,
      "outputs": [
        {
          "output_type": "execute_result",
          "data": {
            "image/png": "[encoded data removed]",
            "text/plain": [
              "<IPython.core.display.Image object>"
            ]
          },
          "metadata": {},
          "execution_count": 28
        }
      ]
    },
    {
      "cell_type": "markdown",
      "metadata": {
        "id": "eH802XK_FrTZ"
      },
      "source": [
        "## 2) Model Compile"
      ]
    },
    {
      "cell_type": "code",
      "metadata": {
        "id": "t2r6qam3FYpX"
      },
      "source": [
        "from tensorflow.keras import metrics\n",
        "\n",
        "Model_fd.compile(loss = 'binary_crossentropy',\n",
        "                 optimizer = 'adam',\n",
        "                 metrics = [metrics.Recall()])"
      ],
      "execution_count": 33,
      "outputs": []
    },
    {
      "cell_type": "markdown",
      "metadata": {
        "id": "4TcFP6_xHFKM"
      },
      "source": [
        "## 3) Model Fit"
      ]
    },
    {
      "cell_type": "code",
      "metadata": {
        "colab": {
          "base_uri": "https://localhost:8080/"
        },
        "id": "RUBGFbLXFYmN",
        "outputId": "7db363dd-2780-42c3-d1ef-a6a2365ff3c6"
      },
      "source": [
        "history_fd = Model_fd.fit(X_train, y_train,\n",
        "                          epochs = 300,\n",
        "                          batch_size = 1024,\n",
        "                          validation_data = (X_test, y_test))"
      ],
      "execution_count": 34,
      "outputs": [
        {
          "output_type": "stream",
          "name": "stdout",
          "text": [
            "Epoch 1/300\n",
            "195/195 [==============================] - 2s 5ms/step - loss: 0.1091 - recall: 0.2384 - val_loss: 0.0371 - val_recall: 0.5203\n",
            "Epoch 2/300\n",
            "195/195 [==============================] - 1s 3ms/step - loss: 0.0227 - recall: 0.5669 - val_loss: 0.0104 - val_recall: 0.7432\n",
            "Epoch 3/300\n",
            "195/195 [==============================] - 1s 3ms/step - loss: 0.0116 - recall: 0.6773 - val_loss: 0.0080 - val_recall: 0.8041\n",
            "Epoch 4/300\n",
            "195/195 [==============================] - 1s 3ms/step - loss: 0.0066 - recall: 0.7326 - val_loss: 0.0054 - val_recall: 0.8108\n",
            "Epoch 5/300\n",
            "195/195 [==============================] - 1s 3ms/step - loss: 0.0052 - recall: 0.7151 - val_loss: 0.0040 - val_recall: 0.7973\n",
            "Epoch 6/300\n",
            "195/195 [==============================] - 1s 3ms/step - loss: 0.0047 - recall: 0.7384 - val_loss: 0.0035 - val_recall: 0.7703\n",
            "Epoch 7/300\n",
            "195/195 [==============================] - 1s 3ms/step - loss: 0.0045 - recall: 0.7093 - val_loss: 0.0034 - val_recall: 0.7973\n",
            "Epoch 8/300\n",
            "195/195 [==============================] - 1s 3ms/step - loss: 0.0044 - recall: 0.7238 - val_loss: 0.0033 - val_recall: 0.8041\n",
            "Epoch 9/300\n",
            "195/195 [==============================] - 1s 3ms/step - loss: 0.0043 - recall: 0.7209 - val_loss: 0.0035 - val_recall: 0.7973\n",
            "Epoch 10/300\n",
            "195/195 [==============================] - 1s 3ms/step - loss: 0.0040 - recall: 0.7180 - val_loss: 0.0037 - val_recall: 0.8176\n",
            "Epoch 11/300\n",
            "195/195 [==============================] - 1s 3ms/step - loss: 0.0038 - recall: 0.7326 - val_loss: 0.0032 - val_recall: 0.8108\n",
            "Epoch 12/300\n",
            "195/195 [==============================] - 1s 3ms/step - loss: 0.0043 - recall: 0.7180 - val_loss: 0.0051 - val_recall: 0.8311\n",
            "Epoch 13/300\n",
            "195/195 [==============================] - 1s 3ms/step - loss: 0.0047 - recall: 0.7180 - val_loss: 0.0031 - val_recall: 0.8311\n",
            "Epoch 14/300\n",
            "195/195 [==============================] - 1s 3ms/step - loss: 0.0037 - recall: 0.7297 - val_loss: 0.0031 - val_recall: 0.6959\n",
            "Epoch 15/300\n",
            "195/195 [==============================] - 1s 3ms/step - loss: 0.0037 - recall: 0.7180 - val_loss: 0.0031 - val_recall: 0.7905\n",
            "Epoch 16/300\n",
            "195/195 [==============================] - 1s 3ms/step - loss: 0.0035 - recall: 0.7355 - val_loss: 0.0030 - val_recall: 0.8176\n",
            "Epoch 17/300\n",
            "195/195 [==============================] - 1s 3ms/step - loss: 0.0036 - recall: 0.7355 - val_loss: 0.0031 - val_recall: 0.7297\n",
            "Epoch 18/300\n",
            "195/195 [==============================] - 1s 3ms/step - loss: 0.0038 - recall: 0.7267 - val_loss: 0.0033 - val_recall: 0.8311\n",
            "Epoch 19/300\n",
            "195/195 [==============================] - 1s 3ms/step - loss: 0.0036 - recall: 0.7384 - val_loss: 0.0030 - val_recall: 0.8041\n",
            "Epoch 20/300\n",
            "195/195 [==============================] - 1s 3ms/step - loss: 0.0032 - recall: 0.7413 - val_loss: 0.0031 - val_recall: 0.7905\n",
            "Epoch 21/300\n",
            "195/195 [==============================] - 1s 3ms/step - loss: 0.0032 - recall: 0.7209 - val_loss: 0.0043 - val_recall: 0.8108\n",
            "Epoch 22/300\n",
            "195/195 [==============================] - 1s 3ms/step - loss: 0.0036 - recall: 0.7442 - val_loss: 0.0030 - val_recall: 0.8041\n",
            "Epoch 23/300\n",
            "195/195 [==============================] - 1s 3ms/step - loss: 0.0034 - recall: 0.7326 - val_loss: 0.0040 - val_recall: 0.7297\n",
            "Epoch 24/300\n",
            "195/195 [==============================] - 1s 3ms/step - loss: 0.0038 - recall: 0.7384 - val_loss: 0.0047 - val_recall: 0.8378\n",
            "Epoch 25/300\n",
            "195/195 [==============================] - 1s 3ms/step - loss: 0.0032 - recall: 0.7384 - val_loss: 0.0030 - val_recall: 0.8243\n",
            "Epoch 26/300\n",
            "195/195 [==============================] - 1s 3ms/step - loss: 0.0034 - recall: 0.7297 - val_loss: 0.0038 - val_recall: 0.8378\n",
            "Epoch 27/300\n",
            "195/195 [==============================] - 1s 3ms/step - loss: 0.0033 - recall: 0.7238 - val_loss: 0.0030 - val_recall: 0.8243\n",
            "Epoch 28/300\n",
            "195/195 [==============================] - 1s 3ms/step - loss: 0.0034 - recall: 0.7297 - val_loss: 0.0035 - val_recall: 0.8311\n",
            "Epoch 29/300\n",
            "195/195 [==============================] - 1s 3ms/step - loss: 0.0041 - recall: 0.7355 - val_loss: 0.0035 - val_recall: 0.8311\n",
            "Epoch 30/300\n",
            "195/195 [==============================] - 1s 3ms/step - loss: 0.0035 - recall: 0.7384 - val_loss: 0.0030 - val_recall: 0.8311\n",
            "Epoch 31/300\n",
            "195/195 [==============================] - 1s 3ms/step - loss: 0.0037 - recall: 0.7384 - val_loss: 0.0030 - val_recall: 0.8311\n",
            "Epoch 32/300\n",
            "195/195 [==============================] - 1s 3ms/step - loss: 0.0031 - recall: 0.7471 - val_loss: 0.0031 - val_recall: 0.8243\n",
            "Epoch 33/300\n",
            "195/195 [==============================] - 1s 3ms/step - loss: 0.0030 - recall: 0.7500 - val_loss: 0.0030 - val_recall: 0.8243\n",
            "Epoch 34/300\n",
            "195/195 [==============================] - 1s 3ms/step - loss: 0.0031 - recall: 0.7355 - val_loss: 0.0032 - val_recall: 0.8176\n",
            "Epoch 35/300\n",
            "195/195 [==============================] - 1s 3ms/step - loss: 0.0031 - recall: 0.7529 - val_loss: 0.0027 - val_recall: 0.8108\n",
            "Epoch 36/300\n",
            "195/195 [==============================] - 1s 3ms/step - loss: 0.0068 - recall: 0.7093 - val_loss: 0.0084 - val_recall: 0.7432\n",
            "Epoch 37/300\n",
            "195/195 [==============================] - 1s 3ms/step - loss: 0.0054 - recall: 0.7326 - val_loss: 0.0030 - val_recall: 0.8041\n",
            "Epoch 38/300\n",
            "195/195 [==============================] - 1s 3ms/step - loss: 0.0030 - recall: 0.7529 - val_loss: 0.0028 - val_recall: 0.7770\n",
            "Epoch 39/300\n",
            "195/195 [==============================] - 1s 3ms/step - loss: 0.0030 - recall: 0.7413 - val_loss: 0.0028 - val_recall: 0.8108\n",
            "Epoch 40/300\n",
            "195/195 [==============================] - 1s 3ms/step - loss: 0.0032 - recall: 0.7529 - val_loss: 0.0031 - val_recall: 0.8176\n",
            "Epoch 41/300\n",
            "195/195 [==============================] - 1s 3ms/step - loss: 0.0041 - recall: 0.7355 - val_loss: 0.0035 - val_recall: 0.8311\n",
            "Epoch 42/300\n",
            "195/195 [==============================] - 1s 3ms/step - loss: 0.0031 - recall: 0.7558 - val_loss: 0.0031 - val_recall: 0.8311\n",
            "Epoch 43/300\n",
            "195/195 [==============================] - 1s 3ms/step - loss: 0.0030 - recall: 0.7500 - val_loss: 0.0030 - val_recall: 0.8378\n",
            "Epoch 44/300\n",
            "195/195 [==============================] - 1s 3ms/step - loss: 0.0030 - recall: 0.7413 - val_loss: 0.0030 - val_recall: 0.8243\n",
            "Epoch 45/300\n",
            "195/195 [==============================] - 1s 3ms/step - loss: 0.0031 - recall: 0.7500 - val_loss: 0.0028 - val_recall: 0.8108\n",
            "Epoch 46/300\n",
            "195/195 [==============================] - 1s 3ms/step - loss: 0.0042 - recall: 0.7180 - val_loss: 0.0032 - val_recall: 0.7838\n",
            "Epoch 47/300\n",
            "195/195 [==============================] - 1s 3ms/step - loss: 0.0030 - recall: 0.7471 - val_loss: 0.0028 - val_recall: 0.8176\n",
            "Epoch 48/300\n",
            "195/195 [==============================] - 1s 3ms/step - loss: 0.0030 - recall: 0.7529 - val_loss: 0.0033 - val_recall: 0.8311\n",
            "Epoch 49/300\n",
            "195/195 [==============================] - 1s 3ms/step - loss: 0.0039 - recall: 0.7297 - val_loss: 0.0033 - val_recall: 0.8311\n",
            "Epoch 50/300\n",
            "195/195 [==============================] - 1s 3ms/step - loss: 0.0034 - recall: 0.7500 - val_loss: 0.0028 - val_recall: 0.7973\n",
            "Epoch 51/300\n",
            "195/195 [==============================] - 1s 3ms/step - loss: 0.0027 - recall: 0.7529 - val_loss: 0.0028 - val_recall: 0.7905\n",
            "Epoch 52/300\n",
            "195/195 [==============================] - 1s 3ms/step - loss: 0.0029 - recall: 0.7616 - val_loss: 0.0039 - val_recall: 0.8243\n",
            "Epoch 53/300\n",
            "195/195 [==============================] - 1s 3ms/step - loss: 0.0051 - recall: 0.7355 - val_loss: 0.0033 - val_recall: 0.7568\n",
            "Epoch 54/300\n",
            "195/195 [==============================] - 1s 3ms/step - loss: 0.0033 - recall: 0.7558 - val_loss: 0.0028 - val_recall: 0.8041\n",
            "Epoch 55/300\n",
            "195/195 [==============================] - 1s 3ms/step - loss: 0.0047 - recall: 0.7151 - val_loss: 0.0033 - val_recall: 0.8311\n",
            "Epoch 56/300\n",
            "195/195 [==============================] - 1s 3ms/step - loss: 0.0030 - recall: 0.7529 - val_loss: 0.0034 - val_recall: 0.8243\n",
            "Epoch 57/300\n",
            "195/195 [==============================] - 1s 3ms/step - loss: 0.0030 - recall: 0.7529 - val_loss: 0.0027 - val_recall: 0.8108\n",
            "Epoch 58/300\n",
            "195/195 [==============================] - 1s 3ms/step - loss: 0.0046 - recall: 0.7180 - val_loss: 0.0035 - val_recall: 0.8311\n",
            "Epoch 59/300\n",
            "195/195 [==============================] - 1s 3ms/step - loss: 0.0044 - recall: 0.7326 - val_loss: 0.0027 - val_recall: 0.8108\n",
            "Epoch 60/300\n",
            "195/195 [==============================] - 1s 3ms/step - loss: 0.0027 - recall: 0.7587 - val_loss: 0.0030 - val_recall: 0.8176\n",
            "Epoch 61/300\n",
            "195/195 [==============================] - 1s 3ms/step - loss: 0.0028 - recall: 0.7529 - val_loss: 0.0027 - val_recall: 0.8108\n",
            "Epoch 62/300\n",
            "195/195 [==============================] - 1s 3ms/step - loss: 0.0027 - recall: 0.7587 - val_loss: 0.0028 - val_recall: 0.8243\n",
            "Epoch 63/300\n",
            "195/195 [==============================] - 1s 3ms/step - loss: 0.0062 - recall: 0.7064 - val_loss: 0.0036 - val_recall: 0.8378\n",
            "Epoch 64/300\n",
            "195/195 [==============================] - 1s 3ms/step - loss: 0.0029 - recall: 0.7558 - val_loss: 0.0029 - val_recall: 0.8176\n",
            "Epoch 65/300\n",
            "195/195 [==============================] - 1s 3ms/step - loss: 0.0040 - recall: 0.7006 - val_loss: 0.0026 - val_recall: 0.8176\n",
            "Epoch 66/300\n",
            "195/195 [==============================] - 1s 3ms/step - loss: 0.0031 - recall: 0.7587 - val_loss: 0.0027 - val_recall: 0.8041\n",
            "Epoch 67/300\n",
            "195/195 [==============================] - 1s 3ms/step - loss: 0.0028 - recall: 0.7587 - val_loss: 0.0033 - val_recall: 0.8243\n",
            "Epoch 68/300\n",
            "195/195 [==============================] - 1s 3ms/step - loss: 0.0027 - recall: 0.7529 - val_loss: 0.0027 - val_recall: 0.8311\n",
            "Epoch 69/300\n",
            "195/195 [==============================] - 1s 3ms/step - loss: 0.0026 - recall: 0.7616 - val_loss: 0.0028 - val_recall: 0.8108\n",
            "Epoch 70/300\n",
            "195/195 [==============================] - 1s 3ms/step - loss: 0.0030 - recall: 0.7529 - val_loss: 0.0027 - val_recall: 0.8108\n",
            "Epoch 71/300\n",
            "195/195 [==============================] - 1s 3ms/step - loss: 0.0032 - recall: 0.7442 - val_loss: 0.0032 - val_recall: 0.8176\n",
            "Epoch 72/300\n",
            "195/195 [==============================] - 1s 3ms/step - loss: 0.0029 - recall: 0.7587 - val_loss: 0.0029 - val_recall: 0.8108\n",
            "Epoch 73/300\n",
            "195/195 [==============================] - 1s 3ms/step - loss: 0.0028 - recall: 0.7616 - val_loss: 0.0028 - val_recall: 0.8108\n",
            "Epoch 74/300\n",
            "195/195 [==============================] - 1s 3ms/step - loss: 0.0028 - recall: 0.7616 - val_loss: 0.0027 - val_recall: 0.7973\n",
            "Epoch 75/300\n",
            "195/195 [==============================] - 1s 3ms/step - loss: 0.0030 - recall: 0.7500 - val_loss: 0.0027 - val_recall: 0.7297\n",
            "Epoch 76/300\n",
            "195/195 [==============================] - 1s 3ms/step - loss: 0.0027 - recall: 0.7529 - val_loss: 0.0026 - val_recall: 0.8041\n",
            "Epoch 77/300\n",
            "195/195 [==============================] - 1s 3ms/step - loss: 0.0028 - recall: 0.7529 - val_loss: 0.0029 - val_recall: 0.8311\n",
            "Epoch 78/300\n",
            "195/195 [==============================] - 1s 3ms/step - loss: 0.0030 - recall: 0.7529 - val_loss: 0.0028 - val_recall: 0.8176\n",
            "Epoch 79/300\n",
            "195/195 [==============================] - 1s 3ms/step - loss: 0.0028 - recall: 0.7558 - val_loss: 0.0026 - val_recall: 0.8108\n",
            "Epoch 80/300\n",
            "195/195 [==============================] - 1s 3ms/step - loss: 0.0050 - recall: 0.7267 - val_loss: 0.0029 - val_recall: 0.8176\n",
            "Epoch 81/300\n",
            "195/195 [==============================] - 1s 3ms/step - loss: 0.0030 - recall: 0.7587 - val_loss: 0.0027 - val_recall: 0.7905\n",
            "Epoch 82/300\n",
            "195/195 [==============================] - 1s 3ms/step - loss: 0.0027 - recall: 0.7645 - val_loss: 0.0028 - val_recall: 0.8176\n",
            "Epoch 83/300\n",
            "195/195 [==============================] - 1s 3ms/step - loss: 0.0028 - recall: 0.7587 - val_loss: 0.0032 - val_recall: 0.8311\n",
            "Epoch 84/300\n",
            "195/195 [==============================] - 1s 3ms/step - loss: 0.0027 - recall: 0.7645 - val_loss: 0.0029 - val_recall: 0.7635\n",
            "Epoch 85/300\n",
            "195/195 [==============================] - 1s 3ms/step - loss: 0.0028 - recall: 0.7500 - val_loss: 0.0026 - val_recall: 0.8243\n",
            "Epoch 86/300\n",
            "195/195 [==============================] - 1s 3ms/step - loss: 0.0026 - recall: 0.7587 - val_loss: 0.0027 - val_recall: 0.7770\n",
            "Epoch 87/300\n",
            "195/195 [==============================] - 1s 3ms/step - loss: 0.0028 - recall: 0.7500 - val_loss: 0.0031 - val_recall: 0.8108\n",
            "Epoch 88/300\n",
            "195/195 [==============================] - 1s 3ms/step - loss: 0.0030 - recall: 0.7558 - val_loss: 0.0028 - val_recall: 0.8176\n",
            "Epoch 89/300\n",
            "195/195 [==============================] - 1s 3ms/step - loss: 0.0035 - recall: 0.7326 - val_loss: 0.0052 - val_recall: 0.7703\n",
            "Epoch 90/300\n",
            "195/195 [==============================] - 1s 3ms/step - loss: 0.0040 - recall: 0.7500 - val_loss: 0.0026 - val_recall: 0.8176\n",
            "Epoch 91/300\n",
            "195/195 [==============================] - 1s 3ms/step - loss: 0.0038 - recall: 0.7471 - val_loss: 0.0027 - val_recall: 0.8176\n",
            "Epoch 92/300\n",
            "195/195 [==============================] - 1s 3ms/step - loss: 0.0026 - recall: 0.7645 - val_loss: 0.0025 - val_recall: 0.8243\n",
            "Epoch 93/300\n",
            "195/195 [==============================] - 1s 4ms/step - loss: 0.0025 - recall: 0.7558 - val_loss: 0.0027 - val_recall: 0.8243\n",
            "Epoch 94/300\n",
            "195/195 [==============================] - 1s 3ms/step - loss: 0.0028 - recall: 0.7529 - val_loss: 0.0031 - val_recall: 0.8378\n",
            "Epoch 95/300\n",
            "195/195 [==============================] - 1s 3ms/step - loss: 0.0027 - recall: 0.7616 - val_loss: 0.0027 - val_recall: 0.8378\n",
            "Epoch 96/300\n",
            "195/195 [==============================] - 1s 3ms/step - loss: 0.0027 - recall: 0.7558 - val_loss: 0.0028 - val_recall: 0.8378\n",
            "Epoch 97/300\n",
            "195/195 [==============================] - 1s 3ms/step - loss: 0.0025 - recall: 0.7674 - val_loss: 0.0026 - val_recall: 0.7973\n",
            "Epoch 98/300\n",
            "195/195 [==============================] - 1s 3ms/step - loss: 0.0026 - recall: 0.7616 - val_loss: 0.0027 - val_recall: 0.8243\n",
            "Epoch 99/300\n",
            "195/195 [==============================] - 1s 3ms/step - loss: 0.0027 - recall: 0.7587 - val_loss: 0.0027 - val_recall: 0.8378\n",
            "Epoch 100/300\n",
            "195/195 [==============================] - 1s 3ms/step - loss: 0.0030 - recall: 0.7529 - val_loss: 0.0028 - val_recall: 0.8243\n",
            "Epoch 101/300\n",
            "195/195 [==============================] - 1s 3ms/step - loss: 0.0042 - recall: 0.7500 - val_loss: 0.0029 - val_recall: 0.8108\n",
            "Epoch 102/300\n",
            "195/195 [==============================] - 1s 3ms/step - loss: 0.0027 - recall: 0.7616 - val_loss: 0.0025 - val_recall: 0.8041\n",
            "Epoch 103/300\n",
            "195/195 [==============================] - 1s 3ms/step - loss: 0.0032 - recall: 0.7384 - val_loss: 0.0026 - val_recall: 0.8311\n",
            "Epoch 104/300\n",
            "195/195 [==============================] - 1s 3ms/step - loss: 0.0029 - recall: 0.7500 - val_loss: 0.0026 - val_recall: 0.8176\n",
            "Epoch 105/300\n",
            "195/195 [==============================] - 1s 3ms/step - loss: 0.0027 - recall: 0.7616 - val_loss: 0.0027 - val_recall: 0.8108\n",
            "Epoch 106/300\n",
            "195/195 [==============================] - 1s 3ms/step - loss: 0.0026 - recall: 0.7616 - val_loss: 0.0026 - val_recall: 0.8176\n",
            "Epoch 107/300\n",
            "195/195 [==============================] - 1s 3ms/step - loss: 0.0026 - recall: 0.7674 - val_loss: 0.0026 - val_recall: 0.8243\n",
            "Epoch 108/300\n",
            "195/195 [==============================] - 1s 3ms/step - loss: 0.0027 - recall: 0.7616 - val_loss: 0.0029 - val_recall: 0.8378\n",
            "Epoch 109/300\n",
            "195/195 [==============================] - 1s 3ms/step - loss: 0.0048 - recall: 0.7355 - val_loss: 0.0027 - val_recall: 0.8176\n",
            "Epoch 110/300\n",
            "195/195 [==============================] - 1s 3ms/step - loss: 0.0039 - recall: 0.7180 - val_loss: 0.0042 - val_recall: 0.7905\n",
            "Epoch 111/300\n",
            "195/195 [==============================] - 1s 3ms/step - loss: 0.0031 - recall: 0.7587 - val_loss: 0.0027 - val_recall: 0.8243\n",
            "Epoch 112/300\n",
            "195/195 [==============================] - 1s 3ms/step - loss: 0.0065 - recall: 0.7209 - val_loss: 0.0055 - val_recall: 0.7770\n",
            "Epoch 113/300\n",
            "195/195 [==============================] - 1s 3ms/step - loss: 0.0046 - recall: 0.7355 - val_loss: 0.0030 - val_recall: 0.8311\n",
            "Epoch 114/300\n",
            "195/195 [==============================] - 1s 3ms/step - loss: 0.0025 - recall: 0.7587 - val_loss: 0.0025 - val_recall: 0.8108\n",
            "Epoch 115/300\n",
            "195/195 [==============================] - 1s 3ms/step - loss: 0.0026 - recall: 0.7558 - val_loss: 0.0027 - val_recall: 0.8243\n",
            "Epoch 116/300\n",
            "195/195 [==============================] - 1s 3ms/step - loss: 0.0024 - recall: 0.7616 - val_loss: 0.0026 - val_recall: 0.8108\n",
            "Epoch 117/300\n",
            "195/195 [==============================] - 1s 3ms/step - loss: 0.0037 - recall: 0.7355 - val_loss: 0.0027 - val_recall: 0.8311\n",
            "Epoch 118/300\n",
            "195/195 [==============================] - 1s 3ms/step - loss: 0.0026 - recall: 0.7703 - val_loss: 0.0027 - val_recall: 0.8176\n",
            "Epoch 119/300\n",
            "195/195 [==============================] - 1s 3ms/step - loss: 0.0024 - recall: 0.7733 - val_loss: 0.0029 - val_recall: 0.7432\n",
            "Epoch 120/300\n",
            "195/195 [==============================] - 1s 3ms/step - loss: 0.0025 - recall: 0.7558 - val_loss: 0.0025 - val_recall: 0.8176\n",
            "Epoch 121/300\n",
            "195/195 [==============================] - 1s 3ms/step - loss: 0.0024 - recall: 0.7587 - val_loss: 0.0028 - val_recall: 0.8108\n",
            "Epoch 122/300\n",
            "195/195 [==============================] - 1s 3ms/step - loss: 0.0025 - recall: 0.7703 - val_loss: 0.0026 - val_recall: 0.8108\n",
            "Epoch 123/300\n",
            "195/195 [==============================] - 1s 3ms/step - loss: 0.0026 - recall: 0.7587 - val_loss: 0.0027 - val_recall: 0.8243\n",
            "Epoch 124/300\n",
            "195/195 [==============================] - 1s 3ms/step - loss: 0.0026 - recall: 0.7645 - val_loss: 0.0031 - val_recall: 0.8311\n",
            "Epoch 125/300\n",
            "195/195 [==============================] - 1s 3ms/step - loss: 0.0026 - recall: 0.7674 - val_loss: 0.0027 - val_recall: 0.8243\n",
            "Epoch 126/300\n",
            "195/195 [==============================] - 1s 3ms/step - loss: 0.0027 - recall: 0.7674 - val_loss: 0.0026 - val_recall: 0.7973\n",
            "Epoch 127/300\n",
            "195/195 [==============================] - 1s 3ms/step - loss: 0.0025 - recall: 0.7587 - val_loss: 0.0028 - val_recall: 0.8378\n",
            "Epoch 128/300\n",
            "195/195 [==============================] - 1s 3ms/step - loss: 0.0026 - recall: 0.7616 - val_loss: 0.0025 - val_recall: 0.8176\n",
            "Epoch 129/300\n",
            "195/195 [==============================] - 1s 3ms/step - loss: 0.0034 - recall: 0.7500 - val_loss: 0.0031 - val_recall: 0.7635\n",
            "Epoch 130/300\n",
            "195/195 [==============================] - 1s 3ms/step - loss: 0.0026 - recall: 0.7500 - val_loss: 0.0038 - val_recall: 0.7703\n",
            "Epoch 131/300\n",
            "195/195 [==============================] - 1s 3ms/step - loss: 0.0032 - recall: 0.7529 - val_loss: 0.0027 - val_recall: 0.8311\n",
            "Epoch 132/300\n",
            "195/195 [==============================] - 1s 3ms/step - loss: 0.0026 - recall: 0.7587 - val_loss: 0.0027 - val_recall: 0.8243\n",
            "Epoch 133/300\n",
            "195/195 [==============================] - 1s 3ms/step - loss: 0.0025 - recall: 0.7645 - val_loss: 0.0028 - val_recall: 0.8378\n",
            "Epoch 134/300\n",
            "195/195 [==============================] - 1s 3ms/step - loss: 0.0027 - recall: 0.7616 - val_loss: 0.0025 - val_recall: 0.8041\n",
            "Epoch 135/300\n",
            "195/195 [==============================] - 1s 3ms/step - loss: 0.0026 - recall: 0.7587 - val_loss: 0.0026 - val_recall: 0.8243\n",
            "Epoch 136/300\n",
            "195/195 [==============================] - 1s 3ms/step - loss: 0.0027 - recall: 0.7616 - val_loss: 0.0029 - val_recall: 0.8041\n",
            "Epoch 137/300\n",
            "195/195 [==============================] - 1s 3ms/step - loss: 0.0025 - recall: 0.7645 - val_loss: 0.0027 - val_recall: 0.8243\n",
            "Epoch 138/300\n",
            "195/195 [==============================] - 1s 3ms/step - loss: 0.0026 - recall: 0.7645 - val_loss: 0.0034 - val_recall: 0.8108\n",
            "Epoch 139/300\n",
            "195/195 [==============================] - 1s 3ms/step - loss: 0.0028 - recall: 0.7442 - val_loss: 0.0027 - val_recall: 0.8243\n",
            "Epoch 140/300\n",
            "195/195 [==============================] - 1s 3ms/step - loss: 0.0026 - recall: 0.7616 - val_loss: 0.0030 - val_recall: 0.8243\n",
            "Epoch 141/300\n",
            "195/195 [==============================] - 1s 3ms/step - loss: 0.0025 - recall: 0.7674 - val_loss: 0.0025 - val_recall: 0.7568\n",
            "Epoch 142/300\n",
            "195/195 [==============================] - 1s 3ms/step - loss: 0.0026 - recall: 0.7587 - val_loss: 0.0026 - val_recall: 0.7973\n",
            "Epoch 143/300\n",
            "195/195 [==============================] - 1s 3ms/step - loss: 0.0032 - recall: 0.7471 - val_loss: 0.0025 - val_recall: 0.8243\n",
            "Epoch 144/300\n",
            "195/195 [==============================] - 1s 3ms/step - loss: 0.0025 - recall: 0.7558 - val_loss: 0.0032 - val_recall: 0.8378\n",
            "Epoch 145/300\n",
            "195/195 [==============================] - 1s 3ms/step - loss: 0.0043 - recall: 0.7326 - val_loss: 0.0028 - val_recall: 0.8243\n",
            "Epoch 146/300\n",
            "195/195 [==============================] - 1s 3ms/step - loss: 0.0024 - recall: 0.7558 - val_loss: 0.0028 - val_recall: 0.8243\n",
            "Epoch 147/300\n",
            "195/195 [==============================] - 1s 3ms/step - loss: 0.0025 - recall: 0.7616 - val_loss: 0.0028 - val_recall: 0.7973\n",
            "Epoch 148/300\n",
            "195/195 [==============================] - 1s 3ms/step - loss: 0.0028 - recall: 0.7558 - val_loss: 0.0025 - val_recall: 0.8243\n",
            "Epoch 149/300\n",
            "195/195 [==============================] - 1s 3ms/step - loss: 0.0023 - recall: 0.7645 - val_loss: 0.0046 - val_recall: 0.8311\n",
            "Epoch 150/300\n",
            "195/195 [==============================] - 1s 3ms/step - loss: 0.0028 - recall: 0.7442 - val_loss: 0.0030 - val_recall: 0.8311\n",
            "Epoch 151/300\n",
            "195/195 [==============================] - 1s 3ms/step - loss: 0.0025 - recall: 0.7587 - val_loss: 0.0035 - val_recall: 0.8378\n",
            "Epoch 152/300\n",
            "195/195 [==============================] - 1s 3ms/step - loss: 0.0023 - recall: 0.7616 - val_loss: 0.0027 - val_recall: 0.7973\n",
            "Epoch 153/300\n",
            "195/195 [==============================] - 1s 3ms/step - loss: 0.0025 - recall: 0.7645 - val_loss: 0.0026 - val_recall: 0.8176\n",
            "Epoch 154/300\n",
            "195/195 [==============================] - 1s 3ms/step - loss: 0.0024 - recall: 0.7587 - val_loss: 0.0026 - val_recall: 0.8041\n",
            "Epoch 155/300\n",
            "195/195 [==============================] - 1s 3ms/step - loss: 0.0023 - recall: 0.7645 - val_loss: 0.0026 - val_recall: 0.8176\n",
            "Epoch 156/300\n",
            "195/195 [==============================] - 1s 3ms/step - loss: 0.0025 - recall: 0.7500 - val_loss: 0.0026 - val_recall: 0.8243\n",
            "Epoch 157/300\n",
            "195/195 [==============================] - 1s 3ms/step - loss: 0.0044 - recall: 0.7093 - val_loss: 0.0030 - val_recall: 0.8311\n",
            "Epoch 158/300\n",
            "195/195 [==============================] - 1s 3ms/step - loss: 0.0025 - recall: 0.7558 - val_loss: 0.0026 - val_recall: 0.7770\n",
            "Epoch 159/300\n",
            "195/195 [==============================] - 1s 3ms/step - loss: 0.0025 - recall: 0.7587 - val_loss: 0.0025 - val_recall: 0.8176\n",
            "Epoch 160/300\n",
            "195/195 [==============================] - 1s 3ms/step - loss: 0.0027 - recall: 0.7529 - val_loss: 0.0027 - val_recall: 0.8176\n",
            "Epoch 161/300\n",
            "195/195 [==============================] - 1s 3ms/step - loss: 0.0024 - recall: 0.7587 - val_loss: 0.0027 - val_recall: 0.8041\n",
            "Epoch 162/300\n",
            "195/195 [==============================] - 1s 3ms/step - loss: 0.0023 - recall: 0.7558 - val_loss: 0.0026 - val_recall: 0.8108\n",
            "Epoch 163/300\n",
            "195/195 [==============================] - 1s 3ms/step - loss: 0.0029 - recall: 0.7442 - val_loss: 0.0026 - val_recall: 0.7703\n",
            "Epoch 164/300\n",
            "195/195 [==============================] - 1s 3ms/step - loss: 0.0025 - recall: 0.7471 - val_loss: 0.0030 - val_recall: 0.8108\n",
            "Epoch 165/300\n",
            "195/195 [==============================] - 1s 3ms/step - loss: 0.0025 - recall: 0.7587 - val_loss: 0.0025 - val_recall: 0.8108\n",
            "Epoch 166/300\n",
            "195/195 [==============================] - 1s 3ms/step - loss: 0.0028 - recall: 0.7529 - val_loss: 0.0034 - val_recall: 0.8108\n",
            "Epoch 167/300\n",
            "195/195 [==============================] - 1s 3ms/step - loss: 0.0026 - recall: 0.7587 - val_loss: 0.0025 - val_recall: 0.8176\n",
            "Epoch 168/300\n",
            "195/195 [==============================] - 1s 3ms/step - loss: 0.0023 - recall: 0.7645 - val_loss: 0.0025 - val_recall: 0.8176\n",
            "Epoch 169/300\n",
            "195/195 [==============================] - 1s 3ms/step - loss: 0.0029 - recall: 0.7500 - val_loss: 0.0027 - val_recall: 0.7973\n",
            "Epoch 170/300\n",
            "195/195 [==============================] - 1s 3ms/step - loss: 0.0024 - recall: 0.7616 - val_loss: 0.0025 - val_recall: 0.8176\n",
            "Epoch 171/300\n",
            "195/195 [==============================] - 1s 3ms/step - loss: 0.0023 - recall: 0.7645 - val_loss: 0.0028 - val_recall: 0.8311\n",
            "Epoch 172/300\n",
            "195/195 [==============================] - 1s 3ms/step - loss: 0.0051 - recall: 0.6948 - val_loss: 0.0068 - val_recall: 0.7770\n",
            "Epoch 173/300\n",
            "195/195 [==============================] - 1s 3ms/step - loss: 0.0051 - recall: 0.7500 - val_loss: 0.0027 - val_recall: 0.8378\n",
            "Epoch 174/300\n",
            "195/195 [==============================] - 1s 3ms/step - loss: 0.0023 - recall: 0.7791 - val_loss: 0.0042 - val_recall: 0.8311\n",
            "Epoch 175/300\n",
            "195/195 [==============================] - 1s 3ms/step - loss: 0.0024 - recall: 0.7849 - val_loss: 0.0032 - val_recall: 0.8243\n",
            "Epoch 176/300\n",
            "195/195 [==============================] - 1s 3ms/step - loss: 0.0023 - recall: 0.7878 - val_loss: 0.0029 - val_recall: 0.8446\n",
            "Epoch 177/300\n",
            "195/195 [==============================] - 1s 3ms/step - loss: 0.0022 - recall: 0.7820 - val_loss: 0.0029 - val_recall: 0.8378\n",
            "Epoch 178/300\n",
            "195/195 [==============================] - 1s 3ms/step - loss: 0.0023 - recall: 0.7849 - val_loss: 0.0026 - val_recall: 0.8311\n",
            "Epoch 179/300\n",
            "195/195 [==============================] - 1s 3ms/step - loss: 0.0023 - recall: 0.7703 - val_loss: 0.0026 - val_recall: 0.8446\n",
            "Epoch 180/300\n",
            "195/195 [==============================] - 1s 3ms/step - loss: 0.0022 - recall: 0.7849 - val_loss: 0.0025 - val_recall: 0.7838\n",
            "Epoch 181/300\n",
            "195/195 [==============================] - 1s 3ms/step - loss: 0.0030 - recall: 0.7616 - val_loss: 0.0026 - val_recall: 0.7703\n",
            "Epoch 182/300\n",
            "195/195 [==============================] - 1s 3ms/step - loss: 0.0031 - recall: 0.7616 - val_loss: 0.0029 - val_recall: 0.8446\n",
            "Epoch 183/300\n",
            "195/195 [==============================] - 1s 3ms/step - loss: 0.0023 - recall: 0.7878 - val_loss: 0.0025 - val_recall: 0.8514\n",
            "Epoch 184/300\n",
            "195/195 [==============================] - 1s 3ms/step - loss: 0.0023 - recall: 0.7820 - val_loss: 0.0042 - val_recall: 0.8243\n",
            "Epoch 185/300\n",
            "195/195 [==============================] - 1s 3ms/step - loss: 0.0028 - recall: 0.7733 - val_loss: 0.0026 - val_recall: 0.8378\n",
            "Epoch 186/300\n",
            "195/195 [==============================] - 1s 3ms/step - loss: 0.0023 - recall: 0.7878 - val_loss: 0.0026 - val_recall: 0.8041\n",
            "Epoch 187/300\n",
            "195/195 [==============================] - 1s 3ms/step - loss: 0.0031 - recall: 0.7558 - val_loss: 0.0026 - val_recall: 0.8176\n",
            "Epoch 188/300\n",
            "195/195 [==============================] - 1s 3ms/step - loss: 0.0022 - recall: 0.7878 - val_loss: 0.0027 - val_recall: 0.8446\n",
            "Epoch 189/300\n",
            "195/195 [==============================] - 1s 3ms/step - loss: 0.0024 - recall: 0.7878 - val_loss: 0.0026 - val_recall: 0.8311\n",
            "Epoch 190/300\n",
            "195/195 [==============================] - 1s 3ms/step - loss: 0.0034 - recall: 0.7616 - val_loss: 0.0025 - val_recall: 0.8378\n",
            "Epoch 191/300\n",
            "195/195 [==============================] - 1s 3ms/step - loss: 0.0026 - recall: 0.7791 - val_loss: 0.0028 - val_recall: 0.8649\n",
            "Epoch 192/300\n",
            "195/195 [==============================] - 1s 3ms/step - loss: 0.0022 - recall: 0.7936 - val_loss: 0.0025 - val_recall: 0.7973\n",
            "Epoch 193/300\n",
            "195/195 [==============================] - 1s 3ms/step - loss: 0.0021 - recall: 0.7936 - val_loss: 0.0025 - val_recall: 0.7973\n",
            "Epoch 194/300\n",
            "195/195 [==============================] - 1s 3ms/step - loss: 0.0023 - recall: 0.7878 - val_loss: 0.0029 - val_recall: 0.7973\n",
            "Epoch 195/300\n",
            "195/195 [==============================] - 1s 3ms/step - loss: 0.0024 - recall: 0.7762 - val_loss: 0.0026 - val_recall: 0.8108\n",
            "Epoch 196/300\n",
            "195/195 [==============================] - 1s 3ms/step - loss: 0.0023 - recall: 0.7820 - val_loss: 0.0027 - val_recall: 0.8378\n",
            "Epoch 197/300\n",
            "195/195 [==============================] - 1s 3ms/step - loss: 0.0040 - recall: 0.7529 - val_loss: 0.0028 - val_recall: 0.7973\n",
            "Epoch 198/300\n",
            "195/195 [==============================] - 1s 3ms/step - loss: 0.0023 - recall: 0.7878 - val_loss: 0.0026 - val_recall: 0.8378\n",
            "Epoch 199/300\n",
            "195/195 [==============================] - 1s 3ms/step - loss: 0.0021 - recall: 0.7936 - val_loss: 0.0026 - val_recall: 0.8108\n",
            "Epoch 200/300\n",
            "195/195 [==============================] - 1s 3ms/step - loss: 0.0024 - recall: 0.7849 - val_loss: 0.0026 - val_recall: 0.7635\n",
            "Epoch 201/300\n",
            "195/195 [==============================] - 1s 3ms/step - loss: 0.0021 - recall: 0.7849 - val_loss: 0.0024 - val_recall: 0.8176\n",
            "Epoch 202/300\n",
            "195/195 [==============================] - 1s 3ms/step - loss: 0.0022 - recall: 0.7820 - val_loss: 0.0026 - val_recall: 0.8041\n",
            "Epoch 203/300\n",
            "195/195 [==============================] - 1s 3ms/step - loss: 0.0022 - recall: 0.7965 - val_loss: 0.0028 - val_recall: 0.8243\n",
            "Epoch 204/300\n",
            "195/195 [==============================] - 1s 3ms/step - loss: 0.0021 - recall: 0.7849 - val_loss: 0.0026 - val_recall: 0.8176\n",
            "Epoch 205/300\n",
            "195/195 [==============================] - 1s 3ms/step - loss: 0.0021 - recall: 0.7878 - val_loss: 0.0026 - val_recall: 0.8311\n",
            "Epoch 206/300\n",
            "195/195 [==============================] - 1s 3ms/step - loss: 0.0022 - recall: 0.7849 - val_loss: 0.0027 - val_recall: 0.8243\n",
            "Epoch 207/300\n",
            "195/195 [==============================] - 1s 3ms/step - loss: 0.0023 - recall: 0.7791 - val_loss: 0.0025 - val_recall: 0.8446\n",
            "Epoch 208/300\n",
            "195/195 [==============================] - 1s 3ms/step - loss: 0.0024 - recall: 0.7907 - val_loss: 0.0026 - val_recall: 0.8243\n",
            "Epoch 209/300\n",
            "195/195 [==============================] - 1s 3ms/step - loss: 0.0040 - recall: 0.7529 - val_loss: 0.0031 - val_recall: 0.8108\n",
            "Epoch 210/300\n",
            "195/195 [==============================] - 1s 3ms/step - loss: 0.0024 - recall: 0.7965 - val_loss: 0.0029 - val_recall: 0.8311\n",
            "Epoch 211/300\n",
            "195/195 [==============================] - 1s 3ms/step - loss: 0.0023 - recall: 0.7878 - val_loss: 0.0029 - val_recall: 0.8311\n",
            "Epoch 212/300\n",
            "195/195 [==============================] - 1s 3ms/step - loss: 0.0022 - recall: 0.7878 - val_loss: 0.0025 - val_recall: 0.8041\n",
            "Epoch 213/300\n",
            "195/195 [==============================] - 1s 3ms/step - loss: 0.0021 - recall: 0.7965 - val_loss: 0.0025 - val_recall: 0.8311\n",
            "Epoch 214/300\n",
            "195/195 [==============================] - 1s 3ms/step - loss: 0.0025 - recall: 0.7907 - val_loss: 0.0027 - val_recall: 0.8176\n",
            "Epoch 215/300\n",
            "195/195 [==============================] - 1s 3ms/step - loss: 0.0022 - recall: 0.7965 - val_loss: 0.0026 - val_recall: 0.8176\n",
            "Epoch 216/300\n",
            "195/195 [==============================] - 1s 3ms/step - loss: 0.0024 - recall: 0.7878 - val_loss: 0.0028 - val_recall: 0.8243\n",
            "Epoch 217/300\n",
            "195/195 [==============================] - 1s 3ms/step - loss: 0.0023 - recall: 0.7907 - val_loss: 0.0028 - val_recall: 0.8446\n",
            "Epoch 218/300\n",
            "195/195 [==============================] - 1s 3ms/step - loss: 0.0023 - recall: 0.7907 - val_loss: 0.0026 - val_recall: 0.8378\n",
            "Epoch 219/300\n",
            "195/195 [==============================] - 1s 3ms/step - loss: 0.0022 - recall: 0.8023 - val_loss: 0.0025 - val_recall: 0.8243\n",
            "Epoch 220/300\n",
            "195/195 [==============================] - 1s 3ms/step - loss: 0.0021 - recall: 0.7994 - val_loss: 0.0026 - val_recall: 0.8311\n",
            "Epoch 221/300\n",
            "195/195 [==============================] - 1s 3ms/step - loss: 0.0023 - recall: 0.7907 - val_loss: 0.0026 - val_recall: 0.8311\n",
            "Epoch 222/300\n",
            "195/195 [==============================] - 1s 3ms/step - loss: 0.0022 - recall: 0.7791 - val_loss: 0.0027 - val_recall: 0.8311\n",
            "Epoch 223/300\n",
            "195/195 [==============================] - 1s 3ms/step - loss: 0.0021 - recall: 0.7965 - val_loss: 0.0027 - val_recall: 0.8378\n",
            "Epoch 224/300\n",
            "195/195 [==============================] - 1s 3ms/step - loss: 0.0022 - recall: 0.7820 - val_loss: 0.0028 - val_recall: 0.8378\n",
            "Epoch 225/300\n",
            "195/195 [==============================] - 1s 3ms/step - loss: 0.0021 - recall: 0.7936 - val_loss: 0.0032 - val_recall: 0.8176\n",
            "Epoch 226/300\n",
            "195/195 [==============================] - 1s 3ms/step - loss: 0.0025 - recall: 0.7936 - val_loss: 0.0027 - val_recall: 0.8176\n",
            "Epoch 227/300\n",
            "195/195 [==============================] - 1s 3ms/step - loss: 0.0022 - recall: 0.7907 - val_loss: 0.0030 - val_recall: 0.8446\n",
            "Epoch 228/300\n",
            "195/195 [==============================] - 1s 3ms/step - loss: 0.0026 - recall: 0.7733 - val_loss: 0.0031 - val_recall: 0.8514\n",
            "Epoch 229/300\n",
            "195/195 [==============================] - 1s 3ms/step - loss: 0.0023 - recall: 0.7965 - val_loss: 0.0028 - val_recall: 0.8446\n",
            "Epoch 230/300\n",
            "195/195 [==============================] - 1s 3ms/step - loss: 0.0024 - recall: 0.7907 - val_loss: 0.0026 - val_recall: 0.8378\n",
            "Epoch 231/300\n",
            "195/195 [==============================] - 1s 3ms/step - loss: 0.0021 - recall: 0.7936 - val_loss: 0.0027 - val_recall: 0.8446\n",
            "Epoch 232/300\n",
            "195/195 [==============================] - 1s 3ms/step - loss: 0.0021 - recall: 0.7907 - val_loss: 0.0027 - val_recall: 0.8243\n",
            "Epoch 233/300\n",
            "195/195 [==============================] - 1s 3ms/step - loss: 0.0021 - recall: 0.7936 - val_loss: 0.0027 - val_recall: 0.8378\n",
            "Epoch 234/300\n",
            "195/195 [==============================] - 1s 3ms/step - loss: 0.0021 - recall: 0.7849 - val_loss: 0.0028 - val_recall: 0.8446\n",
            "Epoch 235/300\n",
            "195/195 [==============================] - 1s 3ms/step - loss: 0.0024 - recall: 0.7849 - val_loss: 0.0027 - val_recall: 0.8311\n",
            "Epoch 236/300\n",
            "195/195 [==============================] - 1s 3ms/step - loss: 0.0022 - recall: 0.7936 - val_loss: 0.0026 - val_recall: 0.8446\n",
            "Epoch 237/300\n",
            "195/195 [==============================] - 1s 3ms/step - loss: 0.0022 - recall: 0.7849 - val_loss: 0.0033 - val_recall: 0.8446\n",
            "Epoch 238/300\n",
            "195/195 [==============================] - 1s 3ms/step - loss: 0.0023 - recall: 0.7849 - val_loss: 0.0026 - val_recall: 0.8446\n",
            "Epoch 239/300\n",
            "195/195 [==============================] - 1s 3ms/step - loss: 0.0022 - recall: 0.7907 - val_loss: 0.0029 - val_recall: 0.8311\n",
            "Epoch 240/300\n",
            "195/195 [==============================] - 1s 3ms/step - loss: 0.0022 - recall: 0.7994 - val_loss: 0.0027 - val_recall: 0.8378\n",
            "Epoch 241/300\n",
            "195/195 [==============================] - 1s 3ms/step - loss: 0.0022 - recall: 0.7936 - val_loss: 0.0029 - val_recall: 0.8446\n",
            "Epoch 242/300\n",
            "195/195 [==============================] - 1s 3ms/step - loss: 0.0023 - recall: 0.7965 - val_loss: 0.0036 - val_recall: 0.8176\n",
            "Epoch 243/300\n",
            "195/195 [==============================] - 1s 3ms/step - loss: 0.0022 - recall: 0.7936 - val_loss: 0.0028 - val_recall: 0.8311\n",
            "Epoch 244/300\n",
            "195/195 [==============================] - 1s 3ms/step - loss: 0.0022 - recall: 0.7936 - val_loss: 0.0027 - val_recall: 0.8378\n",
            "Epoch 245/300\n",
            "195/195 [==============================] - 1s 4ms/step - loss: 0.0028 - recall: 0.7791 - val_loss: 0.0030 - val_recall: 0.8514\n",
            "Epoch 246/300\n",
            "195/195 [==============================] - 1s 3ms/step - loss: 0.0022 - recall: 0.7994 - val_loss: 0.0028 - val_recall: 0.8378\n",
            "Epoch 247/300\n",
            "195/195 [==============================] - 1s 3ms/step - loss: 0.0020 - recall: 0.7994 - val_loss: 0.0028 - val_recall: 0.8311\n",
            "Epoch 248/300\n",
            "195/195 [==============================] - 1s 3ms/step - loss: 0.0022 - recall: 0.7878 - val_loss: 0.0027 - val_recall: 0.8581\n",
            "Epoch 249/300\n",
            "195/195 [==============================] - 1s 3ms/step - loss: 0.0020 - recall: 0.7965 - val_loss: 0.0026 - val_recall: 0.8378\n",
            "Epoch 250/300\n",
            "195/195 [==============================] - 1s 3ms/step - loss: 0.0021 - recall: 0.7936 - val_loss: 0.0027 - val_recall: 0.7770\n",
            "Epoch 251/300\n",
            "195/195 [==============================] - 1s 3ms/step - loss: 0.0022 - recall: 0.7994 - val_loss: 0.0028 - val_recall: 0.8311\n",
            "Epoch 252/300\n",
            "195/195 [==============================] - 1s 3ms/step - loss: 0.0021 - recall: 0.7907 - val_loss: 0.0030 - val_recall: 0.8378\n",
            "Epoch 253/300\n",
            "195/195 [==============================] - 1s 3ms/step - loss: 0.0021 - recall: 0.7907 - val_loss: 0.0028 - val_recall: 0.8041\n",
            "Epoch 254/300\n",
            "195/195 [==============================] - 1s 3ms/step - loss: 0.0030 - recall: 0.7820 - val_loss: 0.0034 - val_recall: 0.8378\n",
            "Epoch 255/300\n",
            "195/195 [==============================] - 1s 3ms/step - loss: 0.0021 - recall: 0.7965 - val_loss: 0.0028 - val_recall: 0.8378\n",
            "Epoch 256/300\n",
            "195/195 [==============================] - 1s 3ms/step - loss: 0.0021 - recall: 0.7907 - val_loss: 0.0028 - val_recall: 0.8446\n",
            "Epoch 257/300\n",
            "195/195 [==============================] - 1s 3ms/step - loss: 0.0021 - recall: 0.8023 - val_loss: 0.0030 - val_recall: 0.8243\n",
            "Epoch 258/300\n",
            "195/195 [==============================] - 1s 3ms/step - loss: 0.0021 - recall: 0.8023 - val_loss: 0.0030 - val_recall: 0.8378\n",
            "Epoch 259/300\n",
            "195/195 [==============================] - 1s 3ms/step - loss: 0.0021 - recall: 0.7849 - val_loss: 0.0031 - val_recall: 0.8378\n",
            "Epoch 260/300\n",
            "195/195 [==============================] - 1s 3ms/step - loss: 0.0027 - recall: 0.7820 - val_loss: 0.0028 - val_recall: 0.8446\n",
            "Epoch 261/300\n",
            "195/195 [==============================] - 1s 3ms/step - loss: 0.0021 - recall: 0.8081 - val_loss: 0.0028 - val_recall: 0.8311\n",
            "Epoch 262/300\n",
            "195/195 [==============================] - 1s 3ms/step - loss: 0.0021 - recall: 0.8052 - val_loss: 0.0031 - val_recall: 0.7973\n",
            "Epoch 263/300\n",
            "195/195 [==============================] - 1s 3ms/step - loss: 0.0020 - recall: 0.7965 - val_loss: 0.0034 - val_recall: 0.7027\n",
            "Epoch 264/300\n",
            "195/195 [==============================] - 1s 4ms/step - loss: 0.0026 - recall: 0.7820 - val_loss: 0.0031 - val_recall: 0.8378\n",
            "Epoch 265/300\n",
            "195/195 [==============================] - 1s 3ms/step - loss: 0.0020 - recall: 0.8023 - val_loss: 0.0030 - val_recall: 0.8041\n",
            "Epoch 266/300\n",
            "195/195 [==============================] - 1s 3ms/step - loss: 0.0022 - recall: 0.7965 - val_loss: 0.0028 - val_recall: 0.8041\n",
            "Epoch 267/300\n",
            "195/195 [==============================] - 1s 3ms/step - loss: 0.0020 - recall: 0.7878 - val_loss: 0.0029 - val_recall: 0.8311\n",
            "Epoch 268/300\n",
            "195/195 [==============================] - 1s 3ms/step - loss: 0.0021 - recall: 0.7965 - val_loss: 0.0031 - val_recall: 0.8243\n",
            "Epoch 269/300\n",
            "195/195 [==============================] - 1s 3ms/step - loss: 0.0023 - recall: 0.7994 - val_loss: 0.0030 - val_recall: 0.7838\n",
            "Epoch 270/300\n",
            "195/195 [==============================] - 1s 3ms/step - loss: 0.0022 - recall: 0.8023 - val_loss: 0.0030 - val_recall: 0.7973\n",
            "Epoch 271/300\n",
            "195/195 [==============================] - 1s 3ms/step - loss: 0.0020 - recall: 0.8052 - val_loss: 0.0028 - val_recall: 0.8311\n",
            "Epoch 272/300\n",
            "195/195 [==============================] - 1s 4ms/step - loss: 0.0021 - recall: 0.8052 - val_loss: 0.0032 - val_recall: 0.8243\n",
            "Epoch 273/300\n",
            "195/195 [==============================] - 1s 4ms/step - loss: 0.0022 - recall: 0.7936 - val_loss: 0.0029 - val_recall: 0.8311\n",
            "Epoch 274/300\n",
            "195/195 [==============================] - 1s 3ms/step - loss: 0.0020 - recall: 0.8110 - val_loss: 0.0039 - val_recall: 0.8446\n",
            "Epoch 275/300\n",
            "195/195 [==============================] - 1s 3ms/step - loss: 0.0020 - recall: 0.7994 - val_loss: 0.0030 - val_recall: 0.8243\n",
            "Epoch 276/300\n",
            "195/195 [==============================] - 1s 3ms/step - loss: 0.0021 - recall: 0.7936 - val_loss: 0.0030 - val_recall: 0.8311\n",
            "Epoch 277/300\n",
            "195/195 [==============================] - 1s 3ms/step - loss: 0.0033 - recall: 0.7907 - val_loss: 0.0033 - val_recall: 0.8514\n",
            "Epoch 278/300\n",
            "195/195 [==============================] - 1s 3ms/step - loss: 0.0022 - recall: 0.7994 - val_loss: 0.0030 - val_recall: 0.8243\n",
            "Epoch 279/300\n",
            "195/195 [==============================] - 1s 3ms/step - loss: 0.0020 - recall: 0.8081 - val_loss: 0.0029 - val_recall: 0.7905\n",
            "Epoch 280/300\n",
            "195/195 [==============================] - 1s 3ms/step - loss: 0.0021 - recall: 0.7849 - val_loss: 0.0029 - val_recall: 0.8311\n",
            "Epoch 281/300\n",
            "195/195 [==============================] - 1s 3ms/step - loss: 0.0020 - recall: 0.7965 - val_loss: 0.0029 - val_recall: 0.8378\n",
            "Epoch 282/300\n",
            "195/195 [==============================] - 1s 3ms/step - loss: 0.0020 - recall: 0.7936 - val_loss: 0.0031 - val_recall: 0.8378\n",
            "Epoch 283/300\n",
            "195/195 [==============================] - 1s 3ms/step - loss: 0.0021 - recall: 0.8052 - val_loss: 0.0029 - val_recall: 0.8243\n",
            "Epoch 284/300\n",
            "195/195 [==============================] - 1s 4ms/step - loss: 0.0027 - recall: 0.7791 - val_loss: 0.0032 - val_recall: 0.8446\n",
            "Epoch 285/300\n",
            "195/195 [==============================] - 1s 3ms/step - loss: 0.0021 - recall: 0.8052 - val_loss: 0.0031 - val_recall: 0.8041\n",
            "Epoch 286/300\n",
            "195/195 [==============================] - 1s 4ms/step - loss: 0.0021 - recall: 0.8052 - val_loss: 0.0032 - val_recall: 0.8378\n",
            "Epoch 287/300\n",
            "195/195 [==============================] - 1s 4ms/step - loss: 0.0020 - recall: 0.7936 - val_loss: 0.0033 - val_recall: 0.8446\n",
            "Epoch 288/300\n",
            "195/195 [==============================] - 1s 3ms/step - loss: 0.0021 - recall: 0.8052 - val_loss: 0.0043 - val_recall: 0.8446\n",
            "Epoch 289/300\n",
            "195/195 [==============================] - 1s 3ms/step - loss: 0.0020 - recall: 0.7936 - val_loss: 0.0029 - val_recall: 0.8041\n",
            "Epoch 290/300\n",
            "195/195 [==============================] - 1s 3ms/step - loss: 0.0020 - recall: 0.8081 - val_loss: 0.0032 - val_recall: 0.8108\n",
            "Epoch 291/300\n",
            "195/195 [==============================] - 1s 3ms/step - loss: 0.0019 - recall: 0.8198 - val_loss: 0.0030 - val_recall: 0.7770\n",
            "Epoch 292/300\n",
            "195/195 [==============================] - 1s 4ms/step - loss: 0.0020 - recall: 0.7878 - val_loss: 0.0032 - val_recall: 0.8378\n",
            "Epoch 293/300\n",
            "195/195 [==============================] - 1s 4ms/step - loss: 0.0024 - recall: 0.7878 - val_loss: 0.0032 - val_recall: 0.8041\n",
            "Epoch 294/300\n",
            "195/195 [==============================] - 1s 3ms/step - loss: 0.0020 - recall: 0.8110 - val_loss: 0.0030 - val_recall: 0.8378\n",
            "Epoch 295/300\n",
            "195/195 [==============================] - 1s 3ms/step - loss: 0.0021 - recall: 0.8169 - val_loss: 0.0030 - val_recall: 0.8243\n",
            "Epoch 296/300\n",
            "195/195 [==============================] - 1s 3ms/step - loss: 0.0021 - recall: 0.7965 - val_loss: 0.0036 - val_recall: 0.7703\n",
            "Epoch 297/300\n",
            "195/195 [==============================] - 1s 3ms/step - loss: 0.0029 - recall: 0.7907 - val_loss: 0.0031 - val_recall: 0.8311\n",
            "Epoch 298/300\n",
            "195/195 [==============================] - 1s 3ms/step - loss: 0.0020 - recall: 0.8081 - val_loss: 0.0029 - val_recall: 0.8108\n",
            "Epoch 299/300\n",
            "195/195 [==============================] - 1s 3ms/step - loss: 0.0019 - recall: 0.8140 - val_loss: 0.0031 - val_recall: 0.8378\n",
            "Epoch 300/300\n",
            "195/195 [==============================] - 1s 3ms/step - loss: 0.0026 - recall: 0.7878 - val_loss: 0.0033 - val_recall: 0.8041\n"
          ]
        }
      ]
    },
    {
      "cell_type": "markdown",
      "metadata": {
        "id": "8FdBHeQZLR0D"
      },
      "source": [
        "## 4) Model Evaluate"
      ]
    },
    {
      "cell_type": "code",
      "metadata": {
        "colab": {
          "base_uri": "https://localhost:8080/"
        },
        "id": "AQvxJpH5FYjD",
        "outputId": "aa734680-f442-4674-8a1c-d7c6808a4d88"
      },
      "source": [
        "loss, recall = Model_fd.evaluate(X_test, y_test)\n",
        "\n",
        "print('loss = {:.2f}'.format(loss))\n",
        "print('recall = {:.2f}'.format(recall))"
      ],
      "execution_count": 35,
      "outputs": [
        {
          "output_type": "stream",
          "name": "stdout",
          "text": [
            "2671/2671 [==============================] - 3s 1ms/step - loss: 0.0033 - recall: 0.8041\n",
            "loss = 0.00\n",
            "recall = 0.80\n"
          ]
        }
      ]
    },
    {
      "cell_type": "markdown",
      "metadata": {
        "id": "HU164BqcLjvG"
      },
      "source": [
        "## 5) Model Predict"
      ]
    },
    {
      "cell_type": "code",
      "metadata": {
        "colab": {
          "base_uri": "https://localhost:8080/"
        },
        "id": "M7dPNBwnFYfV",
        "outputId": "0c018e83-ae53-4854-989c-36b404035eed"
      },
      "source": [
        "import numpy as np\n",
        "\n",
        "np.set_printoptions(suppress=True, precision=5)\n",
        "\n",
        "Model_fd.predict(X_test)"
      ],
      "execution_count": 36,
      "outputs": [
        {
          "output_type": "execute_result",
          "data": {
            "text/plain": [
              "array([[0.     ],\n",
              "       [0.00149],\n",
              "       [0.     ],\n",
              "       ...,\n",
              "       [0.     ],\n",
              "       [0.     ],\n",
              "       [0.     ]], dtype=float32)"
            ]
          },
          "metadata": {},
          "execution_count": 36
        }
      ]
    },
    {
      "cell_type": "code",
      "metadata": {
        "colab": {
          "base_uri": "https://localhost:8080/"
        },
        "id": "C4i_1DoyLvJc",
        "outputId": "27a349ff-3788-42a9-9b66-8d831b44cc66"
      },
      "source": [
        "y_hat = np.argmax(Model_fd.predict(X_test), axis = 1)\n",
        "\n",
        "\n",
        "from sklearn.metrics import confusion_matrix, classification_report\n",
        "\n",
        "confusion_matrix(y_test, y_hat)"
      ],
      "execution_count": 38,
      "outputs": [
        {
          "output_type": "execute_result",
          "data": {
            "text/plain": [
              "array([[85295,     0],\n",
              "       [  148,     0]])"
            ]
          },
          "metadata": {},
          "execution_count": 38
        }
      ]
    },
    {
      "cell_type": "markdown",
      "metadata": {
        "id": "ylReVf0WSRDa"
      },
      "source": [
        "# \n",
        "# \n",
        "# \n",
        "# The End\n",
        "# \n",
        "# \n",
        "# "
      ]
    }
  ]
}