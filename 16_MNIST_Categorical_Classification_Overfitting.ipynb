{
  "nbformat": 4,
  "nbformat_minor": 0,
  "metadata": {
    "colab": {
      "name": "17_MNIST_Categorical_Classification_L2_Regularization.ipynb",
      "provenance": [],
      "collapsed_sections": [],
      "toc_visible": true
    },
    "kernelspec": {
      "name": "python3",
      "display_name": "Python 3"
    },
    "language_info": {
      "name": "python"
    },
    "accelerator": "GPU"
  },
  "cells": [
    {
      "cell_type": "markdown",
      "metadata": {
        "id": "GWkXp56fL6vY"
      },
      "source": [
        "# MNIST - Categorical Classification"
      ]
    },
    {
      "cell_type": "markdown",
      "metadata": {
        "id": "Z0jQVMzVL_1e"
      },
      "source": [
        "## Overfitting Issue\n",
        "- import tensorflow"
      ]
    },
    {
      "cell_type": "code",
      "metadata": {
        "colab": {
          "base_uri": "https://localhost:8080/",
          "height": 35
        },
        "id": "YKZlbiUoL3YW",
        "outputId": "f8a43b66-9434-489e-c85f-8061bae05b88"
      },
      "source": [
        "import warnings\n",
        "warnings.filterwarnings('ignore')\n",
        "\n",
        "import tensorflow as tf\n",
        "tf.__version__"
      ],
      "execution_count": 5,
      "outputs": [
        {
          "output_type": "execute_result",
          "data": {
            "application/vnd.google.colaboratory.intrinsic+json": {
              "type": "string"
            },
            "text/plain": [
              "'2.6.0'"
            ]
          },
          "metadata": {},
          "execution_count": 5
        }
      ]
    },
    {
      "cell_type": "markdown",
      "metadata": {
        "id": "B1mn5h_xL3vZ"
      },
      "source": [
        "- GPU 설정확인"
      ]
    },
    {
      "cell_type": "code",
      "metadata": {
        "colab": {
          "base_uri": "https://localhost:8080/",
          "height": 35
        },
        "id": "VuQQmBoJL33w",
        "outputId": "b707ef23-b72c-4ca1-c54e-6439df70d26a"
      },
      "source": [
        "tf.test.gpu_device_name()"
      ],
      "execution_count": 6,
      "outputs": [
        {
          "output_type": "execute_result",
          "data": {
            "application/vnd.google.colaboratory.intrinsic+json": {
              "type": "string"
            },
            "text/plain": [
              "'/device:GPU:0'"
            ]
          },
          "metadata": {},
          "execution_count": 6
        }
      ]
    },
    {
      "cell_type": "markdown",
      "metadata": {
        "id": "fdpw5j5YL39k"
      },
      "source": [
        "# 1. MNIST Data_set Load& Review"
      ]
    },
    {
      "cell_type": "markdown",
      "metadata": {
        "id": "ek01ycqEMleT"
      },
      "source": [
        "## 1) Load MNIST Data_Set"
      ]
    },
    {
      "cell_type": "code",
      "metadata": {
        "colab": {
          "base_uri": "https://localhost:8080/"
        },
        "id": "0-qPna6dL4CY",
        "outputId": "caf07fe0-ca6b-45b7-95fa-5c42fc63f1b5"
      },
      "source": [
        "from tensorflow.keras.datasets import mnist\n",
        "\n",
        "(X_train, y_train),(X_test, y_test) = mnist.load_data()"
      ],
      "execution_count": 7,
      "outputs": [
        {
          "output_type": "stream",
          "name": "stdout",
          "text": [
            "Downloading data from https://storage.googleapis.com/tensorflow/tf-keras-datasets/mnist.npz\n",
            "11493376/11490434 [==============================] - 0s 0us/step\n",
            "11501568/11490434 [==============================] - 0s 0us/step\n"
          ]
        }
      ]
    },
    {
      "cell_type": "markdown",
      "metadata": {
        "id": "EYK8ox-iL4Ov"
      },
      "source": [
        "- train_data information"
      ]
    },
    {
      "cell_type": "code",
      "metadata": {
        "colab": {
          "base_uri": "https://localhost:8080/"
        },
        "id": "MLX-hd7xL4Wz",
        "outputId": "8cfa07e9-0927-4862-f56e-9e18bac02f79"
      },
      "source": [
        "print(len(X_train))\n",
        "print(X_train.shape)\n",
        "print(len(y_train))\n",
        "print(y_train[0:5])"
      ],
      "execution_count": 8,
      "outputs": [
        {
          "output_type": "stream",
          "name": "stdout",
          "text": [
            "60000\n",
            "(60000, 28, 28)\n",
            "60000\n",
            "[5 0 4 1 9]\n"
          ]
        }
      ]
    },
    {
      "cell_type": "markdown",
      "metadata": {
        "id": "I01ZrIpSL4ev"
      },
      "source": [
        "- test_data information"
      ]
    },
    {
      "cell_type": "code",
      "metadata": {
        "colab": {
          "base_uri": "https://localhost:8080/"
        },
        "id": "iSinoOBeL4jg",
        "outputId": "21fea7c5-0b05-4fee-fa0c-af09fa93ac5f"
      },
      "source": [
        "print(len(X_test))\n",
        "print(X_test.shape)\n",
        "print(len(y_test))\n",
        "print(y_test[0:5])"
      ],
      "execution_count": 9,
      "outputs": [
        {
          "output_type": "stream",
          "name": "stdout",
          "text": [
            "10000\n",
            "(10000, 28, 28)\n",
            "10000\n",
            "[7 2 1 0 4]\n"
          ]
        }
      ]
    },
    {
      "cell_type": "markdown",
      "metadata": {
        "id": "e50TVtL5L4qY"
      },
      "source": [
        "## 2) Visualization"
      ]
    },
    {
      "cell_type": "code",
      "metadata": {
        "colab": {
          "base_uri": "https://localhost:8080/",
          "height": 265
        },
        "id": "k2yJmYQvL4wL",
        "outputId": "9f97b4c3-373e-47e0-c89f-6b039073f7c3"
      },
      "source": [
        "import matplotlib.pyplot as plt\n",
        "\n",
        "digit = X_train[4]\n",
        "plt.imshow(digit, cmap='gray')\n",
        "plt.show()"
      ],
      "execution_count": 10,
      "outputs": [
        {
          "output_type": "display_data",
          "data": {
            "image/png": "[encoded data removed]",
            "text/plain": [
              "<Figure size 432x288 with 1 Axes>"
            ]
          },
          "metadata": {
            "needs_background": "light"
          }
        }
      ]
    },
    {
      "cell_type": "code",
      "metadata": {
        "colab": {
          "base_uri": "https://localhost:8080/"
        },
        "id": "pP8Q1xZsNMjO",
        "outputId": "2fc3d764-db12-4489-f976-225158da96e7"
      },
      "source": [
        "import numpy as np\n",
        "\n",
        "np.set_printoptions(linewidth = 150)\n",
        "\n",
        "print(X_train[4])"
      ],
      "execution_count": 11,
      "outputs": [
        {
          "output_type": "stream",
          "name": "stdout",
          "text": [
            "[[  0   0   0   0   0   0   0   0   0   0   0   0   0   0   0   0   0   0   0   0   0   0   0   0   0   0   0   0]\n",
            " [  0   0   0   0   0   0   0   0   0   0   0   0   0   0   0   0   0   0   0   0   0   0   0   0   0   0   0   0]\n",
            " [  0   0   0   0   0   0   0   0   0   0   0   0   0   0   0   0   0   0   0   0   0   0   0   0   0   0   0   0]\n",
            " [  0   0   0   0   0   0   0   0   0   0   0   0   0   0   0   0   0   0   0   0   0   0   0   0   0   0   0   0]\n",
            " [  0   0   0   0   0   0   0   0   0   0   0   0   0   0   0   0   0   0   0   0   0   0   0   0   0   0   0   0]\n",
            " [  0   0   0   0   0   0   0   0   0   0   0   0   0   0   0   0   0   0   0   0   0   0   0   0   0   0   0   0]\n",
            " [  0   0   0   0   0   0   0   0   0   0   0   0   0   0   0   0   0   0   0   0   0   0   0   0   0   0   0   0]\n",
            " [  0   0   0   0   0   0   0   0   0   0   0   0  55 148 210 253 253 113  87 148  55   0   0   0   0   0   0   0]\n",
            " [  0   0   0   0   0   0   0   0   0   0   0  87 232 252 253 189 210 252 252 253 168   0   0   0   0   0   0   0]\n",
            " [  0   0   0   0   0   0   0   0   0   4  57 242 252 190  65   5  12 182 252 253 116   0   0   0   0   0   0   0]\n",
            " [  0   0   0   0   0   0   0   0   0  96 252 252 183  14   0   0  92 252 252 225  21   0   0   0   0   0   0   0]\n",
            " [  0   0   0   0   0   0   0   0 132 253 252 146  14   0   0   0 215 252 252  79   0   0   0   0   0   0   0   0]\n",
            " [  0   0   0   0   0   0   0 126 253 247 176   9   0   0   8  78 245 253 129   0   0   0   0   0   0   0   0   0]\n",
            " [  0   0   0   0   0   0  16 232 252 176   0   0   0  36 201 252 252 169  11   0   0   0   0   0   0   0   0   0]\n",
            " [  0   0   0   0   0   0  22 252 252  30  22 119 197 241 253 252 251  77   0   0   0   0   0   0   0   0   0   0]\n",
            " [  0   0   0   0   0   0  16 231 252 253 252 252 252 226 227 252 231   0   0   0   0   0   0   0   0   0   0   0]\n",
            " [  0   0   0   0   0   0   0  55 235 253 217 138  42  24 192 252 143   0   0   0   0   0   0   0   0   0   0   0]\n",
            " [  0   0   0   0   0   0   0   0   0   0   0   0   0  62 255 253 109   0   0   0   0   0   0   0   0   0   0   0]\n",
            " [  0   0   0   0   0   0   0   0   0   0   0   0   0  71 253 252  21   0   0   0   0   0   0   0   0   0   0   0]\n",
            " [  0   0   0   0   0   0   0   0   0   0   0   0   0   0 253 252  21   0   0   0   0   0   0   0   0   0   0   0]\n",
            " [  0   0   0   0   0   0   0   0   0   0   0   0   0  71 253 252  21   0   0   0   0   0   0   0   0   0   0   0]\n",
            " [  0   0   0   0   0   0   0   0   0   0   0   0   0 106 253 252  21   0   0   0   0   0   0   0   0   0   0   0]\n",
            " [  0   0   0   0   0   0   0   0   0   0   0   0   0  45 255 253  21   0   0   0   0   0   0   0   0   0   0   0]\n",
            " [  0   0   0   0   0   0   0   0   0   0   0   0   0   0 218 252  56   0   0   0   0   0   0   0   0   0   0   0]\n",
            " [  0   0   0   0   0   0   0   0   0   0   0   0   0   0  96 252 189  42   0   0   0   0   0   0   0   0   0   0]\n",
            " [  0   0   0   0   0   0   0   0   0   0   0   0   0   0  14 184 252 170  11   0   0   0   0   0   0   0   0   0]\n",
            " [  0   0   0   0   0   0   0   0   0   0   0   0   0   0   0  14 147 252  42   0   0   0   0   0   0   0   0   0]\n",
            " [  0   0   0   0   0   0   0   0   0   0   0   0   0   0   0   0   0   0   0   0   0   0   0   0   0   0   0   0]]\n"
          ]
        }
      ]
    },
    {
      "cell_type": "markdown",
      "metadata": {
        "id": "xaN3xmvrL42Q"
      },
      "source": [
        "# 2. Data preprocessing"
      ]
    },
    {
      "cell_type": "markdown",
      "metadata": {
        "id": "Mbc3bcvZNVFY"
      },
      "source": [
        "## 1) Reshape and Normalization\n",
        "\n",
        "- reshape\n",
        "    - (60000,28,28) to (60000,784)"
      ]
    },
    {
      "cell_type": "code",
      "metadata": {
        "colab": {
          "base_uri": "https://localhost:8080/"
        },
        "id": "gd8ODheXL480",
        "outputId": "47744edf-6980-4393-beab-5bbb8538f8e2"
      },
      "source": [
        "X_train = X_train.reshape((60000,28*28))\n",
        "X_test = X_test.reshape((10000,28*28))\n",
        "\n",
        "X_train.shape, X_test.shape"
      ],
      "execution_count": 12,
      "outputs": [
        {
          "output_type": "execute_result",
          "data": {
            "text/plain": [
              "((60000, 784), (10000, 784))"
            ]
          },
          "metadata": {},
          "execution_count": 12
        }
      ]
    },
    {
      "cell_type": "markdown",
      "metadata": {
        "id": "lSEEsm62L5DT"
      },
      "source": [
        "- Normalization"
      ]
    },
    {
      "cell_type": "code",
      "metadata": {
        "colab": {
          "base_uri": "https://localhost:8080/"
        },
        "id": "diSTAgksL5Ie",
        "outputId": "eb271832-a160-4dba-89fc-50ac2d80252c"
      },
      "source": [
        "X_train = X_train.astype(float)/255\n",
        "X_test = X_test.astype(float)/255\n",
        "\n",
        "print(X_train[4])"
      ],
      "execution_count": 13,
      "outputs": [
        {
          "output_type": "stream",
          "name": "stdout",
          "text": [
            "[0.         0.         0.         0.         0.         0.         0.         0.         0.         0.         0.         0.         0.\n",
            " 0.         0.         0.         0.         0.         0.         0.         0.         0.         0.         0.         0.         0.\n",
            " 0.         0.         0.         0.         0.         0.         0.         0.         0.         0.         0.         0.         0.\n",
            " 0.         0.         0.         0.         0.         0.         0.         0.         0.         0.         0.         0.         0.\n",
            " 0.         0.         0.         0.         0.         0.         0.         0.         0.         0.         0.         0.         0.\n",
            " 0.         0.         0.         0.         0.         0.         0.         0.         0.         0.         0.         0.         0.\n",
            " 0.         0.         0.         0.         0.         0.         0.         0.         0.         0.         0.         0.         0.\n",
            " 0.         0.         0.         0.         0.         0.         0.         0.         0.         0.         0.         0.         0.\n",
            " 0.         0.         0.         0.         0.         0.         0.         0.         0.         0.         0.         0.         0.\n",
            " 0.         0.         0.         0.         0.         0.         0.         0.         0.         0.         0.         0.         0.\n",
            " 0.         0.         0.         0.         0.         0.         0.         0.         0.         0.         0.         0.         0.\n",
            " 0.         0.         0.         0.         0.         0.         0.         0.         0.         0.         0.         0.         0.\n",
            " 0.         0.         0.         0.         0.         0.         0.         0.         0.         0.         0.         0.         0.\n",
            " 0.         0.         0.         0.         0.         0.         0.         0.         0.         0.         0.         0.         0.\n",
            " 0.         0.         0.         0.         0.         0.         0.         0.         0.         0.         0.         0.         0.\n",
            " 0.         0.         0.         0.         0.         0.         0.         0.         0.         0.         0.         0.         0.\n",
            " 0.21568627 0.58039216 0.82352941 0.99215686 0.99215686 0.44313725 0.34117647 0.58039216 0.21568627 0.         0.         0.         0.\n",
            " 0.         0.         0.         0.         0.         0.         0.         0.         0.         0.         0.         0.         0.\n",
            " 0.         0.34117647 0.90980392 0.98823529 0.99215686 0.74117647 0.82352941 0.98823529 0.98823529 0.99215686 0.65882353 0.         0.\n",
            " 0.         0.         0.         0.         0.         0.         0.         0.         0.         0.         0.         0.         0.\n",
            " 0.         0.01568627 0.22352941 0.94901961 0.98823529 0.74509804 0.25490196 0.01960784 0.04705882 0.71372549 0.98823529 0.99215686 0.45490196\n",
            " 0.         0.         0.         0.         0.         0.         0.         0.         0.         0.         0.         0.         0.\n",
            " 0.         0.         0.         0.37647059 0.98823529 0.98823529 0.71764706 0.05490196 0.         0.         0.36078431 0.98823529 0.98823529\n",
            " 0.88235294 0.08235294 0.         0.         0.         0.         0.         0.         0.         0.         0.         0.         0.\n",
            " 0.         0.         0.         0.         0.51764706 0.99215686 0.98823529 0.57254902 0.05490196 0.         0.         0.         0.84313725\n",
            " 0.98823529 0.98823529 0.30980392 0.         0.         0.         0.         0.         0.         0.         0.         0.         0.\n",
            " 0.         0.         0.         0.         0.         0.49411765 0.99215686 0.96862745 0.69019608 0.03529412 0.         0.         0.03137255\n",
            " 0.30588235 0.96078431 0.99215686 0.50588235 0.         0.         0.         0.         0.         0.         0.         0.         0.\n",
            " 0.         0.         0.         0.         0.         0.         0.0627451  0.90980392 0.98823529 0.69019608 0.         0.         0.\n",
            " 0.14117647 0.78823529 0.98823529 0.98823529 0.6627451  0.04313725 0.         0.         0.         0.         0.         0.         0.\n",
            " 0.         0.         0.         0.         0.         0.         0.         0.         0.08627451 0.98823529 0.98823529 0.11764706 0.08627451\n",
            " 0.46666667 0.77254902 0.94509804 0.99215686 0.98823529 0.98431373 0.30196078 0.         0.         0.         0.         0.         0.\n",
            " 0.         0.         0.         0.         0.         0.         0.         0.         0.         0.         0.0627451  0.90588235 0.98823529\n",
            " 0.99215686 0.98823529 0.98823529 0.98823529 0.88627451 0.89019608 0.98823529 0.90588235 0.         0.         0.         0.         0.\n",
            " 0.         0.         0.         0.         0.         0.         0.         0.         0.         0.         0.         0.         0.\n",
            " 0.21568627 0.92156863 0.99215686 0.85098039 0.54117647 0.16470588 0.09411765 0.75294118 0.98823529 0.56078431 0.         0.         0.\n",
            " 0.         0.         0.         0.         0.         0.         0.         0.         0.         0.         0.         0.         0.\n",
            " 0.         0.         0.         0.         0.         0.         0.         0.         0.24313725 1.         0.99215686 0.42745098 0.\n",
            " 0.         0.         0.         0.         0.         0.         0.         0.         0.         0.         0.         0.         0.\n",
            " 0.         0.         0.         0.         0.         0.         0.         0.         0.         0.         0.27843137 0.99215686 0.98823529\n",
            " 0.08235294 0.         0.         0.         0.         0.         0.         0.         0.         0.         0.         0.         0.\n",
            " 0.         0.         0.         0.         0.         0.         0.         0.         0.         0.         0.         0.         0.\n",
            " 0.99215686 0.98823529 0.08235294 0.         0.         0.         0.         0.         0.         0.         0.         0.         0.\n",
            " 0.         0.         0.         0.         0.         0.         0.         0.         0.         0.         0.         0.         0.\n",
            " 0.         0.27843137 0.99215686 0.98823529 0.08235294 0.         0.         0.         0.         0.         0.         0.         0.\n",
            " 0.         0.         0.         0.         0.         0.         0.         0.         0.         0.         0.         0.         0.\n",
            " 0.         0.         0.         0.41568627 0.99215686 0.98823529 0.08235294 0.         0.         0.         0.         0.         0.\n",
            " 0.         0.         0.         0.         0.         0.         0.         0.         0.         0.         0.         0.         0.\n",
            " 0.         0.         0.         0.         0.         0.17647059 1.         0.99215686 0.08235294 0.         0.         0.         0.\n",
            " 0.         0.         0.         0.         0.         0.         0.         0.         0.         0.         0.         0.         0.\n",
            " 0.         0.         0.         0.         0.         0.         0.         0.         0.85490196 0.98823529 0.21960784 0.         0.\n",
            " 0.         0.         0.         0.         0.         0.         0.         0.         0.         0.         0.         0.         0.\n",
            " 0.         0.         0.         0.         0.         0.         0.         0.         0.         0.         0.37647059 0.98823529 0.74117647\n",
            " 0.16470588 0.         0.         0.         0.         0.         0.         0.         0.         0.         0.         0.         0.\n",
            " 0.         0.         0.         0.         0.         0.         0.         0.         0.         0.         0.         0.         0.05490196\n",
            " 0.72156863 0.98823529 0.66666667 0.04313725 0.         0.         0.         0.         0.         0.         0.         0.         0.\n",
            " 0.         0.         0.         0.         0.         0.         0.         0.         0.         0.         0.         0.         0.\n",
            " 0.         0.         0.05490196 0.57647059 0.98823529 0.16470588 0.         0.         0.         0.         0.         0.         0.\n",
            " 0.         0.         0.         0.         0.         0.         0.         0.         0.         0.         0.         0.         0.\n",
            " 0.         0.         0.         0.         0.         0.         0.         0.         0.         0.         0.         0.         0.\n",
            " 0.         0.         0.         0.        ]\n"
          ]
        }
      ]
    },
    {
      "cell_type": "markdown",
      "metadata": {
        "id": "uYF2p3jtL5O0"
      },
      "source": [
        "## 2) One Hot Encoding"
      ]
    },
    {
      "cell_type": "code",
      "metadata": {
        "colab": {
          "base_uri": "https://localhost:8080/"
        },
        "id": "EYPVpkcBL5Um",
        "outputId": "66e05c63-7330-4853-c75e-63548db4b78a"
      },
      "source": [
        "from tensorflow.keras.utils import to_categorical\n",
        "\n",
        "y_train = to_categorical(y_train)\n",
        "y_test = to_categorical(y_test)\n",
        "\n",
        "print(y_train[:5])"
      ],
      "execution_count": 14,
      "outputs": [
        {
          "output_type": "stream",
          "name": "stdout",
          "text": [
            "[[0. 0. 0. 0. 0. 1. 0. 0. 0. 0.]\n",
            " [1. 0. 0. 0. 0. 0. 0. 0. 0. 0.]\n",
            " [0. 0. 0. 0. 1. 0. 0. 0. 0. 0.]\n",
            " [0. 1. 0. 0. 0. 0. 0. 0. 0. 0.]\n",
            " [0. 0. 0. 0. 0. 0. 0. 0. 0. 1.]]\n"
          ]
        }
      ]
    },
    {
      "cell_type": "markdown",
      "metadata": {
        "id": "MGg1aOi9L5az"
      },
      "source": [
        "# 3. MNIST Keras Modeling"
      ]
    },
    {
      "cell_type": "markdown",
      "metadata": {
        "id": "3l08JLZtOBuk"
      },
      "source": [
        "## 1) Model Define\n",
        "\n",
        "- 모델 신경망 구조 정의\n",
        "    - 2개의 Hidden Layers & 768개의 Nodes\n",
        "    - 복잡한 Model Capacity로 인한 Overfitting"
      ]
    },
    {
      "cell_type": "code",
      "metadata": {
        "id": "caQ956PEL5gd"
      },
      "source": [
        "#from tensorflow.keras import models\n",
        "#from tensorflow.keras import layers\n",
        "\n",
        "#mnist = models.Sequential()\n",
        "#mnist.add(layers.Dense(512, activation = 'relu', input_shape=(28*28,)))\n",
        "#mnist.add(layers.Dense(256, activation = 'relu'))                 \n",
        "#mnist.add(layers.Dense(10, activation = 'softmax'))"
      ],
      "execution_count": 15,
      "outputs": []
    },
    {
      "cell_type": "markdown",
      "metadata": {
        "id": "Xyy0s53ctKfp"
      },
      "source": [
        "- Overfitting 줄이기\n",
        "    - Model Capacity 줄이기"
      ]
    },
    {
      "cell_type": "code",
      "metadata": {
        "id": "Fs_qD912tKIz"
      },
      "source": [
        "#from tensorflow.keras import models\n",
        "#from tensorflow.keras import layers\n",
        "\n",
        "#mnist = models.Sequential()\n",
        "#mnist.add(layers.Dense(256, activation = 'relu', input_shape=(28*28,)))\n",
        "## mnist.add(layers.Dense(256, activation = 'relu'))                         # model의 capacity를 감소시켜 overfitting 줄이기\n",
        "#mnist.add(layers.Dense(10, activation = 'softmax'))"
      ],
      "execution_count": 16,
      "outputs": []
    },
    {
      "cell_type": "markdown",
      "metadata": {
        "id": "9tzkBELptJ33"
      },
      "source": [
        "- Overfitting 줄이기2\n",
        "    - L2 Regularization"
      ]
    },
    {
      "cell_type": "code",
      "metadata": {
        "id": "bFxS_aEvs2EX"
      },
      "source": [
        "#from tensorflow.keras import models\n",
        "#from tensorflow.keras import layers\n",
        "#from tensorflow.keras import regularizers\n",
        "\n",
        "#mnist = models.Sequential()\n",
        "#mnist.add(layers.Dense(512, activation = 'relu',\n",
        "#                       kernel_regularizer = regularizers.l2(0.00001),input_shape=(28*28,)))\n",
        "#mnist.add(layers.Dense(256, activation = 'relu',\n",
        "#                       kernel_regularizer = regularizers.l2(0.00001)))\n",
        "#mnist.add(layers.Dense(10, activation = 'softmax'))"
      ],
      "execution_count": 17,
      "outputs": []
    },
    {
      "cell_type": "markdown",
      "metadata": {
        "id": "8383nMgCuAtG"
      },
      "source": [
        "- Overfitting 줄이기3\n",
        "    - Dropout"
      ]
    },
    {
      "cell_type": "code",
      "metadata": {
        "id": "GRqctNLyuBHC"
      },
      "source": [
        "# from tensorflow.keras import models\n",
        "# from tensorflow.keras import layers\n",
        "\n",
        "# mnist = models.Sequential()\n",
        "# mnist.add(layers.Dense(512, activation = 'relu', input_shape=(28*28,)))\n",
        "# mnist.add(layers.Dropout(0.4))\n",
        "# mnist.add(layers.Dense(256, activation = 'relu'))                 \n",
        "# mnist.add(layers.Dropout(0.2))\n",
        "# mnist.add(layers.Dense(10, activation = 'softmax'))"
      ],
      "execution_count": 18,
      "outputs": []
    },
    {
      "cell_type": "markdown",
      "metadata": {
        "id": "EEWuXWXVu_m0"
      },
      "source": [
        "- Overfitting 줄이기4\n",
        "    - Batch Normalization"
      ]
    },
    {
      "cell_type": "code",
      "metadata": {
        "id": "ZBlui025vACQ"
      },
      "source": [
        "# from tensorflow.keras import models\n",
        "# from tensorflow.keras import layers\n",
        "\n",
        "# mnist = models.Sequential()\n",
        "# mnist.add(layers.Dense(512,input_shape=(28*28,)))\n",
        "# mnist.add(layers.BatchNormalization())\n",
        "# mnist.add(layers.Activation('relu'))\n",
        "# mnist.add(layers.Dense(256))                 \n",
        "# mnist.add(layers.BatchNormalization())\n",
        "# mnist.add(layers.Activation('relu'))\n",
        "# mnist.add(layers.Dense(10, activation = 'softmax'))"
      ],
      "execution_count": 19,
      "outputs": []
    },
    {
      "cell_type": "markdown",
      "metadata": {
        "id": "OA800vQgyFlf"
      },
      "source": [
        "- Overfitting 줄이기5\n",
        "    - L2 Regularization + Dropout"
      ]
    },
    {
      "cell_type": "code",
      "metadata": {
        "id": "kJ9hzOLpyazh"
      },
      "source": [
        "from tensorflow.keras import models\n",
        "from tensorflow.keras import layers\n",
        "from tensorflow.keras import regularizers\n",
        "\n",
        "mnist = models.Sequential()\n",
        "mnist.add(layers.Dense(512, activation = 'relu',\n",
        "                      kernel_regularizer = regularizers.l2(0.00001), input_shape=(28*28,)))\n",
        "mnist.add(layers.Dropout(0.4))\n",
        "mnist.add(layers.Dense(256, activation = 'relu', kernel_regularizer = regularizers.l2(0.00001)))                 \n",
        "mnist.add(layers.Dropout(0.2))\n",
        "mnist.add(layers.Dense(10, activation = 'softmax'))"
      ],
      "execution_count": 31,
      "outputs": []
    },
    {
      "cell_type": "markdown",
      "metadata": {
        "id": "cTdwwbTwL5mn"
      },
      "source": [
        "- 모델 구조 확인"
      ]
    },
    {
      "cell_type": "code",
      "metadata": {
        "colab": {
          "base_uri": "https://localhost:8080/"
        },
        "id": "d6xg6r-oL5r7",
        "outputId": "814558a9-10be-472d-d5d6-da80620571c4"
      },
      "source": [
        "mnist.summary()"
      ],
      "execution_count": 32,
      "outputs": [
        {
          "output_type": "stream",
          "name": "stdout",
          "text": [
            "Model: \"sequential_3\"\n",
            "_________________________________________________________________\n",
            "Layer (type)                 Output Shape              Param #   \n",
            "=================================================================\n",
            "dense_6 (Dense)              (None, 512)               401920    \n",
            "_________________________________________________________________\n",
            "dropout (Dropout)            (None, 512)               0         \n",
            "_________________________________________________________________\n",
            "dense_7 (Dense)              (None, 256)               131328    \n",
            "_________________________________________________________________\n",
            "dropout_1 (Dropout)          (None, 256)               0         \n",
            "_________________________________________________________________\n",
            "dense_8 (Dense)              (None, 10)                2570      \n",
            "=================================================================\n",
            "Total params: 535,818\n",
            "Trainable params: 535,818\n",
            "Non-trainable params: 0\n",
            "_________________________________________________________________\n"
          ]
        }
      ]
    },
    {
      "cell_type": "markdown",
      "metadata": {
        "id": "PKcZQ8_pL518"
      },
      "source": [
        "## 2) Model Compile\n",
        "- 모델 학습방법 설정"
      ]
    },
    {
      "cell_type": "code",
      "metadata": {
        "id": "EDfi81hFL57p"
      },
      "source": [
        "mnist.compile(loss = 'categorical_crossentropy',\n",
        "              optimizer = 'rmsprop',\n",
        "              metrics = ['accuracy'])"
      ],
      "execution_count": 33,
      "outputs": []
    },
    {
      "cell_type": "markdown",
      "metadata": {
        "id": "VL47_bzBL3TE"
      },
      "source": [
        "## 3) Model Fit\n",
        "\n",
        "- 약 3분"
      ]
    },
    {
      "cell_type": "code",
      "metadata": {
        "colab": {
          "base_uri": "https://localhost:8080/"
        },
        "id": "HaP_tFhSL3L0",
        "outputId": "15c7ccb9-67f4-4868-8fb8-7f5831852dbc"
      },
      "source": [
        "%%time\n",
        "\n",
        "Hist_mnis = mnist.fit(X_train, y_train,\n",
        "                      epochs = 100,\n",
        "                      batch_size = 128,\n",
        "                      validation_split = 0.2)"
      ],
      "execution_count": 34,
      "outputs": [
        {
          "output_type": "stream",
          "name": "stdout",
          "text": [
            "Epoch 1/100\n",
            "375/375 [==============================] - 3s 6ms/step - loss: 0.3265 - accuracy: 0.9025 - val_loss: 0.1543 - val_accuracy: 0.9558\n",
            "Epoch 2/100\n",
            "375/375 [==============================] - 2s 5ms/step - loss: 0.1526 - accuracy: 0.9563 - val_loss: 0.1081 - val_accuracy: 0.9702\n",
            "Epoch 3/100\n",
            "375/375 [==============================] - 2s 5ms/step - loss: 0.1191 - accuracy: 0.9673 - val_loss: 0.1086 - val_accuracy: 0.9731\n",
            "Epoch 4/100\n",
            "375/375 [==============================] - 2s 6ms/step - loss: 0.1040 - accuracy: 0.9719 - val_loss: 0.0908 - val_accuracy: 0.9771\n",
            "Epoch 5/100\n",
            "375/375 [==============================] - 2s 5ms/step - loss: 0.0936 - accuracy: 0.9747 - val_loss: 0.0983 - val_accuracy: 0.9768\n",
            "Epoch 6/100\n",
            "375/375 [==============================] - 2s 5ms/step - loss: 0.0878 - accuracy: 0.9772 - val_loss: 0.0915 - val_accuracy: 0.9798\n",
            "Epoch 7/100\n",
            "375/375 [==============================] - 2s 5ms/step - loss: 0.0798 - accuracy: 0.9791 - val_loss: 0.0934 - val_accuracy: 0.9799\n",
            "Epoch 8/100\n",
            "375/375 [==============================] - 2s 5ms/step - loss: 0.0770 - accuracy: 0.9799 - val_loss: 0.0971 - val_accuracy: 0.9788\n",
            "Epoch 9/100\n",
            "375/375 [==============================] - 2s 5ms/step - loss: 0.0708 - accuracy: 0.9823 - val_loss: 0.0999 - val_accuracy: 0.9784\n",
            "Epoch 10/100\n",
            "375/375 [==============================] - 2s 6ms/step - loss: 0.0701 - accuracy: 0.9827 - val_loss: 0.0963 - val_accuracy: 0.9805\n",
            "Epoch 11/100\n",
            "375/375 [==============================] - 2s 6ms/step - loss: 0.0671 - accuracy: 0.9831 - val_loss: 0.1088 - val_accuracy: 0.9776\n",
            "Epoch 12/100\n",
            "375/375 [==============================] - 2s 5ms/step - loss: 0.0640 - accuracy: 0.9841 - val_loss: 0.0959 - val_accuracy: 0.9810\n",
            "Epoch 13/100\n",
            "375/375 [==============================] - 2s 5ms/step - loss: 0.0631 - accuracy: 0.9847 - val_loss: 0.1019 - val_accuracy: 0.9800\n",
            "Epoch 14/100\n",
            "375/375 [==============================] - 2s 5ms/step - loss: 0.0633 - accuracy: 0.9843 - val_loss: 0.1019 - val_accuracy: 0.9784\n",
            "Epoch 15/100\n",
            "375/375 [==============================] - 2s 5ms/step - loss: 0.0586 - accuracy: 0.9859 - val_loss: 0.1016 - val_accuracy: 0.9805\n",
            "Epoch 16/100\n",
            "375/375 [==============================] - 2s 6ms/step - loss: 0.0619 - accuracy: 0.9854 - val_loss: 0.0948 - val_accuracy: 0.9814\n",
            "Epoch 17/100\n",
            "375/375 [==============================] - 2s 5ms/step - loss: 0.0584 - accuracy: 0.9865 - val_loss: 0.1005 - val_accuracy: 0.9808\n",
            "Epoch 18/100\n",
            "375/375 [==============================] - 2s 5ms/step - loss: 0.0588 - accuracy: 0.9859 - val_loss: 0.0994 - val_accuracy: 0.9811\n",
            "Epoch 19/100\n",
            "375/375 [==============================] - 2s 6ms/step - loss: 0.0572 - accuracy: 0.9862 - val_loss: 0.1068 - val_accuracy: 0.9809\n",
            "Epoch 20/100\n",
            "375/375 [==============================] - 2s 5ms/step - loss: 0.0593 - accuracy: 0.9862 - val_loss: 0.1071 - val_accuracy: 0.9801\n",
            "Epoch 21/100\n",
            "375/375 [==============================] - 2s 5ms/step - loss: 0.0560 - accuracy: 0.9868 - val_loss: 0.1067 - val_accuracy: 0.9810\n",
            "Epoch 22/100\n",
            "375/375 [==============================] - 2s 5ms/step - loss: 0.0537 - accuracy: 0.9873 - val_loss: 0.0939 - val_accuracy: 0.9818\n",
            "Epoch 23/100\n",
            "375/375 [==============================] - 2s 5ms/step - loss: 0.0543 - accuracy: 0.9872 - val_loss: 0.1012 - val_accuracy: 0.9820\n",
            "Epoch 24/100\n",
            "375/375 [==============================] - 2s 5ms/step - loss: 0.0546 - accuracy: 0.9872 - val_loss: 0.1030 - val_accuracy: 0.9811\n",
            "Epoch 25/100\n",
            "375/375 [==============================] - 2s 5ms/step - loss: 0.0534 - accuracy: 0.9882 - val_loss: 0.1018 - val_accuracy: 0.9820\n",
            "Epoch 26/100\n",
            "375/375 [==============================] - 2s 5ms/step - loss: 0.0529 - accuracy: 0.9879 - val_loss: 0.0959 - val_accuracy: 0.9822\n",
            "Epoch 27/100\n",
            "375/375 [==============================] - 2s 5ms/step - loss: 0.0510 - accuracy: 0.9885 - val_loss: 0.0985 - val_accuracy: 0.9814\n",
            "Epoch 28/100\n",
            "375/375 [==============================] - 2s 5ms/step - loss: 0.0510 - accuracy: 0.9881 - val_loss: 0.1104 - val_accuracy: 0.9808\n",
            "Epoch 29/100\n",
            "375/375 [==============================] - 2s 5ms/step - loss: 0.0510 - accuracy: 0.9890 - val_loss: 0.0987 - val_accuracy: 0.9814\n",
            "Epoch 30/100\n",
            "375/375 [==============================] - 2s 6ms/step - loss: 0.0531 - accuracy: 0.9882 - val_loss: 0.1055 - val_accuracy: 0.9807\n",
            "Epoch 31/100\n",
            "375/375 [==============================] - 2s 5ms/step - loss: 0.0506 - accuracy: 0.9886 - val_loss: 0.1024 - val_accuracy: 0.9827\n",
            "Epoch 32/100\n",
            "375/375 [==============================] - 2s 6ms/step - loss: 0.0505 - accuracy: 0.9890 - val_loss: 0.1044 - val_accuracy: 0.9816\n",
            "Epoch 33/100\n",
            "375/375 [==============================] - 2s 6ms/step - loss: 0.0529 - accuracy: 0.9881 - val_loss: 0.1028 - val_accuracy: 0.9815\n",
            "Epoch 34/100\n",
            "375/375 [==============================] - 2s 5ms/step - loss: 0.0489 - accuracy: 0.9890 - val_loss: 0.1054 - val_accuracy: 0.9825\n",
            "Epoch 35/100\n",
            "375/375 [==============================] - 2s 5ms/step - loss: 0.0529 - accuracy: 0.9883 - val_loss: 0.1066 - val_accuracy: 0.9811\n",
            "Epoch 36/100\n",
            "375/375 [==============================] - 2s 6ms/step - loss: 0.0473 - accuracy: 0.9895 - val_loss: 0.1010 - val_accuracy: 0.9822\n",
            "Epoch 37/100\n",
            "375/375 [==============================] - 2s 5ms/step - loss: 0.0525 - accuracy: 0.9883 - val_loss: 0.1018 - val_accuracy: 0.9820\n",
            "Epoch 38/100\n",
            "375/375 [==============================] - 2s 5ms/step - loss: 0.0487 - accuracy: 0.9888 - val_loss: 0.1030 - val_accuracy: 0.9822\n",
            "Epoch 39/100\n",
            "375/375 [==============================] - 2s 5ms/step - loss: 0.0471 - accuracy: 0.9897 - val_loss: 0.1114 - val_accuracy: 0.9804\n",
            "Epoch 40/100\n",
            "375/375 [==============================] - 2s 6ms/step - loss: 0.0495 - accuracy: 0.9892 - val_loss: 0.1000 - val_accuracy: 0.9829\n",
            "Epoch 41/100\n",
            "375/375 [==============================] - 2s 6ms/step - loss: 0.0493 - accuracy: 0.9891 - val_loss: 0.1151 - val_accuracy: 0.9814\n",
            "Epoch 42/100\n",
            "375/375 [==============================] - 2s 5ms/step - loss: 0.0508 - accuracy: 0.9896 - val_loss: 0.1015 - val_accuracy: 0.9824\n",
            "Epoch 43/100\n",
            "375/375 [==============================] - 2s 5ms/step - loss: 0.0520 - accuracy: 0.9889 - val_loss: 0.1030 - val_accuracy: 0.9812\n",
            "Epoch 44/100\n",
            "375/375 [==============================] - 2s 6ms/step - loss: 0.0487 - accuracy: 0.9893 - val_loss: 0.1113 - val_accuracy: 0.9812\n",
            "Epoch 45/100\n",
            "375/375 [==============================] - 2s 5ms/step - loss: 0.0470 - accuracy: 0.9895 - val_loss: 0.1226 - val_accuracy: 0.9793\n",
            "Epoch 46/100\n",
            "375/375 [==============================] - 2s 6ms/step - loss: 0.0479 - accuracy: 0.9897 - val_loss: 0.1057 - val_accuracy: 0.9821\n",
            "Epoch 47/100\n",
            "375/375 [==============================] - 2s 6ms/step - loss: 0.0484 - accuracy: 0.9891 - val_loss: 0.1041 - val_accuracy: 0.9822\n",
            "Epoch 48/100\n",
            "375/375 [==============================] - 2s 5ms/step - loss: 0.0490 - accuracy: 0.9894 - val_loss: 0.1073 - val_accuracy: 0.9822\n",
            "Epoch 49/100\n",
            "375/375 [==============================] - 2s 6ms/step - loss: 0.0484 - accuracy: 0.9894 - val_loss: 0.1220 - val_accuracy: 0.9802\n",
            "Epoch 50/100\n",
            "375/375 [==============================] - 2s 6ms/step - loss: 0.0477 - accuracy: 0.9898 - val_loss: 0.1101 - val_accuracy: 0.9820\n",
            "Epoch 51/100\n",
            "375/375 [==============================] - 2s 5ms/step - loss: 0.0486 - accuracy: 0.9893 - val_loss: 0.1098 - val_accuracy: 0.9819\n",
            "Epoch 52/100\n",
            "375/375 [==============================] - 2s 5ms/step - loss: 0.0475 - accuracy: 0.9900 - val_loss: 0.1181 - val_accuracy: 0.9803\n",
            "Epoch 53/100\n",
            "375/375 [==============================] - 2s 5ms/step - loss: 0.0483 - accuracy: 0.9896 - val_loss: 0.1140 - val_accuracy: 0.9804\n",
            "Epoch 54/100\n",
            "375/375 [==============================] - 2s 5ms/step - loss: 0.0479 - accuracy: 0.9902 - val_loss: 0.1039 - val_accuracy: 0.9827\n",
            "Epoch 55/100\n",
            "375/375 [==============================] - 2s 5ms/step - loss: 0.0470 - accuracy: 0.9903 - val_loss: 0.1161 - val_accuracy: 0.9803\n",
            "Epoch 56/100\n",
            "375/375 [==============================] - 2s 6ms/step - loss: 0.0498 - accuracy: 0.9899 - val_loss: 0.1222 - val_accuracy: 0.9811\n",
            "Epoch 57/100\n",
            "375/375 [==============================] - 2s 6ms/step - loss: 0.0481 - accuracy: 0.9900 - val_loss: 0.1181 - val_accuracy: 0.9812\n",
            "Epoch 58/100\n",
            "375/375 [==============================] - 2s 6ms/step - loss: 0.0513 - accuracy: 0.9892 - val_loss: 0.1123 - val_accuracy: 0.9822\n",
            "Epoch 59/100\n",
            "375/375 [==============================] - 2s 6ms/step - loss: 0.0478 - accuracy: 0.9900 - val_loss: 0.1153 - val_accuracy: 0.9814\n",
            "Epoch 60/100\n",
            "375/375 [==============================] - 2s 5ms/step - loss: 0.0476 - accuracy: 0.9896 - val_loss: 0.1143 - val_accuracy: 0.9821\n",
            "Epoch 61/100\n",
            "375/375 [==============================] - 2s 6ms/step - loss: 0.0478 - accuracy: 0.9897 - val_loss: 0.1164 - val_accuracy: 0.9823\n",
            "Epoch 62/100\n",
            "375/375 [==============================] - 2s 5ms/step - loss: 0.0487 - accuracy: 0.9893 - val_loss: 0.1088 - val_accuracy: 0.9824\n",
            "Epoch 63/100\n",
            "375/375 [==============================] - 2s 6ms/step - loss: 0.0462 - accuracy: 0.9906 - val_loss: 0.1115 - val_accuracy: 0.9818\n",
            "Epoch 64/100\n",
            "375/375 [==============================] - 2s 6ms/step - loss: 0.0476 - accuracy: 0.9899 - val_loss: 0.1208 - val_accuracy: 0.9813\n",
            "Epoch 65/100\n",
            "375/375 [==============================] - 2s 6ms/step - loss: 0.0486 - accuracy: 0.9903 - val_loss: 0.1055 - val_accuracy: 0.9822\n",
            "Epoch 66/100\n",
            "375/375 [==============================] - 2s 6ms/step - loss: 0.0517 - accuracy: 0.9892 - val_loss: 0.1087 - val_accuracy: 0.9815\n",
            "Epoch 67/100\n",
            "375/375 [==============================] - 2s 6ms/step - loss: 0.0481 - accuracy: 0.9899 - val_loss: 0.1176 - val_accuracy: 0.9817\n",
            "Epoch 68/100\n",
            "375/375 [==============================] - 2s 6ms/step - loss: 0.0482 - accuracy: 0.9902 - val_loss: 0.1198 - val_accuracy: 0.9803\n",
            "Epoch 69/100\n",
            "375/375 [==============================] - 2s 5ms/step - loss: 0.0460 - accuracy: 0.9905 - val_loss: 0.1153 - val_accuracy: 0.9808\n",
            "Epoch 70/100\n",
            "375/375 [==============================] - 2s 6ms/step - loss: 0.0476 - accuracy: 0.9906 - val_loss: 0.1197 - val_accuracy: 0.9806\n",
            "Epoch 71/100\n",
            "375/375 [==============================] - 2s 6ms/step - loss: 0.0500 - accuracy: 0.9894 - val_loss: 0.1161 - val_accuracy: 0.9821\n",
            "Epoch 72/100\n",
            "375/375 [==============================] - 2s 6ms/step - loss: 0.0470 - accuracy: 0.9900 - val_loss: 0.1108 - val_accuracy: 0.9833\n",
            "Epoch 73/100\n",
            "375/375 [==============================] - 2s 5ms/step - loss: 0.0470 - accuracy: 0.9904 - val_loss: 0.1280 - val_accuracy: 0.9815\n",
            "Epoch 74/100\n",
            "375/375 [==============================] - 2s 5ms/step - loss: 0.0464 - accuracy: 0.9902 - val_loss: 0.1174 - val_accuracy: 0.9812\n",
            "Epoch 75/100\n",
            "375/375 [==============================] - 2s 6ms/step - loss: 0.0506 - accuracy: 0.9900 - val_loss: 0.1035 - val_accuracy: 0.9833\n",
            "Epoch 76/100\n",
            "375/375 [==============================] - 2s 6ms/step - loss: 0.0504 - accuracy: 0.9902 - val_loss: 0.1123 - val_accuracy: 0.9806\n",
            "Epoch 77/100\n",
            "375/375 [==============================] - 2s 6ms/step - loss: 0.0490 - accuracy: 0.9902 - val_loss: 0.1086 - val_accuracy: 0.9834\n",
            "Epoch 78/100\n",
            "375/375 [==============================] - 2s 6ms/step - loss: 0.0500 - accuracy: 0.9899 - val_loss: 0.1083 - val_accuracy: 0.9818\n",
            "Epoch 79/100\n",
            "375/375 [==============================] - 2s 6ms/step - loss: 0.0477 - accuracy: 0.9904 - val_loss: 0.1175 - val_accuracy: 0.9821\n",
            "Epoch 80/100\n",
            "375/375 [==============================] - 2s 5ms/step - loss: 0.0504 - accuracy: 0.9898 - val_loss: 0.1273 - val_accuracy: 0.9813\n",
            "Epoch 81/100\n",
            "375/375 [==============================] - 2s 6ms/step - loss: 0.0494 - accuracy: 0.9906 - val_loss: 0.1185 - val_accuracy: 0.9821\n",
            "Epoch 82/100\n",
            "375/375 [==============================] - 2s 6ms/step - loss: 0.0487 - accuracy: 0.9903 - val_loss: 0.1258 - val_accuracy: 0.9816\n",
            "Epoch 83/100\n",
            "375/375 [==============================] - 2s 5ms/step - loss: 0.0481 - accuracy: 0.9899 - val_loss: 0.1193 - val_accuracy: 0.9814\n",
            "Epoch 84/100\n",
            "375/375 [==============================] - 2s 5ms/step - loss: 0.0504 - accuracy: 0.9898 - val_loss: 0.1280 - val_accuracy: 0.9803\n",
            "Epoch 85/100\n",
            "375/375 [==============================] - 2s 5ms/step - loss: 0.0513 - accuracy: 0.9892 - val_loss: 0.1131 - val_accuracy: 0.9827\n",
            "Epoch 86/100\n",
            "375/375 [==============================] - 2s 6ms/step - loss: 0.0467 - accuracy: 0.9907 - val_loss: 0.1296 - val_accuracy: 0.9805\n",
            "Epoch 87/100\n",
            "375/375 [==============================] - 2s 5ms/step - loss: 0.0485 - accuracy: 0.9898 - val_loss: 0.1187 - val_accuracy: 0.9820\n",
            "Epoch 88/100\n",
            "375/375 [==============================] - 2s 6ms/step - loss: 0.0485 - accuracy: 0.9899 - val_loss: 0.1174 - val_accuracy: 0.9815\n",
            "Epoch 89/100\n",
            "375/375 [==============================] - 2s 6ms/step - loss: 0.0506 - accuracy: 0.9894 - val_loss: 0.1135 - val_accuracy: 0.9818\n",
            "Epoch 90/100\n",
            "375/375 [==============================] - 2s 6ms/step - loss: 0.0475 - accuracy: 0.9900 - val_loss: 0.1242 - val_accuracy: 0.9814\n",
            "Epoch 91/100\n",
            "375/375 [==============================] - 2s 5ms/step - loss: 0.0493 - accuracy: 0.9898 - val_loss: 0.1177 - val_accuracy: 0.9818\n",
            "Epoch 92/100\n",
            "375/375 [==============================] - 2s 5ms/step - loss: 0.0493 - accuracy: 0.9899 - val_loss: 0.1275 - val_accuracy: 0.9812\n",
            "Epoch 93/100\n",
            "375/375 [==============================] - 2s 6ms/step - loss: 0.0501 - accuracy: 0.9901 - val_loss: 0.1120 - val_accuracy: 0.9825\n",
            "Epoch 94/100\n",
            "375/375 [==============================] - 2s 5ms/step - loss: 0.0493 - accuracy: 0.9901 - val_loss: 0.1112 - val_accuracy: 0.9830\n",
            "Epoch 95/100\n",
            "375/375 [==============================] - 2s 6ms/step - loss: 0.0477 - accuracy: 0.9900 - val_loss: 0.1207 - val_accuracy: 0.9817\n",
            "Epoch 96/100\n",
            "375/375 [==============================] - 2s 6ms/step - loss: 0.0508 - accuracy: 0.9899 - val_loss: 0.1208 - val_accuracy: 0.9820\n",
            "Epoch 97/100\n",
            "375/375 [==============================] - 2s 6ms/step - loss: 0.0485 - accuracy: 0.9901 - val_loss: 0.1161 - val_accuracy: 0.9823\n",
            "Epoch 98/100\n",
            "375/375 [==============================] - 2s 5ms/step - loss: 0.0521 - accuracy: 0.9903 - val_loss: 0.1176 - val_accuracy: 0.9821\n",
            "Epoch 99/100\n",
            "375/375 [==============================] - 2s 6ms/step - loss: 0.0542 - accuracy: 0.9895 - val_loss: 0.1167 - val_accuracy: 0.9817\n",
            "Epoch 100/100\n",
            "375/375 [==============================] - 2s 6ms/step - loss: 0.0497 - accuracy: 0.9899 - val_loss: 0.1224 - val_accuracy: 0.9793\n",
            "CPU times: user 3min 31s, sys: 27.4 s, total: 3min 58s\n",
            "Wall time: 4min 22s\n"
          ]
        }
      ]
    },
    {
      "cell_type": "markdown",
      "metadata": {
        "id": "h1eXLJlyL3Cd"
      },
      "source": [
        "## 4) 학습 결과 시각화  - Overfitting\n",
        "\n",
        "- Loss Visualization"
      ]
    },
    {
      "cell_type": "code",
      "metadata": {
        "colab": {
          "base_uri": "https://localhost:8080/",
          "height": 404
        },
        "id": "Xojf3aWtLvHL",
        "outputId": "19613181-1c4e-4ae5-ac68-28132a1bdcbf"
      },
      "source": [
        "epochs = range(1, len(Hist_mnis.history['loss']) +1)\n",
        "\n",
        "plt.figure(figsize = (9,6))\n",
        "plt.plot(epochs, Hist_mnis.history['loss'])\n",
        "plt.plot(epochs, Hist_mnis.history['val_loss'])\n",
        "plt.ylim(0, 0.25)\n",
        "plt.title('Training & Validation Loss')\n",
        "plt.xlabel('Epochs')\n",
        "plt.ylabel('Loss')\n",
        "plt.legend(['Training Loss', 'Validation Loss'])\n",
        "plt.grid()\n",
        "plt.show()"
      ],
      "execution_count": 35,
      "outputs": [
        {
          "output_type": "display_data",
          "data": {
            "image/png": "[encoded data removed]",
            "text/plain": [
              "<Figure size 648x432 with 1 Axes>"
            ]
          },
          "metadata": {
            "needs_background": "light"
          }
        }
      ]
    },
    {
      "cell_type": "markdown",
      "metadata": {
        "id": "qxxQKZUCPmcP"
      },
      "source": [
        "## 5) Model Evaluate\n",
        "\n",
        "- Loss & Accuracy"
      ]
    },
    {
      "cell_type": "code",
      "metadata": {
        "colab": {
          "base_uri": "https://localhost:8080/"
        },
        "id": "0nEFzsuRPrT9",
        "outputId": "3d5f8c68-8657-43cb-bfae-67a584bab7ac"
      },
      "source": [
        "loss, accuracy = mnist.evaluate(X_test, y_test)\n",
        "\n",
        "print('Loss = {:.5f}'.format(loss))\n",
        "print('Accuracy = {:.5f}'.format(accuracy))"
      ],
      "execution_count": 36,
      "outputs": [
        {
          "output_type": "stream",
          "name": "stdout",
          "text": [
            "313/313 [==============================] - 1s 3ms/step - loss: 0.1178 - accuracy: 0.9830\n",
            "Loss = 0.11775\n",
            "Accuracy = 0.98300\n"
          ]
        }
      ]
    },
    {
      "cell_type": "markdown",
      "metadata": {
        "id": "BJXN_id5QDeX"
      },
      "source": [
        "## 6) Model Predict\n",
        "\n",
        "- Probability"
      ]
    },
    {
      "cell_type": "code",
      "metadata": {
        "colab": {
          "base_uri": "https://localhost:8080/"
        },
        "id": "UN0TCvoDQIJN",
        "outputId": "cdecfb83-79f5-4ba5-bc36-72bf79c99593"
      },
      "source": [
        "np.set_printoptions(suppress = True, precision = 9)\n",
        "\n",
        "print(mnist.predict(X_test[:1, :]))"
      ],
      "execution_count": 29,
      "outputs": [
        {
          "output_type": "stream",
          "name": "stdout",
          "text": [
            "[[0. 0. 0. 0. 0. 0. 0. 1. 0. 0.]]\n"
          ]
        }
      ]
    },
    {
      "cell_type": "markdown",
      "metadata": {
        "id": "mqF4YYySQPn4"
      },
      "source": [
        "- Class"
      ]
    },
    {
      "cell_type": "code",
      "metadata": {
        "colab": {
          "base_uri": "https://localhost:8080/"
        },
        "id": "dfiH9apyQOG9",
        "outputId": "14bf920e-a301-4de0-a85d-d58b55bba09d"
      },
      "source": [
        "print(np.argmax(mnist.predict(X_test[:1,:])))"
      ],
      "execution_count": 26,
      "outputs": [
        {
          "output_type": "stream",
          "name": "stdout",
          "text": [
            "7\n"
          ]
        }
      ]
    },
    {
      "cell_type": "markdown",
      "metadata": {
        "id": "qnU7rn64QVer"
      },
      "source": [
        "- Overfitting줄이기 6\n",
        "    - L2 + Batch"
      ]
    },
    {
      "cell_type": "code",
      "metadata": {
        "id": "cJ8w7u2O1loX"
      },
      "source": [
        "from tensorflow.keras import models\n",
        "from tensorflow.keras import layers\n",
        "from tensorflow.keras import regularizers\n",
        "\n",
        "mnist = models.Sequential()\n",
        "mnist.add(layers.Dense(512, kernel_regularizer = regularizers.l2(0.00001),input_shape=(28*28,)))\n",
        "mnist.add(layers.BatchNormalization())\n",
        "mnist.add(layers.Activation('relu'))\n",
        "mnist.add(layers.Dense(256,kernel_regularizer = regularizers.l2(0.00001)))                 \n",
        "mnist.add(layers.BatchNormalization())\n",
        "mnist.add(layers.Activation('relu'))\n",
        "mnist.add(layers.Dense(10, activation = 'softmax'))"
      ],
      "execution_count": 37,
      "outputs": []
    },
    {
      "cell_type": "code",
      "metadata": {
        "id": "rBcSkZZb16vQ"
      },
      "source": [
        "mnist.compile(loss = 'categorical_crossentropy',\n",
        "              optimizer = 'rmsprop',\n",
        "              metrics = ['accuracy'])"
      ],
      "execution_count": 38,
      "outputs": []
    },
    {
      "cell_type": "code",
      "metadata": {
        "colab": {
          "base_uri": "https://localhost:8080/"
        },
        "id": "h9gRwUd517a_",
        "outputId": "c6fec76b-260e-426c-adf2-40368b829101"
      },
      "source": [
        "%%time\n",
        "\n",
        "Hist_mnis = mnist.fit(X_train, y_train,\n",
        "                      epochs = 100,\n",
        "                      batch_size = 128,\n",
        "                      validation_split = 0.2)"
      ],
      "execution_count": 39,
      "outputs": [
        {
          "output_type": "stream",
          "name": "stdout",
          "text": [
            "Epoch 1/100\n",
            "375/375 [==============================] - 4s 7ms/step - loss: 0.1901 - accuracy: 0.9462 - val_loss: 0.1066 - val_accuracy: 0.9700\n",
            "Epoch 2/100\n",
            "375/375 [==============================] - 2s 7ms/step - loss: 0.0824 - accuracy: 0.9780 - val_loss: 0.1042 - val_accuracy: 0.9710\n",
            "Epoch 3/100\n",
            "375/375 [==============================] - 2s 7ms/step - loss: 0.0568 - accuracy: 0.9853 - val_loss: 0.0956 - val_accuracy: 0.9758\n",
            "Epoch 4/100\n",
            "375/375 [==============================] - 2s 7ms/step - loss: 0.0439 - accuracy: 0.9890 - val_loss: 0.1056 - val_accuracy: 0.9747\n",
            "Epoch 5/100\n",
            "375/375 [==============================] - 2s 7ms/step - loss: 0.0367 - accuracy: 0.9921 - val_loss: 0.1056 - val_accuracy: 0.9759\n",
            "Epoch 6/100\n",
            "375/375 [==============================] - 2s 7ms/step - loss: 0.0317 - accuracy: 0.9939 - val_loss: 0.1151 - val_accuracy: 0.9748\n",
            "Epoch 7/100\n",
            "375/375 [==============================] - 3s 7ms/step - loss: 0.0291 - accuracy: 0.9939 - val_loss: 0.1255 - val_accuracy: 0.9734\n",
            "Epoch 8/100\n",
            "375/375 [==============================] - 3s 7ms/step - loss: 0.0265 - accuracy: 0.9950 - val_loss: 0.1161 - val_accuracy: 0.9757\n",
            "Epoch 9/100\n",
            "375/375 [==============================] - 2s 7ms/step - loss: 0.0254 - accuracy: 0.9958 - val_loss: 0.1088 - val_accuracy: 0.9784\n",
            "Epoch 10/100\n",
            "375/375 [==============================] - 2s 7ms/step - loss: 0.0247 - accuracy: 0.9959 - val_loss: 0.1192 - val_accuracy: 0.9772\n",
            "Epoch 11/100\n",
            "375/375 [==============================] - 2s 7ms/step - loss: 0.0240 - accuracy: 0.9962 - val_loss: 0.1106 - val_accuracy: 0.9789\n",
            "Epoch 12/100\n",
            "375/375 [==============================] - 3s 7ms/step - loss: 0.0234 - accuracy: 0.9963 - val_loss: 0.1034 - val_accuracy: 0.9812\n",
            "Epoch 13/100\n",
            "375/375 [==============================] - 2s 7ms/step - loss: 0.0226 - accuracy: 0.9968 - val_loss: 0.1263 - val_accuracy: 0.9772\n",
            "Epoch 14/100\n",
            "375/375 [==============================] - 3s 7ms/step - loss: 0.0218 - accuracy: 0.9969 - val_loss: 0.1161 - val_accuracy: 0.9790\n",
            "Epoch 15/100\n",
            "375/375 [==============================] - 3s 7ms/step - loss: 0.0222 - accuracy: 0.9970 - val_loss: 0.1072 - val_accuracy: 0.9797\n",
            "Epoch 16/100\n",
            "375/375 [==============================] - 2s 7ms/step - loss: 0.0219 - accuracy: 0.9973 - val_loss: 0.1237 - val_accuracy: 0.9776\n",
            "Epoch 17/100\n",
            "375/375 [==============================] - 2s 7ms/step - loss: 0.0208 - accuracy: 0.9975 - val_loss: 0.1211 - val_accuracy: 0.9801\n",
            "Epoch 18/100\n",
            "375/375 [==============================] - 2s 7ms/step - loss: 0.0220 - accuracy: 0.9968 - val_loss: 0.1197 - val_accuracy: 0.9789\n",
            "Epoch 19/100\n",
            "375/375 [==============================] - 2s 7ms/step - loss: 0.0208 - accuracy: 0.9974 - val_loss: 0.1226 - val_accuracy: 0.9778\n",
            "Epoch 20/100\n",
            "375/375 [==============================] - 3s 7ms/step - loss: 0.0207 - accuracy: 0.9975 - val_loss: 0.1202 - val_accuracy: 0.9783\n",
            "Epoch 21/100\n",
            "375/375 [==============================] - 3s 7ms/step - loss: 0.0206 - accuracy: 0.9973 - val_loss: 0.1217 - val_accuracy: 0.9798\n",
            "Epoch 22/100\n",
            "375/375 [==============================] - 3s 7ms/step - loss: 0.0194 - accuracy: 0.9974 - val_loss: 0.1194 - val_accuracy: 0.9799\n",
            "Epoch 23/100\n",
            "375/375 [==============================] - 3s 7ms/step - loss: 0.0224 - accuracy: 0.9970 - val_loss: 0.1248 - val_accuracy: 0.9812\n",
            "Epoch 24/100\n",
            "375/375 [==============================] - 3s 7ms/step - loss: 0.0206 - accuracy: 0.9976 - val_loss: 0.1302 - val_accuracy: 0.9789\n",
            "Epoch 25/100\n",
            "375/375 [==============================] - 3s 7ms/step - loss: 0.0210 - accuracy: 0.9976 - val_loss: 0.1251 - val_accuracy: 0.9803\n",
            "Epoch 26/100\n",
            "375/375 [==============================] - 3s 7ms/step - loss: 0.0205 - accuracy: 0.9972 - val_loss: 0.1483 - val_accuracy: 0.9779\n",
            "Epoch 27/100\n",
            "375/375 [==============================] - 3s 7ms/step - loss: 0.0214 - accuracy: 0.9972 - val_loss: 0.1467 - val_accuracy: 0.9774\n",
            "Epoch 28/100\n",
            "375/375 [==============================] - 3s 7ms/step - loss: 0.0208 - accuracy: 0.9975 - val_loss: 0.1359 - val_accuracy: 0.9790\n",
            "Epoch 29/100\n",
            "375/375 [==============================] - 2s 7ms/step - loss: 0.0207 - accuracy: 0.9973 - val_loss: 0.1230 - val_accuracy: 0.9806\n",
            "Epoch 30/100\n",
            "375/375 [==============================] - 3s 7ms/step - loss: 0.0209 - accuracy: 0.9978 - val_loss: 0.1571 - val_accuracy: 0.9753\n",
            "Epoch 31/100\n",
            "375/375 [==============================] - 3s 7ms/step - loss: 0.0204 - accuracy: 0.9977 - val_loss: 0.1524 - val_accuracy: 0.9797\n",
            "Epoch 32/100\n",
            "375/375 [==============================] - 2s 7ms/step - loss: 0.0212 - accuracy: 0.9971 - val_loss: 0.1238 - val_accuracy: 0.9793\n",
            "Epoch 33/100\n",
            "375/375 [==============================] - 2s 7ms/step - loss: 0.0197 - accuracy: 0.9976 - val_loss: 0.1489 - val_accuracy: 0.9783\n",
            "Epoch 34/100\n",
            "375/375 [==============================] - 3s 7ms/step - loss: 0.0200 - accuracy: 0.9976 - val_loss: 0.1343 - val_accuracy: 0.9790\n",
            "Epoch 35/100\n",
            "375/375 [==============================] - 2s 7ms/step - loss: 0.0210 - accuracy: 0.9975 - val_loss: 0.1261 - val_accuracy: 0.9808\n",
            "Epoch 36/100\n",
            "375/375 [==============================] - 3s 7ms/step - loss: 0.0200 - accuracy: 0.9977 - val_loss: 0.1415 - val_accuracy: 0.9798\n",
            "Epoch 37/100\n",
            "375/375 [==============================] - 2s 7ms/step - loss: 0.0184 - accuracy: 0.9982 - val_loss: 0.1571 - val_accuracy: 0.9783\n",
            "Epoch 38/100\n",
            "375/375 [==============================] - 2s 7ms/step - loss: 0.0194 - accuracy: 0.9978 - val_loss: 0.1617 - val_accuracy: 0.9793\n",
            "Epoch 39/100\n",
            "375/375 [==============================] - 3s 7ms/step - loss: 0.0206 - accuracy: 0.9977 - val_loss: 0.1306 - val_accuracy: 0.9818\n",
            "Epoch 40/100\n",
            "375/375 [==============================] - 3s 7ms/step - loss: 0.0195 - accuracy: 0.9977 - val_loss: 0.1360 - val_accuracy: 0.9823\n",
            "Epoch 41/100\n",
            "375/375 [==============================] - 3s 7ms/step - loss: 0.0187 - accuracy: 0.9978 - val_loss: 0.1370 - val_accuracy: 0.9815\n",
            "Epoch 42/100\n",
            "375/375 [==============================] - 3s 7ms/step - loss: 0.0197 - accuracy: 0.9976 - val_loss: 0.1562 - val_accuracy: 0.9768\n",
            "Epoch 43/100\n",
            "375/375 [==============================] - 2s 7ms/step - loss: 0.0209 - accuracy: 0.9977 - val_loss: 0.1451 - val_accuracy: 0.9798\n",
            "Epoch 44/100\n",
            "375/375 [==============================] - 2s 7ms/step - loss: 0.0199 - accuracy: 0.9977 - val_loss: 0.1268 - val_accuracy: 0.9815\n",
            "Epoch 45/100\n",
            "375/375 [==============================] - 2s 7ms/step - loss: 0.0199 - accuracy: 0.9975 - val_loss: 0.1344 - val_accuracy: 0.9801\n",
            "Epoch 46/100\n",
            "375/375 [==============================] - 2s 7ms/step - loss: 0.0207 - accuracy: 0.9975 - val_loss: 0.1640 - val_accuracy: 0.9757\n",
            "Epoch 47/100\n",
            "375/375 [==============================] - 2s 7ms/step - loss: 0.0188 - accuracy: 0.9980 - val_loss: 0.1470 - val_accuracy: 0.9803\n",
            "Epoch 48/100\n",
            "375/375 [==============================] - 2s 7ms/step - loss: 0.0196 - accuracy: 0.9978 - val_loss: 0.1237 - val_accuracy: 0.9804\n",
            "Epoch 49/100\n",
            "375/375 [==============================] - 2s 7ms/step - loss: 0.0208 - accuracy: 0.9977 - val_loss: 0.1312 - val_accuracy: 0.9812\n",
            "Epoch 50/100\n",
            "375/375 [==============================] - 3s 7ms/step - loss: 0.0191 - accuracy: 0.9980 - val_loss: 0.1444 - val_accuracy: 0.9787\n",
            "Epoch 51/100\n",
            "375/375 [==============================] - 3s 7ms/step - loss: 0.0190 - accuracy: 0.9983 - val_loss: 0.1452 - val_accuracy: 0.9803\n",
            "Epoch 52/100\n",
            "375/375 [==============================] - 2s 7ms/step - loss: 0.0193 - accuracy: 0.9977 - val_loss: 0.1402 - val_accuracy: 0.9812\n",
            "Epoch 53/100\n",
            "375/375 [==============================] - 3s 7ms/step - loss: 0.0190 - accuracy: 0.9980 - val_loss: 0.1405 - val_accuracy: 0.9802\n",
            "Epoch 54/100\n",
            "375/375 [==============================] - 3s 7ms/step - loss: 0.0195 - accuracy: 0.9980 - val_loss: 0.1376 - val_accuracy: 0.9813\n",
            "Epoch 55/100\n",
            "375/375 [==============================] - 3s 7ms/step - loss: 0.0183 - accuracy: 0.9980 - val_loss: 0.1500 - val_accuracy: 0.9788\n",
            "Epoch 56/100\n",
            "375/375 [==============================] - 3s 7ms/step - loss: 0.0187 - accuracy: 0.9980 - val_loss: 0.1596 - val_accuracy: 0.9778\n",
            "Epoch 57/100\n",
            "375/375 [==============================] - 3s 7ms/step - loss: 0.0182 - accuracy: 0.9981 - val_loss: 0.1488 - val_accuracy: 0.9808\n",
            "Epoch 58/100\n",
            "375/375 [==============================] - 3s 7ms/step - loss: 0.0181 - accuracy: 0.9982 - val_loss: 0.1382 - val_accuracy: 0.9817\n",
            "Epoch 59/100\n",
            "375/375 [==============================] - 3s 7ms/step - loss: 0.0179 - accuracy: 0.9980 - val_loss: 0.1771 - val_accuracy: 0.9758\n",
            "Epoch 60/100\n",
            "375/375 [==============================] - 3s 7ms/step - loss: 0.0190 - accuracy: 0.9976 - val_loss: 0.1422 - val_accuracy: 0.9812\n",
            "Epoch 61/100\n",
            "375/375 [==============================] - 3s 7ms/step - loss: 0.0172 - accuracy: 0.9982 - val_loss: 0.1489 - val_accuracy: 0.9811\n",
            "Epoch 62/100\n",
            "375/375 [==============================] - 3s 7ms/step - loss: 0.0203 - accuracy: 0.9977 - val_loss: 0.1563 - val_accuracy: 0.9789\n",
            "Epoch 63/100\n",
            "375/375 [==============================] - 3s 7ms/step - loss: 0.0189 - accuracy: 0.9976 - val_loss: 0.1545 - val_accuracy: 0.9818\n",
            "Epoch 64/100\n",
            "375/375 [==============================] - 3s 7ms/step - loss: 0.0195 - accuracy: 0.9977 - val_loss: 0.1498 - val_accuracy: 0.9815\n",
            "Epoch 65/100\n",
            "375/375 [==============================] - 3s 7ms/step - loss: 0.0180 - accuracy: 0.9981 - val_loss: 0.1694 - val_accuracy: 0.9783\n",
            "Epoch 66/100\n",
            "375/375 [==============================] - 3s 7ms/step - loss: 0.0191 - accuracy: 0.9981 - val_loss: 0.1533 - val_accuracy: 0.9809\n",
            "Epoch 67/100\n",
            "375/375 [==============================] - 3s 7ms/step - loss: 0.0171 - accuracy: 0.9982 - val_loss: 0.1438 - val_accuracy: 0.9803\n",
            "Epoch 68/100\n",
            "375/375 [==============================] - 3s 7ms/step - loss: 0.0189 - accuracy: 0.9978 - val_loss: 0.1487 - val_accuracy: 0.9818\n",
            "Epoch 69/100\n",
            "375/375 [==============================] - 3s 7ms/step - loss: 0.0200 - accuracy: 0.9977 - val_loss: 0.1458 - val_accuracy: 0.9803\n",
            "Epoch 70/100\n",
            "375/375 [==============================] - 3s 7ms/step - loss: 0.0196 - accuracy: 0.9977 - val_loss: 0.1692 - val_accuracy: 0.9803\n",
            "Epoch 71/100\n",
            "375/375 [==============================] - 3s 7ms/step - loss: 0.0176 - accuracy: 0.9982 - val_loss: 0.1551 - val_accuracy: 0.9787\n",
            "Epoch 72/100\n",
            "375/375 [==============================] - 3s 7ms/step - loss: 0.0173 - accuracy: 0.9983 - val_loss: 0.1835 - val_accuracy: 0.9787\n",
            "Epoch 73/100\n",
            "375/375 [==============================] - 3s 7ms/step - loss: 0.0201 - accuracy: 0.9977 - val_loss: 0.1699 - val_accuracy: 0.9794\n",
            "Epoch 74/100\n",
            "375/375 [==============================] - 3s 7ms/step - loss: 0.0169 - accuracy: 0.9983 - val_loss: 0.1573 - val_accuracy: 0.9793\n",
            "Epoch 75/100\n",
            "375/375 [==============================] - 3s 7ms/step - loss: 0.0185 - accuracy: 0.9980 - val_loss: 0.1903 - val_accuracy: 0.9772\n",
            "Epoch 76/100\n",
            "375/375 [==============================] - 3s 7ms/step - loss: 0.0188 - accuracy: 0.9979 - val_loss: 0.1739 - val_accuracy: 0.9800\n",
            "Epoch 77/100\n",
            "375/375 [==============================] - 3s 7ms/step - loss: 0.0168 - accuracy: 0.9983 - val_loss: 0.1588 - val_accuracy: 0.9796\n",
            "Epoch 78/100\n",
            "375/375 [==============================] - 3s 7ms/step - loss: 0.0179 - accuracy: 0.9980 - val_loss: 0.1608 - val_accuracy: 0.9802\n",
            "Epoch 79/100\n",
            "375/375 [==============================] - 3s 7ms/step - loss: 0.0172 - accuracy: 0.9983 - val_loss: 0.1527 - val_accuracy: 0.9806\n",
            "Epoch 80/100\n",
            "375/375 [==============================] - 3s 7ms/step - loss: 0.0198 - accuracy: 0.9977 - val_loss: 0.1674 - val_accuracy: 0.9785\n",
            "Epoch 81/100\n",
            "375/375 [==============================] - 3s 7ms/step - loss: 0.0186 - accuracy: 0.9979 - val_loss: 0.1523 - val_accuracy: 0.9812\n",
            "Epoch 82/100\n",
            "375/375 [==============================] - 3s 7ms/step - loss: 0.0176 - accuracy: 0.9980 - val_loss: 0.1491 - val_accuracy: 0.9801\n",
            "Epoch 83/100\n",
            "375/375 [==============================] - 3s 7ms/step - loss: 0.0178 - accuracy: 0.9981 - val_loss: 0.1682 - val_accuracy: 0.9788\n",
            "Epoch 84/100\n",
            "375/375 [==============================] - 3s 7ms/step - loss: 0.0174 - accuracy: 0.9981 - val_loss: 0.1490 - val_accuracy: 0.9807\n",
            "Epoch 85/100\n",
            "375/375 [==============================] - 3s 7ms/step - loss: 0.0180 - accuracy: 0.9981 - val_loss: 0.1579 - val_accuracy: 0.9807\n",
            "Epoch 86/100\n",
            "375/375 [==============================] - 3s 7ms/step - loss: 0.0176 - accuracy: 0.9983 - val_loss: 0.1404 - val_accuracy: 0.9817\n",
            "Epoch 87/100\n",
            "375/375 [==============================] - 3s 7ms/step - loss: 0.0185 - accuracy: 0.9980 - val_loss: 0.1671 - val_accuracy: 0.9794\n",
            "Epoch 88/100\n",
            "375/375 [==============================] - 3s 7ms/step - loss: 0.0176 - accuracy: 0.9981 - val_loss: 0.1726 - val_accuracy: 0.9788\n",
            "Epoch 89/100\n",
            "375/375 [==============================] - 3s 7ms/step - loss: 0.0171 - accuracy: 0.9983 - val_loss: 0.1497 - val_accuracy: 0.9814\n",
            "Epoch 90/100\n",
            "375/375 [==============================] - 3s 7ms/step - loss: 0.0167 - accuracy: 0.9984 - val_loss: 0.1680 - val_accuracy: 0.9797\n",
            "Epoch 91/100\n",
            "375/375 [==============================] - 3s 7ms/step - loss: 0.0182 - accuracy: 0.9983 - val_loss: 0.1449 - val_accuracy: 0.9817\n",
            "Epoch 92/100\n",
            "375/375 [==============================] - 3s 7ms/step - loss: 0.0168 - accuracy: 0.9983 - val_loss: 0.1390 - val_accuracy: 0.9817\n",
            "Epoch 93/100\n",
            "375/375 [==============================] - 3s 7ms/step - loss: 0.0170 - accuracy: 0.9981 - val_loss: 0.1639 - val_accuracy: 0.9798\n",
            "Epoch 94/100\n",
            "375/375 [==============================] - 3s 7ms/step - loss: 0.0166 - accuracy: 0.9981 - val_loss: 0.2026 - val_accuracy: 0.9778\n",
            "Epoch 95/100\n",
            "375/375 [==============================] - 3s 7ms/step - loss: 0.0179 - accuracy: 0.9981 - val_loss: 0.1720 - val_accuracy: 0.9800\n",
            "Epoch 96/100\n",
            "375/375 [==============================] - 3s 7ms/step - loss: 0.0170 - accuracy: 0.9980 - val_loss: 0.1624 - val_accuracy: 0.9801\n",
            "Epoch 97/100\n",
            "375/375 [==============================] - 3s 7ms/step - loss: 0.0166 - accuracy: 0.9983 - val_loss: 0.1611 - val_accuracy: 0.9797\n",
            "Epoch 98/100\n",
            "375/375 [==============================] - 3s 7ms/step - loss: 0.0167 - accuracy: 0.9983 - val_loss: 0.1465 - val_accuracy: 0.9819\n",
            "Epoch 99/100\n",
            "375/375 [==============================] - 3s 7ms/step - loss: 0.0169 - accuracy: 0.9980 - val_loss: 0.1500 - val_accuracy: 0.9810\n",
            "Epoch 100/100\n",
            "375/375 [==============================] - 3s 7ms/step - loss: 0.0173 - accuracy: 0.9979 - val_loss: 0.1566 - val_accuracy: 0.9814\n",
            "CPU times: user 4min 21s, sys: 28.9 s, total: 4min 50s\n",
            "Wall time: 4min 14s\n"
          ]
        }
      ]
    },
    {
      "cell_type": "code",
      "metadata": {
        "colab": {
          "base_uri": "https://localhost:8080/",
          "height": 404
        },
        "id": "O5Kjwghq1-9P",
        "outputId": "356dfb9f-d96e-47c5-da87-4e82763cc335"
      },
      "source": [
        "epochs = range(1, len(Hist_mnis.history['loss']) +1)\n",
        "\n",
        "plt.figure(figsize = (9,6))\n",
        "plt.plot(epochs, Hist_mnis.history['loss'])\n",
        "plt.plot(epochs, Hist_mnis.history['val_loss'])\n",
        "plt.ylim(0, 0.25)\n",
        "plt.title('Training & Validation Loss')\n",
        "plt.xlabel('Epochs')\n",
        "plt.ylabel('Loss')\n",
        "plt.legend(['Training Loss', 'Validation Loss'])\n",
        "plt.grid()\n",
        "plt.show()"
      ],
      "execution_count": 40,
      "outputs": [
        {
          "output_type": "display_data",
          "data": {
            "image/png": "[encoded data removed]",
            "text/plain": [
              "<Figure size 648x432 with 1 Axes>"
            ]
          },
          "metadata": {
            "needs_background": "light"
          }
        }
      ]
    },
    {
      "cell_type": "code",
      "metadata": {
        "colab": {
          "base_uri": "https://localhost:8080/"
        },
        "id": "EJ2wloHT2CwH",
        "outputId": "1389966d-a26d-4b60-cf66-b4588c3669ae"
      },
      "source": [
        "loss, accuracy = mnist.evaluate(X_test, y_test)\n",
        "\n",
        "print('Loss = {:.5f}'.format(loss))\n",
        "print('Accuracy = {:.5f}'.format(accuracy))"
      ],
      "execution_count": 41,
      "outputs": [
        {
          "output_type": "stream",
          "name": "stdout",
          "text": [
            "313/313 [==============================] - 1s 3ms/step - loss: 0.1512 - accuracy: 0.9802\n",
            "Loss = 0.15119\n",
            "Accuracy = 0.98020\n"
          ]
        }
      ]
    },
    {
      "cell_type": "markdown",
      "metadata": {
        "id": "121erpVq3OzX"
      },
      "source": [
        "- Overfitting 줄이기 7\n",
        "    - Dropout + Batch Normalization\n"
      ]
    },
    {
      "cell_type": "code",
      "metadata": {
        "id": "Kn0PXjHg3TyW"
      },
      "source": [
        "from tensorflow.keras import models\n",
        "from tensorflow.keras import layers\n",
        "from tensorflow.keras import regularizers\n",
        "\n",
        "mnist = models.Sequential()\n",
        "mnist.add(layers.Dense(512, input_shape=(28*28,)))\n",
        "mnist.add(layers.BatchNormalization())\n",
        "mnist.add(layers.Activation('relu'))\n",
        "mnist.add(layers.Dropout(0.4))\n",
        "mnist.add(layers.Dense(256))                 \n",
        "mnist.add(layers.BatchNormalization())\n",
        "mnist.add(layers.Activation('relu'))\n",
        "mnist.add(layers.Dropout(0.2))\n",
        "mnist.add(layers.Dense(10, activation = 'softmax'))"
      ],
      "execution_count": 42,
      "outputs": []
    },
    {
      "cell_type": "code",
      "metadata": {
        "id": "-O0baant3yDR"
      },
      "source": [
        "mnist.compile(loss = 'categorical_crossentropy',\n",
        "              optimizer = 'rmsprop',\n",
        "              metrics = ['accuracy'])"
      ],
      "execution_count": 43,
      "outputs": []
    },
    {
      "cell_type": "code",
      "metadata": {
        "colab": {
          "base_uri": "https://localhost:8080/"
        },
        "id": "cIQ0Oe9s30_r",
        "outputId": "77ece96d-2f84-45b1-9f54-c2343aacc4e6"
      },
      "source": [
        "%%time\n",
        "\n",
        "Hist_mnis = mnist.fit(X_train, y_train,\n",
        "                      epochs = 100,\n",
        "                      batch_size = 128,\n",
        "                      validation_split = 0.2)"
      ],
      "execution_count": 44,
      "outputs": [
        {
          "output_type": "stream",
          "name": "stdout",
          "text": [
            "Epoch 1/100\n",
            "375/375 [==============================] - 4s 7ms/step - loss: 0.2832 - accuracy: 0.9140 - val_loss: 0.1318 - val_accuracy: 0.9594\n",
            "Epoch 2/100\n",
            "375/375 [==============================] - 2s 6ms/step - loss: 0.1434 - accuracy: 0.9560 - val_loss: 0.0938 - val_accuracy: 0.9729\n",
            "Epoch 3/100\n",
            "375/375 [==============================] - 2s 6ms/step - loss: 0.1113 - accuracy: 0.9657 - val_loss: 0.0896 - val_accuracy: 0.9736\n",
            "Epoch 4/100\n",
            "375/375 [==============================] - 2s 7ms/step - loss: 0.0932 - accuracy: 0.9708 - val_loss: 0.0954 - val_accuracy: 0.9748\n",
            "Epoch 5/100\n",
            "375/375 [==============================] - 2s 6ms/step - loss: 0.0808 - accuracy: 0.9749 - val_loss: 0.0795 - val_accuracy: 0.9773\n",
            "Epoch 6/100\n",
            "375/375 [==============================] - 2s 7ms/step - loss: 0.0758 - accuracy: 0.9761 - val_loss: 0.0780 - val_accuracy: 0.9789\n",
            "Epoch 7/100\n",
            "375/375 [==============================] - 2s 7ms/step - loss: 0.0668 - accuracy: 0.9788 - val_loss: 0.0793 - val_accuracy: 0.9804\n",
            "Epoch 8/100\n",
            "375/375 [==============================] - 2s 6ms/step - loss: 0.0603 - accuracy: 0.9806 - val_loss: 0.0783 - val_accuracy: 0.9796\n",
            "Epoch 9/100\n",
            "375/375 [==============================] - 2s 6ms/step - loss: 0.0579 - accuracy: 0.9821 - val_loss: 0.0804 - val_accuracy: 0.9808\n",
            "Epoch 10/100\n",
            "375/375 [==============================] - 2s 7ms/step - loss: 0.0548 - accuracy: 0.9833 - val_loss: 0.0783 - val_accuracy: 0.9804\n",
            "Epoch 11/100\n",
            "375/375 [==============================] - 2s 6ms/step - loss: 0.0504 - accuracy: 0.9842 - val_loss: 0.0913 - val_accuracy: 0.9788\n",
            "Epoch 12/100\n",
            "375/375 [==============================] - 2s 6ms/step - loss: 0.0474 - accuracy: 0.9845 - val_loss: 0.0829 - val_accuracy: 0.9809\n",
            "Epoch 13/100\n",
            "375/375 [==============================] - 2s 6ms/step - loss: 0.0441 - accuracy: 0.9863 - val_loss: 0.0828 - val_accuracy: 0.9810\n",
            "Epoch 14/100\n",
            "375/375 [==============================] - 2s 7ms/step - loss: 0.0439 - accuracy: 0.9863 - val_loss: 0.0808 - val_accuracy: 0.9821\n",
            "Epoch 15/100\n",
            "375/375 [==============================] - 2s 6ms/step - loss: 0.0423 - accuracy: 0.9869 - val_loss: 0.0817 - val_accuracy: 0.9812\n",
            "Epoch 16/100\n",
            "375/375 [==============================] - 2s 7ms/step - loss: 0.0394 - accuracy: 0.9877 - val_loss: 0.0849 - val_accuracy: 0.9812\n",
            "Epoch 17/100\n",
            "375/375 [==============================] - 2s 7ms/step - loss: 0.0399 - accuracy: 0.9880 - val_loss: 0.0890 - val_accuracy: 0.9815\n",
            "Epoch 18/100\n",
            "375/375 [==============================] - 2s 7ms/step - loss: 0.0343 - accuracy: 0.9893 - val_loss: 0.0910 - val_accuracy: 0.9806\n",
            "Epoch 19/100\n",
            "375/375 [==============================] - 2s 6ms/step - loss: 0.0355 - accuracy: 0.9897 - val_loss: 0.0879 - val_accuracy: 0.9821\n",
            "Epoch 20/100\n",
            "375/375 [==============================] - 2s 7ms/step - loss: 0.0324 - accuracy: 0.9895 - val_loss: 0.0895 - val_accuracy: 0.9825\n",
            "Epoch 21/100\n",
            "375/375 [==============================] - 2s 7ms/step - loss: 0.0346 - accuracy: 0.9899 - val_loss: 0.0944 - val_accuracy: 0.9822\n",
            "Epoch 22/100\n",
            "375/375 [==============================] - 2s 7ms/step - loss: 0.0325 - accuracy: 0.9900 - val_loss: 0.0938 - val_accuracy: 0.9803\n",
            "Epoch 23/100\n",
            "375/375 [==============================] - 3s 7ms/step - loss: 0.0318 - accuracy: 0.9899 - val_loss: 0.0870 - val_accuracy: 0.9826\n",
            "Epoch 24/100\n",
            "375/375 [==============================] - 2s 7ms/step - loss: 0.0308 - accuracy: 0.9903 - val_loss: 0.0888 - val_accuracy: 0.9822\n",
            "Epoch 25/100\n",
            "375/375 [==============================] - 2s 6ms/step - loss: 0.0294 - accuracy: 0.9910 - val_loss: 0.0957 - val_accuracy: 0.9828\n",
            "Epoch 26/100\n",
            "375/375 [==============================] - 2s 7ms/step - loss: 0.0275 - accuracy: 0.9912 - val_loss: 0.0944 - val_accuracy: 0.9823\n",
            "Epoch 27/100\n",
            "375/375 [==============================] - 2s 7ms/step - loss: 0.0276 - accuracy: 0.9912 - val_loss: 0.0879 - val_accuracy: 0.9835\n",
            "Epoch 28/100\n",
            "375/375 [==============================] - 2s 6ms/step - loss: 0.0274 - accuracy: 0.9918 - val_loss: 0.0990 - val_accuracy: 0.9820\n",
            "Epoch 29/100\n",
            "375/375 [==============================] - 2s 6ms/step - loss: 0.0262 - accuracy: 0.9914 - val_loss: 0.0966 - val_accuracy: 0.9819\n",
            "Epoch 30/100\n",
            "375/375 [==============================] - 2s 6ms/step - loss: 0.0254 - accuracy: 0.9927 - val_loss: 0.0931 - val_accuracy: 0.9824\n",
            "Epoch 31/100\n",
            "375/375 [==============================] - 3s 7ms/step - loss: 0.0279 - accuracy: 0.9924 - val_loss: 0.0974 - val_accuracy: 0.9843\n",
            "Epoch 32/100\n",
            "375/375 [==============================] - 2s 6ms/step - loss: 0.0261 - accuracy: 0.9921 - val_loss: 0.0986 - val_accuracy: 0.9843\n",
            "Epoch 33/100\n",
            "375/375 [==============================] - 2s 7ms/step - loss: 0.0257 - accuracy: 0.9921 - val_loss: 0.0969 - val_accuracy: 0.9823\n",
            "Epoch 34/100\n",
            "375/375 [==============================] - 2s 7ms/step - loss: 0.0220 - accuracy: 0.9931 - val_loss: 0.0960 - val_accuracy: 0.9831\n",
            "Epoch 35/100\n",
            "375/375 [==============================] - 2s 7ms/step - loss: 0.0256 - accuracy: 0.9921 - val_loss: 0.0980 - val_accuracy: 0.9837\n",
            "Epoch 36/100\n",
            "375/375 [==============================] - 2s 6ms/step - loss: 0.0242 - accuracy: 0.9928 - val_loss: 0.0931 - val_accuracy: 0.9849\n",
            "Epoch 37/100\n",
            "375/375 [==============================] - 2s 7ms/step - loss: 0.0211 - accuracy: 0.9935 - val_loss: 0.0949 - val_accuracy: 0.9829\n",
            "Epoch 38/100\n",
            "375/375 [==============================] - 2s 7ms/step - loss: 0.0237 - accuracy: 0.9929 - val_loss: 0.0966 - val_accuracy: 0.9842\n",
            "Epoch 39/100\n",
            "375/375 [==============================] - 2s 6ms/step - loss: 0.0231 - accuracy: 0.9926 - val_loss: 0.1022 - val_accuracy: 0.9824\n",
            "Epoch 40/100\n",
            "375/375 [==============================] - 3s 7ms/step - loss: 0.0218 - accuracy: 0.9937 - val_loss: 0.1053 - val_accuracy: 0.9828\n",
            "Epoch 41/100\n",
            "375/375 [==============================] - 2s 7ms/step - loss: 0.0232 - accuracy: 0.9930 - val_loss: 0.1021 - val_accuracy: 0.9837\n",
            "Epoch 42/100\n",
            "375/375 [==============================] - 2s 6ms/step - loss: 0.0206 - accuracy: 0.9940 - val_loss: 0.0988 - val_accuracy: 0.9841\n",
            "Epoch 43/100\n",
            "375/375 [==============================] - 2s 7ms/step - loss: 0.0192 - accuracy: 0.9944 - val_loss: 0.0941 - val_accuracy: 0.9847\n",
            "Epoch 44/100\n",
            "375/375 [==============================] - 2s 7ms/step - loss: 0.0201 - accuracy: 0.9943 - val_loss: 0.0993 - val_accuracy: 0.9841\n",
            "Epoch 45/100\n",
            "375/375 [==============================] - 2s 7ms/step - loss: 0.0199 - accuracy: 0.9941 - val_loss: 0.0999 - val_accuracy: 0.9840\n",
            "Epoch 46/100\n",
            "375/375 [==============================] - 2s 6ms/step - loss: 0.0201 - accuracy: 0.9938 - val_loss: 0.1033 - val_accuracy: 0.9843\n",
            "Epoch 47/100\n",
            "375/375 [==============================] - 2s 7ms/step - loss: 0.0188 - accuracy: 0.9946 - val_loss: 0.1037 - val_accuracy: 0.9848\n",
            "Epoch 48/100\n",
            "375/375 [==============================] - 3s 7ms/step - loss: 0.0209 - accuracy: 0.9938 - val_loss: 0.1114 - val_accuracy: 0.9845\n",
            "Epoch 49/100\n",
            "375/375 [==============================] - 2s 7ms/step - loss: 0.0176 - accuracy: 0.9945 - val_loss: 0.1040 - val_accuracy: 0.9837\n",
            "Epoch 50/100\n",
            "375/375 [==============================] - 2s 7ms/step - loss: 0.0203 - accuracy: 0.9940 - val_loss: 0.1114 - val_accuracy: 0.9845\n",
            "Epoch 51/100\n",
            "375/375 [==============================] - 2s 7ms/step - loss: 0.0198 - accuracy: 0.9945 - val_loss: 0.1038 - val_accuracy: 0.9849\n",
            "Epoch 52/100\n",
            "375/375 [==============================] - 2s 7ms/step - loss: 0.0166 - accuracy: 0.9953 - val_loss: 0.1041 - val_accuracy: 0.9843\n",
            "Epoch 53/100\n",
            "375/375 [==============================] - 2s 7ms/step - loss: 0.0171 - accuracy: 0.9947 - val_loss: 0.0998 - val_accuracy: 0.9842\n",
            "Epoch 54/100\n",
            "375/375 [==============================] - 2s 7ms/step - loss: 0.0180 - accuracy: 0.9948 - val_loss: 0.1061 - val_accuracy: 0.9838\n",
            "Epoch 55/100\n",
            "375/375 [==============================] - 2s 6ms/step - loss: 0.0175 - accuracy: 0.9947 - val_loss: 0.1058 - val_accuracy: 0.9843\n",
            "Epoch 56/100\n",
            "375/375 [==============================] - 2s 7ms/step - loss: 0.0175 - accuracy: 0.9952 - val_loss: 0.1038 - val_accuracy: 0.9843\n",
            "Epoch 57/100\n",
            "375/375 [==============================] - 2s 7ms/step - loss: 0.0198 - accuracy: 0.9945 - val_loss: 0.1136 - val_accuracy: 0.9829\n",
            "Epoch 58/100\n",
            "375/375 [==============================] - 3s 7ms/step - loss: 0.0172 - accuracy: 0.9951 - val_loss: 0.1080 - val_accuracy: 0.9851\n",
            "Epoch 59/100\n",
            "375/375 [==============================] - 3s 7ms/step - loss: 0.0154 - accuracy: 0.9958 - val_loss: 0.1213 - val_accuracy: 0.9828\n",
            "Epoch 60/100\n",
            "375/375 [==============================] - 3s 7ms/step - loss: 0.0184 - accuracy: 0.9949 - val_loss: 0.1127 - val_accuracy: 0.9846\n",
            "Epoch 61/100\n",
            "375/375 [==============================] - 2s 7ms/step - loss: 0.0170 - accuracy: 0.9951 - val_loss: 0.1185 - val_accuracy: 0.9834\n",
            "Epoch 62/100\n",
            "375/375 [==============================] - 2s 7ms/step - loss: 0.0163 - accuracy: 0.9953 - val_loss: 0.1141 - val_accuracy: 0.9837\n",
            "Epoch 63/100\n",
            "375/375 [==============================] - 2s 7ms/step - loss: 0.0155 - accuracy: 0.9955 - val_loss: 0.1108 - val_accuracy: 0.9841\n",
            "Epoch 64/100\n",
            "375/375 [==============================] - 2s 7ms/step - loss: 0.0178 - accuracy: 0.9943 - val_loss: 0.1155 - val_accuracy: 0.9833\n",
            "Epoch 65/100\n",
            "375/375 [==============================] - 2s 7ms/step - loss: 0.0157 - accuracy: 0.9955 - val_loss: 0.1113 - val_accuracy: 0.9839\n",
            "Epoch 66/100\n",
            "375/375 [==============================] - 2s 6ms/step - loss: 0.0165 - accuracy: 0.9951 - val_loss: 0.1131 - val_accuracy: 0.9847\n",
            "Epoch 67/100\n",
            "375/375 [==============================] - 2s 7ms/step - loss: 0.0157 - accuracy: 0.9956 - val_loss: 0.1219 - val_accuracy: 0.9843\n",
            "Epoch 68/100\n",
            "375/375 [==============================] - 2s 7ms/step - loss: 0.0148 - accuracy: 0.9957 - val_loss: 0.1163 - val_accuracy: 0.9849\n",
            "Epoch 69/100\n",
            "375/375 [==============================] - 3s 7ms/step - loss: 0.0150 - accuracy: 0.9957 - val_loss: 0.1165 - val_accuracy: 0.9839\n",
            "Epoch 70/100\n",
            "375/375 [==============================] - 2s 7ms/step - loss: 0.0167 - accuracy: 0.9954 - val_loss: 0.1207 - val_accuracy: 0.9837\n",
            "Epoch 71/100\n",
            "375/375 [==============================] - 3s 7ms/step - loss: 0.0161 - accuracy: 0.9954 - val_loss: 0.1196 - val_accuracy: 0.9845\n",
            "Epoch 72/100\n",
            "375/375 [==============================] - 3s 7ms/step - loss: 0.0180 - accuracy: 0.9951 - val_loss: 0.1116 - val_accuracy: 0.9846\n",
            "Epoch 73/100\n",
            "375/375 [==============================] - 3s 7ms/step - loss: 0.0160 - accuracy: 0.9956 - val_loss: 0.1171 - val_accuracy: 0.9840\n",
            "Epoch 74/100\n",
            "375/375 [==============================] - 3s 7ms/step - loss: 0.0139 - accuracy: 0.9960 - val_loss: 0.1138 - val_accuracy: 0.9843\n",
            "Epoch 75/100\n",
            "375/375 [==============================] - 2s 7ms/step - loss: 0.0150 - accuracy: 0.9961 - val_loss: 0.1143 - val_accuracy: 0.9834\n",
            "Epoch 76/100\n",
            "375/375 [==============================] - 2s 7ms/step - loss: 0.0163 - accuracy: 0.9954 - val_loss: 0.1133 - val_accuracy: 0.9846\n",
            "Epoch 77/100\n",
            "375/375 [==============================] - 2s 7ms/step - loss: 0.0134 - accuracy: 0.9961 - val_loss: 0.1297 - val_accuracy: 0.9838\n",
            "Epoch 78/100\n",
            "375/375 [==============================] - 2s 6ms/step - loss: 0.0149 - accuracy: 0.9956 - val_loss: 0.1235 - val_accuracy: 0.9843\n",
            "Epoch 79/100\n",
            "375/375 [==============================] - 3s 7ms/step - loss: 0.0146 - accuracy: 0.9957 - val_loss: 0.1205 - val_accuracy: 0.9846\n",
            "Epoch 80/100\n",
            "375/375 [==============================] - 3s 7ms/step - loss: 0.0146 - accuracy: 0.9962 - val_loss: 0.1299 - val_accuracy: 0.9839\n",
            "Epoch 81/100\n",
            "375/375 [==============================] - 2s 7ms/step - loss: 0.0143 - accuracy: 0.9961 - val_loss: 0.1233 - val_accuracy: 0.9844\n",
            "Epoch 82/100\n",
            "375/375 [==============================] - 3s 7ms/step - loss: 0.0149 - accuracy: 0.9956 - val_loss: 0.1243 - val_accuracy: 0.9847\n",
            "Epoch 83/100\n",
            "375/375 [==============================] - 3s 7ms/step - loss: 0.0141 - accuracy: 0.9960 - val_loss: 0.1203 - val_accuracy: 0.9846\n",
            "Epoch 84/100\n",
            "375/375 [==============================] - 3s 7ms/step - loss: 0.0145 - accuracy: 0.9964 - val_loss: 0.1228 - val_accuracy: 0.9849\n",
            "Epoch 85/100\n",
            "375/375 [==============================] - 3s 7ms/step - loss: 0.0150 - accuracy: 0.9958 - val_loss: 0.1176 - val_accuracy: 0.9843\n",
            "Epoch 86/100\n",
            "375/375 [==============================] - 3s 7ms/step - loss: 0.0122 - accuracy: 0.9966 - val_loss: 0.1269 - val_accuracy: 0.9845\n",
            "Epoch 87/100\n",
            "375/375 [==============================] - 3s 7ms/step - loss: 0.0116 - accuracy: 0.9962 - val_loss: 0.1248 - val_accuracy: 0.9844\n",
            "Epoch 88/100\n",
            "375/375 [==============================] - 2s 7ms/step - loss: 0.0149 - accuracy: 0.9958 - val_loss: 0.1286 - val_accuracy: 0.9835\n",
            "Epoch 89/100\n",
            "375/375 [==============================] - 3s 7ms/step - loss: 0.0135 - accuracy: 0.9963 - val_loss: 0.1191 - val_accuracy: 0.9841\n",
            "Epoch 90/100\n",
            "375/375 [==============================] - 2s 7ms/step - loss: 0.0147 - accuracy: 0.9962 - val_loss: 0.1223 - val_accuracy: 0.9845\n",
            "Epoch 91/100\n",
            "375/375 [==============================] - 3s 7ms/step - loss: 0.0123 - accuracy: 0.9966 - val_loss: 0.1368 - val_accuracy: 0.9842\n",
            "Epoch 92/100\n",
            "375/375 [==============================] - 2s 7ms/step - loss: 0.0164 - accuracy: 0.9957 - val_loss: 0.1342 - val_accuracy: 0.9834\n",
            "Epoch 93/100\n",
            "375/375 [==============================] - 3s 7ms/step - loss: 0.0144 - accuracy: 0.9966 - val_loss: 0.1306 - val_accuracy: 0.9839\n",
            "Epoch 94/100\n",
            "375/375 [==============================] - 3s 7ms/step - loss: 0.0141 - accuracy: 0.9965 - val_loss: 0.1414 - val_accuracy: 0.9823\n",
            "Epoch 95/100\n",
            "375/375 [==============================] - 3s 7ms/step - loss: 0.0133 - accuracy: 0.9965 - val_loss: 0.1301 - val_accuracy: 0.9839\n",
            "Epoch 96/100\n",
            "375/375 [==============================] - 3s 7ms/step - loss: 0.0143 - accuracy: 0.9962 - val_loss: 0.1265 - val_accuracy: 0.9848\n",
            "Epoch 97/100\n",
            "375/375 [==============================] - 3s 7ms/step - loss: 0.0167 - accuracy: 0.9958 - val_loss: 0.1286 - val_accuracy: 0.9841\n",
            "Epoch 98/100\n",
            "375/375 [==============================] - 3s 7ms/step - loss: 0.0114 - accuracy: 0.9969 - val_loss: 0.1242 - val_accuracy: 0.9843\n",
            "Epoch 99/100\n",
            "375/375 [==============================] - 2s 7ms/step - loss: 0.0135 - accuracy: 0.9962 - val_loss: 0.1252 - val_accuracy: 0.9849\n",
            "Epoch 100/100\n",
            "375/375 [==============================] - 3s 7ms/step - loss: 0.0148 - accuracy: 0.9965 - val_loss: 0.1330 - val_accuracy: 0.9852\n",
            "CPU times: user 4min 15s, sys: 26.6 s, total: 4min 42s\n",
            "Wall time: 4min 23s\n"
          ]
        }
      ]
    },
    {
      "cell_type": "code",
      "metadata": {
        "colab": {
          "base_uri": "https://localhost:8080/",
          "height": 404
        },
        "id": "kS_o8Cqv34OJ",
        "outputId": "cb51ec48-7973-4e8f-9043-67a276e92d93"
      },
      "source": [
        "epochs = range(1, len(Hist_mnis.history['loss']) +1)\n",
        "\n",
        "plt.figure(figsize = (9,6))\n",
        "plt.plot(epochs, Hist_mnis.history['loss'])\n",
        "plt.plot(epochs, Hist_mnis.history['val_loss'])\n",
        "plt.ylim(0, 0.25)\n",
        "plt.title('Training & Validation Loss')\n",
        "plt.xlabel('Epochs')\n",
        "plt.ylabel('Loss')\n",
        "plt.legend(['Training Loss', 'Validation Loss'])\n",
        "plt.grid()\n",
        "plt.show()"
      ],
      "execution_count": 45,
      "outputs": [
        {
          "output_type": "display_data",
          "data": {
            "image/png": "[encoded data removed]",
            "text/plain": [
              "<Figure size 648x432 with 1 Axes>"
            ]
          },
          "metadata": {
            "needs_background": "light"
          }
        }
      ]
    },
    {
      "cell_type": "code",
      "metadata": {
        "colab": {
          "base_uri": "https://localhost:8080/"
        },
        "id": "Cxcchn9W36Rt",
        "outputId": "23e0d74a-8323-4e07-93a7-991302f09c54"
      },
      "source": [
        "loss, accuracy = mnist.evaluate(X_test, y_test)\n",
        "\n",
        "print('Loss = {:.5f}'.format(loss))\n",
        "print('Accuracy = {:.5f}'.format(accuracy))"
      ],
      "execution_count": 46,
      "outputs": [
        {
          "output_type": "stream",
          "name": "stdout",
          "text": [
            "313/313 [==============================] - 1s 3ms/step - loss: 0.1039 - accuracy: 0.9857\n",
            "Loss = 0.10392\n",
            "Accuracy = 0.98570\n"
          ]
        }
      ]
    },
    {
      "cell_type": "markdown",
      "metadata": {
        "id": "Zg4qmfQc5P8H"
      },
      "source": [
        "- overfitting 줄이기 8\n",
        "    - model capactiy + Batch Normalization"
      ]
    },
    {
      "cell_type": "code",
      "metadata": {
        "id": "WYF6oQoQ5VD0"
      },
      "source": [
        "from tensorflow.keras import models\n",
        "from tensorflow.keras import layers\n",
        "\n",
        "mnist = models.Sequential()\n",
        "mnist.add(layers.Dense(256, activation='relu' ,input_shape=(28*28,)))\n",
        "mnist.add(layers.BatchNormalization())\n",
        "mnist.add(layers.Dense(128, activation='relu'))                 \n",
        "mnist.add(layers.BatchNormalization())\n",
        "mnist.add(layers.Dense(10, activation = 'softmax'))"
      ],
      "execution_count": 47,
      "outputs": []
    },
    {
      "cell_type": "code",
      "metadata": {
        "id": "nYIk1MeD5pT_"
      },
      "source": [
        "mnist.compile(loss = 'categorical_crossentropy',\n",
        "              optimizer = 'rmsprop',\n",
        "              metrics = ['accuracy'])"
      ],
      "execution_count": 48,
      "outputs": []
    },
    {
      "cell_type": "code",
      "metadata": {
        "colab": {
          "base_uri": "https://localhost:8080/"
        },
        "id": "oJgCH5jO5sPC",
        "outputId": "97d61682-e743-4acc-d091-07d341de7911"
      },
      "source": [
        "%%time\n",
        "\n",
        "Hist_mnis = mnist.fit(X_train, y_train,\n",
        "                      epochs = 100,\n",
        "                      batch_size = 128,\n",
        "                      validation_split = 0.2)"
      ],
      "execution_count": 49,
      "outputs": [
        {
          "output_type": "stream",
          "name": "stdout",
          "text": [
            "Epoch 1/100\n",
            "375/375 [==============================] - 3s 6ms/step - loss: 0.2056 - accuracy: 0.9391 - val_loss: 0.1444 - val_accuracy: 0.9603\n",
            "Epoch 2/100\n",
            "375/375 [==============================] - 2s 5ms/step - loss: 0.0825 - accuracy: 0.9753 - val_loss: 0.1033 - val_accuracy: 0.9682\n",
            "Epoch 3/100\n",
            "375/375 [==============================] - 2s 5ms/step - loss: 0.0537 - accuracy: 0.9836 - val_loss: 0.1022 - val_accuracy: 0.9707\n",
            "Epoch 4/100\n",
            "375/375 [==============================] - 2s 5ms/step - loss: 0.0384 - accuracy: 0.9880 - val_loss: 0.0896 - val_accuracy: 0.9747\n",
            "Epoch 5/100\n",
            "375/375 [==============================] - 2s 5ms/step - loss: 0.0293 - accuracy: 0.9912 - val_loss: 0.0935 - val_accuracy: 0.9749\n",
            "Epoch 6/100\n",
            "375/375 [==============================] - 2s 5ms/step - loss: 0.0213 - accuracy: 0.9929 - val_loss: 0.0899 - val_accuracy: 0.9760\n",
            "Epoch 7/100\n",
            "375/375 [==============================] - 2s 5ms/step - loss: 0.0168 - accuracy: 0.9948 - val_loss: 0.0958 - val_accuracy: 0.9748\n",
            "Epoch 8/100\n",
            "375/375 [==============================] - 2s 6ms/step - loss: 0.0144 - accuracy: 0.9956 - val_loss: 0.0954 - val_accuracy: 0.9772\n",
            "Epoch 9/100\n",
            "375/375 [==============================] - 2s 5ms/step - loss: 0.0117 - accuracy: 0.9963 - val_loss: 0.1006 - val_accuracy: 0.9764\n",
            "Epoch 10/100\n",
            "375/375 [==============================] - 2s 6ms/step - loss: 0.0103 - accuracy: 0.9966 - val_loss: 0.0891 - val_accuracy: 0.9790\n",
            "Epoch 11/100\n",
            "375/375 [==============================] - 2s 6ms/step - loss: 0.0085 - accuracy: 0.9974 - val_loss: 0.1020 - val_accuracy: 0.9772\n",
            "Epoch 12/100\n",
            "375/375 [==============================] - 2s 6ms/step - loss: 0.0076 - accuracy: 0.9974 - val_loss: 0.1175 - val_accuracy: 0.9768\n",
            "Epoch 13/100\n",
            "375/375 [==============================] - 2s 6ms/step - loss: 0.0074 - accuracy: 0.9975 - val_loss: 0.1106 - val_accuracy: 0.9768\n",
            "Epoch 14/100\n",
            "375/375 [==============================] - 2s 5ms/step - loss: 0.0069 - accuracy: 0.9977 - val_loss: 0.1132 - val_accuracy: 0.9778\n",
            "Epoch 15/100\n",
            "375/375 [==============================] - 2s 5ms/step - loss: 0.0077 - accuracy: 0.9974 - val_loss: 0.1014 - val_accuracy: 0.9794\n",
            "Epoch 16/100\n",
            "375/375 [==============================] - 2s 6ms/step - loss: 0.0059 - accuracy: 0.9981 - val_loss: 0.1041 - val_accuracy: 0.9787\n",
            "Epoch 17/100\n",
            "375/375 [==============================] - 2s 6ms/step - loss: 0.0056 - accuracy: 0.9983 - val_loss: 0.1134 - val_accuracy: 0.9791\n",
            "Epoch 18/100\n",
            "375/375 [==============================] - 2s 5ms/step - loss: 0.0049 - accuracy: 0.9984 - val_loss: 0.1162 - val_accuracy: 0.9758\n",
            "Epoch 19/100\n",
            "375/375 [==============================] - 2s 5ms/step - loss: 0.0056 - accuracy: 0.9982 - val_loss: 0.1232 - val_accuracy: 0.9766\n",
            "Epoch 20/100\n",
            "375/375 [==============================] - 2s 6ms/step - loss: 0.0038 - accuracy: 0.9987 - val_loss: 0.1153 - val_accuracy: 0.9787\n",
            "Epoch 21/100\n",
            "375/375 [==============================] - 2s 6ms/step - loss: 0.0046 - accuracy: 0.9984 - val_loss: 0.1193 - val_accuracy: 0.9788\n",
            "Epoch 22/100\n",
            "375/375 [==============================] - 2s 6ms/step - loss: 0.0049 - accuracy: 0.9985 - val_loss: 0.1209 - val_accuracy: 0.9772\n",
            "Epoch 23/100\n",
            "375/375 [==============================] - 2s 6ms/step - loss: 0.0046 - accuracy: 0.9985 - val_loss: 0.1150 - val_accuracy: 0.9778\n",
            "Epoch 24/100\n",
            "375/375 [==============================] - 2s 6ms/step - loss: 0.0048 - accuracy: 0.9986 - val_loss: 0.1270 - val_accuracy: 0.9772\n",
            "Epoch 25/100\n",
            "375/375 [==============================] - 2s 6ms/step - loss: 0.0043 - accuracy: 0.9986 - val_loss: 0.1210 - val_accuracy: 0.9766\n",
            "Epoch 26/100\n",
            "375/375 [==============================] - 2s 6ms/step - loss: 0.0034 - accuracy: 0.9989 - val_loss: 0.1274 - val_accuracy: 0.9769\n",
            "Epoch 27/100\n",
            "375/375 [==============================] - 2s 6ms/step - loss: 0.0039 - accuracy: 0.9988 - val_loss: 0.1348 - val_accuracy: 0.9767\n",
            "Epoch 28/100\n",
            "375/375 [==============================] - 2s 6ms/step - loss: 0.0033 - accuracy: 0.9990 - val_loss: 0.1333 - val_accuracy: 0.9785\n",
            "Epoch 29/100\n",
            "375/375 [==============================] - 2s 5ms/step - loss: 0.0035 - accuracy: 0.9988 - val_loss: 0.1212 - val_accuracy: 0.9778\n",
            "Epoch 30/100\n",
            "375/375 [==============================] - 2s 6ms/step - loss: 0.0034 - accuracy: 0.9991 - val_loss: 0.1355 - val_accuracy: 0.9768\n",
            "Epoch 31/100\n",
            "375/375 [==============================] - 2s 5ms/step - loss: 0.0037 - accuracy: 0.9989 - val_loss: 0.1173 - val_accuracy: 0.9801\n",
            "Epoch 32/100\n",
            "375/375 [==============================] - 2s 6ms/step - loss: 0.0034 - accuracy: 0.9988 - val_loss: 0.1241 - val_accuracy: 0.9782\n",
            "Epoch 33/100\n",
            "375/375 [==============================] - 2s 6ms/step - loss: 0.0031 - accuracy: 0.9991 - val_loss: 0.1386 - val_accuracy: 0.9764\n",
            "Epoch 34/100\n",
            "375/375 [==============================] - 2s 5ms/step - loss: 0.0034 - accuracy: 0.9990 - val_loss: 0.1449 - val_accuracy: 0.9778\n",
            "Epoch 35/100\n",
            "375/375 [==============================] - 2s 6ms/step - loss: 0.0032 - accuracy: 0.9989 - val_loss: 0.1327 - val_accuracy: 0.9782\n",
            "Epoch 36/100\n",
            "375/375 [==============================] - 2s 6ms/step - loss: 0.0033 - accuracy: 0.9988 - val_loss: 0.1258 - val_accuracy: 0.9783\n",
            "Epoch 37/100\n",
            "375/375 [==============================] - 2s 6ms/step - loss: 0.0027 - accuracy: 0.9991 - val_loss: 0.1290 - val_accuracy: 0.9785\n",
            "Epoch 38/100\n",
            "375/375 [==============================] - 2s 5ms/step - loss: 0.0028 - accuracy: 0.9990 - val_loss: 0.1197 - val_accuracy: 0.9798\n",
            "Epoch 39/100\n",
            "375/375 [==============================] - 2s 6ms/step - loss: 0.0031 - accuracy: 0.9990 - val_loss: 0.1302 - val_accuracy: 0.9785\n",
            "Epoch 40/100\n",
            "375/375 [==============================] - 2s 6ms/step - loss: 0.0029 - accuracy: 0.9990 - val_loss: 0.1473 - val_accuracy: 0.9761\n",
            "Epoch 41/100\n",
            "375/375 [==============================] - 2s 6ms/step - loss: 0.0024 - accuracy: 0.9992 - val_loss: 0.1392 - val_accuracy: 0.9783\n",
            "Epoch 42/100\n",
            "375/375 [==============================] - 2s 5ms/step - loss: 0.0021 - accuracy: 0.9994 - val_loss: 0.1553 - val_accuracy: 0.9766\n",
            "Epoch 43/100\n",
            "375/375 [==============================] - 2s 6ms/step - loss: 0.0024 - accuracy: 0.9993 - val_loss: 0.1482 - val_accuracy: 0.9774\n",
            "Epoch 44/100\n",
            "375/375 [==============================] - 2s 5ms/step - loss: 0.0022 - accuracy: 0.9992 - val_loss: 0.1374 - val_accuracy: 0.9778\n",
            "Epoch 45/100\n",
            "375/375 [==============================] - 2s 5ms/step - loss: 0.0026 - accuracy: 0.9989 - val_loss: 0.1355 - val_accuracy: 0.9794\n",
            "Epoch 46/100\n",
            "375/375 [==============================] - 2s 6ms/step - loss: 0.0028 - accuracy: 0.9991 - val_loss: 0.1634 - val_accuracy: 0.9762\n",
            "Epoch 47/100\n",
            "375/375 [==============================] - 2s 5ms/step - loss: 0.0030 - accuracy: 0.9992 - val_loss: 0.1256 - val_accuracy: 0.9793\n",
            "Epoch 48/100\n",
            "375/375 [==============================] - 2s 5ms/step - loss: 0.0024 - accuracy: 0.9991 - val_loss: 0.1473 - val_accuracy: 0.9765\n",
            "Epoch 49/100\n",
            "375/375 [==============================] - 2s 6ms/step - loss: 0.0036 - accuracy: 0.9990 - val_loss: 0.1324 - val_accuracy: 0.9793\n",
            "Epoch 50/100\n",
            "375/375 [==============================] - 2s 6ms/step - loss: 0.0024 - accuracy: 0.9992 - val_loss: 0.1360 - val_accuracy: 0.9792\n",
            "Epoch 51/100\n",
            "375/375 [==============================] - 2s 6ms/step - loss: 0.0022 - accuracy: 0.9994 - val_loss: 0.1364 - val_accuracy: 0.9775\n",
            "Epoch 52/100\n",
            "375/375 [==============================] - 2s 5ms/step - loss: 0.0026 - accuracy: 0.9992 - val_loss: 0.1350 - val_accuracy: 0.9787\n",
            "Epoch 53/100\n",
            "375/375 [==============================] - 2s 6ms/step - loss: 0.0034 - accuracy: 0.9990 - val_loss: 0.1546 - val_accuracy: 0.9774\n",
            "Epoch 54/100\n",
            "375/375 [==============================] - 2s 5ms/step - loss: 0.0016 - accuracy: 0.9994 - val_loss: 0.1463 - val_accuracy: 0.9784\n",
            "Epoch 55/100\n",
            "375/375 [==============================] - 2s 6ms/step - loss: 0.0024 - accuracy: 0.9991 - val_loss: 0.1380 - val_accuracy: 0.9785\n",
            "Epoch 56/100\n",
            "375/375 [==============================] - 2s 5ms/step - loss: 0.0022 - accuracy: 0.9993 - val_loss: 0.1612 - val_accuracy: 0.9778\n",
            "Epoch 57/100\n",
            "375/375 [==============================] - 2s 6ms/step - loss: 0.0023 - accuracy: 0.9994 - val_loss: 0.1478 - val_accuracy: 0.9784\n",
            "Epoch 58/100\n",
            "375/375 [==============================] - 2s 6ms/step - loss: 0.0016 - accuracy: 0.9994 - val_loss: 0.1725 - val_accuracy: 0.9754\n",
            "Epoch 59/100\n",
            "375/375 [==============================] - 2s 6ms/step - loss: 0.0023 - accuracy: 0.9993 - val_loss: 0.1657 - val_accuracy: 0.9772\n",
            "Epoch 60/100\n",
            "375/375 [==============================] - 2s 6ms/step - loss: 0.0021 - accuracy: 0.9993 - val_loss: 0.1486 - val_accuracy: 0.9772\n",
            "Epoch 61/100\n",
            "375/375 [==============================] - 2s 5ms/step - loss: 0.0024 - accuracy: 0.9992 - val_loss: 0.1490 - val_accuracy: 0.9786\n",
            "Epoch 62/100\n",
            "375/375 [==============================] - 2s 6ms/step - loss: 0.0018 - accuracy: 0.9994 - val_loss: 0.1556 - val_accuracy: 0.9761\n",
            "Epoch 63/100\n",
            "375/375 [==============================] - 2s 6ms/step - loss: 0.0018 - accuracy: 0.9994 - val_loss: 0.1710 - val_accuracy: 0.9762\n",
            "Epoch 64/100\n",
            "375/375 [==============================] - 2s 5ms/step - loss: 0.0018 - accuracy: 0.9993 - val_loss: 0.1625 - val_accuracy: 0.9771\n",
            "Epoch 65/100\n",
            "375/375 [==============================] - 2s 6ms/step - loss: 0.0020 - accuracy: 0.9992 - val_loss: 0.1799 - val_accuracy: 0.9762\n",
            "Epoch 66/100\n",
            "375/375 [==============================] - 2s 5ms/step - loss: 0.0022 - accuracy: 0.9994 - val_loss: 0.1501 - val_accuracy: 0.9797\n",
            "Epoch 67/100\n",
            "375/375 [==============================] - 2s 6ms/step - loss: 0.0022 - accuracy: 0.9994 - val_loss: 0.1530 - val_accuracy: 0.9785\n",
            "Epoch 68/100\n",
            "375/375 [==============================] - 2s 6ms/step - loss: 0.0018 - accuracy: 0.9993 - val_loss: 0.1527 - val_accuracy: 0.9783\n",
            "Epoch 69/100\n",
            "375/375 [==============================] - 2s 6ms/step - loss: 0.0019 - accuracy: 0.9994 - val_loss: 0.1387 - val_accuracy: 0.9787\n",
            "Epoch 70/100\n",
            "375/375 [==============================] - 2s 5ms/step - loss: 0.0018 - accuracy: 0.9994 - val_loss: 0.1485 - val_accuracy: 0.9785\n",
            "Epoch 71/100\n",
            "375/375 [==============================] - 2s 6ms/step - loss: 0.0017 - accuracy: 0.9994 - val_loss: 0.1456 - val_accuracy: 0.9794\n",
            "Epoch 72/100\n",
            "375/375 [==============================] - 2s 6ms/step - loss: 0.0028 - accuracy: 0.9992 - val_loss: 0.1513 - val_accuracy: 0.9776\n",
            "Epoch 73/100\n",
            "375/375 [==============================] - 2s 5ms/step - loss: 0.0012 - accuracy: 0.9996 - val_loss: 0.1457 - val_accuracy: 0.9796\n",
            "Epoch 74/100\n",
            "375/375 [==============================] - 2s 5ms/step - loss: 0.0016 - accuracy: 0.9994 - val_loss: 0.1497 - val_accuracy: 0.9781\n",
            "Epoch 75/100\n",
            "375/375 [==============================] - 2s 6ms/step - loss: 0.0019 - accuracy: 0.9994 - val_loss: 0.1788 - val_accuracy: 0.9744\n",
            "Epoch 76/100\n",
            "375/375 [==============================] - 2s 6ms/step - loss: 0.0017 - accuracy: 0.9994 - val_loss: 0.1693 - val_accuracy: 0.9772\n",
            "Epoch 77/100\n",
            "375/375 [==============================] - 2s 5ms/step - loss: 0.0018 - accuracy: 0.9995 - val_loss: 0.1692 - val_accuracy: 0.9773\n",
            "Epoch 78/100\n",
            "375/375 [==============================] - 2s 6ms/step - loss: 0.0019 - accuracy: 0.9994 - val_loss: 0.1462 - val_accuracy: 0.9797\n",
            "Epoch 79/100\n",
            "375/375 [==============================] - 2s 5ms/step - loss: 0.0018 - accuracy: 0.9993 - val_loss: 0.1650 - val_accuracy: 0.9765\n",
            "Epoch 80/100\n",
            "375/375 [==============================] - 2s 6ms/step - loss: 0.0024 - accuracy: 0.9992 - val_loss: 0.1539 - val_accuracy: 0.9797\n",
            "Epoch 81/100\n",
            "375/375 [==============================] - 2s 6ms/step - loss: 0.0016 - accuracy: 0.9995 - val_loss: 0.1767 - val_accuracy: 0.9765\n",
            "Epoch 82/100\n",
            "375/375 [==============================] - 2s 5ms/step - loss: 0.0014 - accuracy: 0.9995 - val_loss: 0.1748 - val_accuracy: 0.9780\n",
            "Epoch 83/100\n",
            "375/375 [==============================] - 2s 5ms/step - loss: 0.0016 - accuracy: 0.9995 - val_loss: 0.1644 - val_accuracy: 0.9786\n",
            "Epoch 84/100\n",
            "375/375 [==============================] - 2s 6ms/step - loss: 0.0017 - accuracy: 0.9994 - val_loss: 0.1679 - val_accuracy: 0.9787\n",
            "Epoch 85/100\n",
            "375/375 [==============================] - 2s 6ms/step - loss: 0.0018 - accuracy: 0.9994 - val_loss: 0.1751 - val_accuracy: 0.9772\n",
            "Epoch 86/100\n",
            "375/375 [==============================] - 2s 5ms/step - loss: 0.0018 - accuracy: 0.9994 - val_loss: 0.1742 - val_accuracy: 0.9775\n",
            "Epoch 87/100\n",
            "375/375 [==============================] - 2s 6ms/step - loss: 0.0019 - accuracy: 0.9994 - val_loss: 0.1647 - val_accuracy: 0.9779\n",
            "Epoch 88/100\n",
            "375/375 [==============================] - 2s 5ms/step - loss: 0.0015 - accuracy: 0.9995 - val_loss: 0.1642 - val_accuracy: 0.9779\n",
            "Epoch 89/100\n",
            "375/375 [==============================] - 2s 6ms/step - loss: 0.0016 - accuracy: 0.9995 - val_loss: 0.1584 - val_accuracy: 0.9791\n",
            "Epoch 90/100\n",
            "375/375 [==============================] - 2s 5ms/step - loss: 0.0019 - accuracy: 0.9994 - val_loss: 0.1883 - val_accuracy: 0.9753\n",
            "Epoch 91/100\n",
            "375/375 [==============================] - 2s 6ms/step - loss: 0.0029 - accuracy: 0.9993 - val_loss: 0.1672 - val_accuracy: 0.9795\n",
            "Epoch 92/100\n",
            "375/375 [==============================] - 2s 5ms/step - loss: 0.0018 - accuracy: 0.9995 - val_loss: 0.1779 - val_accuracy: 0.9767\n",
            "Epoch 93/100\n",
            "375/375 [==============================] - 2s 5ms/step - loss: 8.6363e-04 - accuracy: 0.9997 - val_loss: 0.1667 - val_accuracy: 0.9783\n",
            "Epoch 94/100\n",
            "375/375 [==============================] - 2s 5ms/step - loss: 0.0018 - accuracy: 0.9994 - val_loss: 0.1772 - val_accuracy: 0.9777\n",
            "Epoch 95/100\n",
            "375/375 [==============================] - 2s 6ms/step - loss: 0.0014 - accuracy: 0.9996 - val_loss: 0.1756 - val_accuracy: 0.9771\n",
            "Epoch 96/100\n",
            "375/375 [==============================] - 2s 6ms/step - loss: 0.0019 - accuracy: 0.9995 - val_loss: 0.1721 - val_accuracy: 0.9768\n",
            "Epoch 97/100\n",
            "375/375 [==============================] - 2s 6ms/step - loss: 0.0012 - accuracy: 0.9995 - val_loss: 0.1657 - val_accuracy: 0.9794\n",
            "Epoch 98/100\n",
            "375/375 [==============================] - 2s 6ms/step - loss: 0.0019 - accuracy: 0.9995 - val_loss: 0.1604 - val_accuracy: 0.9798\n",
            "Epoch 99/100\n",
            "375/375 [==============================] - 2s 6ms/step - loss: 0.0015 - accuracy: 0.9994 - val_loss: 0.1836 - val_accuracy: 0.9789\n",
            "Epoch 100/100\n",
            "375/375 [==============================] - 2s 5ms/step - loss: 0.0013 - accuracy: 0.9996 - val_loss: 0.1648 - val_accuracy: 0.9798\n",
            "CPU times: user 3min 34s, sys: 27.7 s, total: 4min 2s\n",
            "Wall time: 3min 29s\n"
          ]
        }
      ]
    },
    {
      "cell_type": "code",
      "metadata": {
        "colab": {
          "base_uri": "https://localhost:8080/",
          "height": 404
        },
        "id": "Y2jExzcF5wM0",
        "outputId": "deace8fe-749a-4c93-931f-841c7411919d"
      },
      "source": [
        "epochs = range(1, len(Hist_mnis.history['loss']) +1)\n",
        "\n",
        "plt.figure(figsize = (9,6))\n",
        "plt.plot(epochs, Hist_mnis.history['loss'])\n",
        "plt.plot(epochs, Hist_mnis.history['val_loss'])\n",
        "plt.ylim(0, 0.25)\n",
        "plt.title('Training & Validation Loss')\n",
        "plt.xlabel('Epochs')\n",
        "plt.ylabel('Loss')\n",
        "plt.legend(['Training Loss', 'Validation Loss'])\n",
        "plt.grid()\n",
        "plt.show()"
      ],
      "execution_count": 50,
      "outputs": [
        {
          "output_type": "display_data",
          "data": {
            "image/png": "[encoded data removed]",
            "text/plain": [
              "<Figure size 648x432 with 1 Axes>"
            ]
          },
          "metadata": {
            "needs_background": "light"
          }
        }
      ]
    },
    {
      "cell_type": "code",
      "metadata": {
        "colab": {
          "base_uri": "https://localhost:8080/"
        },
        "id": "05ffj3Fb5zJt",
        "outputId": "53848a51-4ecd-4ea8-9624-542379184f92"
      },
      "source": [
        "loss, accuracy = mnist.evaluate(X_test, y_test)\n",
        "\n",
        "print('Loss = {:.5f}'.format(loss))\n",
        "print('Accuracy = {:.5f}'.format(accuracy))"
      ],
      "execution_count": 51,
      "outputs": [
        {
          "output_type": "stream",
          "name": "stdout",
          "text": [
            "313/313 [==============================] - 1s 3ms/step - loss: 0.1455 - accuracy: 0.9821\n",
            "Loss = 0.14554\n",
            "Accuracy = 0.98210\n"
          ]
        }
      ]
    }
  ]
}