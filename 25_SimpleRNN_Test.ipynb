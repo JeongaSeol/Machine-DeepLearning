{
  "nbformat": 4,
  "nbformat_minor": 0,
  "metadata": {
    "colab": {
      "name": "23_SimpleRNN_Test.ipynb",
      "provenance": [],
      "collapsed_sections": []
    },
    "kernelspec": {
      "name": "python3",
      "display_name": "Python 3"
    },
    "language_info": {
      "name": "python"
    }
  },
  "cells": [
    {
      "cell_type": "markdown",
      "metadata": {
        "id": "iMJ9N6K2lzLY"
      },
      "source": [
        "# SimpleRNN Test Code"
      ]
    },
    {
      "cell_type": "code",
      "metadata": {
        "id": "_uqavl96Ztvg"
      },
      "source": [
        "import warnings\n",
        "\n",
        "warnings.filterwarnings('ignore')"
      ],
      "execution_count": 1,
      "outputs": []
    },
    {
      "cell_type": "code",
      "metadata": {
        "id": "YCLE-33zl3c2"
      },
      "source": [
        "import numpy as np\n",
        "import matplotlib.pyplot as plt\n"
      ],
      "execution_count": 2,
      "outputs": []
    },
    {
      "cell_type": "markdown",
      "metadata": {
        "id": "u9U9NJzJl7BT"
      },
      "source": [
        "\n",
        "# Simple RNN - without Normalization"
      ]
    },
    {
      "cell_type": "code",
      "metadata": {
        "colab": {
          "base_uri": "https://localhost:8080/"
        },
        "id": "bczPWgMml6SW",
        "outputId": "24abd38b-6d93-4729-a71f-30301109fa9e"
      },
      "source": [
        "# input 데이터 생성(100,5,1): (5,1)짜리 100개\n",
        "\n",
        "X = [[[i+j] for i in range(5)] for j in range(100)]\n",
        "\n",
        "X[:3], X[-3:]"
      ],
      "execution_count": 4,
      "outputs": [
        {
          "output_type": "execute_result",
          "data": {
            "text/plain": [
              "([[[0], [1], [2], [3], [4]],\n",
              "  [[1], [2], [3], [4], [5]],\n",
              "  [[2], [3], [4], [5], [6]]],\n",
              " [[[97], [98], [99], [100], [101]],\n",
              "  [[98], [99], [100], [101], [102]],\n",
              "  [[99], [100], [101], [102], [103]]])"
            ]
          },
          "metadata": {},
          "execution_count": 4
        }
      ]
    },
    {
      "cell_type": "code",
      "metadata": {
        "colab": {
          "base_uri": "https://localhost:8080/"
        },
        "id": "m0lZuFY9mJG9",
        "outputId": "714f265b-dca5-412e-edb8-903a53359edd"
      },
      "source": [
        "# Output 데이터 생성 (100, 1)\n",
        "\n",
        "y = [(i+5) for i in range(100)]\n",
        "\n",
        "y[:3], y[-3:]"
      ],
      "execution_count": 5,
      "outputs": [
        {
          "output_type": "execute_result",
          "data": {
            "text/plain": [
              "([5, 6, 7], [102, 103, 104])"
            ]
          },
          "metadata": {},
          "execution_count": 5
        }
      ]
    },
    {
      "cell_type": "code",
      "metadata": {
        "colab": {
          "base_uri": "https://localhost:8080/"
        },
        "id": "GVX0XfkrmSKt",
        "outputId": "1c24738c-b6da-41f6-e614-a0761ba2c672"
      },
      "source": [
        "X = np.array(X, dtype = float)\n",
        "y = np.array(y, dtype = float)\n",
        "\n",
        "X.shape, y.shape"
      ],
      "execution_count": 6,
      "outputs": [
        {
          "output_type": "execute_result",
          "data": {
            "text/plain": [
              "((100, 5, 1), (100,))"
            ]
          },
          "metadata": {},
          "execution_count": 6
        }
      ]
    },
    {
      "cell_type": "code",
      "metadata": {
        "colab": {
          "base_uri": "https://localhost:8080/"
        },
        "id": "3i-i8sL6mZIE",
        "outputId": "146c036f-271d-430f-dd61-77fe32fb209e"
      },
      "source": [
        "# train & test split - 8:2\n",
        "\n",
        "from sklearn.model_selection import train_test_split\n",
        "\n",
        "X_train, X_test, y_train, y_test = train_test_split(X, y, \n",
        "                                                    test_size = 0.2,\n",
        "                                                    random_state = 2045)\n",
        "\n",
        "X_train.shape, y_train.shape, X_test.shape, y_test.shape"
      ],
      "execution_count": 7,
      "outputs": [
        {
          "output_type": "execute_result",
          "data": {
            "text/plain": [
              "((80, 5, 1), (80,), (20, 5, 1), (20,))"
            ]
          },
          "metadata": {},
          "execution_count": 7
        }
      ]
    },
    {
      "cell_type": "markdown",
      "metadata": {
        "id": "T_xXDDHvm5p6"
      },
      "source": [
        "## Modeling"
      ]
    },
    {
      "cell_type": "code",
      "metadata": {
        "colab": {
          "base_uri": "https://localhost:8080/"
        },
        "id": "Qr2FQMqmmxUN",
        "outputId": "62f88183-002b-4a99-c769-c615589b4f50"
      },
      "source": [
        "# model define\n",
        "\n",
        "from tensorflow.keras import models, layers\n",
        "\n",
        "model_1 = models.Sequential(name = 'SimpleRNN_1')\n",
        "model_1.add(layers.SimpleRNN(3,\n",
        "                             input_shape = (5,1),\n",
        "                             return_sequences = False))\n",
        "\n",
        "model_1.add(layers.Dense(1))\n",
        "\n",
        "model_1.summary()"
      ],
      "execution_count": 8,
      "outputs": [
        {
          "output_type": "stream",
          "name": "stdout",
          "text": [
            "Model: \"SimpleRNN_1\"\n",
            "_________________________________________________________________\n",
            "Layer (type)                 Output Shape              Param #   \n",
            "=================================================================\n",
            "simple_rnn (SimpleRNN)       (None, 3)                 15        \n",
            "_________________________________________________________________\n",
            "dense (Dense)                (None, 1)                 4         \n",
            "=================================================================\n",
            "Total params: 19\n",
            "Trainable params: 19\n",
            "Non-trainable params: 0\n",
            "_________________________________________________________________\n"
          ]
        }
      ]
    },
    {
      "cell_type": "code",
      "metadata": {
        "id": "VPLDHLDFn7gd"
      },
      "source": [
        "# model compile\n",
        "\n",
        "model_1.compile(loss = 'mse',\n",
        "                optimizer = 'adam',\n",
        "                metrics = ['accuracy'])"
      ],
      "execution_count": 9,
      "outputs": []
    },
    {
      "cell_type": "code",
      "metadata": {
        "colab": {
          "base_uri": "https://localhost:8080/"
        },
        "id": "QJhjFeqeoDGN",
        "outputId": "9d7b43d8-db9b-4035-e120-94b39095308e"
      },
      "source": [
        "# model fit\n",
        "\n",
        "Hist_1 = model_1.fit(X_train, y_train,\n",
        "                     epochs = 100,\n",
        "                     batch_size = 8,\n",
        "                     validation_data = (X_test, y_test))"
      ],
      "execution_count": 10,
      "outputs": [
        {
          "output_type": "stream",
          "name": "stdout",
          "text": [
            "Epoch 1/100\n",
            "10/10 [==============================] - 1s 32ms/step - loss: 3554.1929 - accuracy: 0.0000e+00 - val_loss: 3502.4512 - val_accuracy: 0.0000e+00\n",
            "Epoch 2/100\n",
            "10/10 [==============================] - 0s 4ms/step - loss: 3549.7671 - accuracy: 0.0000e+00 - val_loss: 3498.1094 - val_accuracy: 0.0000e+00\n",
            "Epoch 3/100\n",
            "10/10 [==============================] - 0s 4ms/step - loss: 3545.5273 - accuracy: 0.0000e+00 - val_loss: 3493.8188 - val_accuracy: 0.0000e+00\n",
            "Epoch 4/100\n",
            "10/10 [==============================] - 0s 4ms/step - loss: 3541.3782 - accuracy: 0.0000e+00 - val_loss: 3489.5757 - val_accuracy: 0.0000e+00\n",
            "Epoch 5/100\n",
            "10/10 [==============================] - 0s 4ms/step - loss: 3537.0383 - accuracy: 0.0000e+00 - val_loss: 3485.5183 - val_accuracy: 0.0000e+00\n",
            "Epoch 6/100\n",
            "10/10 [==============================] - 0s 4ms/step - loss: 3533.1868 - accuracy: 0.0000e+00 - val_loss: 3481.2632 - val_accuracy: 0.0000e+00\n",
            "Epoch 7/100\n",
            "10/10 [==============================] - 0s 4ms/step - loss: 3529.0098 - accuracy: 0.0000e+00 - val_loss: 3477.1060 - val_accuracy: 0.0000e+00\n",
            "Epoch 8/100\n",
            "10/10 [==============================] - 0s 4ms/step - loss: 3524.8540 - accuracy: 0.0000e+00 - val_loss: 3473.0188 - val_accuracy: 0.0000e+00\n",
            "Epoch 9/100\n",
            "10/10 [==============================] - 0s 6ms/step - loss: 3520.8132 - accuracy: 0.0000e+00 - val_loss: 3468.8999 - val_accuracy: 0.0000e+00\n",
            "Epoch 10/100\n",
            "10/10 [==============================] - 0s 5ms/step - loss: 3516.8979 - accuracy: 0.0000e+00 - val_loss: 3464.6687 - val_accuracy: 0.0000e+00\n",
            "Epoch 11/100\n",
            "10/10 [==============================] - 0s 4ms/step - loss: 3512.5806 - accuracy: 0.0000e+00 - val_loss: 3460.6926 - val_accuracy: 0.0000e+00\n",
            "Epoch 12/100\n",
            "10/10 [==============================] - 0s 4ms/step - loss: 3508.8750 - accuracy: 0.0000e+00 - val_loss: 3456.4180 - val_accuracy: 0.0000e+00\n",
            "Epoch 13/100\n",
            "10/10 [==============================] - 0s 4ms/step - loss: 3504.6282 - accuracy: 0.0000e+00 - val_loss: 3452.3601 - val_accuracy: 0.0000e+00\n",
            "Epoch 14/100\n",
            "10/10 [==============================] - 0s 4ms/step - loss: 3500.5874 - accuracy: 0.0000e+00 - val_loss: 3448.3210 - val_accuracy: 0.0000e+00\n",
            "Epoch 15/100\n",
            "10/10 [==============================] - 0s 4ms/step - loss: 3496.6414 - accuracy: 0.0000e+00 - val_loss: 3444.2188 - val_accuracy: 0.0000e+00\n",
            "Epoch 16/100\n",
            "10/10 [==============================] - 0s 4ms/step - loss: 3492.6206 - accuracy: 0.0000e+00 - val_loss: 3440.1296 - val_accuracy: 0.0000e+00\n",
            "Epoch 17/100\n",
            "10/10 [==============================] - 0s 4ms/step - loss: 3488.6167 - accuracy: 0.0000e+00 - val_loss: 3436.0442 - val_accuracy: 0.0000e+00\n",
            "Epoch 18/100\n",
            "10/10 [==============================] - 0s 4ms/step - loss: 3484.5535 - accuracy: 0.0000e+00 - val_loss: 3432.0149 - val_accuracy: 0.0000e+00\n",
            "Epoch 19/100\n",
            "10/10 [==============================] - 0s 4ms/step - loss: 3480.5625 - accuracy: 0.0000e+00 - val_loss: 3427.9819 - val_accuracy: 0.0000e+00\n",
            "Epoch 20/100\n",
            "10/10 [==============================] - 0s 4ms/step - loss: 3476.5874 - accuracy: 0.0000e+00 - val_loss: 3423.9277 - val_accuracy: 0.0000e+00\n",
            "Epoch 21/100\n",
            "10/10 [==============================] - 0s 6ms/step - loss: 3472.6257 - accuracy: 0.0000e+00 - val_loss: 3419.8508 - val_accuracy: 0.0000e+00\n",
            "Epoch 22/100\n",
            "10/10 [==============================] - 0s 5ms/step - loss: 3468.6179 - accuracy: 0.0000e+00 - val_loss: 3415.8022 - val_accuracy: 0.0000e+00\n",
            "Epoch 23/100\n",
            "10/10 [==============================] - 0s 4ms/step - loss: 3464.6538 - accuracy: 0.0000e+00 - val_loss: 3411.7407 - val_accuracy: 0.0000e+00\n",
            "Epoch 24/100\n",
            "10/10 [==============================] - 0s 5ms/step - loss: 3460.6594 - accuracy: 0.0000e+00 - val_loss: 3407.6980 - val_accuracy: 0.0000e+00\n",
            "Epoch 25/100\n",
            "10/10 [==============================] - 0s 4ms/step - loss: 3456.7188 - accuracy: 0.0000e+00 - val_loss: 3403.6321 - val_accuracy: 0.0000e+00\n",
            "Epoch 26/100\n",
            "10/10 [==============================] - 0s 4ms/step - loss: 3452.6602 - accuracy: 0.0000e+00 - val_loss: 3399.6519 - val_accuracy: 0.0000e+00\n",
            "Epoch 27/100\n",
            "10/10 [==============================] - 0s 4ms/step - loss: 3448.7915 - accuracy: 0.0000e+00 - val_loss: 3395.5781 - val_accuracy: 0.0000e+00\n",
            "Epoch 28/100\n",
            "10/10 [==============================] - 0s 4ms/step - loss: 3444.7290 - accuracy: 0.0000e+00 - val_loss: 3391.6047 - val_accuracy: 0.0000e+00\n",
            "Epoch 29/100\n",
            "10/10 [==============================] - 0s 4ms/step - loss: 3440.8640 - accuracy: 0.0000e+00 - val_loss: 3387.5430 - val_accuracy: 0.0000e+00\n",
            "Epoch 30/100\n",
            "10/10 [==============================] - 0s 4ms/step - loss: 3436.9211 - accuracy: 0.0000e+00 - val_loss: 3383.4778 - val_accuracy: 0.0000e+00\n",
            "Epoch 31/100\n",
            "10/10 [==============================] - 0s 4ms/step - loss: 3432.9832 - accuracy: 0.0000e+00 - val_loss: 3379.4128 - val_accuracy: 0.0000e+00\n",
            "Epoch 32/100\n",
            "10/10 [==============================] - 0s 5ms/step - loss: 3428.8804 - accuracy: 0.0000e+00 - val_loss: 3375.5039 - val_accuracy: 0.0000e+00\n",
            "Epoch 33/100\n",
            "10/10 [==============================] - 0s 4ms/step - loss: 3425.0422 - accuracy: 0.0000e+00 - val_loss: 3371.4954 - val_accuracy: 0.0000e+00\n",
            "Epoch 34/100\n",
            "10/10 [==============================] - 0s 4ms/step - loss: 3421.0891 - accuracy: 0.0000e+00 - val_loss: 3367.5024 - val_accuracy: 0.0000e+00\n",
            "Epoch 35/100\n",
            "10/10 [==============================] - 0s 4ms/step - loss: 3417.2622 - accuracy: 0.0000e+00 - val_loss: 3363.4165 - val_accuracy: 0.0000e+00\n",
            "Epoch 36/100\n",
            "10/10 [==============================] - 0s 6ms/step - loss: 3413.2039 - accuracy: 0.0000e+00 - val_loss: 3359.4575 - val_accuracy: 0.0000e+00\n",
            "Epoch 37/100\n",
            "10/10 [==============================] - 0s 5ms/step - loss: 3409.2961 - accuracy: 0.0000e+00 - val_loss: 3355.4871 - val_accuracy: 0.0000e+00\n",
            "Epoch 38/100\n",
            "10/10 [==============================] - 0s 4ms/step - loss: 3405.3809 - accuracy: 0.0000e+00 - val_loss: 3351.5171 - val_accuracy: 0.0000e+00\n",
            "Epoch 39/100\n",
            "10/10 [==============================] - 0s 4ms/step - loss: 3401.5378 - accuracy: 0.0000e+00 - val_loss: 3347.4851 - val_accuracy: 0.0000e+00\n",
            "Epoch 40/100\n",
            "10/10 [==============================] - 0s 4ms/step - loss: 3397.4985 - accuracy: 0.0000e+00 - val_loss: 3343.5828 - val_accuracy: 0.0000e+00\n",
            "Epoch 41/100\n",
            "10/10 [==============================] - 0s 4ms/step - loss: 3393.7356 - accuracy: 0.0000e+00 - val_loss: 3339.5422 - val_accuracy: 0.0000e+00\n",
            "Epoch 42/100\n",
            "10/10 [==============================] - 0s 5ms/step - loss: 3389.7546 - accuracy: 0.0000e+00 - val_loss: 3335.5835 - val_accuracy: 0.0000e+00\n",
            "Epoch 43/100\n",
            "10/10 [==============================] - 0s 4ms/step - loss: 3385.9343 - accuracy: 0.0000e+00 - val_loss: 3331.5601 - val_accuracy: 0.0000e+00\n",
            "Epoch 44/100\n",
            "10/10 [==============================] - 0s 4ms/step - loss: 3381.8560 - accuracy: 0.0000e+00 - val_loss: 3327.7241 - val_accuracy: 0.0000e+00\n",
            "Epoch 45/100\n",
            "10/10 [==============================] - 0s 6ms/step - loss: 3378.1047 - accuracy: 0.0000e+00 - val_loss: 3323.7520 - val_accuracy: 0.0000e+00\n",
            "Epoch 46/100\n",
            "10/10 [==============================] - 0s 6ms/step - loss: 3374.2090 - accuracy: 0.0000e+00 - val_loss: 3319.7944 - val_accuracy: 0.0000e+00\n",
            "Epoch 47/100\n",
            "10/10 [==============================] - 0s 4ms/step - loss: 3370.3276 - accuracy: 0.0000e+00 - val_loss: 3315.8413 - val_accuracy: 0.0000e+00\n",
            "Epoch 48/100\n",
            "10/10 [==============================] - 0s 4ms/step - loss: 3366.3899 - accuracy: 0.0000e+00 - val_loss: 3311.9563 - val_accuracy: 0.0000e+00\n",
            "Epoch 49/100\n",
            "10/10 [==============================] - 0s 4ms/step - loss: 3362.6204 - accuracy: 0.0000e+00 - val_loss: 3307.9700 - val_accuracy: 0.0000e+00\n",
            "Epoch 50/100\n",
            "10/10 [==============================] - 0s 5ms/step - loss: 3358.6536 - accuracy: 0.0000e+00 - val_loss: 3304.0879 - val_accuracy: 0.0000e+00\n",
            "Epoch 51/100\n",
            "10/10 [==============================] - 0s 5ms/step - loss: 3354.9050 - accuracy: 0.0000e+00 - val_loss: 3300.0962 - val_accuracy: 0.0000e+00\n",
            "Epoch 52/100\n",
            "10/10 [==============================] - 0s 5ms/step - loss: 3350.9211 - accuracy: 0.0000e+00 - val_loss: 3296.2324 - val_accuracy: 0.0000e+00\n",
            "Epoch 53/100\n",
            "10/10 [==============================] - 0s 4ms/step - loss: 3347.1772 - accuracy: 0.0000e+00 - val_loss: 3292.2642 - val_accuracy: 0.0000e+00\n",
            "Epoch 54/100\n",
            "10/10 [==============================] - 0s 4ms/step - loss: 3343.3398 - accuracy: 0.0000e+00 - val_loss: 3288.2910 - val_accuracy: 0.0000e+00\n",
            "Epoch 55/100\n",
            "10/10 [==============================] - 0s 5ms/step - loss: 3339.3745 - accuracy: 0.0000e+00 - val_loss: 3284.4399 - val_accuracy: 0.0000e+00\n",
            "Epoch 56/100\n",
            "10/10 [==============================] - 0s 5ms/step - loss: 3335.5684 - accuracy: 0.0000e+00 - val_loss: 3280.5593 - val_accuracy: 0.0000e+00\n",
            "Epoch 57/100\n",
            "10/10 [==============================] - 0s 5ms/step - loss: 3331.8804 - accuracy: 0.0000e+00 - val_loss: 3276.5459 - val_accuracy: 0.0000e+00\n",
            "Epoch 58/100\n",
            "10/10 [==============================] - 0s 5ms/step - loss: 3327.8599 - accuracy: 0.0000e+00 - val_loss: 3272.7222 - val_accuracy: 0.0000e+00\n",
            "Epoch 59/100\n",
            "10/10 [==============================] - 0s 5ms/step - loss: 3324.0190 - accuracy: 0.0000e+00 - val_loss: 3268.9158 - val_accuracy: 0.0000e+00\n",
            "Epoch 60/100\n",
            "10/10 [==============================] - 0s 7ms/step - loss: 3320.3054 - accuracy: 0.0000e+00 - val_loss: 3265.0022 - val_accuracy: 0.0000e+00\n",
            "Epoch 61/100\n",
            "10/10 [==============================] - 0s 4ms/step - loss: 3316.4382 - accuracy: 0.0000e+00 - val_loss: 3261.1436 - val_accuracy: 0.0000e+00\n",
            "Epoch 62/100\n",
            "10/10 [==============================] - 0s 4ms/step - loss: 3312.6616 - accuracy: 0.0000e+00 - val_loss: 3257.2505 - val_accuracy: 0.0000e+00\n",
            "Epoch 63/100\n",
            "10/10 [==============================] - 0s 5ms/step - loss: 3308.8789 - accuracy: 0.0000e+00 - val_loss: 3253.3367 - val_accuracy: 0.0000e+00\n",
            "Epoch 64/100\n",
            "10/10 [==============================] - 0s 5ms/step - loss: 3304.9954 - accuracy: 0.0000e+00 - val_loss: 3249.5066 - val_accuracy: 0.0000e+00\n",
            "Epoch 65/100\n",
            "10/10 [==============================] - 0s 5ms/step - loss: 3301.2473 - accuracy: 0.0000e+00 - val_loss: 3245.6274 - val_accuracy: 0.0000e+00\n",
            "Epoch 66/100\n",
            "10/10 [==============================] - 0s 4ms/step - loss: 3297.4519 - accuracy: 0.0000e+00 - val_loss: 3241.7527 - val_accuracy: 0.0000e+00\n",
            "Epoch 67/100\n",
            "10/10 [==============================] - 0s 4ms/step - loss: 3293.7114 - accuracy: 0.0000e+00 - val_loss: 3237.8340 - val_accuracy: 0.0000e+00\n",
            "Epoch 68/100\n",
            "10/10 [==============================] - 0s 5ms/step - loss: 3289.7222 - accuracy: 0.0000e+00 - val_loss: 3234.1279 - val_accuracy: 0.0000e+00\n",
            "Epoch 69/100\n",
            "10/10 [==============================] - 0s 5ms/step - loss: 3286.1772 - accuracy: 0.0000e+00 - val_loss: 3230.1802 - val_accuracy: 0.0000e+00\n",
            "Epoch 70/100\n",
            "10/10 [==============================] - 0s 4ms/step - loss: 3282.3196 - accuracy: 0.0000e+00 - val_loss: 3226.3191 - val_accuracy: 0.0000e+00\n",
            "Epoch 71/100\n",
            "10/10 [==============================] - 0s 5ms/step - loss: 3278.5430 - accuracy: 0.0000e+00 - val_loss: 3222.4663 - val_accuracy: 0.0000e+00\n",
            "Epoch 72/100\n",
            "10/10 [==============================] - 0s 5ms/step - loss: 3274.6785 - accuracy: 0.0000e+00 - val_loss: 3218.7122 - val_accuracy: 0.0000e+00\n",
            "Epoch 73/100\n",
            "10/10 [==============================] - 0s 5ms/step - loss: 3271.0142 - accuracy: 0.0000e+00 - val_loss: 3214.8582 - val_accuracy: 0.0000e+00\n",
            "Epoch 74/100\n",
            "10/10 [==============================] - 0s 5ms/step - loss: 3267.2769 - accuracy: 0.0000e+00 - val_loss: 3210.9868 - val_accuracy: 0.0000e+00\n",
            "Epoch 75/100\n",
            "10/10 [==============================] - 0s 5ms/step - loss: 3263.4407 - accuracy: 0.0000e+00 - val_loss: 3207.1992 - val_accuracy: 0.0000e+00\n",
            "Epoch 76/100\n",
            "10/10 [==============================] - 0s 5ms/step - loss: 3259.6575 - accuracy: 0.0000e+00 - val_loss: 3203.4453 - val_accuracy: 0.0000e+00\n",
            "Epoch 77/100\n",
            "10/10 [==============================] - 0s 4ms/step - loss: 3255.9448 - accuracy: 0.0000e+00 - val_loss: 3199.6533 - val_accuracy: 0.0000e+00\n",
            "Epoch 78/100\n",
            "10/10 [==============================] - 0s 4ms/step - loss: 3252.2681 - accuracy: 0.0000e+00 - val_loss: 3195.7949 - val_accuracy: 0.0000e+00\n",
            "Epoch 79/100\n",
            "10/10 [==============================] - 0s 4ms/step - loss: 3248.5090 - accuracy: 0.0000e+00 - val_loss: 3191.9604 - val_accuracy: 0.0000e+00\n",
            "Epoch 80/100\n",
            "10/10 [==============================] - 0s 7ms/step - loss: 3244.7253 - accuracy: 0.0000e+00 - val_loss: 3188.1792 - val_accuracy: 0.0000e+00\n",
            "Epoch 81/100\n",
            "10/10 [==============================] - 0s 5ms/step - loss: 3240.9712 - accuracy: 0.0000e+00 - val_loss: 3184.4194 - val_accuracy: 0.0000e+00\n",
            "Epoch 82/100\n",
            "10/10 [==============================] - 0s 5ms/step - loss: 3237.3374 - accuracy: 0.0000e+00 - val_loss: 3180.5669 - val_accuracy: 0.0000e+00\n",
            "Epoch 83/100\n",
            "10/10 [==============================] - 0s 4ms/step - loss: 3233.5347 - accuracy: 0.0000e+00 - val_loss: 3176.7964 - val_accuracy: 0.0000e+00\n",
            "Epoch 84/100\n",
            "10/10 [==============================] - 0s 5ms/step - loss: 3229.8608 - accuracy: 0.0000e+00 - val_loss: 3172.9802 - val_accuracy: 0.0000e+00\n",
            "Epoch 85/100\n",
            "10/10 [==============================] - 0s 5ms/step - loss: 3226.1489 - accuracy: 0.0000e+00 - val_loss: 3169.1633 - val_accuracy: 0.0000e+00\n",
            "Epoch 86/100\n",
            "10/10 [==============================] - 0s 5ms/step - loss: 3222.3428 - accuracy: 0.0000e+00 - val_loss: 3165.4426 - val_accuracy: 0.0000e+00\n",
            "Epoch 87/100\n",
            "10/10 [==============================] - 0s 4ms/step - loss: 3218.6191 - accuracy: 0.0000e+00 - val_loss: 3161.7400 - val_accuracy: 0.0000e+00\n",
            "Epoch 88/100\n",
            "10/10 [==============================] - 0s 5ms/step - loss: 3214.9998 - accuracy: 0.0000e+00 - val_loss: 3157.9468 - val_accuracy: 0.0000e+00\n",
            "Epoch 89/100\n",
            "10/10 [==============================] - 0s 5ms/step - loss: 3211.3340 - accuracy: 0.0000e+00 - val_loss: 3154.1211 - val_accuracy: 0.0000e+00\n",
            "Epoch 90/100\n",
            "10/10 [==============================] - 0s 5ms/step - loss: 3207.6951 - accuracy: 0.0000e+00 - val_loss: 3150.2478 - val_accuracy: 0.0000e+00\n",
            "Epoch 91/100\n",
            "10/10 [==============================] - 0s 4ms/step - loss: 3203.7671 - accuracy: 0.0000e+00 - val_loss: 3146.6116 - val_accuracy: 0.0000e+00\n",
            "Epoch 92/100\n",
            "10/10 [==============================] - 0s 5ms/step - loss: 3200.1875 - accuracy: 0.0000e+00 - val_loss: 3142.8640 - val_accuracy: 0.0000e+00\n",
            "Epoch 93/100\n",
            "10/10 [==============================] - 0s 5ms/step - loss: 3196.6040 - accuracy: 0.0000e+00 - val_loss: 3139.0239 - val_accuracy: 0.0000e+00\n",
            "Epoch 94/100\n",
            "10/10 [==============================] - 0s 4ms/step - loss: 3192.7942 - accuracy: 0.0000e+00 - val_loss: 3135.3145 - val_accuracy: 0.0000e+00\n",
            "Epoch 95/100\n",
            "10/10 [==============================] - 0s 4ms/step - loss: 3189.1213 - accuracy: 0.0000e+00 - val_loss: 3131.6011 - val_accuracy: 0.0000e+00\n",
            "Epoch 96/100\n",
            "10/10 [==============================] - 0s 4ms/step - loss: 3185.5203 - accuracy: 0.0000e+00 - val_loss: 3127.8208 - val_accuracy: 0.0000e+00\n",
            "Epoch 97/100\n",
            "10/10 [==============================] - 0s 5ms/step - loss: 3181.8677 - accuracy: 0.0000e+00 - val_loss: 3124.0298 - val_accuracy: 0.0000e+00\n",
            "Epoch 98/100\n",
            "10/10 [==============================] - 0s 4ms/step - loss: 3178.1155 - accuracy: 0.0000e+00 - val_loss: 3120.3271 - val_accuracy: 0.0000e+00\n",
            "Epoch 99/100\n",
            "10/10 [==============================] - 0s 4ms/step - loss: 3174.4041 - accuracy: 0.0000e+00 - val_loss: 3116.6770 - val_accuracy: 0.0000e+00\n",
            "Epoch 100/100\n",
            "10/10 [==============================] - 0s 5ms/step - loss: 3170.7878 - accuracy: 0.0000e+00 - val_loss: 3112.9863 - val_accuracy: 0.0000e+00\n"
          ]
        }
      ]
    },
    {
      "cell_type": "code",
      "metadata": {
        "id": "SplRoDSroLnl"
      },
      "source": [
        "# model predict\n",
        "\n",
        "y_hat = model_1.predict(X_test)"
      ],
      "execution_count": 11,
      "outputs": []
    },
    {
      "cell_type": "code",
      "metadata": {
        "colab": {
          "base_uri": "https://localhost:8080/",
          "height": 265
        },
        "id": "V5KUguMloRsd",
        "outputId": "04f6e0c7-ef24-4719-d1e6-b2af169ccaf0"
      },
      "source": [
        "# visualization\n",
        "\n",
        "plt.plot(Hist_1.history['loss'])\n",
        "plt.show()"
      ],
      "execution_count": 12,
      "outputs": [
        {
          "output_type": "display_data",
          "data": {
            "image/png": "[encoded data removed]",
            "text/plain": [
              "<Figure size 432x288 with 1 Axes>"
            ]
          },
          "metadata": {
            "needs_background": "light"
          }
        }
      ]
    },
    {
      "cell_type": "code",
      "metadata": {
        "colab": {
          "base_uri": "https://localhost:8080/",
          "height": 265
        },
        "id": "YPMz2uwCoWm0",
        "outputId": "47d48ce0-bbe5-4793-f97c-cbd019011498"
      },
      "source": [
        "# 녹색 : 정답(y_test) / 적색 : 예측(y_hat)\n",
        "\n",
        "plt.scatter(range(20), y_test, c = 'g')\n",
        "plt.scatter(range(20), y_hat, c = 'r')\n",
        "plt.show()                                      # loss는 감소 but, 학습은 되지 않음"
      ],
      "execution_count": 13,
      "outputs": [
        {
          "output_type": "display_data",
          "data": {
            "image/png": "[encoded data removed]",
            "text/plain": [
              "<Figure size 432x288 with 1 Axes>"
            ]
          },
          "metadata": {
            "needs_background": "light"
          }
        }
      ]
    },
    {
      "cell_type": "markdown",
      "metadata": {
        "id": "53QCxvysooCy"
      },
      "source": [
        "# SimpleRNN - with Normalization"
      ]
    },
    {
      "cell_type": "code",
      "metadata": {
        "id": "gHuJaCamoh0M"
      },
      "source": [
        "# sample Data with Normalization\n",
        "\n",
        "X = [[[(i+j)] for i in range(5)] for j in range(100)]\n",
        "y = [(i+5) for i in range(100)]\n",
        "\n",
        "X = (X -np.min(X)) / (np.max(X) - np.min(X))\n",
        "y = (y -np.min(y)) / (np.max(y) - np.min(y))"
      ],
      "execution_count": 14,
      "outputs": []
    },
    {
      "cell_type": "code",
      "metadata": {
        "colab": {
          "base_uri": "https://localhost:8080/"
        },
        "id": "VlcheYFepCEK",
        "outputId": "50589346-507d-483d-c6a3-db353114272b"
      },
      "source": [
        "# Casting\n",
        "\n",
        "X = np.array(X, dtype = float)\n",
        "y = np.array(y, dtype = float)\n",
        "\n",
        "X.shape, y.shape"
      ],
      "execution_count": 15,
      "outputs": [
        {
          "output_type": "execute_result",
          "data": {
            "text/plain": [
              "((100, 5, 1), (100,))"
            ]
          },
          "metadata": {},
          "execution_count": 15
        }
      ]
    },
    {
      "cell_type": "code",
      "metadata": {
        "colab": {
          "base_uri": "https://localhost:8080/"
        },
        "id": "tfGaG2lHpJr-",
        "outputId": "4ec14f3d-09aa-484c-ede2-5244cc6a7453"
      },
      "source": [
        "# train&test split\n",
        "\n",
        "X_train, X_test, y_train, y_test = train_test_split(X, y,\n",
        "                                                    test_size = 0.2,\n",
        "                                                    random_state = 2045)\n",
        "\n",
        "X_train.shape, y_train.shape, X_test.shape, y_test.shape"
      ],
      "execution_count": 16,
      "outputs": [
        {
          "output_type": "execute_result",
          "data": {
            "text/plain": [
              "((80, 5, 1), (80,), (20, 5, 1), (20,))"
            ]
          },
          "metadata": {},
          "execution_count": 16
        }
      ]
    },
    {
      "cell_type": "markdown",
      "metadata": {
        "id": "KlfdwtwQpYd6"
      },
      "source": [
        "Modeling"
      ]
    },
    {
      "cell_type": "code",
      "metadata": {
        "colab": {
          "base_uri": "https://localhost:8080/"
        },
        "id": "UjKhVCUEpXRM",
        "outputId": "60bc77f7-6263-4813-a23a-2c59efc72205"
      },
      "source": [
        "# model define\n",
        "\n",
        "model_2 = models.Sequential(name = 'SimpleRNN_2')\n",
        "model_2.add(layers.SimpleRNN(3,\n",
        "                             input_shape = (None, 1),       # None => x의 크기에 잘 맞춰줌\n",
        "                             return_sequences = False))\n",
        "\n",
        "model_2.add(layers.Dense(1))\n",
        "\n",
        "model_2.summary()"
      ],
      "execution_count": 17,
      "outputs": [
        {
          "output_type": "stream",
          "name": "stdout",
          "text": [
            "Model: \"SimpleRNN_2\"\n",
            "_________________________________________________________________\n",
            "Layer (type)                 Output Shape              Param #   \n",
            "=================================================================\n",
            "simple_rnn_1 (SimpleRNN)     (None, 3)                 15        \n",
            "_________________________________________________________________\n",
            "dense_1 (Dense)              (None, 1)                 4         \n",
            "=================================================================\n",
            "Total params: 19\n",
            "Trainable params: 19\n",
            "Non-trainable params: 0\n",
            "_________________________________________________________________\n"
          ]
        }
      ]
    },
    {
      "cell_type": "code",
      "metadata": {
        "id": "A31bQSKcprFT"
      },
      "source": [
        "# model compile \n",
        "\n",
        "model_2.compile(loss = 'mse',\n",
        "                optimizer = 'adam',\n",
        "                metrics = ['accuracy'])"
      ],
      "execution_count": 19,
      "outputs": []
    },
    {
      "cell_type": "code",
      "metadata": {
        "colab": {
          "base_uri": "https://localhost:8080/"
        },
        "id": "4gDO1HSVpw_b",
        "outputId": "6bb52382-1d21-45ed-8785-14f5227ebdd0"
      },
      "source": [
        "# model fit\n",
        "\n",
        "Hist_2 = model_2.fit(X_train, y_train,\n",
        "                     epochs = 100,\n",
        "                     batch_size = 8,\n",
        "                     validation_data = (X_test, y_test))"
      ],
      "execution_count": 20,
      "outputs": [
        {
          "output_type": "stream",
          "name": "stdout",
          "text": [
            "Epoch 1/100\n",
            "10/10 [==============================] - 1s 25ms/step - loss: 0.1733 - accuracy: 0.0250 - val_loss: 0.1592 - val_accuracy: 0.0000e+00\n",
            "Epoch 2/100\n",
            "10/10 [==============================] - 0s 6ms/step - loss: 0.1204 - accuracy: 0.0250 - val_loss: 0.1097 - val_accuracy: 0.0000e+00\n",
            "Epoch 3/100\n",
            "10/10 [==============================] - 0s 4ms/step - loss: 0.0796 - accuracy: 0.0250 - val_loss: 0.0729 - val_accuracy: 0.0000e+00\n",
            "Epoch 4/100\n",
            "10/10 [==============================] - 0s 4ms/step - loss: 0.0511 - accuracy: 0.0250 - val_loss: 0.0479 - val_accuracy: 0.0000e+00\n",
            "Epoch 5/100\n",
            "10/10 [==============================] - 0s 4ms/step - loss: 0.0325 - accuracy: 0.0250 - val_loss: 0.0323 - val_accuracy: 0.0000e+00\n",
            "Epoch 6/100\n",
            "10/10 [==============================] - 0s 5ms/step - loss: 0.0228 - accuracy: 0.0250 - val_loss: 0.0226 - val_accuracy: 0.0000e+00\n",
            "Epoch 7/100\n",
            "10/10 [==============================] - 0s 4ms/step - loss: 0.0169 - accuracy: 0.0250 - val_loss: 0.0174 - val_accuracy: 0.0000e+00\n",
            "Epoch 8/100\n",
            "10/10 [==============================] - 0s 4ms/step - loss: 0.0142 - accuracy: 0.0250 - val_loss: 0.0144 - val_accuracy: 0.0000e+00\n",
            "Epoch 9/100\n",
            "10/10 [==============================] - 0s 5ms/step - loss: 0.0126 - accuracy: 0.0250 - val_loss: 0.0127 - val_accuracy: 0.0000e+00\n",
            "Epoch 10/100\n",
            "10/10 [==============================] - 0s 4ms/step - loss: 0.0117 - accuracy: 0.0250 - val_loss: 0.0116 - val_accuracy: 0.0000e+00\n",
            "Epoch 11/100\n",
            "10/10 [==============================] - 0s 5ms/step - loss: 0.0110 - accuracy: 0.0250 - val_loss: 0.0108 - val_accuracy: 0.0000e+00\n",
            "Epoch 12/100\n",
            "10/10 [==============================] - 0s 4ms/step - loss: 0.0104 - accuracy: 0.0250 - val_loss: 0.0102 - val_accuracy: 0.0000e+00\n",
            "Epoch 13/100\n",
            "10/10 [==============================] - 0s 4ms/step - loss: 0.0098 - accuracy: 0.0250 - val_loss: 0.0097 - val_accuracy: 0.0000e+00\n",
            "Epoch 14/100\n",
            "10/10 [==============================] - 0s 5ms/step - loss: 0.0094 - accuracy: 0.0250 - val_loss: 0.0093 - val_accuracy: 0.0000e+00\n",
            "Epoch 15/100\n",
            "10/10 [==============================] - 0s 4ms/step - loss: 0.0090 - accuracy: 0.0250 - val_loss: 0.0089 - val_accuracy: 0.0000e+00\n",
            "Epoch 16/100\n",
            "10/10 [==============================] - 0s 4ms/step - loss: 0.0086 - accuracy: 0.0250 - val_loss: 0.0087 - val_accuracy: 0.0000e+00\n",
            "Epoch 17/100\n",
            "10/10 [==============================] - 0s 4ms/step - loss: 0.0084 - accuracy: 0.0250 - val_loss: 0.0084 - val_accuracy: 0.0000e+00\n",
            "Epoch 18/100\n",
            "10/10 [==============================] - 0s 4ms/step - loss: 0.0081 - accuracy: 0.0250 - val_loss: 0.0082 - val_accuracy: 0.0000e+00\n",
            "Epoch 19/100\n",
            "10/10 [==============================] - 0s 5ms/step - loss: 0.0078 - accuracy: 0.0250 - val_loss: 0.0079 - val_accuracy: 0.0000e+00\n",
            "Epoch 20/100\n",
            "10/10 [==============================] - 0s 4ms/step - loss: 0.0076 - accuracy: 0.0250 - val_loss: 0.0077 - val_accuracy: 0.0000e+00\n",
            "Epoch 21/100\n",
            "10/10 [==============================] - 0s 4ms/step - loss: 0.0074 - accuracy: 0.0250 - val_loss: 0.0075 - val_accuracy: 0.0000e+00\n",
            "Epoch 22/100\n",
            "10/10 [==============================] - 0s 4ms/step - loss: 0.0072 - accuracy: 0.0250 - val_loss: 0.0073 - val_accuracy: 0.0000e+00\n",
            "Epoch 23/100\n",
            "10/10 [==============================] - 0s 4ms/step - loss: 0.0071 - accuracy: 0.0250 - val_loss: 0.0071 - val_accuracy: 0.0000e+00\n",
            "Epoch 24/100\n",
            "10/10 [==============================] - 0s 6ms/step - loss: 0.0069 - accuracy: 0.0250 - val_loss: 0.0069 - val_accuracy: 0.0000e+00\n",
            "Epoch 25/100\n",
            "10/10 [==============================] - 0s 4ms/step - loss: 0.0068 - accuracy: 0.0250 - val_loss: 0.0068 - val_accuracy: 0.0000e+00\n",
            "Epoch 26/100\n",
            "10/10 [==============================] - 0s 4ms/step - loss: 0.0066 - accuracy: 0.0250 - val_loss: 0.0066 - val_accuracy: 0.0000e+00\n",
            "Epoch 27/100\n",
            "10/10 [==============================] - 0s 4ms/step - loss: 0.0065 - accuracy: 0.0250 - val_loss: 0.0065 - val_accuracy: 0.0000e+00\n",
            "Epoch 28/100\n",
            "10/10 [==============================] - 0s 4ms/step - loss: 0.0063 - accuracy: 0.0250 - val_loss: 0.0063 - val_accuracy: 0.0000e+00\n",
            "Epoch 29/100\n",
            "10/10 [==============================] - 0s 4ms/step - loss: 0.0062 - accuracy: 0.0250 - val_loss: 0.0062 - val_accuracy: 0.0000e+00\n",
            "Epoch 30/100\n",
            "10/10 [==============================] - 0s 4ms/step - loss: 0.0061 - accuracy: 0.0250 - val_loss: 0.0061 - val_accuracy: 0.0000e+00\n",
            "Epoch 31/100\n",
            "10/10 [==============================] - 0s 4ms/step - loss: 0.0059 - accuracy: 0.0250 - val_loss: 0.0059 - val_accuracy: 0.0000e+00\n",
            "Epoch 32/100\n",
            "10/10 [==============================] - 0s 4ms/step - loss: 0.0058 - accuracy: 0.0250 - val_loss: 0.0057 - val_accuracy: 0.0000e+00\n",
            "Epoch 33/100\n",
            "10/10 [==============================] - 0s 4ms/step - loss: 0.0057 - accuracy: 0.0250 - val_loss: 0.0056 - val_accuracy: 0.0000e+00\n",
            "Epoch 34/100\n",
            "10/10 [==============================] - 0s 4ms/step - loss: 0.0056 - accuracy: 0.0250 - val_loss: 0.0055 - val_accuracy: 0.0000e+00\n",
            "Epoch 35/100\n",
            "10/10 [==============================] - 0s 4ms/step - loss: 0.0054 - accuracy: 0.0250 - val_loss: 0.0053 - val_accuracy: 0.0000e+00\n",
            "Epoch 36/100\n",
            "10/10 [==============================] - 0s 5ms/step - loss: 0.0053 - accuracy: 0.0250 - val_loss: 0.0052 - val_accuracy: 0.0000e+00\n",
            "Epoch 37/100\n",
            "10/10 [==============================] - 0s 5ms/step - loss: 0.0052 - accuracy: 0.0250 - val_loss: 0.0051 - val_accuracy: 0.0000e+00\n",
            "Epoch 38/100\n",
            "10/10 [==============================] - 0s 4ms/step - loss: 0.0051 - accuracy: 0.0250 - val_loss: 0.0050 - val_accuracy: 0.0000e+00\n",
            "Epoch 39/100\n",
            "10/10 [==============================] - 0s 4ms/step - loss: 0.0050 - accuracy: 0.0250 - val_loss: 0.0049 - val_accuracy: 0.0000e+00\n",
            "Epoch 40/100\n",
            "10/10 [==============================] - 0s 4ms/step - loss: 0.0048 - accuracy: 0.0250 - val_loss: 0.0047 - val_accuracy: 0.0000e+00\n",
            "Epoch 41/100\n",
            "10/10 [==============================] - 0s 7ms/step - loss: 0.0047 - accuracy: 0.0250 - val_loss: 0.0046 - val_accuracy: 0.0000e+00\n",
            "Epoch 42/100\n",
            "10/10 [==============================] - 0s 4ms/step - loss: 0.0046 - accuracy: 0.0250 - val_loss: 0.0045 - val_accuracy: 0.0000e+00\n",
            "Epoch 43/100\n",
            "10/10 [==============================] - 0s 4ms/step - loss: 0.0045 - accuracy: 0.0250 - val_loss: 0.0044 - val_accuracy: 0.0000e+00\n",
            "Epoch 44/100\n",
            "10/10 [==============================] - 0s 4ms/step - loss: 0.0044 - accuracy: 0.0250 - val_loss: 0.0042 - val_accuracy: 0.0000e+00\n",
            "Epoch 45/100\n",
            "10/10 [==============================] - 0s 5ms/step - loss: 0.0043 - accuracy: 0.0250 - val_loss: 0.0042 - val_accuracy: 0.0000e+00\n",
            "Epoch 46/100\n",
            "10/10 [==============================] - 0s 5ms/step - loss: 0.0043 - accuracy: 0.0250 - val_loss: 0.0041 - val_accuracy: 0.0000e+00\n",
            "Epoch 47/100\n",
            "10/10 [==============================] - 0s 4ms/step - loss: 0.0041 - accuracy: 0.0250 - val_loss: 0.0040 - val_accuracy: 0.0000e+00\n",
            "Epoch 48/100\n",
            "10/10 [==============================] - 0s 5ms/step - loss: 0.0040 - accuracy: 0.0250 - val_loss: 0.0038 - val_accuracy: 0.0000e+00\n",
            "Epoch 49/100\n",
            "10/10 [==============================] - 0s 4ms/step - loss: 0.0039 - accuracy: 0.0250 - val_loss: 0.0037 - val_accuracy: 0.0000e+00\n",
            "Epoch 50/100\n",
            "10/10 [==============================] - 0s 4ms/step - loss: 0.0038 - accuracy: 0.0250 - val_loss: 0.0036 - val_accuracy: 0.0000e+00\n",
            "Epoch 51/100\n",
            "10/10 [==============================] - 0s 4ms/step - loss: 0.0037 - accuracy: 0.0250 - val_loss: 0.0035 - val_accuracy: 0.0000e+00\n",
            "Epoch 52/100\n",
            "10/10 [==============================] - 0s 4ms/step - loss: 0.0036 - accuracy: 0.0250 - val_loss: 0.0034 - val_accuracy: 0.0000e+00\n",
            "Epoch 53/100\n",
            "10/10 [==============================] - 0s 5ms/step - loss: 0.0035 - accuracy: 0.0250 - val_loss: 0.0034 - val_accuracy: 0.0000e+00\n",
            "Epoch 54/100\n",
            "10/10 [==============================] - 0s 4ms/step - loss: 0.0034 - accuracy: 0.0250 - val_loss: 0.0033 - val_accuracy: 0.0000e+00\n",
            "Epoch 55/100\n",
            "10/10 [==============================] - 0s 4ms/step - loss: 0.0034 - accuracy: 0.0250 - val_loss: 0.0032 - val_accuracy: 0.0000e+00\n",
            "Epoch 56/100\n",
            "10/10 [==============================] - 0s 5ms/step - loss: 0.0033 - accuracy: 0.0250 - val_loss: 0.0031 - val_accuracy: 0.0000e+00\n",
            "Epoch 57/100\n",
            "10/10 [==============================] - 0s 4ms/step - loss: 0.0032 - accuracy: 0.0250 - val_loss: 0.0031 - val_accuracy: 0.0000e+00\n",
            "Epoch 58/100\n",
            "10/10 [==============================] - 0s 4ms/step - loss: 0.0031 - accuracy: 0.0250 - val_loss: 0.0029 - val_accuracy: 0.0000e+00\n",
            "Epoch 59/100\n",
            "10/10 [==============================] - 0s 4ms/step - loss: 0.0030 - accuracy: 0.0250 - val_loss: 0.0028 - val_accuracy: 0.0000e+00\n",
            "Epoch 60/100\n",
            "10/10 [==============================] - 0s 5ms/step - loss: 0.0029 - accuracy: 0.0250 - val_loss: 0.0028 - val_accuracy: 0.0000e+00\n",
            "Epoch 61/100\n",
            "10/10 [==============================] - 0s 4ms/step - loss: 0.0029 - accuracy: 0.0250 - val_loss: 0.0027 - val_accuracy: 0.0000e+00\n",
            "Epoch 62/100\n",
            "10/10 [==============================] - 0s 4ms/step - loss: 0.0028 - accuracy: 0.0250 - val_loss: 0.0026 - val_accuracy: 0.0000e+00\n",
            "Epoch 63/100\n",
            "10/10 [==============================] - 0s 4ms/step - loss: 0.0027 - accuracy: 0.0250 - val_loss: 0.0025 - val_accuracy: 0.0000e+00\n",
            "Epoch 64/100\n",
            "10/10 [==============================] - 0s 4ms/step - loss: 0.0027 - accuracy: 0.0250 - val_loss: 0.0024 - val_accuracy: 0.0000e+00\n",
            "Epoch 65/100\n",
            "10/10 [==============================] - 0s 5ms/step - loss: 0.0026 - accuracy: 0.0250 - val_loss: 0.0024 - val_accuracy: 0.0000e+00\n",
            "Epoch 66/100\n",
            "10/10 [==============================] - 0s 4ms/step - loss: 0.0025 - accuracy: 0.0250 - val_loss: 0.0023 - val_accuracy: 0.0000e+00\n",
            "Epoch 67/100\n",
            "10/10 [==============================] - 0s 4ms/step - loss: 0.0024 - accuracy: 0.0250 - val_loss: 0.0023 - val_accuracy: 0.0000e+00\n",
            "Epoch 68/100\n",
            "10/10 [==============================] - 0s 4ms/step - loss: 0.0024 - accuracy: 0.0250 - val_loss: 0.0022 - val_accuracy: 0.0000e+00\n",
            "Epoch 69/100\n",
            "10/10 [==============================] - 0s 5ms/step - loss: 0.0023 - accuracy: 0.0250 - val_loss: 0.0021 - val_accuracy: 0.0000e+00\n",
            "Epoch 70/100\n",
            "10/10 [==============================] - 0s 5ms/step - loss: 0.0023 - accuracy: 0.0250 - val_loss: 0.0020 - val_accuracy: 0.0000e+00\n",
            "Epoch 71/100\n",
            "10/10 [==============================] - 0s 5ms/step - loss: 0.0022 - accuracy: 0.0250 - val_loss: 0.0020 - val_accuracy: 0.0000e+00\n",
            "Epoch 72/100\n",
            "10/10 [==============================] - 0s 5ms/step - loss: 0.0021 - accuracy: 0.0250 - val_loss: 0.0020 - val_accuracy: 0.0000e+00\n",
            "Epoch 73/100\n",
            "10/10 [==============================] - 0s 4ms/step - loss: 0.0021 - accuracy: 0.0250 - val_loss: 0.0019 - val_accuracy: 0.0000e+00\n",
            "Epoch 74/100\n",
            "10/10 [==============================] - 0s 4ms/step - loss: 0.0020 - accuracy: 0.0250 - val_loss: 0.0018 - val_accuracy: 0.0000e+00\n",
            "Epoch 75/100\n",
            "10/10 [==============================] - 0s 5ms/step - loss: 0.0020 - accuracy: 0.0250 - val_loss: 0.0018 - val_accuracy: 0.0000e+00\n",
            "Epoch 76/100\n",
            "10/10 [==============================] - 0s 4ms/step - loss: 0.0019 - accuracy: 0.0250 - val_loss: 0.0017 - val_accuracy: 0.0000e+00\n",
            "Epoch 77/100\n",
            "10/10 [==============================] - 0s 4ms/step - loss: 0.0019 - accuracy: 0.0250 - val_loss: 0.0017 - val_accuracy: 0.0000e+00\n",
            "Epoch 78/100\n",
            "10/10 [==============================] - 0s 4ms/step - loss: 0.0018 - accuracy: 0.0250 - val_loss: 0.0016 - val_accuracy: 0.0000e+00\n",
            "Epoch 79/100\n",
            "10/10 [==============================] - 0s 4ms/step - loss: 0.0018 - accuracy: 0.0250 - val_loss: 0.0016 - val_accuracy: 0.0000e+00\n",
            "Epoch 80/100\n",
            "10/10 [==============================] - 0s 5ms/step - loss: 0.0017 - accuracy: 0.0250 - val_loss: 0.0015 - val_accuracy: 0.0000e+00\n",
            "Epoch 81/100\n",
            "10/10 [==============================] - 0s 5ms/step - loss: 0.0017 - accuracy: 0.0250 - val_loss: 0.0015 - val_accuracy: 0.0000e+00\n",
            "Epoch 82/100\n",
            "10/10 [==============================] - 0s 5ms/step - loss: 0.0016 - accuracy: 0.0250 - val_loss: 0.0014 - val_accuracy: 0.0000e+00\n",
            "Epoch 83/100\n",
            "10/10 [==============================] - 0s 4ms/step - loss: 0.0016 - accuracy: 0.0250 - val_loss: 0.0014 - val_accuracy: 0.0000e+00\n",
            "Epoch 84/100\n",
            "10/10 [==============================] - 0s 5ms/step - loss: 0.0015 - accuracy: 0.0250 - val_loss: 0.0014 - val_accuracy: 0.0000e+00\n",
            "Epoch 85/100\n",
            "10/10 [==============================] - 0s 5ms/step - loss: 0.0015 - accuracy: 0.0250 - val_loss: 0.0013 - val_accuracy: 0.0000e+00\n",
            "Epoch 86/100\n",
            "10/10 [==============================] - 0s 4ms/step - loss: 0.0015 - accuracy: 0.0250 - val_loss: 0.0013 - val_accuracy: 0.0000e+00\n",
            "Epoch 87/100\n",
            "10/10 [==============================] - 0s 4ms/step - loss: 0.0014 - accuracy: 0.0250 - val_loss: 0.0012 - val_accuracy: 0.0000e+00\n",
            "Epoch 88/100\n",
            "10/10 [==============================] - 0s 5ms/step - loss: 0.0014 - accuracy: 0.0250 - val_loss: 0.0012 - val_accuracy: 0.0000e+00\n",
            "Epoch 89/100\n",
            "10/10 [==============================] - 0s 4ms/step - loss: 0.0013 - accuracy: 0.0250 - val_loss: 0.0012 - val_accuracy: 0.0000e+00\n",
            "Epoch 90/100\n",
            "10/10 [==============================] - 0s 4ms/step - loss: 0.0013 - accuracy: 0.0250 - val_loss: 0.0011 - val_accuracy: 0.0000e+00\n",
            "Epoch 91/100\n",
            "10/10 [==============================] - 0s 4ms/step - loss: 0.0013 - accuracy: 0.0250 - val_loss: 0.0011 - val_accuracy: 0.0000e+00\n",
            "Epoch 92/100\n",
            "10/10 [==============================] - 0s 4ms/step - loss: 0.0012 - accuracy: 0.0250 - val_loss: 0.0010 - val_accuracy: 0.0000e+00\n",
            "Epoch 93/100\n",
            "10/10 [==============================] - 0s 5ms/step - loss: 0.0012 - accuracy: 0.0250 - val_loss: 0.0010 - val_accuracy: 0.0000e+00\n",
            "Epoch 94/100\n",
            "10/10 [==============================] - 0s 4ms/step - loss: 0.0012 - accuracy: 0.0250 - val_loss: 9.5064e-04 - val_accuracy: 0.0000e+00\n",
            "Epoch 95/100\n",
            "10/10 [==============================] - 0s 5ms/step - loss: 0.0011 - accuracy: 0.0250 - val_loss: 9.4298e-04 - val_accuracy: 0.0000e+00\n",
            "Epoch 96/100\n",
            "10/10 [==============================] - 0s 5ms/step - loss: 0.0011 - accuracy: 0.0250 - val_loss: 9.1226e-04 - val_accuracy: 0.0000e+00\n",
            "Epoch 97/100\n",
            "10/10 [==============================] - 0s 4ms/step - loss: 0.0011 - accuracy: 0.0250 - val_loss: 8.7275e-04 - val_accuracy: 0.0000e+00\n",
            "Epoch 98/100\n",
            "10/10 [==============================] - 0s 4ms/step - loss: 0.0010 - accuracy: 0.0250 - val_loss: 8.5197e-04 - val_accuracy: 0.0000e+00\n",
            "Epoch 99/100\n",
            "10/10 [==============================] - 0s 4ms/step - loss: 9.9991e-04 - accuracy: 0.0250 - val_loss: 8.2116e-04 - val_accuracy: 0.0000e+00\n",
            "Epoch 100/100\n",
            "10/10 [==============================] - 0s 4ms/step - loss: 9.7671e-04 - accuracy: 0.0250 - val_loss: 7.8483e-04 - val_accuracy: 0.0000e+00\n"
          ]
        }
      ]
    },
    {
      "cell_type": "code",
      "metadata": {
        "id": "BrAZckXCp6pE"
      },
      "source": [
        "# model Predict\n",
        "\n",
        "y_hat = model_2.predict(X_test)"
      ],
      "execution_count": 21,
      "outputs": []
    },
    {
      "cell_type": "code",
      "metadata": {
        "colab": {
          "base_uri": "https://localhost:8080/",
          "height": 265
        },
        "id": "7YgdYfXOp_G0",
        "outputId": "c37a88da-b325-426f-d9ca-49aadc48c5b7"
      },
      "source": [
        "# Visualization\n",
        "\n",
        "# Loss 감소\n",
        "\n",
        "plt.plot(Hist_2.history['loss'])\n",
        "plt.show()"
      ],
      "execution_count": 22,
      "outputs": [
        {
          "output_type": "display_data",
          "data": {
            "image/png": "[encoded data removed]",
            "text/plain": [
              "<Figure size 432x288 with 1 Axes>"
            ]
          },
          "metadata": {
            "needs_background": "light"
          }
        }
      ]
    },
    {
      "cell_type": "code",
      "metadata": {
        "colab": {
          "base_uri": "https://localhost:8080/",
          "height": 265
        },
        "id": "WQAKNAxzqE3k",
        "outputId": "c060d9d3-a06d-49b0-df7d-c1850f6fc1ce"
      },
      "source": [
        "# 학습성공\n",
        "\n",
        "plt.scatter(range(20), y_test, c = 'g')\n",
        "plt.scatter(range(20), y_hat, c = 'r')\n",
        "plt.show()"
      ],
      "execution_count": 23,
      "outputs": [
        {
          "output_type": "display_data",
          "data": {
            "image/png": "[encoded data removed]",
            "text/plain": [
              "<Figure size 432x288 with 1 Axes>"
            ]
          },
          "metadata": {
            "needs_background": "light"
          }
        }
      ]
    },
    {
      "cell_type": "markdown",
      "metadata": {
        "id": "LKCAfXcwqN7y"
      },
      "source": [
        "# Stacked_SimpleRNN"
      ]
    },
    {
      "cell_type": "code",
      "metadata": {
        "colab": {
          "base_uri": "https://localhost:8080/"
        },
        "id": "qolyVc3BqMrU",
        "outputId": "c7b62422-25cb-405a-b697-32151feba96c"
      },
      "source": [
        "# Model Define\n",
        "\n",
        "model_3 = models.Sequential(name = 'Stacked_RNN')\n",
        "model_3.add(layers.SimpleRNN(3, \n",
        "                             input_shape = (None, 1),\n",
        "                             return_sequences = True))\n",
        "model_3.add(layers.SimpleRNN(3,\n",
        "                             input_shape = (None, 1),\n",
        "                             return_sequences = False))\n",
        "\n",
        "model_3.add(layers.Dense(1))\n",
        "\n",
        "model_3.summary()"
      ],
      "execution_count": 24,
      "outputs": [
        {
          "output_type": "stream",
          "name": "stdout",
          "text": [
            "Model: \"Stacked_RNN\"\n",
            "_________________________________________________________________\n",
            "Layer (type)                 Output Shape              Param #   \n",
            "=================================================================\n",
            "simple_rnn_2 (SimpleRNN)     (None, None, 3)           15        \n",
            "_________________________________________________________________\n",
            "simple_rnn_3 (SimpleRNN)     (None, 3)                 21        \n",
            "_________________________________________________________________\n",
            "dense_2 (Dense)              (None, 1)                 4         \n",
            "=================================================================\n",
            "Total params: 40\n",
            "Trainable params: 40\n",
            "Non-trainable params: 0\n",
            "_________________________________________________________________\n"
          ]
        }
      ]
    },
    {
      "cell_type": "code",
      "metadata": {
        "id": "z6IWAG17qlws"
      },
      "source": [
        "# model compile\n",
        "\n",
        "model_3.compile(loss = 'mse',\n",
        "                optimizer = 'adam',\n",
        "                metrics = ['accuracy'])\n"
      ],
      "execution_count": 25,
      "outputs": []
    },
    {
      "cell_type": "code",
      "metadata": {
        "colab": {
          "base_uri": "https://localhost:8080/"
        },
        "id": "7IIIMDUGqspM",
        "outputId": "d9620454-6c8a-40c2-972c-80237e8c98e2"
      },
      "source": [
        "# model fit\n",
        "\n",
        "Hist_3 = model_3.fit(X_train, y_train,\n",
        "                     epochs = 100,\n",
        "                     batch_size = 8,\n",
        "                     validation_data = (X_test, y_test))"
      ],
      "execution_count": 26,
      "outputs": [
        {
          "output_type": "stream",
          "name": "stdout",
          "text": [
            "Epoch 1/100\n",
            "10/10 [==============================] - 1s 36ms/step - loss: 0.3000 - accuracy: 0.0250 - val_loss: 0.2546 - val_accuracy: 0.0000e+00\n",
            "Epoch 2/100\n",
            "10/10 [==============================] - 0s 5ms/step - loss: 0.1682 - accuracy: 0.0250 - val_loss: 0.1392 - val_accuracy: 0.0000e+00\n",
            "Epoch 3/100\n",
            "10/10 [==============================] - 0s 6ms/step - loss: 0.0981 - accuracy: 0.0250 - val_loss: 0.0755 - val_accuracy: 0.0000e+00\n",
            "Epoch 4/100\n",
            "10/10 [==============================] - 0s 5ms/step - loss: 0.0680 - accuracy: 0.0250 - val_loss: 0.0483 - val_accuracy: 0.0000e+00\n",
            "Epoch 5/100\n",
            "10/10 [==============================] - 0s 5ms/step - loss: 0.0488 - accuracy: 0.0250 - val_loss: 0.0324 - val_accuracy: 0.0000e+00\n",
            "Epoch 6/100\n",
            "10/10 [==============================] - 0s 5ms/step - loss: 0.0315 - accuracy: 0.0250 - val_loss: 0.0217 - val_accuracy: 0.0000e+00\n",
            "Epoch 7/100\n",
            "10/10 [==============================] - 0s 6ms/step - loss: 0.0210 - accuracy: 0.0250 - val_loss: 0.0152 - val_accuracy: 0.0000e+00\n",
            "Epoch 8/100\n",
            "10/10 [==============================] - 0s 5ms/step - loss: 0.0135 - accuracy: 0.0250 - val_loss: 0.0105 - val_accuracy: 0.0000e+00\n",
            "Epoch 9/100\n",
            "10/10 [==============================] - 0s 5ms/step - loss: 0.0098 - accuracy: 0.0250 - val_loss: 0.0075 - val_accuracy: 0.0000e+00\n",
            "Epoch 10/100\n",
            "10/10 [==============================] - 0s 5ms/step - loss: 0.0073 - accuracy: 0.0250 - val_loss: 0.0060 - val_accuracy: 0.0000e+00\n",
            "Epoch 11/100\n",
            "10/10 [==============================] - 0s 5ms/step - loss: 0.0060 - accuracy: 0.0250 - val_loss: 0.0053 - val_accuracy: 0.0000e+00\n",
            "Epoch 12/100\n",
            "10/10 [==============================] - 0s 5ms/step - loss: 0.0052 - accuracy: 0.0250 - val_loss: 0.0048 - val_accuracy: 0.0000e+00\n",
            "Epoch 13/100\n",
            "10/10 [==============================] - 0s 5ms/step - loss: 0.0048 - accuracy: 0.0250 - val_loss: 0.0046 - val_accuracy: 0.0000e+00\n",
            "Epoch 14/100\n",
            "10/10 [==============================] - 0s 6ms/step - loss: 0.0046 - accuracy: 0.0250 - val_loss: 0.0043 - val_accuracy: 0.0000e+00\n",
            "Epoch 15/100\n",
            "10/10 [==============================] - 0s 6ms/step - loss: 0.0044 - accuracy: 0.0250 - val_loss: 0.0043 - val_accuracy: 0.0000e+00\n",
            "Epoch 16/100\n",
            "10/10 [==============================] - 0s 5ms/step - loss: 0.0044 - accuracy: 0.0250 - val_loss: 0.0043 - val_accuracy: 0.0000e+00\n",
            "Epoch 17/100\n",
            "10/10 [==============================] - 0s 5ms/step - loss: 0.0043 - accuracy: 0.0250 - val_loss: 0.0043 - val_accuracy: 0.0000e+00\n",
            "Epoch 18/100\n",
            "10/10 [==============================] - 0s 5ms/step - loss: 0.0044 - accuracy: 0.0250 - val_loss: 0.0042 - val_accuracy: 0.0000e+00\n",
            "Epoch 19/100\n",
            "10/10 [==============================] - 0s 6ms/step - loss: 0.0043 - accuracy: 0.0250 - val_loss: 0.0044 - val_accuracy: 0.0000e+00\n",
            "Epoch 20/100\n",
            "10/10 [==============================] - 0s 5ms/step - loss: 0.0042 - accuracy: 0.0250 - val_loss: 0.0042 - val_accuracy: 0.0000e+00\n",
            "Epoch 21/100\n",
            "10/10 [==============================] - 0s 6ms/step - loss: 0.0042 - accuracy: 0.0250 - val_loss: 0.0041 - val_accuracy: 0.0000e+00\n",
            "Epoch 22/100\n",
            "10/10 [==============================] - 0s 6ms/step - loss: 0.0042 - accuracy: 0.0250 - val_loss: 0.0041 - val_accuracy: 0.0000e+00\n",
            "Epoch 23/100\n",
            "10/10 [==============================] - 0s 5ms/step - loss: 0.0042 - accuracy: 0.0250 - val_loss: 0.0040 - val_accuracy: 0.0000e+00\n",
            "Epoch 24/100\n",
            "10/10 [==============================] - 0s 5ms/step - loss: 0.0041 - accuracy: 0.0250 - val_loss: 0.0041 - val_accuracy: 0.0000e+00\n",
            "Epoch 25/100\n",
            "10/10 [==============================] - 0s 5ms/step - loss: 0.0042 - accuracy: 0.0250 - val_loss: 0.0040 - val_accuracy: 0.0000e+00\n",
            "Epoch 26/100\n",
            "10/10 [==============================] - 0s 5ms/step - loss: 0.0041 - accuracy: 0.0250 - val_loss: 0.0041 - val_accuracy: 0.0000e+00\n",
            "Epoch 27/100\n",
            "10/10 [==============================] - 0s 5ms/step - loss: 0.0041 - accuracy: 0.0250 - val_loss: 0.0041 - val_accuracy: 0.0000e+00\n",
            "Epoch 28/100\n",
            "10/10 [==============================] - 0s 5ms/step - loss: 0.0041 - accuracy: 0.0250 - val_loss: 0.0039 - val_accuracy: 0.0000e+00\n",
            "Epoch 29/100\n",
            "10/10 [==============================] - 0s 5ms/step - loss: 0.0040 - accuracy: 0.0250 - val_loss: 0.0040 - val_accuracy: 0.0000e+00\n",
            "Epoch 30/100\n",
            "10/10 [==============================] - 0s 5ms/step - loss: 0.0040 - accuracy: 0.0250 - val_loss: 0.0039 - val_accuracy: 0.0000e+00\n",
            "Epoch 31/100\n",
            "10/10 [==============================] - 0s 5ms/step - loss: 0.0039 - accuracy: 0.0250 - val_loss: 0.0038 - val_accuracy: 0.0000e+00\n",
            "Epoch 32/100\n",
            "10/10 [==============================] - 0s 5ms/step - loss: 0.0040 - accuracy: 0.0250 - val_loss: 0.0038 - val_accuracy: 0.0000e+00\n",
            "Epoch 33/100\n",
            "10/10 [==============================] - 0s 5ms/step - loss: 0.0039 - accuracy: 0.0250 - val_loss: 0.0040 - val_accuracy: 0.0000e+00\n",
            "Epoch 34/100\n",
            "10/10 [==============================] - 0s 5ms/step - loss: 0.0039 - accuracy: 0.0250 - val_loss: 0.0037 - val_accuracy: 0.0000e+00\n",
            "Epoch 35/100\n",
            "10/10 [==============================] - 0s 5ms/step - loss: 0.0039 - accuracy: 0.0250 - val_loss: 0.0036 - val_accuracy: 0.0000e+00\n",
            "Epoch 36/100\n",
            "10/10 [==============================] - 0s 5ms/step - loss: 0.0038 - accuracy: 0.0250 - val_loss: 0.0038 - val_accuracy: 0.0000e+00\n",
            "Epoch 37/100\n",
            "10/10 [==============================] - 0s 5ms/step - loss: 0.0038 - accuracy: 0.0250 - val_loss: 0.0037 - val_accuracy: 0.0000e+00\n",
            "Epoch 38/100\n",
            "10/10 [==============================] - 0s 6ms/step - loss: 0.0038 - accuracy: 0.0250 - val_loss: 0.0036 - val_accuracy: 0.0000e+00\n",
            "Epoch 39/100\n",
            "10/10 [==============================] - 0s 6ms/step - loss: 0.0037 - accuracy: 0.0250 - val_loss: 0.0037 - val_accuracy: 0.0000e+00\n",
            "Epoch 40/100\n",
            "10/10 [==============================] - 0s 5ms/step - loss: 0.0037 - accuracy: 0.0250 - val_loss: 0.0036 - val_accuracy: 0.0000e+00\n",
            "Epoch 41/100\n",
            "10/10 [==============================] - 0s 5ms/step - loss: 0.0037 - accuracy: 0.0250 - val_loss: 0.0035 - val_accuracy: 0.0000e+00\n",
            "Epoch 42/100\n",
            "10/10 [==============================] - 0s 5ms/step - loss: 0.0036 - accuracy: 0.0250 - val_loss: 0.0035 - val_accuracy: 0.0000e+00\n",
            "Epoch 43/100\n",
            "10/10 [==============================] - 0s 5ms/step - loss: 0.0036 - accuracy: 0.0250 - val_loss: 0.0034 - val_accuracy: 0.0000e+00\n",
            "Epoch 44/100\n",
            "10/10 [==============================] - 0s 5ms/step - loss: 0.0036 - accuracy: 0.0250 - val_loss: 0.0035 - val_accuracy: 0.0000e+00\n",
            "Epoch 45/100\n",
            "10/10 [==============================] - 0s 5ms/step - loss: 0.0036 - accuracy: 0.0250 - val_loss: 0.0035 - val_accuracy: 0.0000e+00\n",
            "Epoch 46/100\n",
            "10/10 [==============================] - 0s 6ms/step - loss: 0.0035 - accuracy: 0.0250 - val_loss: 0.0034 - val_accuracy: 0.0000e+00\n",
            "Epoch 47/100\n",
            "10/10 [==============================] - 0s 5ms/step - loss: 0.0036 - accuracy: 0.0250 - val_loss: 0.0033 - val_accuracy: 0.0000e+00\n",
            "Epoch 48/100\n",
            "10/10 [==============================] - 0s 5ms/step - loss: 0.0036 - accuracy: 0.0250 - val_loss: 0.0037 - val_accuracy: 0.0000e+00\n",
            "Epoch 49/100\n",
            "10/10 [==============================] - 0s 5ms/step - loss: 0.0034 - accuracy: 0.0250 - val_loss: 0.0033 - val_accuracy: 0.0000e+00\n",
            "Epoch 50/100\n",
            "10/10 [==============================] - 0s 5ms/step - loss: 0.0035 - accuracy: 0.0250 - val_loss: 0.0032 - val_accuracy: 0.0000e+00\n",
            "Epoch 51/100\n",
            "10/10 [==============================] - 0s 5ms/step - loss: 0.0034 - accuracy: 0.0250 - val_loss: 0.0033 - val_accuracy: 0.0000e+00\n",
            "Epoch 52/100\n",
            "10/10 [==============================] - 0s 5ms/step - loss: 0.0034 - accuracy: 0.0250 - val_loss: 0.0033 - val_accuracy: 0.0000e+00\n",
            "Epoch 53/100\n",
            "10/10 [==============================] - 0s 5ms/step - loss: 0.0033 - accuracy: 0.0250 - val_loss: 0.0032 - val_accuracy: 0.0000e+00\n",
            "Epoch 54/100\n",
            "10/10 [==============================] - 0s 5ms/step - loss: 0.0033 - accuracy: 0.0250 - val_loss: 0.0032 - val_accuracy: 0.0000e+00\n",
            "Epoch 55/100\n",
            "10/10 [==============================] - 0s 5ms/step - loss: 0.0033 - accuracy: 0.0250 - val_loss: 0.0032 - val_accuracy: 0.0000e+00\n",
            "Epoch 56/100\n",
            "10/10 [==============================] - 0s 5ms/step - loss: 0.0032 - accuracy: 0.0250 - val_loss: 0.0032 - val_accuracy: 0.0000e+00\n",
            "Epoch 57/100\n",
            "10/10 [==============================] - 0s 6ms/step - loss: 0.0033 - accuracy: 0.0250 - val_loss: 0.0031 - val_accuracy: 0.0000e+00\n",
            "Epoch 58/100\n",
            "10/10 [==============================] - 0s 5ms/step - loss: 0.0033 - accuracy: 0.0250 - val_loss: 0.0030 - val_accuracy: 0.0000e+00\n",
            "Epoch 59/100\n",
            "10/10 [==============================] - 0s 5ms/step - loss: 0.0032 - accuracy: 0.0250 - val_loss: 0.0032 - val_accuracy: 0.0000e+00\n",
            "Epoch 60/100\n",
            "10/10 [==============================] - 0s 5ms/step - loss: 0.0031 - accuracy: 0.0250 - val_loss: 0.0030 - val_accuracy: 0.0000e+00\n",
            "Epoch 61/100\n",
            "10/10 [==============================] - 0s 5ms/step - loss: 0.0031 - accuracy: 0.0250 - val_loss: 0.0029 - val_accuracy: 0.0000e+00\n",
            "Epoch 62/100\n",
            "10/10 [==============================] - 0s 5ms/step - loss: 0.0031 - accuracy: 0.0250 - val_loss: 0.0030 - val_accuracy: 0.0000e+00\n",
            "Epoch 63/100\n",
            "10/10 [==============================] - 0s 5ms/step - loss: 0.0031 - accuracy: 0.0250 - val_loss: 0.0030 - val_accuracy: 0.0000e+00\n",
            "Epoch 64/100\n",
            "10/10 [==============================] - 0s 5ms/step - loss: 0.0031 - accuracy: 0.0250 - val_loss: 0.0028 - val_accuracy: 0.0000e+00\n",
            "Epoch 65/100\n",
            "10/10 [==============================] - 0s 5ms/step - loss: 0.0030 - accuracy: 0.0250 - val_loss: 0.0031 - val_accuracy: 0.0000e+00\n",
            "Epoch 66/100\n",
            "10/10 [==============================] - 0s 6ms/step - loss: 0.0031 - accuracy: 0.0250 - val_loss: 0.0028 - val_accuracy: 0.0000e+00\n",
            "Epoch 67/100\n",
            "10/10 [==============================] - 0s 5ms/step - loss: 0.0030 - accuracy: 0.0250 - val_loss: 0.0029 - val_accuracy: 0.0000e+00\n",
            "Epoch 68/100\n",
            "10/10 [==============================] - 0s 5ms/step - loss: 0.0030 - accuracy: 0.0250 - val_loss: 0.0027 - val_accuracy: 0.0000e+00\n",
            "Epoch 69/100\n",
            "10/10 [==============================] - 0s 5ms/step - loss: 0.0029 - accuracy: 0.0250 - val_loss: 0.0029 - val_accuracy: 0.0000e+00\n",
            "Epoch 70/100\n",
            "10/10 [==============================] - 0s 6ms/step - loss: 0.0030 - accuracy: 0.0250 - val_loss: 0.0027 - val_accuracy: 0.0000e+00\n",
            "Epoch 71/100\n",
            "10/10 [==============================] - 0s 5ms/step - loss: 0.0029 - accuracy: 0.0250 - val_loss: 0.0028 - val_accuracy: 0.0000e+00\n",
            "Epoch 72/100\n",
            "10/10 [==============================] - 0s 5ms/step - loss: 0.0029 - accuracy: 0.0250 - val_loss: 0.0028 - val_accuracy: 0.0000e+00\n",
            "Epoch 73/100\n",
            "10/10 [==============================] - 0s 6ms/step - loss: 0.0028 - accuracy: 0.0250 - val_loss: 0.0026 - val_accuracy: 0.0000e+00\n",
            "Epoch 74/100\n",
            "10/10 [==============================] - 0s 5ms/step - loss: 0.0028 - accuracy: 0.0250 - val_loss: 0.0027 - val_accuracy: 0.0000e+00\n",
            "Epoch 75/100\n",
            "10/10 [==============================] - 0s 6ms/step - loss: 0.0029 - accuracy: 0.0250 - val_loss: 0.0026 - val_accuracy: 0.0000e+00\n",
            "Epoch 76/100\n",
            "10/10 [==============================] - 0s 5ms/step - loss: 0.0028 - accuracy: 0.0250 - val_loss: 0.0028 - val_accuracy: 0.0000e+00\n",
            "Epoch 77/100\n",
            "10/10 [==============================] - 0s 5ms/step - loss: 0.0027 - accuracy: 0.0250 - val_loss: 0.0025 - val_accuracy: 0.0000e+00\n",
            "Epoch 78/100\n",
            "10/10 [==============================] - 0s 5ms/step - loss: 0.0028 - accuracy: 0.0250 - val_loss: 0.0026 - val_accuracy: 0.0000e+00\n",
            "Epoch 79/100\n",
            "10/10 [==============================] - 0s 5ms/step - loss: 0.0027 - accuracy: 0.0250 - val_loss: 0.0025 - val_accuracy: 0.0000e+00\n",
            "Epoch 80/100\n",
            "10/10 [==============================] - 0s 6ms/step - loss: 0.0027 - accuracy: 0.0250 - val_loss: 0.0025 - val_accuracy: 0.0000e+00\n",
            "Epoch 81/100\n",
            "10/10 [==============================] - 0s 5ms/step - loss: 0.0027 - accuracy: 0.0250 - val_loss: 0.0025 - val_accuracy: 0.0000e+00\n",
            "Epoch 82/100\n",
            "10/10 [==============================] - 0s 5ms/step - loss: 0.0026 - accuracy: 0.0250 - val_loss: 0.0025 - val_accuracy: 0.0000e+00\n",
            "Epoch 83/100\n",
            "10/10 [==============================] - 0s 5ms/step - loss: 0.0026 - accuracy: 0.0250 - val_loss: 0.0025 - val_accuracy: 0.0000e+00\n",
            "Epoch 84/100\n",
            "10/10 [==============================] - 0s 5ms/step - loss: 0.0026 - accuracy: 0.0250 - val_loss: 0.0024 - val_accuracy: 0.0000e+00\n",
            "Epoch 85/100\n",
            "10/10 [==============================] - 0s 5ms/step - loss: 0.0026 - accuracy: 0.0250 - val_loss: 0.0026 - val_accuracy: 0.0000e+00\n",
            "Epoch 86/100\n",
            "10/10 [==============================] - 0s 5ms/step - loss: 0.0026 - accuracy: 0.0250 - val_loss: 0.0024 - val_accuracy: 0.0000e+00\n",
            "Epoch 87/100\n",
            "10/10 [==============================] - 0s 5ms/step - loss: 0.0025 - accuracy: 0.0250 - val_loss: 0.0024 - val_accuracy: 0.0000e+00\n",
            "Epoch 88/100\n",
            "10/10 [==============================] - 0s 6ms/step - loss: 0.0025 - accuracy: 0.0250 - val_loss: 0.0023 - val_accuracy: 0.0000e+00\n",
            "Epoch 89/100\n",
            "10/10 [==============================] - 0s 5ms/step - loss: 0.0025 - accuracy: 0.0250 - val_loss: 0.0024 - val_accuracy: 0.0000e+00\n",
            "Epoch 90/100\n",
            "10/10 [==============================] - 0s 5ms/step - loss: 0.0024 - accuracy: 0.0250 - val_loss: 0.0023 - val_accuracy: 0.0000e+00\n",
            "Epoch 91/100\n",
            "10/10 [==============================] - 0s 5ms/step - loss: 0.0024 - accuracy: 0.0250 - val_loss: 0.0023 - val_accuracy: 0.0000e+00\n",
            "Epoch 92/100\n",
            "10/10 [==============================] - 0s 6ms/step - loss: 0.0024 - accuracy: 0.0250 - val_loss: 0.0022 - val_accuracy: 0.0000e+00\n",
            "Epoch 93/100\n",
            "10/10 [==============================] - 0s 5ms/step - loss: 0.0024 - accuracy: 0.0250 - val_loss: 0.0024 - val_accuracy: 0.0000e+00\n",
            "Epoch 94/100\n",
            "10/10 [==============================] - 0s 5ms/step - loss: 0.0023 - accuracy: 0.0250 - val_loss: 0.0022 - val_accuracy: 0.0000e+00\n",
            "Epoch 95/100\n",
            "10/10 [==============================] - 0s 5ms/step - loss: 0.0024 - accuracy: 0.0250 - val_loss: 0.0023 - val_accuracy: 0.0000e+00\n",
            "Epoch 96/100\n",
            "10/10 [==============================] - 0s 6ms/step - loss: 0.0025 - accuracy: 0.0250 - val_loss: 0.0022 - val_accuracy: 0.0000e+00\n",
            "Epoch 97/100\n",
            "10/10 [==============================] - 0s 5ms/step - loss: 0.0023 - accuracy: 0.0250 - val_loss: 0.0021 - val_accuracy: 0.0000e+00\n",
            "Epoch 98/100\n",
            "10/10 [==============================] - 0s 5ms/step - loss: 0.0023 - accuracy: 0.0250 - val_loss: 0.0022 - val_accuracy: 0.0000e+00\n",
            "Epoch 99/100\n",
            "10/10 [==============================] - 0s 5ms/step - loss: 0.0023 - accuracy: 0.0250 - val_loss: 0.0021 - val_accuracy: 0.0000e+00\n",
            "Epoch 100/100\n",
            "10/10 [==============================] - 0s 5ms/step - loss: 0.0024 - accuracy: 0.0250 - val_loss: 0.0021 - val_accuracy: 0.0000e+00\n"
          ]
        }
      ]
    },
    {
      "cell_type": "code",
      "metadata": {
        "id": "-D-aZp1Bqzak"
      },
      "source": [
        "# Model predict\n",
        "\n",
        "y_hat = model_3.predict(X_test)"
      ],
      "execution_count": 27,
      "outputs": []
    },
    {
      "cell_type": "code",
      "metadata": {
        "colab": {
          "base_uri": "https://localhost:8080/",
          "height": 265
        },
        "id": "vN530MEWq4Ds",
        "outputId": "c8930500-52c9-41d4-ab2d-bce60fa2fc99"
      },
      "source": [
        "# Visualization\n",
        "\n",
        "plt.plot(Hist_3.history['loss'])\n",
        "plt.show()"
      ],
      "execution_count": 28,
      "outputs": [
        {
          "output_type": "display_data",
          "data": {
            "image/png": "[encoded data removed]",
            "text/plain": [
              "<Figure size 432x288 with 1 Axes>"
            ]
          },
          "metadata": {
            "needs_background": "light"
          }
        }
      ]
    },
    {
      "cell_type": "code",
      "metadata": {
        "colab": {
          "base_uri": "https://localhost:8080/",
          "height": 265
        },
        "id": "slvoHHKFq9AU",
        "outputId": "fbf8f346-519a-4465-9b44-44b9daf88e24"
      },
      "source": [
        "plt.scatter(range(20), y_test, c = 'g')\n",
        "plt.scatter(range(20), y_hat, c = 'r')\n",
        "plt.show()"
      ],
      "execution_count": 29,
      "outputs": [
        {
          "output_type": "display_data",
          "data": {
            "image/png": "[encoded data removed]",
            "text/plain": [
              "<Figure size 432x288 with 1 Axes>"
            ]
          },
          "metadata": {
            "needs_background": "light"
          }
        }
      ]
    },
    {
      "cell_type": "markdown",
      "metadata": {
        "id": "UAQGsLAArIoW"
      },
      "source": [
        "# 'return_sequence' Output_options\n",
        "\n",
        "- input_length에 대한 sequence 전체를 출력할지 설정(True, False)"
      ]
    },
    {
      "cell_type": "code",
      "metadata": {
        "colab": {
          "base_uri": "https://localhost:8080/"
        },
        "id": "3ktai8lkrC1b",
        "outputId": "362b6e93-c3b2-4267-ed95-95e2c24e5c17"
      },
      "source": [
        "# 실습 데이터 생성\n",
        "\n",
        "X = [[[i + j] for i in range(5)] for j in range(100)]\n",
        "y = [i + 5 for i in range(100)]\n",
        "X = np.array(X, dtype = float)\n",
        "y = np.array(y, dtype = float)\n",
        "X_train, X_test, y_train, y_test = train_test_split(X, y, \n",
        "                                                    test_size = 0.2, \n",
        "                                                    random_state = 2045)\n",
        "X_train.shape, y_train.shape, X_test.shape, y_test.shape"
      ],
      "execution_count": 31,
      "outputs": [
        {
          "output_type": "execute_result",
          "data": {
            "text/plain": [
              "((80, 5, 1), (80,), (20, 5, 1), (20,))"
            ]
          },
          "metadata": {},
          "execution_count": 31
        }
      ]
    },
    {
      "cell_type": "code",
      "metadata": {
        "colab": {
          "base_uri": "https://localhost:8080/"
        },
        "id": "g1-Eq7z-rY7U",
        "outputId": "57d60465-979d-4b51-f260-b38898f91f67"
      },
      "source": [
        "# test용 input data\n",
        "\n",
        "X_test[0].reshape(1,5,1)"
      ],
      "execution_count": 32,
      "outputs": [
        {
          "output_type": "execute_result",
          "data": {
            "text/plain": [
              "array([[[29.],\n",
              "        [30.],\n",
              "        [31.],\n",
              "        [32.],\n",
              "        [33.]]])"
            ]
          },
          "metadata": {},
          "execution_count": 32
        }
      ]
    },
    {
      "cell_type": "code",
      "metadata": {
        "id": "7Hwk8fXVrjOL"
      },
      "source": [
        "# False_option\n",
        "# - 마지막 output만 출력 -> units = 1\n",
        "\n",
        "Model_False = models.Sequential()\n",
        "Model_False.add(layers.SimpleRNN(1,\n",
        "                                 input_shape = (5,1),\n",
        "                                 return_sequences = False))\n",
        "\n",
        "Model_False.compile(loss = 'mse',\n",
        "                    optimizer = 'adam',\n",
        "                    metrics = ['accuracy'])\n"
      ],
      "execution_count": 33,
      "outputs": []
    },
    {
      "cell_type": "code",
      "metadata": {
        "colab": {
          "base_uri": "https://localhost:8080/"
        },
        "id": "Ua2N7dyQr3zD",
        "outputId": "7a5b3bbc-cd38-4ea5-d585-ba9e23b507d4"
      },
      "source": [
        "Model_False.predict(X_test[0].reshape(1,5,1))"
      ],
      "execution_count": 34,
      "outputs": [
        {
          "output_type": "execute_result",
          "data": {
            "text/plain": [
              "array([[-0.9991712]], dtype=float32)"
            ]
          },
          "metadata": {},
          "execution_count": 34
        }
      ]
    },
    {
      "cell_type": "code",
      "metadata": {
        "id": "vhTMUxcjr8e7"
      },
      "source": [
        "# 마지막 output만 출력\n",
        "\n",
        "Model_False = models.Sequential()\n",
        "Model_False.add(layers.SimpleRNN(3,\n",
        "                                 input_shape = (5,1),\n",
        "                                 return_sequences = False))\n",
        "\n",
        "Model_False.compile(loss = 'mse',\n",
        "                    optimizer = 'adam',\n",
        "                    metrics = ['accuracy'])"
      ],
      "execution_count": 35,
      "outputs": []
    },
    {
      "cell_type": "code",
      "metadata": {
        "colab": {
          "base_uri": "https://localhost:8080/"
        },
        "id": "loKBL3p4sVi0",
        "outputId": "798a4532-24e6-4fca-f595-78c8117d4fbf"
      },
      "source": [
        "Model_False.predict(X_test[0].reshape(1,5,1))"
      ],
      "execution_count": 36,
      "outputs": [
        {
          "output_type": "stream",
          "name": "stdout",
          "text": [
            "WARNING:tensorflow:5 out of the last 5 calls to <function Model.make_predict_function.<locals>.predict_function at 0x7ff8787199e0> triggered tf.function retracing. Tracing is expensive and the excessive number of tracings could be due to (1) creating @tf.function repeatedly in a loop, (2) passing tensors with different shapes, (3) passing Python objects instead of tensors. For (1), please define your @tf.function outside of the loop. For (2), @tf.function has experimental_relax_shapes=True option that relaxes argument shapes that can avoid unnecessary retracing. For (3), please refer to https://www.tensorflow.org/guide/function#controlling_retracing and https://www.tensorflow.org/api_docs/python/tf/function for  more details.\n"
          ]
        },
        {
          "output_type": "execute_result",
          "data": {
            "text/plain": [
              "array([[-0.999699, -1.      , -1.      ]], dtype=float32)"
            ]
          },
          "metadata": {},
          "execution_count": 36
        }
      ]
    },
    {
      "cell_type": "code",
      "metadata": {
        "colab": {
          "base_uri": "https://localhost:8080/"
        },
        "id": "fmCLeJAwsa1c",
        "outputId": "3e310c57-a4ce-4d9e-dda1-36977fe4ff65"
      },
      "source": [
        "# True_option\n",
        "# 매 순환마다ouput 출력\n",
        "# unit = 1 / input_length = 5\n",
        "\n",
        "Model_True = models.Sequential()\n",
        "Model_True.add(layers.SimpleRNN(1,\n",
        "                                input_shape = (5,1),\n",
        "                                return_sequences = True))\n",
        "\n",
        "Model_True.compile(loss = 'mse',\n",
        "                   optimizer = 'adam',\n",
        "                   metrics = ['accuracy'])\n",
        "\n",
        "Model_True.predict(X_test[0].reshape(1,5,1))"
      ],
      "execution_count": 37,
      "outputs": [
        {
          "output_type": "stream",
          "name": "stdout",
          "text": [
            "WARNING:tensorflow:6 out of the last 6 calls to <function Model.make_predict_function.<locals>.predict_function at 0x7ff878719e60> triggered tf.function retracing. Tracing is expensive and the excessive number of tracings could be due to (1) creating @tf.function repeatedly in a loop, (2) passing tensors with different shapes, (3) passing Python objects instead of tensors. For (1), please define your @tf.function outside of the loop. For (2), @tf.function has experimental_relax_shapes=True option that relaxes argument shapes that can avoid unnecessary retracing. For (3), please refer to https://www.tensorflow.org/guide/function#controlling_retracing and https://www.tensorflow.org/api_docs/python/tf/function for  more details.\n"
          ]
        },
        {
          "output_type": "execute_result",
          "data": {
            "text/plain": [
              "array([[[1.        ],\n",
              "        [0.99999964],\n",
              "        [1.        ],\n",
              "        [1.        ],\n",
              "        [1.        ]]], dtype=float32)"
            ]
          },
          "metadata": {},
          "execution_count": 37
        }
      ]
    },
    {
      "cell_type": "code",
      "metadata": {
        "colab": {
          "base_uri": "https://localhost:8080/"
        },
        "id": "6Xew-y0bszXE",
        "outputId": "8ff122e5-486a-4c66-8630-87c54ca9e2b9"
      },
      "source": [
        "# unit = 3 / input_length = 5\n",
        "\n",
        "Model_True = models.Sequential()\n",
        "Model_True.add(layers.SimpleRNN(3,\n",
        "                                input_shape = (5, 1), \n",
        "                                return_sequences = True))\n",
        "Model_True.compile(loss = 'mse',\n",
        "                   optimizer = 'adam',\n",
        "                   metrics = ['accuracy'])\n",
        "\n",
        "Model_True.predict(X_test[0].reshape(1,5,1))"
      ],
      "execution_count": 39,
      "outputs": [
        {
          "output_type": "execute_result",
          "data": {
            "text/plain": [
              "array([[[ 0.99995685, -1.        , -0.9999996 ],\n",
              "        [ 0.99993   , -1.        , -0.99999803],\n",
              "        [ 0.9999518 , -1.        , -0.9999989 ],\n",
              "        [ 0.9999668 , -1.        , -0.99999934],\n",
              "        [ 0.999977  , -1.        , -0.9999996 ]]], dtype=float32)"
            ]
          },
          "metadata": {},
          "execution_count": 39
        }
      ]
    },
    {
      "cell_type": "code",
      "metadata": {
        "id": "VxNFQZ5gtCts"
      },
      "source": [
        ""
      ],
      "execution_count": null,
      "outputs": []
    }
  ]
}