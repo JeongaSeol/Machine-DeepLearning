{
  "nbformat": 4,
  "nbformat_minor": 0,
  "metadata": {
    "colab": {
      "name": "20_Convolutional_neural_network_MNIS_GPU.ipynb",
      "provenance": [],
      "collapsed_sections": []
    },
    "kernelspec": {
      "name": "python3",
      "display_name": "Python 3"
    },
    "language_info": {
      "name": "python"
    },
    "accelerator": "GPU"
  },
  "cells": [
    {
      "cell_type": "markdown",
      "metadata": {
        "id": "z_YoH4daLKsX"
      },
      "source": [
        "# MNIST - Categorical Classification\n"
      ]
    },
    {
      "cell_type": "markdown",
      "metadata": {
        "id": "0W4wnv7ELRX8"
      },
      "source": [
        "#Convolutional neural network\n"
      ]
    },
    {
      "cell_type": "code",
      "metadata": {
        "id": "7WSk0-tbLKk7"
      },
      "source": [
        "import warnings\n",
        "warnings.filterwarnings('ignore')"
      ],
      "execution_count": 2,
      "outputs": []
    },
    {
      "cell_type": "markdown",
      "metadata": {
        "id": "wMSb1-XuLKgN"
      },
      "source": [
        "- import tensorflow"
      ]
    },
    {
      "cell_type": "code",
      "metadata": {
        "colab": {
          "base_uri": "https://localhost:8080/",
          "height": 35
        },
        "id": "d2h4aKeILKZW",
        "outputId": "2bd4789e-ee23-442f-987d-da4a8eb6e40b"
      },
      "source": [
        "import tensorflow\n",
        "\n",
        "tensorflow.__version__"
      ],
      "execution_count": 3,
      "outputs": [
        {
          "output_type": "execute_result",
          "data": {
            "application/vnd.google.colaboratory.intrinsic+json": {
              "type": "string"
            },
            "text/plain": [
              "'2.6.0'"
            ]
          },
          "metadata": {},
          "execution_count": 3
        }
      ]
    },
    {
      "cell_type": "markdown",
      "metadata": {
        "id": "XAPQWj0ALKUE"
      },
      "source": [
        "# 1. MNIST Data_Set Load"
      ]
    },
    {
      "cell_type": "code",
      "metadata": {
        "colab": {
          "base_uri": "https://localhost:8080/"
        },
        "id": "FccBjmqGLjhp",
        "outputId": "ac8fc7d7-9f21-42eb-804c-c0edbe936b01"
      },
      "source": [
        "from tensorflow.keras.datasets import mnist\n",
        "\n",
        "(X_train, y_train), (X_test, y_test) = mnist.load_data()"
      ],
      "execution_count": 4,
      "outputs": [
        {
          "output_type": "stream",
          "name": "stdout",
          "text": [
            "Downloading data from https://storage.googleapis.com/tensorflow/tf-keras-datasets/mnist.npz\n",
            "11493376/11490434 [==============================] - 0s 0us/step\n",
            "11501568/11490434 [==============================] - 0s 0us/step\n"
          ]
        }
      ]
    },
    {
      "cell_type": "markdown",
      "metadata": {
        "id": "Wf_2mAlBLjTk"
      },
      "source": [
        "# 2. Data Preprocessing"
      ]
    },
    {
      "cell_type": "markdown",
      "metadata": {
        "id": "qTe5jvR3LKLv"
      },
      "source": [
        "## 1) Reshape and Normalization\n",
        "\n",
        "- reshape"
      ]
    },
    {
      "cell_type": "code",
      "metadata": {
        "id": "4EqbRQ2pLKGC"
      },
      "source": [
        "X_train = X_train.reshape((60000,28,28,1))\n",
        "X_test = X_test.reshape((10000,28,28,1))"
      ],
      "execution_count": 5,
      "outputs": []
    },
    {
      "cell_type": "markdown",
      "metadata": {
        "id": "xP9iekq_LKA1"
      },
      "source": [
        "- Normalization"
      ]
    },
    {
      "cell_type": "code",
      "metadata": {
        "id": "PZ6QuFCILJ7H"
      },
      "source": [
        "X_train = X_train.astype(float)/255\n",
        "X_test = X_test.astype(float)/255"
      ],
      "execution_count": 6,
      "outputs": []
    },
    {
      "cell_type": "markdown",
      "metadata": {
        "id": "Ig3u_zVbLJ1h"
      },
      "source": [
        "## 2) One Hot Encoding"
      ]
    },
    {
      "cell_type": "code",
      "metadata": {
        "id": "3UFIuYi9LJs9"
      },
      "source": [
        "from tensorflow.keras.utils import to_categorical\n",
        "\n",
        "y_train = to_categorical(y_train)\n",
        "y_test = to_categorical(y_test)"
      ],
      "execution_count": 7,
      "outputs": []
    },
    {
      "cell_type": "markdown",
      "metadata": {
        "id": "5K4GoKWJLJog"
      },
      "source": [
        "# 3. MNIST Keras Modeling"
      ]
    },
    {
      "cell_type": "markdown",
      "metadata": {
        "id": "karysE8ZMNmx"
      },
      "source": [
        "## 1) Model Define\n",
        "\n",
        "-Feature Extraction Layer"
      ]
    },
    {
      "cell_type": "code",
      "metadata": {
        "id": "HNuorKpMLJjN"
      },
      "source": [
        "from tensorflow.keras import models\n",
        "from tensorflow.keras import layers\n",
        "\n",
        "model = models.Sequential()\n",
        "model.add(layers.Conv2D(filters = 32, kernel_size = (3,3), activation = 'relu', input_shape = (28,28,1)))\n",
        "model.add(layers.MaxPool2D(pool_size = (2,2)))\n",
        "model.add(layers.Conv2D(filters = 64, kernel_size = (3,3), activation = 'relu'))\n",
        "model.add(layers.MaxPool2D(pool_size = (2,2)))\n",
        "model.add(layers.Conv2D(filters = 64, kernel_size = (3,3), activation = 'relu'))"
      ],
      "execution_count": 8,
      "outputs": []
    },
    {
      "cell_type": "code",
      "metadata": {
        "colab": {
          "base_uri": "https://localhost:8080/"
        },
        "id": "w1FzTGTJM2mT",
        "outputId": "554a9b4f-dfcd-430d-f846-ee48433cc3a2"
      },
      "source": [
        "model.summary()"
      ],
      "execution_count": 9,
      "outputs": [
        {
          "output_type": "stream",
          "name": "stdout",
          "text": [
            "Model: \"sequential\"\n",
            "_________________________________________________________________\n",
            "Layer (type)                 Output Shape              Param #   \n",
            "=================================================================\n",
            "conv2d (Conv2D)              (None, 26, 26, 32)        320       \n",
            "_________________________________________________________________\n",
            "max_pooling2d (MaxPooling2D) (None, 13, 13, 32)        0         \n",
            "_________________________________________________________________\n",
            "conv2d_1 (Conv2D)            (None, 11, 11, 64)        18496     \n",
            "_________________________________________________________________\n",
            "max_pooling2d_1 (MaxPooling2 (None, 5, 5, 64)          0         \n",
            "_________________________________________________________________\n",
            "conv2d_2 (Conv2D)            (None, 3, 3, 64)          36928     \n",
            "=================================================================\n",
            "Total params: 55,744\n",
            "Trainable params: 55,744\n",
            "Non-trainable params: 0\n",
            "_________________________________________________________________\n"
          ]
        }
      ]
    },
    {
      "cell_type": "markdown",
      "metadata": {
        "id": "FQ2emmRcLJe9"
      },
      "source": [
        "- classification Layer"
      ]
    },
    {
      "cell_type": "code",
      "metadata": {
        "id": "lJWfPULCLJZi"
      },
      "source": [
        "model.add(layers.Flatten())\n",
        "model.add(layers.Dense(units = 64, activation = 'relu'))\n",
        "model.add(layers.Dense(units = 10, activation = 'softmax'))"
      ],
      "execution_count": 10,
      "outputs": []
    },
    {
      "cell_type": "code",
      "metadata": {
        "colab": {
          "base_uri": "https://localhost:8080/"
        },
        "id": "KuUhlliaNEys",
        "outputId": "d237dc1c-efcb-4c04-ce11-d97e7af77943"
      },
      "source": [
        "model.summary()"
      ],
      "execution_count": 11,
      "outputs": [
        {
          "output_type": "stream",
          "name": "stdout",
          "text": [
            "Model: \"sequential\"\n",
            "_________________________________________________________________\n",
            "Layer (type)                 Output Shape              Param #   \n",
            "=================================================================\n",
            "conv2d (Conv2D)              (None, 26, 26, 32)        320       \n",
            "_________________________________________________________________\n",
            "max_pooling2d (MaxPooling2D) (None, 13, 13, 32)        0         \n",
            "_________________________________________________________________\n",
            "conv2d_1 (Conv2D)            (None, 11, 11, 64)        18496     \n",
            "_________________________________________________________________\n",
            "max_pooling2d_1 (MaxPooling2 (None, 5, 5, 64)          0         \n",
            "_________________________________________________________________\n",
            "conv2d_2 (Conv2D)            (None, 3, 3, 64)          36928     \n",
            "_________________________________________________________________\n",
            "flatten (Flatten)            (None, 576)               0         \n",
            "_________________________________________________________________\n",
            "dense (Dense)                (None, 64)                36928     \n",
            "_________________________________________________________________\n",
            "dense_1 (Dense)              (None, 10)                650       \n",
            "=================================================================\n",
            "Total params: 93,322\n",
            "Trainable params: 93,322\n",
            "Non-trainable params: 0\n",
            "_________________________________________________________________\n"
          ]
        }
      ]
    },
    {
      "cell_type": "markdown",
      "metadata": {
        "id": "-ms9L26fLJVP"
      },
      "source": [
        "## 2) Model Compile\n",
        "\n",
        "- 모델 학습방법 설정"
      ]
    },
    {
      "cell_type": "code",
      "metadata": {
        "id": "M5bb4O4zLJPz"
      },
      "source": [
        "model.compile(loss = 'categorical_crossentropy',\n",
        "              optimizer = 'rmsprop',\n",
        "              metrics = ['accuracy'])\n"
      ],
      "execution_count": 12,
      "outputs": []
    },
    {
      "cell_type": "markdown",
      "metadata": {
        "id": "uebAuaNILJKa"
      },
      "source": [
        "## 3) Model fit\n"
      ]
    },
    {
      "cell_type": "code",
      "metadata": {
        "colab": {
          "base_uri": "https://localhost:8080/"
        },
        "id": "cPzZm6oBLJDv",
        "outputId": "40aed484-4500-4ee9-b391-b2970ad9f0bb"
      },
      "source": [
        "%%time\n",
        "\n",
        "Hist_mnist = model.fit(X_train, y_train,\n",
        "                       epochs = 100,\n",
        "                       batch_size = 128,\n",
        "                       validation_split = 0.2)"
      ],
      "execution_count": 13,
      "outputs": [
        {
          "output_type": "stream",
          "name": "stdout",
          "text": [
            "Epoch 1/100\n",
            "375/375 [==============================] - 38s 16ms/step - loss: 0.2734 - accuracy: 0.9143 - val_loss: 0.0861 - val_accuracy: 0.9728\n",
            "Epoch 2/100\n",
            "375/375 [==============================] - 6s 15ms/step - loss: 0.0668 - accuracy: 0.9789 - val_loss: 0.0523 - val_accuracy: 0.9853\n",
            "Epoch 3/100\n",
            "375/375 [==============================] - 5s 14ms/step - loss: 0.0431 - accuracy: 0.9870 - val_loss: 0.0470 - val_accuracy: 0.9860\n",
            "Epoch 4/100\n",
            "375/375 [==============================] - 5s 14ms/step - loss: 0.0320 - accuracy: 0.9899 - val_loss: 0.0468 - val_accuracy: 0.9864\n",
            "Epoch 5/100\n",
            "375/375 [==============================] - 5s 14ms/step - loss: 0.0254 - accuracy: 0.9918 - val_loss: 0.0383 - val_accuracy: 0.9890\n",
            "Epoch 6/100\n",
            "375/375 [==============================] - 5s 14ms/step - loss: 0.0200 - accuracy: 0.9939 - val_loss: 0.0443 - val_accuracy: 0.9884\n",
            "Epoch 7/100\n",
            "375/375 [==============================] - 5s 14ms/step - loss: 0.0158 - accuracy: 0.9949 - val_loss: 0.0389 - val_accuracy: 0.9899\n",
            "Epoch 8/100\n",
            "375/375 [==============================] - 5s 14ms/step - loss: 0.0135 - accuracy: 0.9952 - val_loss: 0.0406 - val_accuracy: 0.9900\n",
            "Epoch 9/100\n",
            "375/375 [==============================] - 5s 14ms/step - loss: 0.0113 - accuracy: 0.9967 - val_loss: 0.0393 - val_accuracy: 0.9903\n",
            "Epoch 10/100\n",
            "375/375 [==============================] - 5s 14ms/step - loss: 0.0092 - accuracy: 0.9970 - val_loss: 0.0405 - val_accuracy: 0.9916\n",
            "Epoch 11/100\n",
            "375/375 [==============================] - 5s 14ms/step - loss: 0.0083 - accuracy: 0.9976 - val_loss: 0.0452 - val_accuracy: 0.9900\n",
            "Epoch 12/100\n",
            "375/375 [==============================] - 5s 14ms/step - loss: 0.0063 - accuracy: 0.9980 - val_loss: 0.0475 - val_accuracy: 0.9908\n",
            "Epoch 13/100\n",
            "375/375 [==============================] - 5s 14ms/step - loss: 0.0055 - accuracy: 0.9980 - val_loss: 0.0520 - val_accuracy: 0.9895\n",
            "Epoch 14/100\n",
            "375/375 [==============================] - 5s 14ms/step - loss: 0.0052 - accuracy: 0.9983 - val_loss: 0.0537 - val_accuracy: 0.9899\n",
            "Epoch 15/100\n",
            "375/375 [==============================] - 5s 15ms/step - loss: 0.0042 - accuracy: 0.9984 - val_loss: 0.0552 - val_accuracy: 0.9907\n",
            "Epoch 16/100\n",
            "375/375 [==============================] - 5s 14ms/step - loss: 0.0038 - accuracy: 0.9987 - val_loss: 0.1003 - val_accuracy: 0.9846\n",
            "Epoch 17/100\n",
            "375/375 [==============================] - 5s 14ms/step - loss: 0.0037 - accuracy: 0.9988 - val_loss: 0.0702 - val_accuracy: 0.9898\n",
            "Epoch 18/100\n",
            "375/375 [==============================] - 5s 14ms/step - loss: 0.0034 - accuracy: 0.9988 - val_loss: 0.0541 - val_accuracy: 0.9912\n",
            "Epoch 19/100\n",
            "375/375 [==============================] - 5s 14ms/step - loss: 0.0034 - accuracy: 0.9989 - val_loss: 0.0614 - val_accuracy: 0.9905\n",
            "Epoch 20/100\n",
            "375/375 [==============================] - 5s 14ms/step - loss: 0.0028 - accuracy: 0.9990 - val_loss: 0.0632 - val_accuracy: 0.9910\n",
            "Epoch 21/100\n",
            "375/375 [==============================] - 5s 15ms/step - loss: 0.0024 - accuracy: 0.9991 - val_loss: 0.0638 - val_accuracy: 0.9913\n",
            "Epoch 22/100\n",
            "375/375 [==============================] - 5s 14ms/step - loss: 0.0029 - accuracy: 0.9992 - val_loss: 0.0750 - val_accuracy: 0.9900\n",
            "Epoch 23/100\n",
            "375/375 [==============================] - 5s 14ms/step - loss: 0.0020 - accuracy: 0.9992 - val_loss: 0.0853 - val_accuracy: 0.9904\n",
            "Epoch 24/100\n",
            "375/375 [==============================] - 5s 15ms/step - loss: 0.0024 - accuracy: 0.9990 - val_loss: 0.0820 - val_accuracy: 0.9911\n",
            "Epoch 25/100\n",
            "375/375 [==============================] - 5s 14ms/step - loss: 0.0020 - accuracy: 0.9994 - val_loss: 0.0907 - val_accuracy: 0.9899\n",
            "Epoch 26/100\n",
            "375/375 [==============================] - 5s 14ms/step - loss: 0.0018 - accuracy: 0.9996 - val_loss: 0.0783 - val_accuracy: 0.9904\n",
            "Epoch 27/100\n",
            "375/375 [==============================] - 5s 15ms/step - loss: 0.0024 - accuracy: 0.9993 - val_loss: 0.0714 - val_accuracy: 0.9910\n",
            "Epoch 28/100\n",
            "375/375 [==============================] - 5s 14ms/step - loss: 0.0016 - accuracy: 0.9996 - val_loss: 0.0928 - val_accuracy: 0.9900\n",
            "Epoch 29/100\n",
            "375/375 [==============================] - 5s 14ms/step - loss: 0.0020 - accuracy: 0.9994 - val_loss: 0.0991 - val_accuracy: 0.9902\n",
            "Epoch 30/100\n",
            "375/375 [==============================] - 5s 15ms/step - loss: 0.0020 - accuracy: 0.9995 - val_loss: 0.0946 - val_accuracy: 0.9897\n",
            "Epoch 31/100\n",
            "375/375 [==============================] - 5s 14ms/step - loss: 0.0016 - accuracy: 0.9994 - val_loss: 0.0913 - val_accuracy: 0.9898\n",
            "Epoch 32/100\n",
            "375/375 [==============================] - 5s 14ms/step - loss: 0.0019 - accuracy: 0.9995 - val_loss: 0.0801 - val_accuracy: 0.9914\n",
            "Epoch 33/100\n",
            "375/375 [==============================] - 5s 14ms/step - loss: 0.0016 - accuracy: 0.9995 - val_loss: 0.1028 - val_accuracy: 0.9908\n",
            "Epoch 34/100\n",
            "375/375 [==============================] - 5s 14ms/step - loss: 0.0014 - accuracy: 0.9996 - val_loss: 0.1047 - val_accuracy: 0.9910\n",
            "Epoch 35/100\n",
            "375/375 [==============================] - 5s 14ms/step - loss: 0.0012 - accuracy: 0.9996 - val_loss: 0.1010 - val_accuracy: 0.9908\n",
            "Epoch 36/100\n",
            "375/375 [==============================] - 5s 14ms/step - loss: 0.0013 - accuracy: 0.9996 - val_loss: 0.1108 - val_accuracy: 0.9899\n",
            "Epoch 37/100\n",
            "375/375 [==============================] - 5s 14ms/step - loss: 0.0017 - accuracy: 0.9996 - val_loss: 0.1018 - val_accuracy: 0.9911\n",
            "Epoch 38/100\n",
            "375/375 [==============================] - 5s 14ms/step - loss: 0.0010 - accuracy: 0.9996 - val_loss: 0.0990 - val_accuracy: 0.9916\n",
            "Epoch 39/100\n",
            "375/375 [==============================] - 5s 14ms/step - loss: 0.0016 - accuracy: 0.9996 - val_loss: 0.1019 - val_accuracy: 0.9913\n",
            "Epoch 40/100\n",
            "375/375 [==============================] - 5s 14ms/step - loss: 0.0014 - accuracy: 0.9997 - val_loss: 0.0985 - val_accuracy: 0.9913\n",
            "Epoch 41/100\n",
            "375/375 [==============================] - 5s 14ms/step - loss: 0.0011 - accuracy: 0.9998 - val_loss: 0.1079 - val_accuracy: 0.9903\n",
            "Epoch 42/100\n",
            "375/375 [==============================] - 5s 14ms/step - loss: 0.0011 - accuracy: 0.9996 - val_loss: 0.1334 - val_accuracy: 0.9896\n",
            "Epoch 43/100\n",
            "375/375 [==============================] - 5s 14ms/step - loss: 0.0014 - accuracy: 0.9997 - val_loss: 0.1066 - val_accuracy: 0.9913\n",
            "Epoch 44/100\n",
            "375/375 [==============================] - 5s 14ms/step - loss: 0.0020 - accuracy: 0.9995 - val_loss: 0.1130 - val_accuracy: 0.9910\n",
            "Epoch 45/100\n",
            "375/375 [==============================] - 5s 14ms/step - loss: 0.0016 - accuracy: 0.9996 - val_loss: 0.1135 - val_accuracy: 0.9910\n",
            "Epoch 46/100\n",
            "375/375 [==============================] - 5s 15ms/step - loss: 0.0018 - accuracy: 0.9995 - val_loss: 0.1030 - val_accuracy: 0.9912\n",
            "Epoch 47/100\n",
            "375/375 [==============================] - 5s 14ms/step - loss: 0.0012 - accuracy: 0.9996 - val_loss: 0.1013 - val_accuracy: 0.9912\n",
            "Epoch 48/100\n",
            "375/375 [==============================] - 5s 14ms/step - loss: 0.0015 - accuracy: 0.9996 - val_loss: 0.1091 - val_accuracy: 0.9911\n",
            "Epoch 49/100\n",
            "375/375 [==============================] - 5s 14ms/step - loss: 9.7240e-04 - accuracy: 0.9998 - val_loss: 0.1412 - val_accuracy: 0.9907\n",
            "Epoch 50/100\n",
            "375/375 [==============================] - 5s 15ms/step - loss: 7.4523e-04 - accuracy: 0.9997 - val_loss: 0.1141 - val_accuracy: 0.9911\n",
            "Epoch 51/100\n",
            "375/375 [==============================] - 5s 14ms/step - loss: 9.2970e-04 - accuracy: 0.9998 - val_loss: 0.1170 - val_accuracy: 0.9915\n",
            "Epoch 52/100\n",
            "375/375 [==============================] - 5s 14ms/step - loss: 8.6157e-04 - accuracy: 0.9998 - val_loss: 0.1263 - val_accuracy: 0.9913\n",
            "Epoch 53/100\n",
            "375/375 [==============================] - 5s 14ms/step - loss: 0.0016 - accuracy: 0.9997 - val_loss: 0.1313 - val_accuracy: 0.9912\n",
            "Epoch 54/100\n",
            "375/375 [==============================] - 5s 14ms/step - loss: 0.0013 - accuracy: 0.9997 - val_loss: 0.1191 - val_accuracy: 0.9920\n",
            "Epoch 55/100\n",
            "375/375 [==============================] - 5s 14ms/step - loss: 0.0012 - accuracy: 0.9997 - val_loss: 0.1436 - val_accuracy: 0.9902\n",
            "Epoch 56/100\n",
            "375/375 [==============================] - 5s 14ms/step - loss: 0.0013 - accuracy: 0.9997 - val_loss: 0.1257 - val_accuracy: 0.9911\n",
            "Epoch 57/100\n",
            "375/375 [==============================] - 5s 14ms/step - loss: 0.0015 - accuracy: 0.9997 - val_loss: 0.1578 - val_accuracy: 0.9899\n",
            "Epoch 58/100\n",
            "375/375 [==============================] - 5s 14ms/step - loss: 0.0026 - accuracy: 0.9995 - val_loss: 0.1333 - val_accuracy: 0.9906\n",
            "Epoch 59/100\n",
            "375/375 [==============================] - 5s 14ms/step - loss: 0.0012 - accuracy: 0.9997 - val_loss: 0.1529 - val_accuracy: 0.9899\n",
            "Epoch 60/100\n",
            "375/375 [==============================] - 5s 14ms/step - loss: 6.1715e-04 - accuracy: 0.9998 - val_loss: 0.1425 - val_accuracy: 0.9912\n",
            "Epoch 61/100\n",
            "375/375 [==============================] - 5s 14ms/step - loss: 9.5143e-04 - accuracy: 0.9998 - val_loss: 0.1344 - val_accuracy: 0.9907\n",
            "Epoch 62/100\n",
            "375/375 [==============================] - 5s 14ms/step - loss: 0.0013 - accuracy: 0.9998 - val_loss: 0.1284 - val_accuracy: 0.9916\n",
            "Epoch 63/100\n",
            "375/375 [==============================] - 5s 14ms/step - loss: 6.8214e-04 - accuracy: 0.9998 - val_loss: 0.1444 - val_accuracy: 0.9908\n",
            "Epoch 64/100\n",
            "375/375 [==============================] - 5s 14ms/step - loss: 0.0019 - accuracy: 0.9997 - val_loss: 0.1182 - val_accuracy: 0.9921\n",
            "Epoch 65/100\n",
            "375/375 [==============================] - 5s 14ms/step - loss: 9.6853e-04 - accuracy: 0.9998 - val_loss: 0.1208 - val_accuracy: 0.9927\n",
            "Epoch 66/100\n",
            "375/375 [==============================] - 5s 14ms/step - loss: 2.8547e-04 - accuracy: 0.9999 - val_loss: 0.1528 - val_accuracy: 0.9908\n",
            "Epoch 67/100\n",
            "375/375 [==============================] - 5s 14ms/step - loss: 6.4544e-04 - accuracy: 0.9999 - val_loss: 0.1348 - val_accuracy: 0.9916\n",
            "Epoch 68/100\n",
            "375/375 [==============================] - 5s 14ms/step - loss: 8.2648e-04 - accuracy: 0.9999 - val_loss: 0.1475 - val_accuracy: 0.9914\n",
            "Epoch 69/100\n",
            "375/375 [==============================] - 5s 14ms/step - loss: 0.0015 - accuracy: 0.9997 - val_loss: 0.1612 - val_accuracy: 0.9898\n",
            "Epoch 70/100\n",
            "375/375 [==============================] - 5s 14ms/step - loss: 5.5069e-04 - accuracy: 0.9998 - val_loss: 0.1659 - val_accuracy: 0.9904\n",
            "Epoch 71/100\n",
            "375/375 [==============================] - 5s 14ms/step - loss: 9.1203e-04 - accuracy: 0.9998 - val_loss: 0.1451 - val_accuracy: 0.9899\n",
            "Epoch 72/100\n",
            "375/375 [==============================] - 5s 14ms/step - loss: 0.0015 - accuracy: 0.9996 - val_loss: 0.1408 - val_accuracy: 0.9909\n",
            "Epoch 73/100\n",
            "375/375 [==============================] - 5s 14ms/step - loss: 0.0015 - accuracy: 0.9998 - val_loss: 0.1529 - val_accuracy: 0.9902\n",
            "Epoch 74/100\n",
            "375/375 [==============================] - 5s 14ms/step - loss: 2.7741e-04 - accuracy: 0.9999 - val_loss: 0.1780 - val_accuracy: 0.9905\n",
            "Epoch 75/100\n",
            "375/375 [==============================] - 5s 14ms/step - loss: 0.0010 - accuracy: 0.9998 - val_loss: 0.1592 - val_accuracy: 0.9912\n",
            "Epoch 76/100\n",
            "375/375 [==============================] - 5s 14ms/step - loss: 4.7383e-04 - accuracy: 0.9999 - val_loss: 0.1641 - val_accuracy: 0.9902\n",
            "Epoch 77/100\n",
            "375/375 [==============================] - 5s 14ms/step - loss: 7.2327e-04 - accuracy: 0.9998 - val_loss: 0.1548 - val_accuracy: 0.9913\n",
            "Epoch 78/100\n",
            "375/375 [==============================] - 5s 14ms/step - loss: 0.0013 - accuracy: 0.9998 - val_loss: 0.1486 - val_accuracy: 0.9908\n",
            "Epoch 79/100\n",
            "375/375 [==============================] - 5s 14ms/step - loss: 5.5065e-04 - accuracy: 0.9999 - val_loss: 0.1488 - val_accuracy: 0.9919\n",
            "Epoch 80/100\n",
            "375/375 [==============================] - 5s 14ms/step - loss: 9.5210e-04 - accuracy: 0.9998 - val_loss: 0.1691 - val_accuracy: 0.9912\n",
            "Epoch 81/100\n",
            "375/375 [==============================] - 5s 14ms/step - loss: 5.5805e-04 - accuracy: 0.9998 - val_loss: 0.1637 - val_accuracy: 0.9912\n",
            "Epoch 82/100\n",
            "375/375 [==============================] - 5s 15ms/step - loss: 8.6123e-04 - accuracy: 0.9997 - val_loss: 0.1726 - val_accuracy: 0.9907\n",
            "Epoch 83/100\n",
            "375/375 [==============================] - 5s 14ms/step - loss: 8.6781e-04 - accuracy: 0.9998 - val_loss: 0.1918 - val_accuracy: 0.9914\n",
            "Epoch 84/100\n",
            "375/375 [==============================] - 6s 15ms/step - loss: 0.0018 - accuracy: 0.9997 - val_loss: 0.1697 - val_accuracy: 0.9920\n",
            "Epoch 85/100\n",
            "375/375 [==============================] - 6s 15ms/step - loss: 4.8347e-04 - accuracy: 0.9998 - val_loss: 0.1957 - val_accuracy: 0.9903\n",
            "Epoch 86/100\n",
            "375/375 [==============================] - 6s 15ms/step - loss: 9.3027e-04 - accuracy: 0.9998 - val_loss: 0.1798 - val_accuracy: 0.9906\n",
            "Epoch 87/100\n",
            "375/375 [==============================] - 5s 15ms/step - loss: 4.7689e-04 - accuracy: 0.9999 - val_loss: 0.1674 - val_accuracy: 0.9923\n",
            "Epoch 88/100\n",
            "375/375 [==============================] - 5s 14ms/step - loss: 0.0015 - accuracy: 0.9998 - val_loss: 0.1905 - val_accuracy: 0.9909\n",
            "Epoch 89/100\n",
            "375/375 [==============================] - 5s 14ms/step - loss: 0.0011 - accuracy: 0.9998 - val_loss: 0.1656 - val_accuracy: 0.9918\n",
            "Epoch 90/100\n",
            "375/375 [==============================] - 5s 14ms/step - loss: 6.2895e-04 - accuracy: 0.9999 - val_loss: 0.1784 - val_accuracy: 0.9919\n",
            "Epoch 91/100\n",
            "375/375 [==============================] - 6s 15ms/step - loss: 0.0014 - accuracy: 0.9998 - val_loss: 0.1866 - val_accuracy: 0.9915\n",
            "Epoch 92/100\n",
            "375/375 [==============================] - 5s 14ms/step - loss: 9.3453e-04 - accuracy: 0.9998 - val_loss: 0.1640 - val_accuracy: 0.9910\n",
            "Epoch 93/100\n",
            "375/375 [==============================] - 5s 14ms/step - loss: 3.6199e-04 - accuracy: 0.9999 - val_loss: 0.1692 - val_accuracy: 0.9914\n",
            "Epoch 94/100\n",
            "375/375 [==============================] - 5s 14ms/step - loss: 4.9718e-04 - accuracy: 0.9999 - val_loss: 0.1891 - val_accuracy: 0.9908\n",
            "Epoch 95/100\n",
            "375/375 [==============================] - 5s 14ms/step - loss: 6.6128e-04 - accuracy: 0.9998 - val_loss: 0.2009 - val_accuracy: 0.9907\n",
            "Epoch 96/100\n",
            "375/375 [==============================] - 6s 15ms/step - loss: 3.4120e-04 - accuracy: 0.9999 - val_loss: 0.2080 - val_accuracy: 0.9906\n",
            "Epoch 97/100\n",
            "375/375 [==============================] - 5s 14ms/step - loss: 1.3109e-04 - accuracy: 0.9999 - val_loss: 0.2097 - val_accuracy: 0.9907\n",
            "Epoch 98/100\n",
            "375/375 [==============================] - 5s 14ms/step - loss: 3.4194e-04 - accuracy: 0.9999 - val_loss: 0.2018 - val_accuracy: 0.9909\n",
            "Epoch 99/100\n",
            "375/375 [==============================] - 6s 15ms/step - loss: 1.3493e-04 - accuracy: 1.0000 - val_loss: 0.1987 - val_accuracy: 0.9908\n",
            "Epoch 100/100\n",
            "375/375 [==============================] - 5s 14ms/step - loss: 4.2569e-04 - accuracy: 1.0000 - val_loss: 0.2149 - val_accuracy: 0.9904\n",
            "CPU times: user 8min 44s, sys: 35.1 s, total: 9min 19s\n",
            "Wall time: 10min 23s\n"
          ]
        }
      ]
    },
    {
      "cell_type": "markdown",
      "metadata": {
        "id": "FVmhe4ekNezv"
      },
      "source": [
        "## 4) 학습 결과 시각화\n",
        "\n",
        "- Loss Visualization"
      ]
    },
    {
      "cell_type": "code",
      "metadata": {
        "colab": {
          "base_uri": "https://localhost:8080/",
          "height": 404
        },
        "id": "lBhv_bSQLI5O",
        "outputId": "250006b8-5c35-487a-e02a-5ca237664f59"
      },
      "source": [
        "import matplotlib.pyplot as plt\n",
        "\n",
        "epochs = range(1, len(Hist_mnist.history['loss'])+1)\n",
        "\n",
        "plt.figure(figsize = (9,6))\n",
        "plt.plot(epochs, Hist_mnist.history['loss'])\n",
        "plt.plot(epochs, Hist_mnist.history['val_loss'])\n",
        "# plt.ylim(0, 0.4)\n",
        "plt.title('Training & Validation loss')\n",
        "plt.xlabel('Epochs')\n",
        "plt.ylabel('Loss')\n",
        "plt.legend(['Training Loss', 'Validation Loss'])\n",
        "plt.grid()\n",
        "plt.show()"
      ],
      "execution_count": 15,
      "outputs": [
        {
          "output_type": "display_data",
          "data": {
            "image/png": "[encoded data removed]",
            "text/plain": [
              "<Figure size 648x432 with 1 Axes>"
            ]
          },
          "metadata": {
            "needs_background": "light"
          }
        }
      ]
    },
    {
      "cell_type": "markdown",
      "metadata": {
        "id": "-5nM0ze6LIzx"
      },
      "source": [
        "## 5) Model Evaluate\n",
        "\n",
        "- Loss & Accuracy"
      ]
    },
    {
      "cell_type": "code",
      "metadata": {
        "colab": {
          "base_uri": "https://localhost:8080/"
        },
        "id": "phDiGYPmLIuV",
        "outputId": "65ece38a-e302-41c3-a07f-5c0c996ed29b"
      },
      "source": [
        "loss, accuracy = model.evaluate(X_test, y_test)\n",
        "\n",
        "print(\"loss = {:.5f}\".format(loss))\n",
        "print('accuracy = {:.5f}'.format(accuracy))"
      ],
      "execution_count": 16,
      "outputs": [
        {
          "output_type": "stream",
          "name": "stdout",
          "text": [
            "313/313 [==============================] - 1s 4ms/step - loss: 0.1588 - accuracy: 0.9922\n",
            "loss = 0.15878\n",
            "accuracy = 0.99220\n"
          ]
        }
      ]
    }
  ]
}