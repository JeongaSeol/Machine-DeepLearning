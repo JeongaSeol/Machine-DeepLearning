{
  "nbformat": 4,
  "nbformat_minor": 0,
  "metadata": {
    "colab": {
      "name": "15_MNIST-Categorical_Classification.ipynb",
      "provenance": [],
      "collapsed_sections": []
    },
    "kernelspec": {
      "name": "python3",
      "display_name": "Python 3"
    },
    "language_info": {
      "name": "python"
    },
    "accelerator": "GPU"
  },
  "cells": [
    {
      "cell_type": "markdown",
      "metadata": {
        "id": "GWkXp56fL6vY"
      },
      "source": [
        "# MNIST - Categorical Classification"
      ]
    },
    {
      "cell_type": "markdown",
      "metadata": {
        "id": "Z0jQVMzVL_1e"
      },
      "source": [
        "## Overfitting Issue\n",
        "- import tensorflow"
      ]
    },
    {
      "cell_type": "code",
      "metadata": {
        "colab": {
          "base_uri": "https://localhost:8080/",
          "height": 35
        },
        "id": "YKZlbiUoL3YW",
        "outputId": "c08257c2-17fa-4cf4-9312-9f5a1dbeb0ba"
      },
      "source": [
        "import warnings\n",
        "warnings.filterwarnings('ignore')\n",
        "\n",
        "import tensorflow as tf\n",
        "tf.__version__"
      ],
      "execution_count": 2,
      "outputs": [
        {
          "output_type": "execute_result",
          "data": {
            "application/vnd.google.colaboratory.intrinsic+json": {
              "type": "string"
            },
            "text/plain": [
              "'2.6.0'"
            ]
          },
          "metadata": {},
          "execution_count": 2
        }
      ]
    },
    {
      "cell_type": "markdown",
      "metadata": {
        "id": "B1mn5h_xL3vZ"
      },
      "source": [
        "- GPU 설정확인"
      ]
    },
    {
      "cell_type": "code",
      "metadata": {
        "colab": {
          "base_uri": "https://localhost:8080/",
          "height": 35
        },
        "id": "VuQQmBoJL33w",
        "outputId": "822d1341-a40a-4d9d-e14f-66c61cae17c3"
      },
      "source": [
        "tf.test.gpu_device_name()"
      ],
      "execution_count": 3,
      "outputs": [
        {
          "output_type": "execute_result",
          "data": {
            "application/vnd.google.colaboratory.intrinsic+json": {
              "type": "string"
            },
            "text/plain": [
              "'/device:GPU:0'"
            ]
          },
          "metadata": {},
          "execution_count": 3
        }
      ]
    },
    {
      "cell_type": "markdown",
      "metadata": {
        "id": "fdpw5j5YL39k"
      },
      "source": [
        "# 1. MNIST Data_set Load& Review"
      ]
    },
    {
      "cell_type": "markdown",
      "metadata": {
        "id": "ek01ycqEMleT"
      },
      "source": [
        "## 1) Load MNIST Data_Set"
      ]
    },
    {
      "cell_type": "code",
      "metadata": {
        "colab": {
          "base_uri": "https://localhost:8080/"
        },
        "id": "0-qPna6dL4CY",
        "outputId": "19318eab-1020-414e-ff65-fa8b30ea1603"
      },
      "source": [
        "from tensorflow.keras.datasets import mnist\n",
        "\n",
        "(X_train, y_train),(X_test, y_test) = mnist.load_data()"
      ],
      "execution_count": 4,
      "outputs": [
        {
          "output_type": "stream",
          "name": "stdout",
          "text": [
            "Downloading data from https://storage.googleapis.com/tensorflow/tf-keras-datasets/mnist.npz\n",
            "11493376/11490434 [==============================] - 0s 0us/step\n",
            "11501568/11490434 [==============================] - 0s 0us/step\n"
          ]
        }
      ]
    },
    {
      "cell_type": "markdown",
      "metadata": {
        "id": "EYK8ox-iL4Ov"
      },
      "source": [
        "- train_data information"
      ]
    },
    {
      "cell_type": "code",
      "metadata": {
        "colab": {
          "base_uri": "https://localhost:8080/"
        },
        "id": "MLX-hd7xL4Wz",
        "outputId": "00faa972-2130-4155-b449-836596cef4ec"
      },
      "source": [
        "print(len(X_train))\n",
        "print(X_train.shape)\n",
        "print(len(y_train))\n",
        "print(y_train[0:5])"
      ],
      "execution_count": 5,
      "outputs": [
        {
          "output_type": "stream",
          "name": "stdout",
          "text": [
            "60000\n",
            "(60000, 28, 28)\n",
            "60000\n",
            "[5 0 4 1 9]\n"
          ]
        }
      ]
    },
    {
      "cell_type": "markdown",
      "metadata": {
        "id": "I01ZrIpSL4ev"
      },
      "source": [
        "- test_data information"
      ]
    },
    {
      "cell_type": "code",
      "metadata": {
        "colab": {
          "base_uri": "https://localhost:8080/"
        },
        "id": "iSinoOBeL4jg",
        "outputId": "5fa9a91d-d96b-4028-aeb7-2663b763eeb3"
      },
      "source": [
        "print(len(X_test))\n",
        "print(X_test.shape)\n",
        "print(len(y_test))\n",
        "print(y_test[0:5])"
      ],
      "execution_count": 6,
      "outputs": [
        {
          "output_type": "stream",
          "name": "stdout",
          "text": [
            "10000\n",
            "(10000, 28, 28)\n",
            "10000\n",
            "[7 2 1 0 4]\n"
          ]
        }
      ]
    },
    {
      "cell_type": "markdown",
      "metadata": {
        "id": "e50TVtL5L4qY"
      },
      "source": [
        "## 2) Visualization"
      ]
    },
    {
      "cell_type": "code",
      "metadata": {
        "colab": {
          "base_uri": "https://localhost:8080/",
          "height": 265
        },
        "id": "k2yJmYQvL4wL",
        "outputId": "5d0159bd-4c71-4201-b1cb-0a907866eee7"
      },
      "source": [
        "import matplotlib.pyplot as plt\n",
        "\n",
        "digit = X_train[4]\n",
        "plt.imshow(digit, cmap='gray')\n",
        "plt.show()"
      ],
      "execution_count": 7,
      "outputs": [
        {
          "output_type": "display_data",
          "data": {
            "image/png": "[encoded data removed]",
            "text/plain": [
              "<Figure size 432x288 with 1 Axes>"
            ]
          },
          "metadata": {
            "needs_background": "light"
          }
        }
      ]
    },
    {
      "cell_type": "code",
      "metadata": {
        "colab": {
          "base_uri": "https://localhost:8080/"
        },
        "id": "pP8Q1xZsNMjO",
        "outputId": "82f2491f-e730-4446-e214-41ae96f38c84"
      },
      "source": [
        "import numpy as np\n",
        "\n",
        "np.set_printoptions(linewidth = 150)\n",
        "\n",
        "print(X_train[4])"
      ],
      "execution_count": 8,
      "outputs": [
        {
          "output_type": "stream",
          "name": "stdout",
          "text": [
            "[[  0   0   0   0   0   0   0   0   0   0   0   0   0   0   0   0   0   0   0   0   0   0   0   0   0   0   0   0]\n",
            " [  0   0   0   0   0   0   0   0   0   0   0   0   0   0   0   0   0   0   0   0   0   0   0   0   0   0   0   0]\n",
            " [  0   0   0   0   0   0   0   0   0   0   0   0   0   0   0   0   0   0   0   0   0   0   0   0   0   0   0   0]\n",
            " [  0   0   0   0   0   0   0   0   0   0   0   0   0   0   0   0   0   0   0   0   0   0   0   0   0   0   0   0]\n",
            " [  0   0   0   0   0   0   0   0   0   0   0   0   0   0   0   0   0   0   0   0   0   0   0   0   0   0   0   0]\n",
            " [  0   0   0   0   0   0   0   0   0   0   0   0   0   0   0   0   0   0   0   0   0   0   0   0   0   0   0   0]\n",
            " [  0   0   0   0   0   0   0   0   0   0   0   0   0   0   0   0   0   0   0   0   0   0   0   0   0   0   0   0]\n",
            " [  0   0   0   0   0   0   0   0   0   0   0   0  55 148 210 253 253 113  87 148  55   0   0   0   0   0   0   0]\n",
            " [  0   0   0   0   0   0   0   0   0   0   0  87 232 252 253 189 210 252 252 253 168   0   0   0   0   0   0   0]\n",
            " [  0   0   0   0   0   0   0   0   0   4  57 242 252 190  65   5  12 182 252 253 116   0   0   0   0   0   0   0]\n",
            " [  0   0   0   0   0   0   0   0   0  96 252 252 183  14   0   0  92 252 252 225  21   0   0   0   0   0   0   0]\n",
            " [  0   0   0   0   0   0   0   0 132 253 252 146  14   0   0   0 215 252 252  79   0   0   0   0   0   0   0   0]\n",
            " [  0   0   0   0   0   0   0 126 253 247 176   9   0   0   8  78 245 253 129   0   0   0   0   0   0   0   0   0]\n",
            " [  0   0   0   0   0   0  16 232 252 176   0   0   0  36 201 252 252 169  11   0   0   0   0   0   0   0   0   0]\n",
            " [  0   0   0   0   0   0  22 252 252  30  22 119 197 241 253 252 251  77   0   0   0   0   0   0   0   0   0   0]\n",
            " [  0   0   0   0   0   0  16 231 252 253 252 252 252 226 227 252 231   0   0   0   0   0   0   0   0   0   0   0]\n",
            " [  0   0   0   0   0   0   0  55 235 253 217 138  42  24 192 252 143   0   0   0   0   0   0   0   0   0   0   0]\n",
            " [  0   0   0   0   0   0   0   0   0   0   0   0   0  62 255 253 109   0   0   0   0   0   0   0   0   0   0   0]\n",
            " [  0   0   0   0   0   0   0   0   0   0   0   0   0  71 253 252  21   0   0   0   0   0   0   0   0   0   0   0]\n",
            " [  0   0   0   0   0   0   0   0   0   0   0   0   0   0 253 252  21   0   0   0   0   0   0   0   0   0   0   0]\n",
            " [  0   0   0   0   0   0   0   0   0   0   0   0   0  71 253 252  21   0   0   0   0   0   0   0   0   0   0   0]\n",
            " [  0   0   0   0   0   0   0   0   0   0   0   0   0 106 253 252  21   0   0   0   0   0   0   0   0   0   0   0]\n",
            " [  0   0   0   0   0   0   0   0   0   0   0   0   0  45 255 253  21   0   0   0   0   0   0   0   0   0   0   0]\n",
            " [  0   0   0   0   0   0   0   0   0   0   0   0   0   0 218 252  56   0   0   0   0   0   0   0   0   0   0   0]\n",
            " [  0   0   0   0   0   0   0   0   0   0   0   0   0   0  96 252 189  42   0   0   0   0   0   0   0   0   0   0]\n",
            " [  0   0   0   0   0   0   0   0   0   0   0   0   0   0  14 184 252 170  11   0   0   0   0   0   0   0   0   0]\n",
            " [  0   0   0   0   0   0   0   0   0   0   0   0   0   0   0  14 147 252  42   0   0   0   0   0   0   0   0   0]\n",
            " [  0   0   0   0   0   0   0   0   0   0   0   0   0   0   0   0   0   0   0   0   0   0   0   0   0   0   0   0]]\n"
          ]
        }
      ]
    },
    {
      "cell_type": "markdown",
      "metadata": {
        "id": "xaN3xmvrL42Q"
      },
      "source": [
        "# 2. Data preprocessing"
      ]
    },
    {
      "cell_type": "markdown",
      "metadata": {
        "id": "Mbc3bcvZNVFY"
      },
      "source": [
        "## 1) Reshape and Normalization\n",
        "\n",
        "- reshape\n",
        "    - (60000,28,28) to (60000,784)"
      ]
    },
    {
      "cell_type": "code",
      "metadata": {
        "colab": {
          "base_uri": "https://localhost:8080/"
        },
        "id": "gd8ODheXL480",
        "outputId": "22c207a1-9063-4567-fe03-7d635f0693bf"
      },
      "source": [
        "X_train = X_train.reshape((60000,28*28))\n",
        "X_test = X_test.reshape((10000,28*28))\n",
        "\n",
        "X_train.shape, X_test.shape"
      ],
      "execution_count": 9,
      "outputs": [
        {
          "output_type": "execute_result",
          "data": {
            "text/plain": [
              "((60000, 784), (10000, 784))"
            ]
          },
          "metadata": {},
          "execution_count": 9
        }
      ]
    },
    {
      "cell_type": "markdown",
      "metadata": {
        "id": "lSEEsm62L5DT"
      },
      "source": [
        "- Normalization"
      ]
    },
    {
      "cell_type": "code",
      "metadata": {
        "colab": {
          "base_uri": "https://localhost:8080/"
        },
        "id": "diSTAgksL5Ie",
        "outputId": "cededef5-7b41-447e-f4bd-e412dd2bbd02"
      },
      "source": [
        "X_train = X_train.astype(float)/255\n",
        "X_test = X_test.astype(float)/255\n",
        "\n",
        "print(X_train[4])"
      ],
      "execution_count": 10,
      "outputs": [
        {
          "output_type": "stream",
          "name": "stdout",
          "text": [
            "[0.         0.         0.         0.         0.         0.         0.         0.         0.         0.         0.         0.         0.\n",
            " 0.         0.         0.         0.         0.         0.         0.         0.         0.         0.         0.         0.         0.\n",
            " 0.         0.         0.         0.         0.         0.         0.         0.         0.         0.         0.         0.         0.\n",
            " 0.         0.         0.         0.         0.         0.         0.         0.         0.         0.         0.         0.         0.\n",
            " 0.         0.         0.         0.         0.         0.         0.         0.         0.         0.         0.         0.         0.\n",
            " 0.         0.         0.         0.         0.         0.         0.         0.         0.         0.         0.         0.         0.\n",
            " 0.         0.         0.         0.         0.         0.         0.         0.         0.         0.         0.         0.         0.\n",
            " 0.         0.         0.         0.         0.         0.         0.         0.         0.         0.         0.         0.         0.\n",
            " 0.         0.         0.         0.         0.         0.         0.         0.         0.         0.         0.         0.         0.\n",
            " 0.         0.         0.         0.         0.         0.         0.         0.         0.         0.         0.         0.         0.\n",
            " 0.         0.         0.         0.         0.         0.         0.         0.         0.         0.         0.         0.         0.\n",
            " 0.         0.         0.         0.         0.         0.         0.         0.         0.         0.         0.         0.         0.\n",
            " 0.         0.         0.         0.         0.         0.         0.         0.         0.         0.         0.         0.         0.\n",
            " 0.         0.         0.         0.         0.         0.         0.         0.         0.         0.         0.         0.         0.\n",
            " 0.         0.         0.         0.         0.         0.         0.         0.         0.         0.         0.         0.         0.\n",
            " 0.         0.         0.         0.         0.         0.         0.         0.         0.         0.         0.         0.         0.\n",
            " 0.21568627 0.58039216 0.82352941 0.99215686 0.99215686 0.44313725 0.34117647 0.58039216 0.21568627 0.         0.         0.         0.\n",
            " 0.         0.         0.         0.         0.         0.         0.         0.         0.         0.         0.         0.         0.\n",
            " 0.         0.34117647 0.90980392 0.98823529 0.99215686 0.74117647 0.82352941 0.98823529 0.98823529 0.99215686 0.65882353 0.         0.\n",
            " 0.         0.         0.         0.         0.         0.         0.         0.         0.         0.         0.         0.         0.\n",
            " 0.         0.01568627 0.22352941 0.94901961 0.98823529 0.74509804 0.25490196 0.01960784 0.04705882 0.71372549 0.98823529 0.99215686 0.45490196\n",
            " 0.         0.         0.         0.         0.         0.         0.         0.         0.         0.         0.         0.         0.\n",
            " 0.         0.         0.         0.37647059 0.98823529 0.98823529 0.71764706 0.05490196 0.         0.         0.36078431 0.98823529 0.98823529\n",
            " 0.88235294 0.08235294 0.         0.         0.         0.         0.         0.         0.         0.         0.         0.         0.\n",
            " 0.         0.         0.         0.         0.51764706 0.99215686 0.98823529 0.57254902 0.05490196 0.         0.         0.         0.84313725\n",
            " 0.98823529 0.98823529 0.30980392 0.         0.         0.         0.         0.         0.         0.         0.         0.         0.\n",
            " 0.         0.         0.         0.         0.         0.49411765 0.99215686 0.96862745 0.69019608 0.03529412 0.         0.         0.03137255\n",
            " 0.30588235 0.96078431 0.99215686 0.50588235 0.         0.         0.         0.         0.         0.         0.         0.         0.\n",
            " 0.         0.         0.         0.         0.         0.         0.0627451  0.90980392 0.98823529 0.69019608 0.         0.         0.\n",
            " 0.14117647 0.78823529 0.98823529 0.98823529 0.6627451  0.04313725 0.         0.         0.         0.         0.         0.         0.\n",
            " 0.         0.         0.         0.         0.         0.         0.         0.         0.08627451 0.98823529 0.98823529 0.11764706 0.08627451\n",
            " 0.46666667 0.77254902 0.94509804 0.99215686 0.98823529 0.98431373 0.30196078 0.         0.         0.         0.         0.         0.\n",
            " 0.         0.         0.         0.         0.         0.         0.         0.         0.         0.         0.0627451  0.90588235 0.98823529\n",
            " 0.99215686 0.98823529 0.98823529 0.98823529 0.88627451 0.89019608 0.98823529 0.90588235 0.         0.         0.         0.         0.\n",
            " 0.         0.         0.         0.         0.         0.         0.         0.         0.         0.         0.         0.         0.\n",
            " 0.21568627 0.92156863 0.99215686 0.85098039 0.54117647 0.16470588 0.09411765 0.75294118 0.98823529 0.56078431 0.         0.         0.\n",
            " 0.         0.         0.         0.         0.         0.         0.         0.         0.         0.         0.         0.         0.\n",
            " 0.         0.         0.         0.         0.         0.         0.         0.         0.24313725 1.         0.99215686 0.42745098 0.\n",
            " 0.         0.         0.         0.         0.         0.         0.         0.         0.         0.         0.         0.         0.\n",
            " 0.         0.         0.         0.         0.         0.         0.         0.         0.         0.         0.27843137 0.99215686 0.98823529\n",
            " 0.08235294 0.         0.         0.         0.         0.         0.         0.         0.         0.         0.         0.         0.\n",
            " 0.         0.         0.         0.         0.         0.         0.         0.         0.         0.         0.         0.         0.\n",
            " 0.99215686 0.98823529 0.08235294 0.         0.         0.         0.         0.         0.         0.         0.         0.         0.\n",
            " 0.         0.         0.         0.         0.         0.         0.         0.         0.         0.         0.         0.         0.\n",
            " 0.         0.27843137 0.99215686 0.98823529 0.08235294 0.         0.         0.         0.         0.         0.         0.         0.\n",
            " 0.         0.         0.         0.         0.         0.         0.         0.         0.         0.         0.         0.         0.\n",
            " 0.         0.         0.         0.41568627 0.99215686 0.98823529 0.08235294 0.         0.         0.         0.         0.         0.\n",
            " 0.         0.         0.         0.         0.         0.         0.         0.         0.         0.         0.         0.         0.\n",
            " 0.         0.         0.         0.         0.         0.17647059 1.         0.99215686 0.08235294 0.         0.         0.         0.\n",
            " 0.         0.         0.         0.         0.         0.         0.         0.         0.         0.         0.         0.         0.\n",
            " 0.         0.         0.         0.         0.         0.         0.         0.         0.85490196 0.98823529 0.21960784 0.         0.\n",
            " 0.         0.         0.         0.         0.         0.         0.         0.         0.         0.         0.         0.         0.\n",
            " 0.         0.         0.         0.         0.         0.         0.         0.         0.         0.         0.37647059 0.98823529 0.74117647\n",
            " 0.16470588 0.         0.         0.         0.         0.         0.         0.         0.         0.         0.         0.         0.\n",
            " 0.         0.         0.         0.         0.         0.         0.         0.         0.         0.         0.         0.         0.05490196\n",
            " 0.72156863 0.98823529 0.66666667 0.04313725 0.         0.         0.         0.         0.         0.         0.         0.         0.\n",
            " 0.         0.         0.         0.         0.         0.         0.         0.         0.         0.         0.         0.         0.\n",
            " 0.         0.         0.05490196 0.57647059 0.98823529 0.16470588 0.         0.         0.         0.         0.         0.         0.\n",
            " 0.         0.         0.         0.         0.         0.         0.         0.         0.         0.         0.         0.         0.\n",
            " 0.         0.         0.         0.         0.         0.         0.         0.         0.         0.         0.         0.         0.\n",
            " 0.         0.         0.         0.        ]\n"
          ]
        }
      ]
    },
    {
      "cell_type": "markdown",
      "metadata": {
        "id": "uYF2p3jtL5O0"
      },
      "source": [
        "## 2) One Hot Encoding"
      ]
    },
    {
      "cell_type": "code",
      "metadata": {
        "colab": {
          "base_uri": "https://localhost:8080/"
        },
        "id": "EYPVpkcBL5Um",
        "outputId": "90c7daea-7dc0-4780-b90e-d567f8b60a99"
      },
      "source": [
        "from tensorflow.keras.utils import to_categorical\n",
        "\n",
        "y_train = to_categorical(y_train)\n",
        "y_test = to_categorical(y_test)\n",
        "\n",
        "print(y_train[:5])"
      ],
      "execution_count": 11,
      "outputs": [
        {
          "output_type": "stream",
          "name": "stdout",
          "text": [
            "[[0. 0. 0. 0. 0. 1. 0. 0. 0. 0.]\n",
            " [1. 0. 0. 0. 0. 0. 0. 0. 0. 0.]\n",
            " [0. 0. 0. 0. 1. 0. 0. 0. 0. 0.]\n",
            " [0. 1. 0. 0. 0. 0. 0. 0. 0. 0.]\n",
            " [0. 0. 0. 0. 0. 0. 0. 0. 0. 1.]]\n"
          ]
        }
      ]
    },
    {
      "cell_type": "markdown",
      "metadata": {
        "id": "MGg1aOi9L5az"
      },
      "source": [
        "# 3. MNIST Keras Modeling"
      ]
    },
    {
      "cell_type": "markdown",
      "metadata": {
        "id": "3l08JLZtOBuk"
      },
      "source": [
        "## 1) Model Define\n",
        "\n",
        "- 모델 신경망 구조 정의\n",
        "    - 2개의 Hidden Layers & 768개의 Nodes\n",
        "    - 복잡한 Model Capacity로 인한 Overfitting"
      ]
    },
    {
      "cell_type": "code",
      "metadata": {
        "id": "caQ956PEL5gd"
      },
      "source": [
        "from tensorflow.keras import models\n",
        "from tensorflow.keras import layers\n",
        "\n",
        "mnist = models.Sequential()\n",
        "mnist.add(layers.Dense(512, activation = 'relu', input_shape=(28*28,)))\n",
        "mnist.add(layers.Dense(256, activation = 'relu'))\n",
        "mnist.add(layers.Dense(10, activation = 'softmax'))"
      ],
      "execution_count": 13,
      "outputs": []
    },
    {
      "cell_type": "markdown",
      "metadata": {
        "id": "cTdwwbTwL5mn"
      },
      "source": [
        "- 모델 구조 확인"
      ]
    },
    {
      "cell_type": "code",
      "metadata": {
        "colab": {
          "base_uri": "https://localhost:8080/"
        },
        "id": "d6xg6r-oL5r7",
        "outputId": "6611075d-7a05-442c-9eb3-a2f1826722b7"
      },
      "source": [
        "mnist.summary()"
      ],
      "execution_count": 14,
      "outputs": [
        {
          "output_type": "stream",
          "name": "stdout",
          "text": [
            "Model: \"sequential_1\"\n",
            "_________________________________________________________________\n",
            "Layer (type)                 Output Shape              Param #   \n",
            "=================================================================\n",
            "dense_1 (Dense)              (None, 512)               401920    \n",
            "_________________________________________________________________\n",
            "dense_2 (Dense)              (None, 256)               131328    \n",
            "_________________________________________________________________\n",
            "dense_3 (Dense)              (None, 10)                2570      \n",
            "=================================================================\n",
            "Total params: 535,818\n",
            "Trainable params: 535,818\n",
            "Non-trainable params: 0\n",
            "_________________________________________________________________\n"
          ]
        }
      ]
    },
    {
      "cell_type": "markdown",
      "metadata": {
        "id": "PKcZQ8_pL518"
      },
      "source": [
        "## 2) Model Compile\n",
        "- 모델 학습방법 설정"
      ]
    },
    {
      "cell_type": "code",
      "metadata": {
        "id": "EDfi81hFL57p"
      },
      "source": [
        "mnist.compile(loss = 'categorical_crossentropy',\n",
        "              optimizer = 'rmsprop',\n",
        "              metrics = ['accuracy'])"
      ],
      "execution_count": 15,
      "outputs": []
    },
    {
      "cell_type": "markdown",
      "metadata": {
        "id": "VL47_bzBL3TE"
      },
      "source": [
        "## 3) Model Fit\n",
        "\n",
        "- 약 3분"
      ]
    },
    {
      "cell_type": "code",
      "metadata": {
        "colab": {
          "base_uri": "https://localhost:8080/"
        },
        "id": "HaP_tFhSL3L0",
        "outputId": "68b6b64c-bb84-41e9-de59-1aaa09364da1"
      },
      "source": [
        "%%time\n",
        "\n",
        "Hist_mnis = mnist.fit(X_train, y_train,\n",
        "                      epochs = 100,\n",
        "                      batch_size = 128,\n",
        "                      validation_split = 0.2)"
      ],
      "execution_count": 16,
      "outputs": [
        {
          "output_type": "stream",
          "name": "stdout",
          "text": [
            "Epoch 1/100\n",
            "375/375 [==============================] - 5s 6ms/step - loss: 0.2534 - accuracy: 0.9224 - val_loss: 0.1160 - val_accuracy: 0.9634\n",
            "Epoch 2/100\n",
            "375/375 [==============================] - 2s 5ms/step - loss: 0.0940 - accuracy: 0.9715 - val_loss: 0.1011 - val_accuracy: 0.9708\n",
            "Epoch 3/100\n",
            "375/375 [==============================] - 2s 5ms/step - loss: 0.0592 - accuracy: 0.9816 - val_loss: 0.0915 - val_accuracy: 0.9746\n",
            "Epoch 4/100\n",
            "375/375 [==============================] - 2s 5ms/step - loss: 0.0422 - accuracy: 0.9864 - val_loss: 0.0777 - val_accuracy: 0.9800\n",
            "Epoch 5/100\n",
            "375/375 [==============================] - 2s 5ms/step - loss: 0.0304 - accuracy: 0.9902 - val_loss: 0.1110 - val_accuracy: 0.9725\n",
            "Epoch 6/100\n",
            "375/375 [==============================] - 2s 5ms/step - loss: 0.0227 - accuracy: 0.9925 - val_loss: 0.0955 - val_accuracy: 0.9787\n",
            "Epoch 7/100\n",
            "375/375 [==============================] - 2s 5ms/step - loss: 0.0188 - accuracy: 0.9939 - val_loss: 0.1287 - val_accuracy: 0.9751\n",
            "Epoch 8/100\n",
            "375/375 [==============================] - 2s 5ms/step - loss: 0.0143 - accuracy: 0.9950 - val_loss: 0.1096 - val_accuracy: 0.9795\n",
            "Epoch 9/100\n",
            "375/375 [==============================] - 2s 5ms/step - loss: 0.0119 - accuracy: 0.9959 - val_loss: 0.1400 - val_accuracy: 0.9766\n",
            "Epoch 10/100\n",
            "375/375 [==============================] - 2s 5ms/step - loss: 0.0098 - accuracy: 0.9967 - val_loss: 0.1520 - val_accuracy: 0.9766\n",
            "Epoch 11/100\n",
            "375/375 [==============================] - 2s 5ms/step - loss: 0.0093 - accuracy: 0.9970 - val_loss: 0.1597 - val_accuracy: 0.9740\n",
            "Epoch 12/100\n",
            "375/375 [==============================] - 2s 5ms/step - loss: 0.0076 - accuracy: 0.9976 - val_loss: 0.1429 - val_accuracy: 0.9797\n",
            "Epoch 13/100\n",
            "375/375 [==============================] - 2s 5ms/step - loss: 0.0077 - accuracy: 0.9977 - val_loss: 0.1591 - val_accuracy: 0.9785\n",
            "Epoch 14/100\n",
            "375/375 [==============================] - 2s 5ms/step - loss: 0.0043 - accuracy: 0.9985 - val_loss: 0.1664 - val_accuracy: 0.9782\n",
            "Epoch 15/100\n",
            "375/375 [==============================] - 2s 5ms/step - loss: 0.0053 - accuracy: 0.9985 - val_loss: 0.1619 - val_accuracy: 0.9809\n",
            "Epoch 16/100\n",
            "375/375 [==============================] - 2s 5ms/step - loss: 0.0047 - accuracy: 0.9987 - val_loss: 0.2072 - val_accuracy: 0.9769\n",
            "Epoch 17/100\n",
            "375/375 [==============================] - 2s 5ms/step - loss: 0.0039 - accuracy: 0.9987 - val_loss: 0.2099 - val_accuracy: 0.9770\n",
            "Epoch 18/100\n",
            "375/375 [==============================] - 2s 5ms/step - loss: 0.0058 - accuracy: 0.9984 - val_loss: 0.2077 - val_accuracy: 0.9797\n",
            "Epoch 19/100\n",
            "375/375 [==============================] - 2s 5ms/step - loss: 0.0036 - accuracy: 0.9989 - val_loss: 0.1843 - val_accuracy: 0.9806\n",
            "Epoch 20/100\n",
            "375/375 [==============================] - 2s 5ms/step - loss: 0.0032 - accuracy: 0.9991 - val_loss: 0.2220 - val_accuracy: 0.9795\n",
            "Epoch 21/100\n",
            "375/375 [==============================] - 2s 5ms/step - loss: 0.0032 - accuracy: 0.9990 - val_loss: 0.1996 - val_accuracy: 0.9817\n",
            "Epoch 22/100\n",
            "375/375 [==============================] - 2s 5ms/step - loss: 0.0038 - accuracy: 0.9991 - val_loss: 0.2215 - val_accuracy: 0.9779\n",
            "Epoch 23/100\n",
            "375/375 [==============================] - 2s 5ms/step - loss: 0.0031 - accuracy: 0.9991 - val_loss: 0.2252 - val_accuracy: 0.9786\n",
            "Epoch 24/100\n",
            "375/375 [==============================] - 2s 5ms/step - loss: 0.0027 - accuracy: 0.9992 - val_loss: 0.2144 - val_accuracy: 0.9813\n",
            "Epoch 25/100\n",
            "375/375 [==============================] - 2s 5ms/step - loss: 0.0019 - accuracy: 0.9995 - val_loss: 0.2288 - val_accuracy: 0.9803\n",
            "Epoch 26/100\n",
            "375/375 [==============================] - 2s 6ms/step - loss: 0.0023 - accuracy: 0.9993 - val_loss: 0.2539 - val_accuracy: 0.9778\n",
            "Epoch 27/100\n",
            "375/375 [==============================] - 2s 5ms/step - loss: 0.0026 - accuracy: 0.9992 - val_loss: 0.2492 - val_accuracy: 0.9776\n",
            "Epoch 28/100\n",
            "375/375 [==============================] - 2s 5ms/step - loss: 0.0031 - accuracy: 0.9994 - val_loss: 0.2390 - val_accuracy: 0.9799\n",
            "Epoch 29/100\n",
            "375/375 [==============================] - 2s 5ms/step - loss: 0.0018 - accuracy: 0.9994 - val_loss: 0.2519 - val_accuracy: 0.9805\n",
            "Epoch 30/100\n",
            "375/375 [==============================] - 2s 5ms/step - loss: 0.0025 - accuracy: 0.9994 - val_loss: 0.2629 - val_accuracy: 0.9809\n",
            "Epoch 31/100\n",
            "375/375 [==============================] - 2s 5ms/step - loss: 0.0029 - accuracy: 0.9994 - val_loss: 0.2571 - val_accuracy: 0.9800\n",
            "Epoch 32/100\n",
            "375/375 [==============================] - 2s 5ms/step - loss: 0.0024 - accuracy: 0.9994 - val_loss: 0.2613 - val_accuracy: 0.9799\n",
            "Epoch 33/100\n",
            "375/375 [==============================] - 2s 5ms/step - loss: 0.0015 - accuracy: 0.9995 - val_loss: 0.2552 - val_accuracy: 0.9810\n",
            "Epoch 34/100\n",
            "375/375 [==============================] - 2s 6ms/step - loss: 0.0020 - accuracy: 0.9995 - val_loss: 0.2838 - val_accuracy: 0.9793\n",
            "Epoch 35/100\n",
            "375/375 [==============================] - 2s 5ms/step - loss: 0.0018 - accuracy: 0.9996 - val_loss: 0.2694 - val_accuracy: 0.9790\n",
            "Epoch 36/100\n",
            "375/375 [==============================] - 2s 5ms/step - loss: 0.0044 - accuracy: 0.9991 - val_loss: 0.2666 - val_accuracy: 0.9793\n",
            "Epoch 37/100\n",
            "375/375 [==============================] - 2s 5ms/step - loss: 0.0025 - accuracy: 0.9994 - val_loss: 0.2794 - val_accuracy: 0.9786\n",
            "Epoch 38/100\n",
            "375/375 [==============================] - 2s 5ms/step - loss: 0.0016 - accuracy: 0.9995 - val_loss: 0.2839 - val_accuracy: 0.9803\n",
            "Epoch 39/100\n",
            "375/375 [==============================] - 2s 5ms/step - loss: 0.0019 - accuracy: 0.9996 - val_loss: 0.3032 - val_accuracy: 0.9793\n",
            "Epoch 40/100\n",
            "375/375 [==============================] - 2s 5ms/step - loss: 0.0018 - accuracy: 0.9995 - val_loss: 0.3271 - val_accuracy: 0.9797\n",
            "Epoch 41/100\n",
            "375/375 [==============================] - 2s 5ms/step - loss: 0.0017 - accuracy: 0.9995 - val_loss: 0.3841 - val_accuracy: 0.9777\n",
            "Epoch 42/100\n",
            "375/375 [==============================] - 2s 5ms/step - loss: 0.0018 - accuracy: 0.9995 - val_loss: 0.3151 - val_accuracy: 0.9805\n",
            "Epoch 43/100\n",
            "375/375 [==============================] - 2s 5ms/step - loss: 0.0015 - accuracy: 0.9997 - val_loss: 0.3109 - val_accuracy: 0.9803\n",
            "Epoch 44/100\n",
            "375/375 [==============================] - 2s 5ms/step - loss: 0.0022 - accuracy: 0.9995 - val_loss: 0.3192 - val_accuracy: 0.9802\n",
            "Epoch 45/100\n",
            "375/375 [==============================] - 2s 5ms/step - loss: 9.4791e-04 - accuracy: 0.9996 - val_loss: 0.3248 - val_accuracy: 0.9798\n",
            "Epoch 46/100\n",
            "375/375 [==============================] - 2s 5ms/step - loss: 0.0012 - accuracy: 0.9997 - val_loss: 0.3690 - val_accuracy: 0.9777\n",
            "Epoch 47/100\n",
            "375/375 [==============================] - 2s 5ms/step - loss: 0.0018 - accuracy: 0.9996 - val_loss: 0.4237 - val_accuracy: 0.9742\n",
            "Epoch 48/100\n",
            "375/375 [==============================] - 2s 6ms/step - loss: 0.0017 - accuracy: 0.9996 - val_loss: 0.3241 - val_accuracy: 0.9807\n",
            "Epoch 49/100\n",
            "375/375 [==============================] - 2s 5ms/step - loss: 6.8327e-04 - accuracy: 0.9998 - val_loss: 0.4170 - val_accuracy: 0.9753\n",
            "Epoch 50/100\n",
            "375/375 [==============================] - 2s 5ms/step - loss: 0.0012 - accuracy: 0.9998 - val_loss: 0.3612 - val_accuracy: 0.9790\n",
            "Epoch 51/100\n",
            "375/375 [==============================] - 2s 5ms/step - loss: 0.0017 - accuracy: 0.9998 - val_loss: 0.3558 - val_accuracy: 0.9793\n",
            "Epoch 52/100\n",
            "375/375 [==============================] - 2s 5ms/step - loss: 0.0013 - accuracy: 0.9997 - val_loss: 0.3459 - val_accuracy: 0.9800\n",
            "Epoch 53/100\n",
            "375/375 [==============================] - 2s 5ms/step - loss: 4.0560e-04 - accuracy: 0.9999 - val_loss: 0.3189 - val_accuracy: 0.9822\n",
            "Epoch 54/100\n",
            "375/375 [==============================] - 2s 5ms/step - loss: 8.6919e-04 - accuracy: 0.9998 - val_loss: 0.3538 - val_accuracy: 0.9796\n",
            "Epoch 55/100\n",
            "375/375 [==============================] - 2s 5ms/step - loss: 8.7482e-04 - accuracy: 0.9998 - val_loss: 0.3561 - val_accuracy: 0.9803\n",
            "Epoch 56/100\n",
            "375/375 [==============================] - 2s 5ms/step - loss: 0.0014 - accuracy: 0.9997 - val_loss: 0.3596 - val_accuracy: 0.9798\n",
            "Epoch 57/100\n",
            "375/375 [==============================] - 2s 5ms/step - loss: 0.0013 - accuracy: 0.9998 - val_loss: 0.3496 - val_accuracy: 0.9793\n",
            "Epoch 58/100\n",
            "375/375 [==============================] - 2s 5ms/step - loss: 0.0014 - accuracy: 0.9998 - val_loss: 0.3479 - val_accuracy: 0.9808\n",
            "Epoch 59/100\n",
            "375/375 [==============================] - 2s 5ms/step - loss: 0.0011 - accuracy: 0.9996 - val_loss: 0.3814 - val_accuracy: 0.9786\n",
            "Epoch 60/100\n",
            "375/375 [==============================] - 2s 5ms/step - loss: 0.0020 - accuracy: 0.9996 - val_loss: 0.3552 - val_accuracy: 0.9807\n",
            "Epoch 61/100\n",
            "375/375 [==============================] - 2s 5ms/step - loss: 2.1395e-04 - accuracy: 0.9999 - val_loss: 0.3581 - val_accuracy: 0.9818\n",
            "Epoch 62/100\n",
            "375/375 [==============================] - 2s 5ms/step - loss: 0.0010 - accuracy: 0.9998 - val_loss: 0.4070 - val_accuracy: 0.9802\n",
            "Epoch 63/100\n",
            "375/375 [==============================] - 2s 5ms/step - loss: 0.0011 - accuracy: 0.9997 - val_loss: 0.3738 - val_accuracy: 0.9806\n",
            "Epoch 64/100\n",
            "375/375 [==============================] - 2s 5ms/step - loss: 7.3943e-04 - accuracy: 0.9998 - val_loss: 0.3946 - val_accuracy: 0.9800\n",
            "Epoch 65/100\n",
            "375/375 [==============================] - 2s 5ms/step - loss: 0.0011 - accuracy: 0.9997 - val_loss: 0.3555 - val_accuracy: 0.9811\n",
            "Epoch 66/100\n",
            "375/375 [==============================] - 2s 5ms/step - loss: 9.6822e-04 - accuracy: 0.9998 - val_loss: 0.3811 - val_accuracy: 0.9793\n",
            "Epoch 67/100\n",
            "375/375 [==============================] - 2s 5ms/step - loss: 0.0014 - accuracy: 0.9997 - val_loss: 0.3969 - val_accuracy: 0.9798\n",
            "Epoch 68/100\n",
            "375/375 [==============================] - 2s 5ms/step - loss: 3.4296e-04 - accuracy: 0.9998 - val_loss: 0.3883 - val_accuracy: 0.9801\n",
            "Epoch 69/100\n",
            "375/375 [==============================] - 2s 5ms/step - loss: 6.8887e-04 - accuracy: 0.9999 - val_loss: 0.4131 - val_accuracy: 0.9795\n",
            "Epoch 70/100\n",
            "375/375 [==============================] - 2s 5ms/step - loss: 0.0011 - accuracy: 0.9998 - val_loss: 0.3508 - val_accuracy: 0.9819\n",
            "Epoch 71/100\n",
            "375/375 [==============================] - 2s 5ms/step - loss: 9.4848e-04 - accuracy: 0.9999 - val_loss: 0.3822 - val_accuracy: 0.9817\n",
            "Epoch 72/100\n",
            "375/375 [==============================] - 2s 5ms/step - loss: 7.3595e-04 - accuracy: 0.9999 - val_loss: 0.3889 - val_accuracy: 0.9808\n",
            "Epoch 73/100\n",
            "375/375 [==============================] - 2s 5ms/step - loss: 6.6965e-04 - accuracy: 0.9999 - val_loss: 0.3877 - val_accuracy: 0.9808\n",
            "Epoch 74/100\n",
            "375/375 [==============================] - 2s 5ms/step - loss: 6.3679e-04 - accuracy: 0.9999 - val_loss: 0.3746 - val_accuracy: 0.9825\n",
            "Epoch 75/100\n",
            "375/375 [==============================] - 2s 5ms/step - loss: 7.4975e-04 - accuracy: 0.9998 - val_loss: 0.3686 - val_accuracy: 0.9809\n",
            "Epoch 76/100\n",
            "375/375 [==============================] - 2s 5ms/step - loss: 6.7177e-04 - accuracy: 0.9999 - val_loss: 0.3670 - val_accuracy: 0.9822\n",
            "Epoch 77/100\n",
            "375/375 [==============================] - 2s 5ms/step - loss: 0.0021 - accuracy: 0.9996 - val_loss: 0.4070 - val_accuracy: 0.9809\n",
            "Epoch 78/100\n",
            "375/375 [==============================] - 2s 5ms/step - loss: 0.0010 - accuracy: 0.9998 - val_loss: 0.4113 - val_accuracy: 0.9810\n",
            "Epoch 79/100\n",
            "375/375 [==============================] - 2s 5ms/step - loss: 2.3716e-04 - accuracy: 0.9999 - val_loss: 0.4081 - val_accuracy: 0.9798\n",
            "Epoch 80/100\n",
            "375/375 [==============================] - 2s 5ms/step - loss: 2.2527e-04 - accuracy: 0.9999 - val_loss: 0.3796 - val_accuracy: 0.9818\n",
            "Epoch 81/100\n",
            "375/375 [==============================] - 2s 5ms/step - loss: 1.4884e-04 - accuracy: 1.0000 - val_loss: 0.4267 - val_accuracy: 0.9793\n",
            "Epoch 82/100\n",
            "375/375 [==============================] - 2s 5ms/step - loss: 2.9175e-04 - accuracy: 0.9999 - val_loss: 0.4579 - val_accuracy: 0.9778\n",
            "Epoch 83/100\n",
            "375/375 [==============================] - 2s 5ms/step - loss: 2.6876e-04 - accuracy: 0.9999 - val_loss: 0.4088 - val_accuracy: 0.9808\n",
            "Epoch 84/100\n",
            "375/375 [==============================] - 2s 5ms/step - loss: 8.0657e-04 - accuracy: 0.9998 - val_loss: 0.4120 - val_accuracy: 0.9811\n",
            "Epoch 85/100\n",
            "375/375 [==============================] - 2s 5ms/step - loss: 4.1793e-04 - accuracy: 0.9999 - val_loss: 0.4363 - val_accuracy: 0.9809\n",
            "Epoch 86/100\n",
            "375/375 [==============================] - 2s 5ms/step - loss: 2.1901e-04 - accuracy: 0.9999 - val_loss: 0.4810 - val_accuracy: 0.9790\n",
            "Epoch 87/100\n",
            "375/375 [==============================] - 2s 5ms/step - loss: 3.9394e-04 - accuracy: 1.0000 - val_loss: 0.4436 - val_accuracy: 0.9804\n",
            "Epoch 88/100\n",
            "375/375 [==============================] - 2s 5ms/step - loss: 2.3817e-04 - accuracy: 0.9999 - val_loss: 0.4357 - val_accuracy: 0.9805\n",
            "Epoch 89/100\n",
            "375/375 [==============================] - 2s 5ms/step - loss: 8.0823e-04 - accuracy: 0.9998 - val_loss: 0.4492 - val_accuracy: 0.9795\n",
            "Epoch 90/100\n",
            "375/375 [==============================] - 2s 5ms/step - loss: 4.6345e-04 - accuracy: 0.9999 - val_loss: 0.4402 - val_accuracy: 0.9805\n",
            "Epoch 91/100\n",
            "375/375 [==============================] - 2s 5ms/step - loss: 3.9451e-04 - accuracy: 0.9999 - val_loss: 0.4645 - val_accuracy: 0.9796\n",
            "Epoch 92/100\n",
            "375/375 [==============================] - 2s 5ms/step - loss: 6.4446e-04 - accuracy: 0.9999 - val_loss: 0.4674 - val_accuracy: 0.9795\n",
            "Epoch 93/100\n",
            "375/375 [==============================] - 2s 5ms/step - loss: 2.5139e-04 - accuracy: 0.9999 - val_loss: 0.4186 - val_accuracy: 0.9797\n",
            "Epoch 94/100\n",
            "375/375 [==============================] - 2s 5ms/step - loss: 6.7188e-04 - accuracy: 0.9998 - val_loss: 0.4126 - val_accuracy: 0.9817\n",
            "Epoch 95/100\n",
            "375/375 [==============================] - 2s 5ms/step - loss: 6.1776e-04 - accuracy: 0.9999 - val_loss: 0.4197 - val_accuracy: 0.9800\n",
            "Epoch 96/100\n",
            "375/375 [==============================] - 2s 5ms/step - loss: 8.8553e-04 - accuracy: 0.9999 - val_loss: 0.4242 - val_accuracy: 0.9803\n",
            "Epoch 97/100\n",
            "375/375 [==============================] - 2s 5ms/step - loss: 9.9016e-05 - accuracy: 1.0000 - val_loss: 0.4113 - val_accuracy: 0.9809\n",
            "Epoch 98/100\n",
            "375/375 [==============================] - 2s 5ms/step - loss: 3.7170e-04 - accuracy: 0.9999 - val_loss: 0.4193 - val_accuracy: 0.9803\n",
            "Epoch 99/100\n",
            "375/375 [==============================] - 2s 5ms/step - loss: 7.7054e-06 - accuracy: 1.0000 - val_loss: 0.4206 - val_accuracy: 0.9797\n",
            "Epoch 100/100\n",
            "375/375 [==============================] - 2s 5ms/step - loss: 2.7974e-07 - accuracy: 1.0000 - val_loss: 0.4343 - val_accuracy: 0.9803\n",
            "CPU times: user 3min 24s, sys: 28.7 s, total: 3min 52s\n",
            "Wall time: 3min 22s\n"
          ]
        }
      ]
    },
    {
      "cell_type": "markdown",
      "metadata": {
        "id": "h1eXLJlyL3Cd"
      },
      "source": [
        "## 4) 학습 결과 시각화  - Overfitting\n",
        "\n",
        "- Loss Visualization"
      ]
    },
    {
      "cell_type": "code",
      "metadata": {
        "colab": {
          "base_uri": "https://localhost:8080/",
          "height": 404
        },
        "id": "Xojf3aWtLvHL",
        "outputId": "9bbe20c8-3fdc-4b9f-9547-d2720126f61c"
      },
      "source": [
        "epochs = range(1, len(Hist_mnis.history['loss']) +1)\n",
        "\n",
        "plt.figure(figsize = (9,6))\n",
        "plt.plot(epochs, Hist_mnis.history['loss'])\n",
        "plt.plot(epochs, Hist_mnis.history['val_loss'])\n",
        "# plt.ylim(0, 0.25)\n",
        "plt.title('Training & Validation Loss')\n",
        "plt.xlabel('Epochs')\n",
        "plt.ylabel('Loss')\n",
        "plt.legend(['Training Loss', 'Validation Loss'])\n",
        "plt.grid()\n",
        "plt.show()"
      ],
      "execution_count": 18,
      "outputs": [
        {
          "output_type": "display_data",
          "data": {
            "image/png": "[encoded data removed]",
            "text/plain": [
              "<Figure size 648x432 with 1 Axes>"
            ]
          },
          "metadata": {
            "needs_background": "light"
          }
        }
      ]
    },
    {
      "cell_type": "markdown",
      "metadata": {
        "id": "qxxQKZUCPmcP"
      },
      "source": [
        "## 5) Model Evaluate\n",
        "\n",
        "- Loss & Accuracy"
      ]
    },
    {
      "cell_type": "code",
      "metadata": {
        "colab": {
          "base_uri": "https://localhost:8080/"
        },
        "id": "0nEFzsuRPrT9",
        "outputId": "557f8372-2531-4a46-c24a-b3d8e613ed43"
      },
      "source": [
        "loss, accuracy = mnist.evaluate(X_test, y_test)\n",
        "\n",
        "print('Loss = {:.5f}'.format(loss))\n",
        "print('Accuracy = {:.5f}'.format(accuracy))"
      ],
      "execution_count": 19,
      "outputs": [
        {
          "output_type": "stream",
          "name": "stdout",
          "text": [
            "313/313 [==============================] - 1s 3ms/step - loss: 0.4003 - accuracy: 0.9826\n",
            "Loss = 0.40031\n",
            "Accuracy = 0.98260\n"
          ]
        }
      ]
    },
    {
      "cell_type": "markdown",
      "metadata": {
        "id": "BJXN_id5QDeX"
      },
      "source": [
        "## 6) Model Predict\n",
        "\n",
        "- Probability"
      ]
    },
    {
      "cell_type": "code",
      "metadata": {
        "colab": {
          "base_uri": "https://localhost:8080/"
        },
        "id": "UN0TCvoDQIJN",
        "outputId": "11fc18c9-f3f4-4fea-ce49-28568f6f06dc"
      },
      "source": [
        "np.set_printoptions(suppress = True, precision = 9)\n",
        "\n",
        "print(mnist.predict(X_test[:1, :]))"
      ],
      "execution_count": 20,
      "outputs": [
        {
          "output_type": "stream",
          "name": "stdout",
          "text": [
            "[[0. 0. 0. 0. 0. 0. 0. 1. 0. 0.]]\n"
          ]
        }
      ]
    },
    {
      "cell_type": "markdown",
      "metadata": {
        "id": "mqF4YYySQPn4"
      },
      "source": [
        "- Class"
      ]
    },
    {
      "cell_type": "code",
      "metadata": {
        "colab": {
          "base_uri": "https://localhost:8080/"
        },
        "id": "dfiH9apyQOG9",
        "outputId": "2ae5d821-9c06-4500-d72a-0651648fb545"
      },
      "source": [
        "print(np.argmax(mnist.predict(X_test[:1,:])))"
      ],
      "execution_count": 21,
      "outputs": [
        {
          "output_type": "stream",
          "name": "stdout",
          "text": [
            "7\n"
          ]
        }
      ]
    },
    {
      "cell_type": "markdown",
      "metadata": {
        "id": "qnU7rn64QVer"
      },
      "source": [
        "# The END"
      ]
    }
  ]
}