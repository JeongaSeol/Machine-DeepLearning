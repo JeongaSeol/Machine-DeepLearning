{
  "nbformat": 4,
  "nbformat_minor": 0,
  "metadata": {
    "colab": {
      "name": "13_Keras_iris_Modeling_CPU.ipynb",
      "provenance": [],
      "collapsed_sections": []
    },
    "kernelspec": {
      "name": "python3",
      "display_name": "Python 3"
    },
    "language_info": {
      "name": "python"
    }
  },
  "cells": [
    {
      "cell_type": "code",
      "metadata": {
        "id": "rtheZn55IUTj"
      },
      "source": [
        "import warnings\n",
        "warnings.filterwarnings('ignore')"
      ],
      "execution_count": 1,
      "outputs": []
    },
    {
      "cell_type": "markdown",
      "metadata": {
        "id": "aBylA1hCWkiU"
      },
      "source": [
        "# keras iris modeling\n",
        "\n",
        "- 실습용 데이터 설정 \n",
        "    - iris.csv"
      ]
    },
    {
      "cell_type": "code",
      "metadata": {
        "id": "g9E5rw45Wkbu"
      },
      "source": [
        "import seaborn as sns\n",
        "\n",
        "iris = sns.load_dataset('iris')"
      ],
      "execution_count": 4,
      "outputs": []
    },
    {
      "cell_type": "markdown",
      "metadata": {
        "id": "AgcWEiVTWkWh"
      },
      "source": [
        "- pandas DataFrame"
      ]
    },
    {
      "cell_type": "code",
      "metadata": {
        "colab": {
          "base_uri": "https://localhost:8080/"
        },
        "id": "AXOS4onsWkRE",
        "outputId": "c7a7bfb3-13f9-4f07-f2db-9f11ed21ab72"
      },
      "source": [
        "iris.info()"
      ],
      "execution_count": 5,
      "outputs": [
        {
          "output_type": "stream",
          "name": "stdout",
          "text": [
            "<class 'pandas.core.frame.DataFrame'>\n",
            "RangeIndex: 150 entries, 0 to 149\n",
            "Data columns (total 5 columns):\n",
            " #   Column        Non-Null Count  Dtype  \n",
            "---  ------        --------------  -----  \n",
            " 0   sepal_length  150 non-null    float64\n",
            " 1   sepal_width   150 non-null    float64\n",
            " 2   petal_length  150 non-null    float64\n",
            " 3   petal_width   150 non-null    float64\n",
            " 4   species       150 non-null    object \n",
            "dtypes: float64(4), object(1)\n",
            "memory usage: 6.0+ KB\n"
          ]
        }
      ]
    },
    {
      "cell_type": "code",
      "metadata": {
        "colab": {
          "base_uri": "https://localhost:8080/",
          "height": 205
        },
        "id": "788yVvjWW7lX",
        "outputId": "b2e940da-ac32-4fe2-de48-17bda330866a"
      },
      "source": [
        "iris.head()"
      ],
      "execution_count": 6,
      "outputs": [
        {
          "output_type": "execute_result",
          "data": {
            "text/html": [
              "<div>\n",
              "<style scoped>\n",
              "    .dataframe tbody tr th:only-of-type {\n",
              "        vertical-align: middle;\n",
              "    }\n",
              "\n",
              "    .dataframe tbody tr th {\n",
              "        vertical-align: top;\n",
              "    }\n",
              "\n",
              "    .dataframe thead th {\n",
              "        text-align: right;\n",
              "    }\n",
              "</style>\n",
              "<table border=\"1\" class=\"dataframe\">\n",
              "  <thead>\n",
              "    <tr style=\"text-align: right;\">\n",
              "      <th></th>\n",
              "      <th>sepal_length</th>\n",
              "      <th>sepal_width</th>\n",
              "      <th>petal_length</th>\n",
              "      <th>petal_width</th>\n",
              "      <th>species</th>\n",
              "    </tr>\n",
              "  </thead>\n",
              "  <tbody>\n",
              "    <tr>\n",
              "      <th>0</th>\n",
              "      <td>5.1</td>\n",
              "      <td>3.5</td>\n",
              "      <td>1.4</td>\n",
              "      <td>0.2</td>\n",
              "      <td>setosa</td>\n",
              "    </tr>\n",
              "    <tr>\n",
              "      <th>1</th>\n",
              "      <td>4.9</td>\n",
              "      <td>3.0</td>\n",
              "      <td>1.4</td>\n",
              "      <td>0.2</td>\n",
              "      <td>setosa</td>\n",
              "    </tr>\n",
              "    <tr>\n",
              "      <th>2</th>\n",
              "      <td>4.7</td>\n",
              "      <td>3.2</td>\n",
              "      <td>1.3</td>\n",
              "      <td>0.2</td>\n",
              "      <td>setosa</td>\n",
              "    </tr>\n",
              "    <tr>\n",
              "      <th>3</th>\n",
              "      <td>4.6</td>\n",
              "      <td>3.1</td>\n",
              "      <td>1.5</td>\n",
              "      <td>0.2</td>\n",
              "      <td>setosa</td>\n",
              "    </tr>\n",
              "    <tr>\n",
              "      <th>4</th>\n",
              "      <td>5.0</td>\n",
              "      <td>3.6</td>\n",
              "      <td>1.4</td>\n",
              "      <td>0.2</td>\n",
              "      <td>setosa</td>\n",
              "    </tr>\n",
              "  </tbody>\n",
              "</table>\n",
              "</div>"
            ],
            "text/plain": [
              "   sepal_length  sepal_width  petal_length  petal_width species\n",
              "0           5.1          3.5           1.4          0.2  setosa\n",
              "1           4.9          3.0           1.4          0.2  setosa\n",
              "2           4.7          3.2           1.3          0.2  setosa\n",
              "3           4.6          3.1           1.5          0.2  setosa\n",
              "4           5.0          3.6           1.4          0.2  setosa"
            ]
          },
          "metadata": {},
          "execution_count": 6
        }
      ]
    },
    {
      "cell_type": "markdown",
      "metadata": {
        "id": "WkaxCKKJWkL9"
      },
      "source": [
        "# 1. Data Preprocessing"
      ]
    },
    {
      "cell_type": "markdown",
      "metadata": {
        "id": "akOEfSetXAiv"
      },
      "source": [
        "## 1) iris.Species 빈도분석\n",
        "- species : setosa, virginica, versicolor"
      ]
    },
    {
      "cell_type": "code",
      "metadata": {
        "colab": {
          "base_uri": "https://localhost:8080/"
        },
        "id": "QjGlraIQWkF1",
        "outputId": "d5ef676b-7f09-4e00-ab23-87e8996ad446"
      },
      "source": [
        "iris.species.value_counts()"
      ],
      "execution_count": 7,
      "outputs": [
        {
          "output_type": "execute_result",
          "data": {
            "text/plain": [
              "virginica     50\n",
              "setosa        50\n",
              "versicolor    50\n",
              "Name: species, dtype: int64"
            ]
          },
          "metadata": {},
          "execution_count": 7
        }
      ]
    },
    {
      "cell_type": "markdown",
      "metadata": {
        "id": "gwcw_adsWkAn"
      },
      "source": [
        "## 2) DataFrame to Array&Casting"
      ]
    },
    {
      "cell_type": "code",
      "metadata": {
        "colab": {
          "base_uri": "https://localhost:8080/"
        },
        "id": "g2fk6K_9Wj6-",
        "outputId": "bb3bdc21-354e-4d90-e369-c7e284eae461"
      },
      "source": [
        "iris_AR = iris.values\n",
        "\n",
        "iris_AR"
      ],
      "execution_count": 8,
      "outputs": [
        {
          "output_type": "execute_result",
          "data": {
            "text/plain": [
              "array([[5.1, 3.5, 1.4, 0.2, 'setosa'],\n",
              "       [4.9, 3.0, 1.4, 0.2, 'setosa'],\n",
              "       [4.7, 3.2, 1.3, 0.2, 'setosa'],\n",
              "       [4.6, 3.1, 1.5, 0.2, 'setosa'],\n",
              "       [5.0, 3.6, 1.4, 0.2, 'setosa'],\n",
              "       [5.4, 3.9, 1.7, 0.4, 'setosa'],\n",
              "       [4.6, 3.4, 1.4, 0.3, 'setosa'],\n",
              "       [5.0, 3.4, 1.5, 0.2, 'setosa'],\n",
              "       [4.4, 2.9, 1.4, 0.2, 'setosa'],\n",
              "       [4.9, 3.1, 1.5, 0.1, 'setosa'],\n",
              "       [5.4, 3.7, 1.5, 0.2, 'setosa'],\n",
              "       [4.8, 3.4, 1.6, 0.2, 'setosa'],\n",
              "       [4.8, 3.0, 1.4, 0.1, 'setosa'],\n",
              "       [4.3, 3.0, 1.1, 0.1, 'setosa'],\n",
              "       [5.8, 4.0, 1.2, 0.2, 'setosa'],\n",
              "       [5.7, 4.4, 1.5, 0.4, 'setosa'],\n",
              "       [5.4, 3.9, 1.3, 0.4, 'setosa'],\n",
              "       [5.1, 3.5, 1.4, 0.3, 'setosa'],\n",
              "       [5.7, 3.8, 1.7, 0.3, 'setosa'],\n",
              "       [5.1, 3.8, 1.5, 0.3, 'setosa'],\n",
              "       [5.4, 3.4, 1.7, 0.2, 'setosa'],\n",
              "       [5.1, 3.7, 1.5, 0.4, 'setosa'],\n",
              "       [4.6, 3.6, 1.0, 0.2, 'setosa'],\n",
              "       [5.1, 3.3, 1.7, 0.5, 'setosa'],\n",
              "       [4.8, 3.4, 1.9, 0.2, 'setosa'],\n",
              "       [5.0, 3.0, 1.6, 0.2, 'setosa'],\n",
              "       [5.0, 3.4, 1.6, 0.4, 'setosa'],\n",
              "       [5.2, 3.5, 1.5, 0.2, 'setosa'],\n",
              "       [5.2, 3.4, 1.4, 0.2, 'setosa'],\n",
              "       [4.7, 3.2, 1.6, 0.2, 'setosa'],\n",
              "       [4.8, 3.1, 1.6, 0.2, 'setosa'],\n",
              "       [5.4, 3.4, 1.5, 0.4, 'setosa'],\n",
              "       [5.2, 4.1, 1.5, 0.1, 'setosa'],\n",
              "       [5.5, 4.2, 1.4, 0.2, 'setosa'],\n",
              "       [4.9, 3.1, 1.5, 0.2, 'setosa'],\n",
              "       [5.0, 3.2, 1.2, 0.2, 'setosa'],\n",
              "       [5.5, 3.5, 1.3, 0.2, 'setosa'],\n",
              "       [4.9, 3.6, 1.4, 0.1, 'setosa'],\n",
              "       [4.4, 3.0, 1.3, 0.2, 'setosa'],\n",
              "       [5.1, 3.4, 1.5, 0.2, 'setosa'],\n",
              "       [5.0, 3.5, 1.3, 0.3, 'setosa'],\n",
              "       [4.5, 2.3, 1.3, 0.3, 'setosa'],\n",
              "       [4.4, 3.2, 1.3, 0.2, 'setosa'],\n",
              "       [5.0, 3.5, 1.6, 0.6, 'setosa'],\n",
              "       [5.1, 3.8, 1.9, 0.4, 'setosa'],\n",
              "       [4.8, 3.0, 1.4, 0.3, 'setosa'],\n",
              "       [5.1, 3.8, 1.6, 0.2, 'setosa'],\n",
              "       [4.6, 3.2, 1.4, 0.2, 'setosa'],\n",
              "       [5.3, 3.7, 1.5, 0.2, 'setosa'],\n",
              "       [5.0, 3.3, 1.4, 0.2, 'setosa'],\n",
              "       [7.0, 3.2, 4.7, 1.4, 'versicolor'],\n",
              "       [6.4, 3.2, 4.5, 1.5, 'versicolor'],\n",
              "       [6.9, 3.1, 4.9, 1.5, 'versicolor'],\n",
              "       [5.5, 2.3, 4.0, 1.3, 'versicolor'],\n",
              "       [6.5, 2.8, 4.6, 1.5, 'versicolor'],\n",
              "       [5.7, 2.8, 4.5, 1.3, 'versicolor'],\n",
              "       [6.3, 3.3, 4.7, 1.6, 'versicolor'],\n",
              "       [4.9, 2.4, 3.3, 1.0, 'versicolor'],\n",
              "       [6.6, 2.9, 4.6, 1.3, 'versicolor'],\n",
              "       [5.2, 2.7, 3.9, 1.4, 'versicolor'],\n",
              "       [5.0, 2.0, 3.5, 1.0, 'versicolor'],\n",
              "       [5.9, 3.0, 4.2, 1.5, 'versicolor'],\n",
              "       [6.0, 2.2, 4.0, 1.0, 'versicolor'],\n",
              "       [6.1, 2.9, 4.7, 1.4, 'versicolor'],\n",
              "       [5.6, 2.9, 3.6, 1.3, 'versicolor'],\n",
              "       [6.7, 3.1, 4.4, 1.4, 'versicolor'],\n",
              "       [5.6, 3.0, 4.5, 1.5, 'versicolor'],\n",
              "       [5.8, 2.7, 4.1, 1.0, 'versicolor'],\n",
              "       [6.2, 2.2, 4.5, 1.5, 'versicolor'],\n",
              "       [5.6, 2.5, 3.9, 1.1, 'versicolor'],\n",
              "       [5.9, 3.2, 4.8, 1.8, 'versicolor'],\n",
              "       [6.1, 2.8, 4.0, 1.3, 'versicolor'],\n",
              "       [6.3, 2.5, 4.9, 1.5, 'versicolor'],\n",
              "       [6.1, 2.8, 4.7, 1.2, 'versicolor'],\n",
              "       [6.4, 2.9, 4.3, 1.3, 'versicolor'],\n",
              "       [6.6, 3.0, 4.4, 1.4, 'versicolor'],\n",
              "       [6.8, 2.8, 4.8, 1.4, 'versicolor'],\n",
              "       [6.7, 3.0, 5.0, 1.7, 'versicolor'],\n",
              "       [6.0, 2.9, 4.5, 1.5, 'versicolor'],\n",
              "       [5.7, 2.6, 3.5, 1.0, 'versicolor'],\n",
              "       [5.5, 2.4, 3.8, 1.1, 'versicolor'],\n",
              "       [5.5, 2.4, 3.7, 1.0, 'versicolor'],\n",
              "       [5.8, 2.7, 3.9, 1.2, 'versicolor'],\n",
              "       [6.0, 2.7, 5.1, 1.6, 'versicolor'],\n",
              "       [5.4, 3.0, 4.5, 1.5, 'versicolor'],\n",
              "       [6.0, 3.4, 4.5, 1.6, 'versicolor'],\n",
              "       [6.7, 3.1, 4.7, 1.5, 'versicolor'],\n",
              "       [6.3, 2.3, 4.4, 1.3, 'versicolor'],\n",
              "       [5.6, 3.0, 4.1, 1.3, 'versicolor'],\n",
              "       [5.5, 2.5, 4.0, 1.3, 'versicolor'],\n",
              "       [5.5, 2.6, 4.4, 1.2, 'versicolor'],\n",
              "       [6.1, 3.0, 4.6, 1.4, 'versicolor'],\n",
              "       [5.8, 2.6, 4.0, 1.2, 'versicolor'],\n",
              "       [5.0, 2.3, 3.3, 1.0, 'versicolor'],\n",
              "       [5.6, 2.7, 4.2, 1.3, 'versicolor'],\n",
              "       [5.7, 3.0, 4.2, 1.2, 'versicolor'],\n",
              "       [5.7, 2.9, 4.2, 1.3, 'versicolor'],\n",
              "       [6.2, 2.9, 4.3, 1.3, 'versicolor'],\n",
              "       [5.1, 2.5, 3.0, 1.1, 'versicolor'],\n",
              "       [5.7, 2.8, 4.1, 1.3, 'versicolor'],\n",
              "       [6.3, 3.3, 6.0, 2.5, 'virginica'],\n",
              "       [5.8, 2.7, 5.1, 1.9, 'virginica'],\n",
              "       [7.1, 3.0, 5.9, 2.1, 'virginica'],\n",
              "       [6.3, 2.9, 5.6, 1.8, 'virginica'],\n",
              "       [6.5, 3.0, 5.8, 2.2, 'virginica'],\n",
              "       [7.6, 3.0, 6.6, 2.1, 'virginica'],\n",
              "       [4.9, 2.5, 4.5, 1.7, 'virginica'],\n",
              "       [7.3, 2.9, 6.3, 1.8, 'virginica'],\n",
              "       [6.7, 2.5, 5.8, 1.8, 'virginica'],\n",
              "       [7.2, 3.6, 6.1, 2.5, 'virginica'],\n",
              "       [6.5, 3.2, 5.1, 2.0, 'virginica'],\n",
              "       [6.4, 2.7, 5.3, 1.9, 'virginica'],\n",
              "       [6.8, 3.0, 5.5, 2.1, 'virginica'],\n",
              "       [5.7, 2.5, 5.0, 2.0, 'virginica'],\n",
              "       [5.8, 2.8, 5.1, 2.4, 'virginica'],\n",
              "       [6.4, 3.2, 5.3, 2.3, 'virginica'],\n",
              "       [6.5, 3.0, 5.5, 1.8, 'virginica'],\n",
              "       [7.7, 3.8, 6.7, 2.2, 'virginica'],\n",
              "       [7.7, 2.6, 6.9, 2.3, 'virginica'],\n",
              "       [6.0, 2.2, 5.0, 1.5, 'virginica'],\n",
              "       [6.9, 3.2, 5.7, 2.3, 'virginica'],\n",
              "       [5.6, 2.8, 4.9, 2.0, 'virginica'],\n",
              "       [7.7, 2.8, 6.7, 2.0, 'virginica'],\n",
              "       [6.3, 2.7, 4.9, 1.8, 'virginica'],\n",
              "       [6.7, 3.3, 5.7, 2.1, 'virginica'],\n",
              "       [7.2, 3.2, 6.0, 1.8, 'virginica'],\n",
              "       [6.2, 2.8, 4.8, 1.8, 'virginica'],\n",
              "       [6.1, 3.0, 4.9, 1.8, 'virginica'],\n",
              "       [6.4, 2.8, 5.6, 2.1, 'virginica'],\n",
              "       [7.2, 3.0, 5.8, 1.6, 'virginica'],\n",
              "       [7.4, 2.8, 6.1, 1.9, 'virginica'],\n",
              "       [7.9, 3.8, 6.4, 2.0, 'virginica'],\n",
              "       [6.4, 2.8, 5.6, 2.2, 'virginica'],\n",
              "       [6.3, 2.8, 5.1, 1.5, 'virginica'],\n",
              "       [6.1, 2.6, 5.6, 1.4, 'virginica'],\n",
              "       [7.7, 3.0, 6.1, 2.3, 'virginica'],\n",
              "       [6.3, 3.4, 5.6, 2.4, 'virginica'],\n",
              "       [6.4, 3.1, 5.5, 1.8, 'virginica'],\n",
              "       [6.0, 3.0, 4.8, 1.8, 'virginica'],\n",
              "       [6.9, 3.1, 5.4, 2.1, 'virginica'],\n",
              "       [6.7, 3.1, 5.6, 2.4, 'virginica'],\n",
              "       [6.9, 3.1, 5.1, 2.3, 'virginica'],\n",
              "       [5.8, 2.7, 5.1, 1.9, 'virginica'],\n",
              "       [6.8, 3.2, 5.9, 2.3, 'virginica'],\n",
              "       [6.7, 3.3, 5.7, 2.5, 'virginica'],\n",
              "       [6.7, 3.0, 5.2, 2.3, 'virginica'],\n",
              "       [6.3, 2.5, 5.0, 1.9, 'virginica'],\n",
              "       [6.5, 3.0, 5.2, 2.0, 'virginica'],\n",
              "       [6.2, 3.4, 5.4, 2.3, 'virginica'],\n",
              "       [5.9, 3.0, 5.1, 1.8, 'virginica']], dtype=object)"
            ]
          },
          "metadata": {},
          "execution_count": 8
        }
      ]
    },
    {
      "cell_type": "markdown",
      "metadata": {
        "id": "i6uD4kG3Wj18"
      },
      "source": [
        "- object to float"
      ]
    },
    {
      "cell_type": "code",
      "metadata": {
        "colab": {
          "base_uri": "https://localhost:8080/"
        },
        "id": "_oP8YSsPWjvT",
        "outputId": "85e147e1-551c-44e3-c1f8-255c584c20e4"
      },
      "source": [
        "AR_X = iris_AR[:, 0:4].astype(float)\n",
        "AR_y = iris_AR[:, 4]\n",
        "\n",
        "AR_X.shape, AR_y.shape"
      ],
      "execution_count": 9,
      "outputs": [
        {
          "output_type": "execute_result",
          "data": {
            "text/plain": [
              "((150, 4), (150,))"
            ]
          },
          "metadata": {},
          "execution_count": 9
        }
      ]
    },
    {
      "cell_type": "markdown",
      "metadata": {
        "id": "Il-cyWgaWjbr"
      },
      "source": [
        "## 3) One Hot Encoding with sklearn & Keras\n",
        "\n",
        "- LabelEncoder()\n",
        "    - ['setosa','verginica','virsicolor'] to [0,1,2]"
      ]
    },
    {
      "cell_type": "code",
      "metadata": {
        "colab": {
          "base_uri": "https://localhost:8080/"
        },
        "id": "EUXqM2HQIl-T",
        "outputId": "f847d87b-9da5-4221-82ff-332dd17337ce"
      },
      "source": [
        "from sklearn.preprocessing import LabelEncoder\n",
        "\n",
        "encoder = LabelEncoder()\n",
        "AR_yLBE = encoder.fit_transform(AR_y)\n",
        "\n",
        "AR_yLBE"
      ],
      "execution_count": 10,
      "outputs": [
        {
          "output_type": "execute_result",
          "data": {
            "text/plain": [
              "array([0, 0, 0, 0, 0, 0, 0, 0, 0, 0, 0, 0, 0, 0, 0, 0, 0, 0, 0, 0, 0, 0,\n",
              "       0, 0, 0, 0, 0, 0, 0, 0, 0, 0, 0, 0, 0, 0, 0, 0, 0, 0, 0, 0, 0, 0,\n",
              "       0, 0, 0, 0, 0, 0, 1, 1, 1, 1, 1, 1, 1, 1, 1, 1, 1, 1, 1, 1, 1, 1,\n",
              "       1, 1, 1, 1, 1, 1, 1, 1, 1, 1, 1, 1, 1, 1, 1, 1, 1, 1, 1, 1, 1, 1,\n",
              "       1, 1, 1, 1, 1, 1, 1, 1, 1, 1, 1, 1, 2, 2, 2, 2, 2, 2, 2, 2, 2, 2,\n",
              "       2, 2, 2, 2, 2, 2, 2, 2, 2, 2, 2, 2, 2, 2, 2, 2, 2, 2, 2, 2, 2, 2,\n",
              "       2, 2, 2, 2, 2, 2, 2, 2, 2, 2, 2, 2, 2, 2, 2, 2, 2, 2])"
            ]
          },
          "metadata": {},
          "execution_count": 10
        }
      ]
    },
    {
      "cell_type": "markdown",
      "metadata": {
        "id": "C6aLYyd4XOVF"
      },
      "source": [
        "- One-Hot Encoding to_categorical()"
      ]
    },
    {
      "cell_type": "code",
      "metadata": {
        "colab": {
          "base_uri": "https://localhost:8080/"
        },
        "id": "RBoKTd1wXOPd",
        "outputId": "aee73832-44f5-4817-bb3f-b526c5eba928"
      },
      "source": [
        "from tensorflow.keras.utils import to_categorical\n",
        "\n",
        "AR_yOHE = to_categorical(AR_yLBE)\n",
        "AR_yOHE"
      ],
      "execution_count": 11,
      "outputs": [
        {
          "output_type": "execute_result",
          "data": {
            "text/plain": [
              "array([[1., 0., 0.],\n",
              "       [1., 0., 0.],\n",
              "       [1., 0., 0.],\n",
              "       [1., 0., 0.],\n",
              "       [1., 0., 0.],\n",
              "       [1., 0., 0.],\n",
              "       [1., 0., 0.],\n",
              "       [1., 0., 0.],\n",
              "       [1., 0., 0.],\n",
              "       [1., 0., 0.],\n",
              "       [1., 0., 0.],\n",
              "       [1., 0., 0.],\n",
              "       [1., 0., 0.],\n",
              "       [1., 0., 0.],\n",
              "       [1., 0., 0.],\n",
              "       [1., 0., 0.],\n",
              "       [1., 0., 0.],\n",
              "       [1., 0., 0.],\n",
              "       [1., 0., 0.],\n",
              "       [1., 0., 0.],\n",
              "       [1., 0., 0.],\n",
              "       [1., 0., 0.],\n",
              "       [1., 0., 0.],\n",
              "       [1., 0., 0.],\n",
              "       [1., 0., 0.],\n",
              "       [1., 0., 0.],\n",
              "       [1., 0., 0.],\n",
              "       [1., 0., 0.],\n",
              "       [1., 0., 0.],\n",
              "       [1., 0., 0.],\n",
              "       [1., 0., 0.],\n",
              "       [1., 0., 0.],\n",
              "       [1., 0., 0.],\n",
              "       [1., 0., 0.],\n",
              "       [1., 0., 0.],\n",
              "       [1., 0., 0.],\n",
              "       [1., 0., 0.],\n",
              "       [1., 0., 0.],\n",
              "       [1., 0., 0.],\n",
              "       [1., 0., 0.],\n",
              "       [1., 0., 0.],\n",
              "       [1., 0., 0.],\n",
              "       [1., 0., 0.],\n",
              "       [1., 0., 0.],\n",
              "       [1., 0., 0.],\n",
              "       [1., 0., 0.],\n",
              "       [1., 0., 0.],\n",
              "       [1., 0., 0.],\n",
              "       [1., 0., 0.],\n",
              "       [1., 0., 0.],\n",
              "       [0., 1., 0.],\n",
              "       [0., 1., 0.],\n",
              "       [0., 1., 0.],\n",
              "       [0., 1., 0.],\n",
              "       [0., 1., 0.],\n",
              "       [0., 1., 0.],\n",
              "       [0., 1., 0.],\n",
              "       [0., 1., 0.],\n",
              "       [0., 1., 0.],\n",
              "       [0., 1., 0.],\n",
              "       [0., 1., 0.],\n",
              "       [0., 1., 0.],\n",
              "       [0., 1., 0.],\n",
              "       [0., 1., 0.],\n",
              "       [0., 1., 0.],\n",
              "       [0., 1., 0.],\n",
              "       [0., 1., 0.],\n",
              "       [0., 1., 0.],\n",
              "       [0., 1., 0.],\n",
              "       [0., 1., 0.],\n",
              "       [0., 1., 0.],\n",
              "       [0., 1., 0.],\n",
              "       [0., 1., 0.],\n",
              "       [0., 1., 0.],\n",
              "       [0., 1., 0.],\n",
              "       [0., 1., 0.],\n",
              "       [0., 1., 0.],\n",
              "       [0., 1., 0.],\n",
              "       [0., 1., 0.],\n",
              "       [0., 1., 0.],\n",
              "       [0., 1., 0.],\n",
              "       [0., 1., 0.],\n",
              "       [0., 1., 0.],\n",
              "       [0., 1., 0.],\n",
              "       [0., 1., 0.],\n",
              "       [0., 1., 0.],\n",
              "       [0., 1., 0.],\n",
              "       [0., 1., 0.],\n",
              "       [0., 1., 0.],\n",
              "       [0., 1., 0.],\n",
              "       [0., 1., 0.],\n",
              "       [0., 1., 0.],\n",
              "       [0., 1., 0.],\n",
              "       [0., 1., 0.],\n",
              "       [0., 1., 0.],\n",
              "       [0., 1., 0.],\n",
              "       [0., 1., 0.],\n",
              "       [0., 1., 0.],\n",
              "       [0., 1., 0.],\n",
              "       [0., 1., 0.],\n",
              "       [0., 0., 1.],\n",
              "       [0., 0., 1.],\n",
              "       [0., 0., 1.],\n",
              "       [0., 0., 1.],\n",
              "       [0., 0., 1.],\n",
              "       [0., 0., 1.],\n",
              "       [0., 0., 1.],\n",
              "       [0., 0., 1.],\n",
              "       [0., 0., 1.],\n",
              "       [0., 0., 1.],\n",
              "       [0., 0., 1.],\n",
              "       [0., 0., 1.],\n",
              "       [0., 0., 1.],\n",
              "       [0., 0., 1.],\n",
              "       [0., 0., 1.],\n",
              "       [0., 0., 1.],\n",
              "       [0., 0., 1.],\n",
              "       [0., 0., 1.],\n",
              "       [0., 0., 1.],\n",
              "       [0., 0., 1.],\n",
              "       [0., 0., 1.],\n",
              "       [0., 0., 1.],\n",
              "       [0., 0., 1.],\n",
              "       [0., 0., 1.],\n",
              "       [0., 0., 1.],\n",
              "       [0., 0., 1.],\n",
              "       [0., 0., 1.],\n",
              "       [0., 0., 1.],\n",
              "       [0., 0., 1.],\n",
              "       [0., 0., 1.],\n",
              "       [0., 0., 1.],\n",
              "       [0., 0., 1.],\n",
              "       [0., 0., 1.],\n",
              "       [0., 0., 1.],\n",
              "       [0., 0., 1.],\n",
              "       [0., 0., 1.],\n",
              "       [0., 0., 1.],\n",
              "       [0., 0., 1.],\n",
              "       [0., 0., 1.],\n",
              "       [0., 0., 1.],\n",
              "       [0., 0., 1.],\n",
              "       [0., 0., 1.],\n",
              "       [0., 0., 1.],\n",
              "       [0., 0., 1.],\n",
              "       [0., 0., 1.],\n",
              "       [0., 0., 1.],\n",
              "       [0., 0., 1.],\n",
              "       [0., 0., 1.],\n",
              "       [0., 0., 1.],\n",
              "       [0., 0., 1.]], dtype=float32)"
            ]
          },
          "metadata": {},
          "execution_count": 11
        }
      ]
    },
    {
      "cell_type": "markdown",
      "metadata": {
        "id": "w0SURfMiXOKD"
      },
      "source": [
        "## 4) Version check"
      ]
    },
    {
      "cell_type": "code",
      "metadata": {
        "colab": {
          "base_uri": "https://localhost:8080/",
          "height": 35
        },
        "id": "ZKQdWF4GXOEE",
        "outputId": "65d9d05f-9eef-4e8e-8c7f-f9077a2d1f96"
      },
      "source": [
        "# tensorFlow Version\n",
        "\n",
        "import tensorflow\n",
        "\n",
        "tensorflow.__version__"
      ],
      "execution_count": 13,
      "outputs": [
        {
          "output_type": "execute_result",
          "data": {
            "application/vnd.google.colaboratory.intrinsic+json": {
              "type": "string"
            },
            "text/plain": [
              "'2.6.0'"
            ]
          },
          "metadata": {},
          "execution_count": 13
        }
      ]
    },
    {
      "cell_type": "markdown",
      "metadata": {
        "id": "6jI7_09kXN_W"
      },
      "source": [
        "- Keras Version"
      ]
    },
    {
      "cell_type": "code",
      "metadata": {
        "colab": {
          "base_uri": "https://localhost:8080/",
          "height": 35
        },
        "id": "pBCjzvjYXN5p",
        "outputId": "48df8892-9cd4-49f5-a6e9-520dd65caa3f"
      },
      "source": [
        "import keras\n",
        "\n",
        "keras.__version__"
      ],
      "execution_count": 14,
      "outputs": [
        {
          "output_type": "execute_result",
          "data": {
            "application/vnd.google.colaboratory.intrinsic+json": {
              "type": "string"
            },
            "text/plain": [
              "'2.6.0'"
            ]
          },
          "metadata": {},
          "execution_count": 14
        }
      ]
    },
    {
      "cell_type": "markdown",
      "metadata": {
        "id": "oarJSmuQXN0z"
      },
      "source": [
        "## 5) train_test_split()\n",
        "- 7:3"
      ]
    },
    {
      "cell_type": "code",
      "metadata": {
        "colab": {
          "base_uri": "https://localhost:8080/"
        },
        "id": "TZPhwjxgXNvH",
        "outputId": "d9e78034-77a5-4c6d-8f39-5ae39447cc5d"
      },
      "source": [
        "from sklearn.model_selection import train_test_split\n",
        "\n",
        "X_train, X_test, y_train, y_test = train_test_split(AR_X, AR_yOHE, test_size = 0.3, random_state = 2045)\n",
        "\n",
        "X_train.shape, X_test.shape, y_train.shape, y_test.shape"
      ],
      "execution_count": 15,
      "outputs": [
        {
          "output_type": "execute_result",
          "data": {
            "text/plain": [
              "((105, 4), (45, 4), (105, 3), (45, 3))"
            ]
          },
          "metadata": {},
          "execution_count": 15
        }
      ]
    },
    {
      "cell_type": "markdown",
      "metadata": {
        "id": "l7eXAnA5XNp1"
      },
      "source": [
        "# 2. Kears Modeling"
      ]
    },
    {
      "cell_type": "markdown",
      "metadata": {
        "id": "SWcuB-spYrkT"
      },
      "source": [
        "## 1) Keras models & layers Import"
      ]
    },
    {
      "cell_type": "code",
      "metadata": {
        "id": "El1yjsvTXNkY"
      },
      "source": [
        "from tensorflow.keras import models\n",
        "from tensorflow.keras import layers"
      ],
      "execution_count": 16,
      "outputs": []
    },
    {
      "cell_type": "markdown",
      "metadata": {
        "id": "SXz1UO51XNfJ"
      },
      "source": [
        "## 2) Model Define\n",
        "- 모델 신경망 구조 정의"
      ]
    },
    {
      "cell_type": "code",
      "metadata": {
        "id": "-CMk0TdoXNZZ"
      },
      "source": [
        "Model_iris = models.Sequential()\n",
        "\n",
        "Model_iris.add(layers.Dense(16, activation='relu', input_shape=(4,)))\n",
        "Model_iris.add(layers.Dense(8, activation='relu'))\n",
        "Model_iris.add(layers.Dense(3, activation='softmax'))"
      ],
      "execution_count": 17,
      "outputs": []
    },
    {
      "cell_type": "markdown",
      "metadata": {
        "id": "_NlOsvRUXNT7"
      },
      "source": [
        "- 모델 구조 확인\n",
        "    - Layers & Parameters"
      ]
    },
    {
      "cell_type": "code",
      "metadata": {
        "colab": {
          "base_uri": "https://localhost:8080/"
        },
        "id": "O8rCw1_4XNLX",
        "outputId": "c4b705c5-e803-487d-f397-7ca218665525"
      },
      "source": [
        "Model_iris.summary()"
      ],
      "execution_count": 18,
      "outputs": [
        {
          "output_type": "stream",
          "name": "stdout",
          "text": [
            "Model: \"sequential\"\n",
            "_________________________________________________________________\n",
            "Layer (type)                 Output Shape              Param #   \n",
            "=================================================================\n",
            "dense (Dense)                (None, 16)                80        \n",
            "_________________________________________________________________\n",
            "dense_1 (Dense)              (None, 8)                 136       \n",
            "_________________________________________________________________\n",
            "dense_2 (Dense)              (None, 3)                 27        \n",
            "=================================================================\n",
            "Total params: 243\n",
            "Trainable params: 243\n",
            "Non-trainable params: 0\n",
            "_________________________________________________________________\n"
          ]
        }
      ]
    },
    {
      "cell_type": "markdown",
      "metadata": {
        "id": "rouTmoQfXNES"
      },
      "source": [
        "- 모델 레이어 시각화"
      ]
    },
    {
      "cell_type": "code",
      "metadata": {
        "colab": {
          "base_uri": "https://localhost:8080/",
          "height": 422
        },
        "id": "kCr_Y9S6XM91",
        "outputId": "0a7b0853-902b-4ab3-85ca-fd0fd5fd78ad"
      },
      "source": [
        "from tensorflow.keras import utils\n",
        "\n",
        "utils.plot_model(Model_iris, \n",
        "                 show_shapes = True,\n",
        "                 show_dtype = True)"
      ],
      "execution_count": 19,
      "outputs": [
        {
          "output_type": "execute_result",
          "data": {
            "image/png": "[encoded data removed]",
            "text/plain": [
              "<IPython.core.display.Image object>"
            ]
          },
          "metadata": {},
          "execution_count": 19
        }
      ]
    },
    {
      "cell_type": "markdown",
      "metadata": {
        "id": "LJFKYzMlXM38"
      },
      "source": [
        "## 3) Model Compile\n",
        "- 모델 학습 방법 설정"
      ]
    },
    {
      "cell_type": "code",
      "metadata": {
        "id": "DqPra27jXMxk"
      },
      "source": [
        "Model_iris.compile(loss = 'categorical_crossentropy',\n",
        "                   optimizer = 'adam',\n",
        "                   metrics = ['accuracy'])"
      ],
      "execution_count": 20,
      "outputs": []
    },
    {
      "cell_type": "markdown",
      "metadata": {
        "id": "XCbyA8DhXMqN"
      },
      "source": [
        "## 4) Model Fit\n",
        "\n",
        "- 모델 학습 수행"
      ]
    },
    {
      "cell_type": "code",
      "metadata": {
        "colab": {
          "base_uri": "https://localhost:8080/"
        },
        "id": "-dSFjPNoXMix",
        "outputId": "6daca4b7-25fd-42ec-9a3d-8f42bab73bb6"
      },
      "source": [
        "History_iris = Model_iris.fit(X_train, y_train,\n",
        "                              epochs = 500,\n",
        "                              batch_size = 7,\n",
        "                              validation_data = (X_test, y_test))"
      ],
      "execution_count": 21,
      "outputs": [
        {
          "output_type": "stream",
          "name": "stdout",
          "text": [
            "Epoch 1/500\n",
            "15/15 [==============================] - 1s 16ms/step - loss: 1.0774 - accuracy: 0.3143 - val_loss: 0.8988 - val_accuracy: 0.3778\n",
            "Epoch 2/500\n",
            "15/15 [==============================] - 0s 4ms/step - loss: 0.9011 - accuracy: 0.3143 - val_loss: 0.8282 - val_accuracy: 0.3778\n",
            "Epoch 3/500\n",
            "15/15 [==============================] - 0s 3ms/step - loss: 0.8521 - accuracy: 0.3714 - val_loss: 0.7776 - val_accuracy: 0.6667\n",
            "Epoch 4/500\n",
            "15/15 [==============================] - 0s 4ms/step - loss: 0.8059 - accuracy: 0.6286 - val_loss: 0.7329 - val_accuracy: 0.8000\n",
            "Epoch 5/500\n",
            "15/15 [==============================] - 0s 4ms/step - loss: 0.7659 - accuracy: 0.7619 - val_loss: 0.7013 - val_accuracy: 0.9333\n",
            "Epoch 6/500\n",
            "15/15 [==============================] - 0s 5ms/step - loss: 0.7408 - accuracy: 0.8476 - val_loss: 0.6752 - val_accuracy: 0.9111\n",
            "Epoch 7/500\n",
            "15/15 [==============================] - 0s 3ms/step - loss: 0.7214 - accuracy: 0.8476 - val_loss: 0.6575 - val_accuracy: 0.9333\n",
            "Epoch 8/500\n",
            "15/15 [==============================] - 0s 4ms/step - loss: 0.7055 - accuracy: 0.8381 - val_loss: 0.6421 - val_accuracy: 0.8000\n",
            "Epoch 9/500\n",
            "15/15 [==============================] - 0s 3ms/step - loss: 0.6929 - accuracy: 0.8381 - val_loss: 0.6309 - val_accuracy: 0.7556\n",
            "Epoch 10/500\n",
            "15/15 [==============================] - 0s 4ms/step - loss: 0.6803 - accuracy: 0.8286 - val_loss: 0.6202 - val_accuracy: 0.7778\n",
            "Epoch 11/500\n",
            "15/15 [==============================] - 0s 3ms/step - loss: 0.6708 - accuracy: 0.8095 - val_loss: 0.6094 - val_accuracy: 0.8222\n",
            "Epoch 12/500\n",
            "15/15 [==============================] - 0s 3ms/step - loss: 0.6611 - accuracy: 0.8476 - val_loss: 0.6015 - val_accuracy: 0.7778\n",
            "Epoch 13/500\n",
            "15/15 [==============================] - 0s 4ms/step - loss: 0.6529 - accuracy: 0.7429 - val_loss: 0.5913 - val_accuracy: 0.8000\n",
            "Epoch 14/500\n",
            "15/15 [==============================] - 0s 4ms/step - loss: 0.6409 - accuracy: 0.8190 - val_loss: 0.5827 - val_accuracy: 0.7778\n",
            "Epoch 15/500\n",
            "15/15 [==============================] - 0s 4ms/step - loss: 0.6322 - accuracy: 0.8000 - val_loss: 0.5746 - val_accuracy: 0.7556\n",
            "Epoch 16/500\n",
            "15/15 [==============================] - 0s 3ms/step - loss: 0.6219 - accuracy: 0.8095 - val_loss: 0.5648 - val_accuracy: 0.8222\n",
            "Epoch 17/500\n",
            "15/15 [==============================] - 0s 3ms/step - loss: 0.6152 - accuracy: 0.8190 - val_loss: 0.5567 - val_accuracy: 0.7778\n",
            "Epoch 18/500\n",
            "15/15 [==============================] - 0s 5ms/step - loss: 0.6049 - accuracy: 0.8571 - val_loss: 0.5481 - val_accuracy: 0.8222\n",
            "Epoch 19/500\n",
            "15/15 [==============================] - 0s 4ms/step - loss: 0.6015 - accuracy: 0.8000 - val_loss: 0.5399 - val_accuracy: 0.8667\n",
            "Epoch 20/500\n",
            "15/15 [==============================] - 0s 3ms/step - loss: 0.5894 - accuracy: 0.8476 - val_loss: 0.5319 - val_accuracy: 0.7778\n",
            "Epoch 21/500\n",
            "15/15 [==============================] - 0s 4ms/step - loss: 0.5781 - accuracy: 0.8476 - val_loss: 0.5242 - val_accuracy: 0.7778\n",
            "Epoch 22/500\n",
            "15/15 [==============================] - 0s 4ms/step - loss: 0.5703 - accuracy: 0.8381 - val_loss: 0.5165 - val_accuracy: 0.7778\n",
            "Epoch 23/500\n",
            "15/15 [==============================] - 0s 3ms/step - loss: 0.5629 - accuracy: 0.8190 - val_loss: 0.5077 - val_accuracy: 0.8444\n",
            "Epoch 24/500\n",
            "15/15 [==============================] - 0s 3ms/step - loss: 0.5538 - accuracy: 0.8667 - val_loss: 0.4998 - val_accuracy: 0.8444\n",
            "Epoch 25/500\n",
            "15/15 [==============================] - 0s 3ms/step - loss: 0.5462 - accuracy: 0.8476 - val_loss: 0.4916 - val_accuracy: 0.8667\n",
            "Epoch 26/500\n",
            "15/15 [==============================] - 0s 4ms/step - loss: 0.5403 - accuracy: 0.8571 - val_loss: 0.4839 - val_accuracy: 0.9111\n",
            "Epoch 27/500\n",
            "15/15 [==============================] - 0s 3ms/step - loss: 0.5367 - accuracy: 0.8095 - val_loss: 0.4766 - val_accuracy: 0.8444\n",
            "Epoch 28/500\n",
            "15/15 [==============================] - 0s 5ms/step - loss: 0.5200 - accuracy: 0.8571 - val_loss: 0.4682 - val_accuracy: 0.9333\n",
            "Epoch 29/500\n",
            "15/15 [==============================] - 0s 5ms/step - loss: 0.5146 - accuracy: 0.8857 - val_loss: 0.4606 - val_accuracy: 0.9556\n",
            "Epoch 30/500\n",
            "15/15 [==============================] - 0s 5ms/step - loss: 0.5040 - accuracy: 0.8571 - val_loss: 0.4533 - val_accuracy: 0.8667\n",
            "Epoch 31/500\n",
            "15/15 [==============================] - 0s 4ms/step - loss: 0.4979 - accuracy: 0.8571 - val_loss: 0.4450 - val_accuracy: 0.9556\n",
            "Epoch 32/500\n",
            "15/15 [==============================] - 0s 5ms/step - loss: 0.4898 - accuracy: 0.8762 - val_loss: 0.4384 - val_accuracy: 0.8889\n",
            "Epoch 33/500\n",
            "15/15 [==============================] - 0s 4ms/step - loss: 0.4833 - accuracy: 0.8952 - val_loss: 0.4297 - val_accuracy: 0.9333\n",
            "Epoch 34/500\n",
            "15/15 [==============================] - 0s 4ms/step - loss: 0.4723 - accuracy: 0.8857 - val_loss: 0.4218 - val_accuracy: 0.9556\n",
            "Epoch 35/500\n",
            "15/15 [==============================] - 0s 4ms/step - loss: 0.4644 - accuracy: 0.8857 - val_loss: 0.4137 - val_accuracy: 0.9556\n",
            "Epoch 36/500\n",
            "15/15 [==============================] - 0s 4ms/step - loss: 0.4635 - accuracy: 0.9524 - val_loss: 0.4059 - val_accuracy: 0.9556\n",
            "Epoch 37/500\n",
            "15/15 [==============================] - 0s 6ms/step - loss: 0.4692 - accuracy: 0.8286 - val_loss: 0.4013 - val_accuracy: 0.8667\n",
            "Epoch 38/500\n",
            "15/15 [==============================] - 0s 4ms/step - loss: 0.4466 - accuracy: 0.9238 - val_loss: 0.3920 - val_accuracy: 0.9778\n",
            "Epoch 39/500\n",
            "15/15 [==============================] - 0s 5ms/step - loss: 0.4407 - accuracy: 0.8952 - val_loss: 0.3839 - val_accuracy: 0.9556\n",
            "Epoch 40/500\n",
            "15/15 [==============================] - 0s 5ms/step - loss: 0.4255 - accuracy: 0.9429 - val_loss: 0.3753 - val_accuracy: 0.9778\n",
            "Epoch 41/500\n",
            "15/15 [==============================] - 0s 5ms/step - loss: 0.4196 - accuracy: 0.9048 - val_loss: 0.3677 - val_accuracy: 0.9556\n",
            "Epoch 42/500\n",
            "15/15 [==============================] - 0s 4ms/step - loss: 0.4090 - accuracy: 0.9524 - val_loss: 0.3585 - val_accuracy: 0.9778\n",
            "Epoch 43/500\n",
            "15/15 [==============================] - 0s 5ms/step - loss: 0.4015 - accuracy: 0.9524 - val_loss: 0.3509 - val_accuracy: 0.9778\n",
            "Epoch 44/500\n",
            "15/15 [==============================] - 0s 5ms/step - loss: 0.3975 - accuracy: 0.9048 - val_loss: 0.3423 - val_accuracy: 0.9778\n",
            "Epoch 45/500\n",
            "15/15 [==============================] - 0s 4ms/step - loss: 0.3827 - accuracy: 0.9524 - val_loss: 0.3302 - val_accuracy: 0.9778\n",
            "Epoch 46/500\n",
            "15/15 [==============================] - 0s 5ms/step - loss: 0.3715 - accuracy: 0.9524 - val_loss: 0.3173 - val_accuracy: 0.9778\n",
            "Epoch 47/500\n",
            "15/15 [==============================] - 0s 4ms/step - loss: 0.3604 - accuracy: 0.9429 - val_loss: 0.3047 - val_accuracy: 1.0000\n",
            "Epoch 48/500\n",
            "15/15 [==============================] - 0s 5ms/step - loss: 0.3440 - accuracy: 0.9524 - val_loss: 0.2881 - val_accuracy: 0.9778\n",
            "Epoch 49/500\n",
            "15/15 [==============================] - 0s 4ms/step - loss: 0.3292 - accuracy: 0.9524 - val_loss: 0.2699 - val_accuracy: 1.0000\n",
            "Epoch 50/500\n",
            "15/15 [==============================] - 0s 5ms/step - loss: 0.3126 - accuracy: 0.9524 - val_loss: 0.2553 - val_accuracy: 1.0000\n",
            "Epoch 51/500\n",
            "15/15 [==============================] - 0s 6ms/step - loss: 0.2925 - accuracy: 0.9619 - val_loss: 0.2329 - val_accuracy: 0.9778\n",
            "Epoch 52/500\n",
            "15/15 [==============================] - 0s 5ms/step - loss: 0.2577 - accuracy: 0.9810 - val_loss: 0.1918 - val_accuracy: 0.9778\n",
            "Epoch 53/500\n",
            "15/15 [==============================] - 0s 5ms/step - loss: 0.2229 - accuracy: 0.9619 - val_loss: 0.1626 - val_accuracy: 1.0000\n",
            "Epoch 54/500\n",
            "15/15 [==============================] - 0s 5ms/step - loss: 0.1933 - accuracy: 0.9714 - val_loss: 0.1476 - val_accuracy: 0.9778\n",
            "Epoch 55/500\n",
            "15/15 [==============================] - 0s 5ms/step - loss: 0.1895 - accuracy: 0.9524 - val_loss: 0.1338 - val_accuracy: 0.9778\n",
            "Epoch 56/500\n",
            "15/15 [==============================] - 0s 4ms/step - loss: 0.1699 - accuracy: 0.9714 - val_loss: 0.1262 - val_accuracy: 0.9778\n",
            "Epoch 57/500\n",
            "15/15 [==============================] - 0s 4ms/step - loss: 0.1701 - accuracy: 0.9524 - val_loss: 0.1184 - val_accuracy: 1.0000\n",
            "Epoch 58/500\n",
            "15/15 [==============================] - 0s 4ms/step - loss: 0.1569 - accuracy: 0.9810 - val_loss: 0.1171 - val_accuracy: 0.9778\n",
            "Epoch 59/500\n",
            "15/15 [==============================] - 0s 5ms/step - loss: 0.1545 - accuracy: 0.9524 - val_loss: 0.1087 - val_accuracy: 0.9778\n",
            "Epoch 60/500\n",
            "15/15 [==============================] - 0s 5ms/step - loss: 0.1546 - accuracy: 0.9619 - val_loss: 0.1034 - val_accuracy: 0.9778\n",
            "Epoch 61/500\n",
            "15/15 [==============================] - 0s 4ms/step - loss: 0.1511 - accuracy: 0.9619 - val_loss: 0.0991 - val_accuracy: 0.9778\n",
            "Epoch 62/500\n",
            "15/15 [==============================] - 0s 5ms/step - loss: 0.1413 - accuracy: 0.9714 - val_loss: 0.0958 - val_accuracy: 1.0000\n",
            "Epoch 63/500\n",
            "15/15 [==============================] - 0s 5ms/step - loss: 0.1398 - accuracy: 0.9524 - val_loss: 0.0946 - val_accuracy: 0.9778\n",
            "Epoch 64/500\n",
            "15/15 [==============================] - 0s 3ms/step - loss: 0.1404 - accuracy: 0.9619 - val_loss: 0.0905 - val_accuracy: 1.0000\n",
            "Epoch 65/500\n",
            "15/15 [==============================] - 0s 5ms/step - loss: 0.1372 - accuracy: 0.9714 - val_loss: 0.0893 - val_accuracy: 0.9778\n",
            "Epoch 66/500\n",
            "15/15 [==============================] - 0s 4ms/step - loss: 0.1272 - accuracy: 0.9714 - val_loss: 0.0846 - val_accuracy: 1.0000\n",
            "Epoch 67/500\n",
            "15/15 [==============================] - 0s 5ms/step - loss: 0.1319 - accuracy: 0.9619 - val_loss: 0.0824 - val_accuracy: 1.0000\n",
            "Epoch 68/500\n",
            "15/15 [==============================] - 0s 4ms/step - loss: 0.1273 - accuracy: 0.9810 - val_loss: 0.0847 - val_accuracy: 0.9778\n",
            "Epoch 69/500\n",
            "15/15 [==============================] - 0s 4ms/step - loss: 0.1242 - accuracy: 0.9619 - val_loss: 0.0785 - val_accuracy: 1.0000\n",
            "Epoch 70/500\n",
            "15/15 [==============================] - 0s 4ms/step - loss: 0.1213 - accuracy: 0.9714 - val_loss: 0.0773 - val_accuracy: 0.9778\n",
            "Epoch 71/500\n",
            "15/15 [==============================] - 0s 5ms/step - loss: 0.1199 - accuracy: 0.9714 - val_loss: 0.0762 - val_accuracy: 0.9778\n",
            "Epoch 72/500\n",
            "15/15 [==============================] - 0s 4ms/step - loss: 0.1237 - accuracy: 0.9619 - val_loss: 0.0748 - val_accuracy: 0.9778\n",
            "Epoch 73/500\n",
            "15/15 [==============================] - 0s 4ms/step - loss: 0.1176 - accuracy: 0.9714 - val_loss: 0.0770 - val_accuracy: 0.9778\n",
            "Epoch 74/500\n",
            "15/15 [==============================] - 0s 5ms/step - loss: 0.1126 - accuracy: 0.9810 - val_loss: 0.0703 - val_accuracy: 0.9778\n",
            "Epoch 75/500\n",
            "15/15 [==============================] - 0s 4ms/step - loss: 0.1129 - accuracy: 0.9619 - val_loss: 0.0701 - val_accuracy: 0.9778\n",
            "Epoch 76/500\n",
            "15/15 [==============================] - 0s 5ms/step - loss: 0.1101 - accuracy: 0.9714 - val_loss: 0.0685 - val_accuracy: 0.9778\n",
            "Epoch 77/500\n",
            "15/15 [==============================] - 0s 4ms/step - loss: 0.1093 - accuracy: 0.9714 - val_loss: 0.0677 - val_accuracy: 0.9778\n",
            "Epoch 78/500\n",
            "15/15 [==============================] - 0s 5ms/step - loss: 0.1104 - accuracy: 0.9714 - val_loss: 0.0655 - val_accuracy: 0.9778\n",
            "Epoch 79/500\n",
            "15/15 [==============================] - 0s 4ms/step - loss: 0.1089 - accuracy: 0.9714 - val_loss: 0.0640 - val_accuracy: 1.0000\n",
            "Epoch 80/500\n",
            "15/15 [==============================] - 0s 4ms/step - loss: 0.1134 - accuracy: 0.9619 - val_loss: 0.0676 - val_accuracy: 0.9778\n",
            "Epoch 81/500\n",
            "15/15 [==============================] - 0s 5ms/step - loss: 0.1130 - accuracy: 0.9619 - val_loss: 0.0670 - val_accuracy: 0.9778\n",
            "Epoch 82/500\n",
            "15/15 [==============================] - 0s 4ms/step - loss: 0.1087 - accuracy: 0.9619 - val_loss: 0.0609 - val_accuracy: 1.0000\n",
            "Epoch 83/500\n",
            "15/15 [==============================] - 0s 5ms/step - loss: 0.1080 - accuracy: 0.9619 - val_loss: 0.0632 - val_accuracy: 0.9778\n",
            "Epoch 84/500\n",
            "15/15 [==============================] - 0s 5ms/step - loss: 0.1115 - accuracy: 0.9714 - val_loss: 0.0591 - val_accuracy: 1.0000\n",
            "Epoch 85/500\n",
            "15/15 [==============================] - 0s 5ms/step - loss: 0.1046 - accuracy: 0.9714 - val_loss: 0.0623 - val_accuracy: 0.9778\n",
            "Epoch 86/500\n",
            "15/15 [==============================] - 0s 4ms/step - loss: 0.1012 - accuracy: 0.9619 - val_loss: 0.0592 - val_accuracy: 0.9778\n",
            "Epoch 87/500\n",
            "15/15 [==============================] - 0s 5ms/step - loss: 0.1042 - accuracy: 0.9619 - val_loss: 0.0592 - val_accuracy: 0.9778\n",
            "Epoch 88/500\n",
            "15/15 [==============================] - 0s 4ms/step - loss: 0.1066 - accuracy: 0.9524 - val_loss: 0.0560 - val_accuracy: 1.0000\n",
            "Epoch 89/500\n",
            "15/15 [==============================] - 0s 3ms/step - loss: 0.1013 - accuracy: 0.9714 - val_loss: 0.0570 - val_accuracy: 0.9778\n",
            "Epoch 90/500\n",
            "15/15 [==============================] - 0s 5ms/step - loss: 0.0983 - accuracy: 0.9714 - val_loss: 0.0610 - val_accuracy: 0.9778\n",
            "Epoch 91/500\n",
            "15/15 [==============================] - 0s 4ms/step - loss: 0.0997 - accuracy: 0.9619 - val_loss: 0.0546 - val_accuracy: 0.9778\n",
            "Epoch 92/500\n",
            "15/15 [==============================] - 0s 5ms/step - loss: 0.0983 - accuracy: 0.9619 - val_loss: 0.0588 - val_accuracy: 0.9778\n",
            "Epoch 93/500\n",
            "15/15 [==============================] - 0s 4ms/step - loss: 0.0984 - accuracy: 0.9714 - val_loss: 0.0531 - val_accuracy: 0.9778\n",
            "Epoch 94/500\n",
            "15/15 [==============================] - 0s 4ms/step - loss: 0.0957 - accuracy: 0.9619 - val_loss: 0.0543 - val_accuracy: 0.9778\n",
            "Epoch 95/500\n",
            "15/15 [==============================] - 0s 4ms/step - loss: 0.0995 - accuracy: 0.9714 - val_loss: 0.0538 - val_accuracy: 0.9778\n",
            "Epoch 96/500\n",
            "15/15 [==============================] - 0s 4ms/step - loss: 0.0978 - accuracy: 0.9619 - val_loss: 0.0525 - val_accuracy: 0.9778\n",
            "Epoch 97/500\n",
            "15/15 [==============================] - 0s 4ms/step - loss: 0.0936 - accuracy: 0.9810 - val_loss: 0.0526 - val_accuracy: 0.9778\n",
            "Epoch 98/500\n",
            "15/15 [==============================] - 0s 5ms/step - loss: 0.0923 - accuracy: 0.9714 - val_loss: 0.0523 - val_accuracy: 0.9778\n",
            "Epoch 99/500\n",
            "15/15 [==============================] - 0s 5ms/step - loss: 0.0971 - accuracy: 0.9714 - val_loss: 0.0500 - val_accuracy: 0.9778\n",
            "Epoch 100/500\n",
            "15/15 [==============================] - 0s 5ms/step - loss: 0.0949 - accuracy: 0.9714 - val_loss: 0.0524 - val_accuracy: 0.9778\n",
            "Epoch 101/500\n",
            "15/15 [==============================] - 0s 4ms/step - loss: 0.0948 - accuracy: 0.9619 - val_loss: 0.0518 - val_accuracy: 0.9778\n",
            "Epoch 102/500\n",
            "15/15 [==============================] - 0s 4ms/step - loss: 0.1118 - accuracy: 0.9524 - val_loss: 0.0479 - val_accuracy: 1.0000\n",
            "Epoch 103/500\n",
            "15/15 [==============================] - 0s 4ms/step - loss: 0.0865 - accuracy: 0.9810 - val_loss: 0.0607 - val_accuracy: 0.9778\n",
            "Epoch 104/500\n",
            "15/15 [==============================] - 0s 5ms/step - loss: 0.0944 - accuracy: 0.9714 - val_loss: 0.0494 - val_accuracy: 0.9778\n",
            "Epoch 105/500\n",
            "15/15 [==============================] - 0s 6ms/step - loss: 0.0905 - accuracy: 0.9619 - val_loss: 0.0478 - val_accuracy: 0.9778\n",
            "Epoch 106/500\n",
            "15/15 [==============================] - 0s 5ms/step - loss: 0.0920 - accuracy: 0.9524 - val_loss: 0.0460 - val_accuracy: 0.9778\n",
            "Epoch 107/500\n",
            "15/15 [==============================] - 0s 5ms/step - loss: 0.0984 - accuracy: 0.9714 - val_loss: 0.0450 - val_accuracy: 1.0000\n",
            "Epoch 108/500\n",
            "15/15 [==============================] - 0s 5ms/step - loss: 0.0903 - accuracy: 0.9810 - val_loss: 0.0623 - val_accuracy: 0.9778\n",
            "Epoch 109/500\n",
            "15/15 [==============================] - 0s 5ms/step - loss: 0.0913 - accuracy: 0.9810 - val_loss: 0.0445 - val_accuracy: 1.0000\n",
            "Epoch 110/500\n",
            "15/15 [==============================] - 0s 4ms/step - loss: 0.0919 - accuracy: 0.9619 - val_loss: 0.0494 - val_accuracy: 0.9778\n",
            "Epoch 111/500\n",
            "15/15 [==============================] - 0s 5ms/step - loss: 0.0950 - accuracy: 0.9619 - val_loss: 0.0447 - val_accuracy: 0.9778\n",
            "Epoch 112/500\n",
            "15/15 [==============================] - 0s 6ms/step - loss: 0.0946 - accuracy: 0.9619 - val_loss: 0.0451 - val_accuracy: 0.9778\n",
            "Epoch 113/500\n",
            "15/15 [==============================] - 0s 4ms/step - loss: 0.0870 - accuracy: 0.9619 - val_loss: 0.0508 - val_accuracy: 0.9778\n",
            "Epoch 114/500\n",
            "15/15 [==============================] - 0s 6ms/step - loss: 0.0877 - accuracy: 0.9619 - val_loss: 0.0443 - val_accuracy: 0.9778\n",
            "Epoch 115/500\n",
            "15/15 [==============================] - 0s 5ms/step - loss: 0.0857 - accuracy: 0.9810 - val_loss: 0.0463 - val_accuracy: 0.9778\n",
            "Epoch 116/500\n",
            "15/15 [==============================] - 0s 5ms/step - loss: 0.0877 - accuracy: 0.9714 - val_loss: 0.0445 - val_accuracy: 0.9778\n",
            "Epoch 117/500\n",
            "15/15 [==============================] - 0s 5ms/step - loss: 0.0906 - accuracy: 0.9714 - val_loss: 0.0470 - val_accuracy: 0.9778\n",
            "Epoch 118/500\n",
            "15/15 [==============================] - 0s 4ms/step - loss: 0.0867 - accuracy: 0.9714 - val_loss: 0.0443 - val_accuracy: 0.9778\n",
            "Epoch 119/500\n",
            "15/15 [==============================] - 0s 4ms/step - loss: 0.0849 - accuracy: 0.9714 - val_loss: 0.0449 - val_accuracy: 0.9778\n",
            "Epoch 120/500\n",
            "15/15 [==============================] - 0s 6ms/step - loss: 0.0845 - accuracy: 0.9619 - val_loss: 0.0439 - val_accuracy: 0.9778\n",
            "Epoch 121/500\n",
            "15/15 [==============================] - 0s 5ms/step - loss: 0.0881 - accuracy: 0.9619 - val_loss: 0.0513 - val_accuracy: 0.9778\n",
            "Epoch 122/500\n",
            "15/15 [==============================] - 0s 4ms/step - loss: 0.0878 - accuracy: 0.9714 - val_loss: 0.0428 - val_accuracy: 0.9778\n",
            "Epoch 123/500\n",
            "15/15 [==============================] - 0s 4ms/step - loss: 0.0846 - accuracy: 0.9714 - val_loss: 0.0416 - val_accuracy: 0.9778\n",
            "Epoch 124/500\n",
            "15/15 [==============================] - 0s 4ms/step - loss: 0.0868 - accuracy: 0.9714 - val_loss: 0.0505 - val_accuracy: 0.9778\n",
            "Epoch 125/500\n",
            "15/15 [==============================] - 0s 5ms/step - loss: 0.0866 - accuracy: 0.9619 - val_loss: 0.0411 - val_accuracy: 0.9778\n",
            "Epoch 126/500\n",
            "15/15 [==============================] - 0s 5ms/step - loss: 0.0848 - accuracy: 0.9714 - val_loss: 0.0447 - val_accuracy: 0.9778\n",
            "Epoch 127/500\n",
            "15/15 [==============================] - 0s 4ms/step - loss: 0.0867 - accuracy: 0.9619 - val_loss: 0.0415 - val_accuracy: 0.9778\n",
            "Epoch 128/500\n",
            "15/15 [==============================] - 0s 4ms/step - loss: 0.0875 - accuracy: 0.9714 - val_loss: 0.0434 - val_accuracy: 0.9778\n",
            "Epoch 129/500\n",
            "15/15 [==============================] - 0s 4ms/step - loss: 0.0871 - accuracy: 0.9714 - val_loss: 0.0413 - val_accuracy: 0.9778\n",
            "Epoch 130/500\n",
            "15/15 [==============================] - 0s 5ms/step - loss: 0.0811 - accuracy: 0.9714 - val_loss: 0.0466 - val_accuracy: 0.9778\n",
            "Epoch 131/500\n",
            "15/15 [==============================] - 0s 5ms/step - loss: 0.0821 - accuracy: 0.9714 - val_loss: 0.0414 - val_accuracy: 0.9778\n",
            "Epoch 132/500\n",
            "15/15 [==============================] - 0s 5ms/step - loss: 0.0836 - accuracy: 0.9714 - val_loss: 0.0394 - val_accuracy: 0.9778\n",
            "Epoch 133/500\n",
            "15/15 [==============================] - 0s 5ms/step - loss: 0.0814 - accuracy: 0.9619 - val_loss: 0.0422 - val_accuracy: 0.9778\n",
            "Epoch 134/500\n",
            "15/15 [==============================] - 0s 4ms/step - loss: 0.0853 - accuracy: 0.9714 - val_loss: 0.0394 - val_accuracy: 0.9778\n",
            "Epoch 135/500\n",
            "15/15 [==============================] - 0s 6ms/step - loss: 0.0859 - accuracy: 0.9619 - val_loss: 0.0503 - val_accuracy: 0.9778\n",
            "Epoch 136/500\n",
            "15/15 [==============================] - 0s 5ms/step - loss: 0.0840 - accuracy: 0.9619 - val_loss: 0.0388 - val_accuracy: 0.9778\n",
            "Epoch 137/500\n",
            "15/15 [==============================] - 0s 5ms/step - loss: 0.0953 - accuracy: 0.9619 - val_loss: 0.0421 - val_accuracy: 0.9778\n",
            "Epoch 138/500\n",
            "15/15 [==============================] - 0s 4ms/step - loss: 0.0845 - accuracy: 0.9714 - val_loss: 0.0375 - val_accuracy: 0.9778\n",
            "Epoch 139/500\n",
            "15/15 [==============================] - 0s 5ms/step - loss: 0.0985 - accuracy: 0.9619 - val_loss: 0.0472 - val_accuracy: 0.9778\n",
            "Epoch 140/500\n",
            "15/15 [==============================] - 0s 6ms/step - loss: 0.0776 - accuracy: 0.9714 - val_loss: 0.0363 - val_accuracy: 1.0000\n",
            "Epoch 141/500\n",
            "15/15 [==============================] - 0s 6ms/step - loss: 0.0813 - accuracy: 0.9714 - val_loss: 0.0428 - val_accuracy: 0.9778\n",
            "Epoch 142/500\n",
            "15/15 [==============================] - 0s 6ms/step - loss: 0.0791 - accuracy: 0.9714 - val_loss: 0.0402 - val_accuracy: 0.9778\n",
            "Epoch 143/500\n",
            "15/15 [==============================] - 0s 6ms/step - loss: 0.0787 - accuracy: 0.9810 - val_loss: 0.0409 - val_accuracy: 0.9778\n",
            "Epoch 144/500\n",
            "15/15 [==============================] - 0s 5ms/step - loss: 0.0784 - accuracy: 0.9714 - val_loss: 0.0413 - val_accuracy: 0.9778\n",
            "Epoch 145/500\n",
            "15/15 [==============================] - 0s 6ms/step - loss: 0.0846 - accuracy: 0.9619 - val_loss: 0.0429 - val_accuracy: 0.9778\n",
            "Epoch 146/500\n",
            "15/15 [==============================] - 0s 5ms/step - loss: 0.0833 - accuracy: 0.9714 - val_loss: 0.0393 - val_accuracy: 0.9778\n",
            "Epoch 147/500\n",
            "15/15 [==============================] - 0s 5ms/step - loss: 0.0817 - accuracy: 0.9714 - val_loss: 0.0366 - val_accuracy: 0.9778\n",
            "Epoch 148/500\n",
            "15/15 [==============================] - 0s 6ms/step - loss: 0.0818 - accuracy: 0.9714 - val_loss: 0.0419 - val_accuracy: 0.9778\n",
            "Epoch 149/500\n",
            "15/15 [==============================] - 0s 6ms/step - loss: 0.0802 - accuracy: 0.9714 - val_loss: 0.0448 - val_accuracy: 0.9778\n",
            "Epoch 150/500\n",
            "15/15 [==============================] - 0s 11ms/step - loss: 0.0799 - accuracy: 0.9810 - val_loss: 0.0382 - val_accuracy: 0.9778\n",
            "Epoch 151/500\n",
            "15/15 [==============================] - 0s 5ms/step - loss: 0.0792 - accuracy: 0.9714 - val_loss: 0.0360 - val_accuracy: 0.9778\n",
            "Epoch 152/500\n",
            "15/15 [==============================] - 0s 6ms/step - loss: 0.0819 - accuracy: 0.9714 - val_loss: 0.0424 - val_accuracy: 0.9778\n",
            "Epoch 153/500\n",
            "15/15 [==============================] - 0s 5ms/step - loss: 0.0818 - accuracy: 0.9714 - val_loss: 0.0404 - val_accuracy: 0.9778\n",
            "Epoch 154/500\n",
            "15/15 [==============================] - 0s 5ms/step - loss: 0.0828 - accuracy: 0.9810 - val_loss: 0.0342 - val_accuracy: 1.0000\n",
            "Epoch 155/500\n",
            "15/15 [==============================] - 0s 6ms/step - loss: 0.0849 - accuracy: 0.9619 - val_loss: 0.0451 - val_accuracy: 0.9778\n",
            "Epoch 156/500\n",
            "15/15 [==============================] - 0s 5ms/step - loss: 0.0755 - accuracy: 0.9810 - val_loss: 0.0343 - val_accuracy: 0.9778\n",
            "Epoch 157/500\n",
            "15/15 [==============================] - 0s 6ms/step - loss: 0.0842 - accuracy: 0.9714 - val_loss: 0.0385 - val_accuracy: 0.9778\n",
            "Epoch 158/500\n",
            "15/15 [==============================] - 0s 5ms/step - loss: 0.0892 - accuracy: 0.9524 - val_loss: 0.0441 - val_accuracy: 0.9778\n",
            "Epoch 159/500\n",
            "15/15 [==============================] - 0s 6ms/step - loss: 0.0907 - accuracy: 0.9619 - val_loss: 0.0332 - val_accuracy: 1.0000\n",
            "Epoch 160/500\n",
            "15/15 [==============================] - 0s 6ms/step - loss: 0.0783 - accuracy: 0.9810 - val_loss: 0.0449 - val_accuracy: 0.9778\n",
            "Epoch 161/500\n",
            "15/15 [==============================] - 0s 7ms/step - loss: 0.0809 - accuracy: 0.9810 - val_loss: 0.0358 - val_accuracy: 0.9778\n",
            "Epoch 162/500\n",
            "15/15 [==============================] - 0s 4ms/step - loss: 0.0793 - accuracy: 0.9714 - val_loss: 0.0375 - val_accuracy: 0.9778\n",
            "Epoch 163/500\n",
            "15/15 [==============================] - 0s 3ms/step - loss: 0.0766 - accuracy: 0.9714 - val_loss: 0.0371 - val_accuracy: 0.9778\n",
            "Epoch 164/500\n",
            "15/15 [==============================] - 0s 4ms/step - loss: 0.0777 - accuracy: 0.9714 - val_loss: 0.0359 - val_accuracy: 0.9778\n",
            "Epoch 165/500\n",
            "15/15 [==============================] - 0s 4ms/step - loss: 0.0777 - accuracy: 0.9810 - val_loss: 0.0406 - val_accuracy: 0.9778\n",
            "Epoch 166/500\n",
            "15/15 [==============================] - 0s 3ms/step - loss: 0.0810 - accuracy: 0.9619 - val_loss: 0.0402 - val_accuracy: 0.9778\n",
            "Epoch 167/500\n",
            "15/15 [==============================] - 0s 5ms/step - loss: 0.0778 - accuracy: 0.9714 - val_loss: 0.0408 - val_accuracy: 0.9778\n",
            "Epoch 168/500\n",
            "15/15 [==============================] - 0s 3ms/step - loss: 0.0918 - accuracy: 0.9714 - val_loss: 0.0322 - val_accuracy: 1.0000\n",
            "Epoch 169/500\n",
            "15/15 [==============================] - 0s 3ms/step - loss: 0.0925 - accuracy: 0.9524 - val_loss: 0.0484 - val_accuracy: 0.9778\n",
            "Epoch 170/500\n",
            "15/15 [==============================] - 0s 4ms/step - loss: 0.0781 - accuracy: 0.9619 - val_loss: 0.0328 - val_accuracy: 0.9778\n",
            "Epoch 171/500\n",
            "15/15 [==============================] - 0s 3ms/step - loss: 0.0892 - accuracy: 0.9524 - val_loss: 0.0415 - val_accuracy: 0.9778\n",
            "Epoch 172/500\n",
            "15/15 [==============================] - 0s 4ms/step - loss: 0.0902 - accuracy: 0.9619 - val_loss: 0.0348 - val_accuracy: 0.9778\n",
            "Epoch 173/500\n",
            "15/15 [==============================] - 0s 4ms/step - loss: 0.0736 - accuracy: 0.9714 - val_loss: 0.0410 - val_accuracy: 0.9778\n",
            "Epoch 174/500\n",
            "15/15 [==============================] - 0s 3ms/step - loss: 0.0743 - accuracy: 0.9714 - val_loss: 0.0375 - val_accuracy: 0.9778\n",
            "Epoch 175/500\n",
            "15/15 [==============================] - 0s 3ms/step - loss: 0.0760 - accuracy: 0.9714 - val_loss: 0.0398 - val_accuracy: 0.9778\n",
            "Epoch 176/500\n",
            "15/15 [==============================] - 0s 3ms/step - loss: 0.0780 - accuracy: 0.9714 - val_loss: 0.0361 - val_accuracy: 0.9778\n",
            "Epoch 177/500\n",
            "15/15 [==============================] - 0s 5ms/step - loss: 0.0751 - accuracy: 0.9714 - val_loss: 0.0362 - val_accuracy: 0.9778\n",
            "Epoch 178/500\n",
            "15/15 [==============================] - 0s 4ms/step - loss: 0.0743 - accuracy: 0.9810 - val_loss: 0.0354 - val_accuracy: 0.9778\n",
            "Epoch 179/500\n",
            "15/15 [==============================] - 0s 3ms/step - loss: 0.0750 - accuracy: 0.9810 - val_loss: 0.0372 - val_accuracy: 0.9778\n",
            "Epoch 180/500\n",
            "15/15 [==============================] - 0s 4ms/step - loss: 0.0884 - accuracy: 0.9619 - val_loss: 0.0391 - val_accuracy: 0.9778\n",
            "Epoch 181/500\n",
            "15/15 [==============================] - 0s 4ms/step - loss: 0.0914 - accuracy: 0.9619 - val_loss: 0.0334 - val_accuracy: 0.9778\n",
            "Epoch 182/500\n",
            "15/15 [==============================] - 0s 4ms/step - loss: 0.0838 - accuracy: 0.9714 - val_loss: 0.0352 - val_accuracy: 0.9778\n",
            "Epoch 183/500\n",
            "15/15 [==============================] - 0s 3ms/step - loss: 0.0763 - accuracy: 0.9714 - val_loss: 0.0336 - val_accuracy: 0.9778\n",
            "Epoch 184/500\n",
            "15/15 [==============================] - 0s 3ms/step - loss: 0.0759 - accuracy: 0.9810 - val_loss: 0.0397 - val_accuracy: 0.9778\n",
            "Epoch 185/500\n",
            "15/15 [==============================] - 0s 3ms/step - loss: 0.0752 - accuracy: 0.9714 - val_loss: 0.0393 - val_accuracy: 0.9778\n",
            "Epoch 186/500\n",
            "15/15 [==============================] - 0s 4ms/step - loss: 0.0803 - accuracy: 0.9714 - val_loss: 0.0420 - val_accuracy: 0.9778\n",
            "Epoch 187/500\n",
            "15/15 [==============================] - 0s 5ms/step - loss: 0.0704 - accuracy: 0.9714 - val_loss: 0.0305 - val_accuracy: 1.0000\n",
            "Epoch 188/500\n",
            "15/15 [==============================] - 0s 5ms/step - loss: 0.0829 - accuracy: 0.9714 - val_loss: 0.0390 - val_accuracy: 0.9778\n",
            "Epoch 189/500\n",
            "15/15 [==============================] - 0s 5ms/step - loss: 0.0792 - accuracy: 0.9619 - val_loss: 0.0373 - val_accuracy: 0.9778\n",
            "Epoch 190/500\n",
            "15/15 [==============================] - 0s 3ms/step - loss: 0.0757 - accuracy: 0.9810 - val_loss: 0.0410 - val_accuracy: 0.9778\n",
            "Epoch 191/500\n",
            "15/15 [==============================] - 0s 4ms/step - loss: 0.0776 - accuracy: 0.9714 - val_loss: 0.0354 - val_accuracy: 0.9778\n",
            "Epoch 192/500\n",
            "15/15 [==============================] - 0s 5ms/step - loss: 0.0728 - accuracy: 0.9714 - val_loss: 0.0372 - val_accuracy: 0.9778\n",
            "Epoch 193/500\n",
            "15/15 [==============================] - 0s 4ms/step - loss: 0.0815 - accuracy: 0.9619 - val_loss: 0.0331 - val_accuracy: 0.9778\n",
            "Epoch 194/500\n",
            "15/15 [==============================] - 0s 3ms/step - loss: 0.0910 - accuracy: 0.9524 - val_loss: 0.0437 - val_accuracy: 0.9778\n",
            "Epoch 195/500\n",
            "15/15 [==============================] - 0s 3ms/step - loss: 0.0688 - accuracy: 0.9714 - val_loss: 0.0302 - val_accuracy: 1.0000\n",
            "Epoch 196/500\n",
            "15/15 [==============================] - 0s 4ms/step - loss: 0.0846 - accuracy: 0.9714 - val_loss: 0.0380 - val_accuracy: 0.9778\n",
            "Epoch 197/500\n",
            "15/15 [==============================] - 0s 5ms/step - loss: 0.0829 - accuracy: 0.9810 - val_loss: 0.0395 - val_accuracy: 0.9778\n",
            "Epoch 198/500\n",
            "15/15 [==============================] - 0s 4ms/step - loss: 0.0825 - accuracy: 0.9714 - val_loss: 0.0306 - val_accuracy: 0.9778\n",
            "Epoch 199/500\n",
            "15/15 [==============================] - 0s 4ms/step - loss: 0.0760 - accuracy: 0.9714 - val_loss: 0.0502 - val_accuracy: 0.9778\n",
            "Epoch 200/500\n",
            "15/15 [==============================] - 0s 4ms/step - loss: 0.0732 - accuracy: 0.9810 - val_loss: 0.0366 - val_accuracy: 0.9778\n",
            "Epoch 201/500\n",
            "15/15 [==============================] - 0s 5ms/step - loss: 0.0749 - accuracy: 0.9619 - val_loss: 0.0296 - val_accuracy: 1.0000\n",
            "Epoch 202/500\n",
            "15/15 [==============================] - 0s 4ms/step - loss: 0.0719 - accuracy: 0.9714 - val_loss: 0.0425 - val_accuracy: 0.9778\n",
            "Epoch 203/500\n",
            "15/15 [==============================] - 0s 4ms/step - loss: 0.0848 - accuracy: 0.9619 - val_loss: 0.0351 - val_accuracy: 0.9778\n",
            "Epoch 204/500\n",
            "15/15 [==============================] - 0s 3ms/step - loss: 0.0723 - accuracy: 0.9714 - val_loss: 0.0316 - val_accuracy: 0.9778\n",
            "Epoch 205/500\n",
            "15/15 [==============================] - 0s 4ms/step - loss: 0.0744 - accuracy: 0.9714 - val_loss: 0.0329 - val_accuracy: 0.9778\n",
            "Epoch 206/500\n",
            "15/15 [==============================] - 0s 3ms/step - loss: 0.0855 - accuracy: 0.9714 - val_loss: 0.0343 - val_accuracy: 0.9778\n",
            "Epoch 207/500\n",
            "15/15 [==============================] - 0s 4ms/step - loss: 0.0798 - accuracy: 0.9714 - val_loss: 0.0368 - val_accuracy: 0.9778\n",
            "Epoch 208/500\n",
            "15/15 [==============================] - 0s 4ms/step - loss: 0.0737 - accuracy: 0.9810 - val_loss: 0.0357 - val_accuracy: 0.9778\n",
            "Epoch 209/500\n",
            "15/15 [==============================] - 0s 4ms/step - loss: 0.0717 - accuracy: 0.9714 - val_loss: 0.0385 - val_accuracy: 0.9778\n",
            "Epoch 210/500\n",
            "15/15 [==============================] - 0s 5ms/step - loss: 0.0719 - accuracy: 0.9714 - val_loss: 0.0336 - val_accuracy: 0.9778\n",
            "Epoch 211/500\n",
            "15/15 [==============================] - 0s 5ms/step - loss: 0.0745 - accuracy: 0.9714 - val_loss: 0.0329 - val_accuracy: 0.9778\n",
            "Epoch 212/500\n",
            "15/15 [==============================] - 0s 4ms/step - loss: 0.0700 - accuracy: 0.9714 - val_loss: 0.0417 - val_accuracy: 0.9778\n",
            "Epoch 213/500\n",
            "15/15 [==============================] - 0s 3ms/step - loss: 0.0885 - accuracy: 0.9619 - val_loss: 0.0363 - val_accuracy: 0.9778\n",
            "Epoch 214/500\n",
            "15/15 [==============================] - 0s 3ms/step - loss: 0.0737 - accuracy: 0.9714 - val_loss: 0.0412 - val_accuracy: 0.9778\n",
            "Epoch 215/500\n",
            "15/15 [==============================] - 0s 4ms/step - loss: 0.0729 - accuracy: 0.9714 - val_loss: 0.0308 - val_accuracy: 0.9778\n",
            "Epoch 216/500\n",
            "15/15 [==============================] - 0s 4ms/step - loss: 0.0760 - accuracy: 0.9810 - val_loss: 0.0319 - val_accuracy: 0.9778\n",
            "Epoch 217/500\n",
            "15/15 [==============================] - 0s 3ms/step - loss: 0.0736 - accuracy: 0.9714 - val_loss: 0.0376 - val_accuracy: 0.9778\n",
            "Epoch 218/500\n",
            "15/15 [==============================] - 0s 4ms/step - loss: 0.0740 - accuracy: 0.9714 - val_loss: 0.0366 - val_accuracy: 0.9778\n",
            "Epoch 219/500\n",
            "15/15 [==============================] - 0s 4ms/step - loss: 0.0710 - accuracy: 0.9714 - val_loss: 0.0354 - val_accuracy: 0.9778\n",
            "Epoch 220/500\n",
            "15/15 [==============================] - 0s 3ms/step - loss: 0.0723 - accuracy: 0.9714 - val_loss: 0.0325 - val_accuracy: 0.9778\n",
            "Epoch 221/500\n",
            "15/15 [==============================] - 0s 3ms/step - loss: 0.0700 - accuracy: 0.9810 - val_loss: 0.0339 - val_accuracy: 0.9778\n",
            "Epoch 222/500\n",
            "15/15 [==============================] - 0s 3ms/step - loss: 0.0698 - accuracy: 0.9810 - val_loss: 0.0360 - val_accuracy: 0.9778\n",
            "Epoch 223/500\n",
            "15/15 [==============================] - 0s 5ms/step - loss: 0.0741 - accuracy: 0.9714 - val_loss: 0.0375 - val_accuracy: 0.9778\n",
            "Epoch 224/500\n",
            "15/15 [==============================] - 0s 3ms/step - loss: 0.0701 - accuracy: 0.9714 - val_loss: 0.0350 - val_accuracy: 0.9778\n",
            "Epoch 225/500\n",
            "15/15 [==============================] - 0s 4ms/step - loss: 0.0718 - accuracy: 0.9714 - val_loss: 0.0395 - val_accuracy: 0.9778\n",
            "Epoch 226/500\n",
            "15/15 [==============================] - 0s 3ms/step - loss: 0.0746 - accuracy: 0.9810 - val_loss: 0.0325 - val_accuracy: 0.9778\n",
            "Epoch 227/500\n",
            "15/15 [==============================] - 0s 4ms/step - loss: 0.0714 - accuracy: 0.9810 - val_loss: 0.0405 - val_accuracy: 0.9778\n",
            "Epoch 228/500\n",
            "15/15 [==============================] - 0s 5ms/step - loss: 0.0728 - accuracy: 0.9714 - val_loss: 0.0300 - val_accuracy: 0.9778\n",
            "Epoch 229/500\n",
            "15/15 [==============================] - 0s 3ms/step - loss: 0.0703 - accuracy: 0.9714 - val_loss: 0.0356 - val_accuracy: 0.9778\n",
            "Epoch 230/500\n",
            "15/15 [==============================] - 0s 5ms/step - loss: 0.0723 - accuracy: 0.9714 - val_loss: 0.0409 - val_accuracy: 0.9778\n",
            "Epoch 231/500\n",
            "15/15 [==============================] - 0s 3ms/step - loss: 0.0792 - accuracy: 0.9714 - val_loss: 0.0341 - val_accuracy: 0.9778\n",
            "Epoch 232/500\n",
            "15/15 [==============================] - 0s 4ms/step - loss: 0.0804 - accuracy: 0.9714 - val_loss: 0.0448 - val_accuracy: 0.9778\n",
            "Epoch 233/500\n",
            "15/15 [==============================] - 0s 3ms/step - loss: 0.0641 - accuracy: 0.9810 - val_loss: 0.0287 - val_accuracy: 0.9778\n",
            "Epoch 234/500\n",
            "15/15 [==============================] - 0s 3ms/step - loss: 0.0784 - accuracy: 0.9714 - val_loss: 0.0387 - val_accuracy: 0.9778\n",
            "Epoch 235/500\n",
            "15/15 [==============================] - 0s 4ms/step - loss: 0.0753 - accuracy: 0.9810 - val_loss: 0.0450 - val_accuracy: 0.9778\n",
            "Epoch 236/500\n",
            "15/15 [==============================] - 0s 4ms/step - loss: 0.0744 - accuracy: 0.9810 - val_loss: 0.0291 - val_accuracy: 0.9778\n",
            "Epoch 237/500\n",
            "15/15 [==============================] - 0s 3ms/step - loss: 0.0674 - accuracy: 0.9714 - val_loss: 0.0427 - val_accuracy: 0.9778\n",
            "Epoch 238/500\n",
            "15/15 [==============================] - 0s 4ms/step - loss: 0.0731 - accuracy: 0.9810 - val_loss: 0.0388 - val_accuracy: 0.9778\n",
            "Epoch 239/500\n",
            "15/15 [==============================] - 0s 3ms/step - loss: 0.0759 - accuracy: 0.9714 - val_loss: 0.0279 - val_accuracy: 1.0000\n",
            "Epoch 240/500\n",
            "15/15 [==============================] - 0s 3ms/step - loss: 0.0699 - accuracy: 0.9714 - val_loss: 0.0374 - val_accuracy: 0.9778\n",
            "Epoch 241/500\n",
            "15/15 [==============================] - 0s 6ms/step - loss: 0.0695 - accuracy: 0.9714 - val_loss: 0.0365 - val_accuracy: 0.9778\n",
            "Epoch 242/500\n",
            "15/15 [==============================] - 0s 4ms/step - loss: 0.0720 - accuracy: 0.9714 - val_loss: 0.0374 - val_accuracy: 0.9778\n",
            "Epoch 243/500\n",
            "15/15 [==============================] - 0s 3ms/step - loss: 0.0757 - accuracy: 0.9714 - val_loss: 0.0371 - val_accuracy: 0.9778\n",
            "Epoch 244/500\n",
            "15/15 [==============================] - 0s 4ms/step - loss: 0.0705 - accuracy: 0.9810 - val_loss: 0.0329 - val_accuracy: 0.9778\n",
            "Epoch 245/500\n",
            "15/15 [==============================] - 0s 4ms/step - loss: 0.0700 - accuracy: 0.9810 - val_loss: 0.0352 - val_accuracy: 0.9778\n",
            "Epoch 246/500\n",
            "15/15 [==============================] - 0s 3ms/step - loss: 0.0755 - accuracy: 0.9619 - val_loss: 0.0317 - val_accuracy: 0.9778\n",
            "Epoch 247/500\n",
            "15/15 [==============================] - 0s 5ms/step - loss: 0.0840 - accuracy: 0.9714 - val_loss: 0.0366 - val_accuracy: 0.9778\n",
            "Epoch 248/500\n",
            "15/15 [==============================] - 0s 3ms/step - loss: 0.0700 - accuracy: 0.9810 - val_loss: 0.0321 - val_accuracy: 0.9778\n",
            "Epoch 249/500\n",
            "15/15 [==============================] - 0s 4ms/step - loss: 0.0706 - accuracy: 0.9714 - val_loss: 0.0382 - val_accuracy: 0.9778\n",
            "Epoch 250/500\n",
            "15/15 [==============================] - 0s 5ms/step - loss: 0.0703 - accuracy: 0.9714 - val_loss: 0.0317 - val_accuracy: 0.9778\n",
            "Epoch 251/500\n",
            "15/15 [==============================] - 0s 4ms/step - loss: 0.0806 - accuracy: 0.9714 - val_loss: 0.0428 - val_accuracy: 0.9778\n",
            "Epoch 252/500\n",
            "15/15 [==============================] - 0s 4ms/step - loss: 0.0653 - accuracy: 0.9905 - val_loss: 0.0298 - val_accuracy: 0.9778\n",
            "Epoch 253/500\n",
            "15/15 [==============================] - 0s 4ms/step - loss: 0.0708 - accuracy: 0.9810 - val_loss: 0.0313 - val_accuracy: 0.9778\n",
            "Epoch 254/500\n",
            "15/15 [==============================] - 0s 5ms/step - loss: 0.0685 - accuracy: 0.9714 - val_loss: 0.0361 - val_accuracy: 0.9778\n",
            "Epoch 255/500\n",
            "15/15 [==============================] - 0s 4ms/step - loss: 0.0723 - accuracy: 0.9714 - val_loss: 0.0403 - val_accuracy: 0.9778\n",
            "Epoch 256/500\n",
            "15/15 [==============================] - 0s 4ms/step - loss: 0.0672 - accuracy: 0.9714 - val_loss: 0.0321 - val_accuracy: 0.9778\n",
            "Epoch 257/500\n",
            "15/15 [==============================] - 0s 3ms/step - loss: 0.0716 - accuracy: 0.9714 - val_loss: 0.0360 - val_accuracy: 0.9778\n",
            "Epoch 258/500\n",
            "15/15 [==============================] - 0s 5ms/step - loss: 0.0684 - accuracy: 0.9714 - val_loss: 0.0314 - val_accuracy: 0.9778\n",
            "Epoch 259/500\n",
            "15/15 [==============================] - 0s 3ms/step - loss: 0.0723 - accuracy: 0.9714 - val_loss: 0.0338 - val_accuracy: 0.9778\n",
            "Epoch 260/500\n",
            "15/15 [==============================] - 0s 3ms/step - loss: 0.0748 - accuracy: 0.9714 - val_loss: 0.0342 - val_accuracy: 0.9778\n",
            "Epoch 261/500\n",
            "15/15 [==============================] - 0s 4ms/step - loss: 0.0749 - accuracy: 0.9714 - val_loss: 0.0429 - val_accuracy: 0.9778\n",
            "Epoch 262/500\n",
            "15/15 [==============================] - 0s 3ms/step - loss: 0.0657 - accuracy: 0.9714 - val_loss: 0.0289 - val_accuracy: 0.9778\n",
            "Epoch 263/500\n",
            "15/15 [==============================] - 0s 3ms/step - loss: 0.0716 - accuracy: 0.9714 - val_loss: 0.0334 - val_accuracy: 0.9778\n",
            "Epoch 264/500\n",
            "15/15 [==============================] - 0s 4ms/step - loss: 0.0723 - accuracy: 0.9714 - val_loss: 0.0417 - val_accuracy: 0.9778\n",
            "Epoch 265/500\n",
            "15/15 [==============================] - 0s 4ms/step - loss: 0.0689 - accuracy: 0.9810 - val_loss: 0.0308 - val_accuracy: 0.9778\n",
            "Epoch 266/500\n",
            "15/15 [==============================] - 0s 5ms/step - loss: 0.0766 - accuracy: 0.9714 - val_loss: 0.0341 - val_accuracy: 0.9778\n",
            "Epoch 267/500\n",
            "15/15 [==============================] - 0s 4ms/step - loss: 0.0672 - accuracy: 0.9714 - val_loss: 0.0311 - val_accuracy: 0.9778\n",
            "Epoch 268/500\n",
            "15/15 [==============================] - 0s 4ms/step - loss: 0.0691 - accuracy: 0.9810 - val_loss: 0.0309 - val_accuracy: 0.9778\n",
            "Epoch 269/500\n",
            "15/15 [==============================] - 0s 4ms/step - loss: 0.0751 - accuracy: 0.9714 - val_loss: 0.0433 - val_accuracy: 0.9778\n",
            "Epoch 270/500\n",
            "15/15 [==============================] - 0s 5ms/step - loss: 0.0630 - accuracy: 0.9905 - val_loss: 0.0304 - val_accuracy: 0.9778\n",
            "Epoch 271/500\n",
            "15/15 [==============================] - 0s 4ms/step - loss: 0.0752 - accuracy: 0.9714 - val_loss: 0.0324 - val_accuracy: 0.9778\n",
            "Epoch 272/500\n",
            "15/15 [==============================] - 0s 5ms/step - loss: 0.0710 - accuracy: 0.9714 - val_loss: 0.0360 - val_accuracy: 0.9778\n",
            "Epoch 273/500\n",
            "15/15 [==============================] - 0s 4ms/step - loss: 0.0737 - accuracy: 0.9810 - val_loss: 0.0373 - val_accuracy: 0.9778\n",
            "Epoch 274/500\n",
            "15/15 [==============================] - 0s 3ms/step - loss: 0.0639 - accuracy: 0.9810 - val_loss: 0.0296 - val_accuracy: 0.9778\n",
            "Epoch 275/500\n",
            "15/15 [==============================] - 0s 4ms/step - loss: 0.0761 - accuracy: 0.9714 - val_loss: 0.0344 - val_accuracy: 0.9778\n",
            "Epoch 276/500\n",
            "15/15 [==============================] - 0s 4ms/step - loss: 0.0725 - accuracy: 0.9714 - val_loss: 0.0383 - val_accuracy: 0.9778\n",
            "Epoch 277/500\n",
            "15/15 [==============================] - 0s 4ms/step - loss: 0.0658 - accuracy: 0.9714 - val_loss: 0.0341 - val_accuracy: 0.9778\n",
            "Epoch 278/500\n",
            "15/15 [==============================] - 0s 4ms/step - loss: 0.0712 - accuracy: 0.9714 - val_loss: 0.0291 - val_accuracy: 0.9778\n",
            "Epoch 279/500\n",
            "15/15 [==============================] - 0s 4ms/step - loss: 0.0698 - accuracy: 0.9905 - val_loss: 0.0403 - val_accuracy: 0.9778\n",
            "Epoch 280/500\n",
            "15/15 [==============================] - 0s 5ms/step - loss: 0.0665 - accuracy: 0.9714 - val_loss: 0.0334 - val_accuracy: 0.9778\n",
            "Epoch 281/500\n",
            "15/15 [==============================] - 0s 3ms/step - loss: 0.0691 - accuracy: 0.9714 - val_loss: 0.0345 - val_accuracy: 0.9778\n",
            "Epoch 282/500\n",
            "15/15 [==============================] - 0s 3ms/step - loss: 0.0712 - accuracy: 0.9810 - val_loss: 0.0447 - val_accuracy: 0.9778\n",
            "Epoch 283/500\n",
            "15/15 [==============================] - 0s 3ms/step - loss: 0.0664 - accuracy: 0.9810 - val_loss: 0.0303 - val_accuracy: 0.9778\n",
            "Epoch 284/500\n",
            "15/15 [==============================] - 0s 5ms/step - loss: 0.0677 - accuracy: 0.9810 - val_loss: 0.0352 - val_accuracy: 0.9778\n",
            "Epoch 285/500\n",
            "15/15 [==============================] - 0s 4ms/step - loss: 0.0690 - accuracy: 0.9714 - val_loss: 0.0377 - val_accuracy: 0.9778\n",
            "Epoch 286/500\n",
            "15/15 [==============================] - 0s 3ms/step - loss: 0.0775 - accuracy: 0.9714 - val_loss: 0.0288 - val_accuracy: 0.9778\n",
            "Epoch 287/500\n",
            "15/15 [==============================] - 0s 4ms/step - loss: 0.0643 - accuracy: 0.9714 - val_loss: 0.0407 - val_accuracy: 0.9778\n",
            "Epoch 288/500\n",
            "15/15 [==============================] - 0s 4ms/step - loss: 0.0773 - accuracy: 0.9810 - val_loss: 0.0326 - val_accuracy: 0.9778\n",
            "Epoch 289/500\n",
            "15/15 [==============================] - 0s 4ms/step - loss: 0.0721 - accuracy: 0.9714 - val_loss: 0.0267 - val_accuracy: 0.9778\n",
            "Epoch 290/500\n",
            "15/15 [==============================] - 0s 5ms/step - loss: 0.0696 - accuracy: 0.9810 - val_loss: 0.0462 - val_accuracy: 0.9778\n",
            "Epoch 291/500\n",
            "15/15 [==============================] - 0s 4ms/step - loss: 0.0768 - accuracy: 0.9714 - val_loss: 0.0329 - val_accuracy: 0.9778\n",
            "Epoch 292/500\n",
            "15/15 [==============================] - 0s 5ms/step - loss: 0.0709 - accuracy: 0.9714 - val_loss: 0.0331 - val_accuracy: 0.9778\n",
            "Epoch 293/500\n",
            "15/15 [==============================] - 0s 4ms/step - loss: 0.0678 - accuracy: 0.9714 - val_loss: 0.0365 - val_accuracy: 0.9778\n",
            "Epoch 294/500\n",
            "15/15 [==============================] - 0s 4ms/step - loss: 0.0682 - accuracy: 0.9810 - val_loss: 0.0335 - val_accuracy: 0.9778\n",
            "Epoch 295/500\n",
            "15/15 [==============================] - 0s 5ms/step - loss: 0.0649 - accuracy: 0.9714 - val_loss: 0.0374 - val_accuracy: 0.9778\n",
            "Epoch 296/500\n",
            "15/15 [==============================] - 0s 5ms/step - loss: 0.0657 - accuracy: 0.9714 - val_loss: 0.0337 - val_accuracy: 0.9778\n",
            "Epoch 297/500\n",
            "15/15 [==============================] - 0s 4ms/step - loss: 0.0675 - accuracy: 0.9714 - val_loss: 0.0365 - val_accuracy: 0.9778\n",
            "Epoch 298/500\n",
            "15/15 [==============================] - 0s 3ms/step - loss: 0.0677 - accuracy: 0.9810 - val_loss: 0.0328 - val_accuracy: 0.9778\n",
            "Epoch 299/500\n",
            "15/15 [==============================] - 0s 5ms/step - loss: 0.0655 - accuracy: 0.9714 - val_loss: 0.0343 - val_accuracy: 0.9778\n",
            "Epoch 300/500\n",
            "15/15 [==============================] - 0s 5ms/step - loss: 0.0797 - accuracy: 0.9714 - val_loss: 0.0309 - val_accuracy: 0.9778\n",
            "Epoch 301/500\n",
            "15/15 [==============================] - 0s 3ms/step - loss: 0.0761 - accuracy: 0.9714 - val_loss: 0.0257 - val_accuracy: 1.0000\n",
            "Epoch 302/500\n",
            "15/15 [==============================] - 0s 4ms/step - loss: 0.0649 - accuracy: 0.9810 - val_loss: 0.0459 - val_accuracy: 0.9778\n",
            "Epoch 303/500\n",
            "15/15 [==============================] - 0s 5ms/step - loss: 0.0735 - accuracy: 0.9619 - val_loss: 0.0367 - val_accuracy: 0.9778\n",
            "Epoch 304/500\n",
            "15/15 [==============================] - 0s 4ms/step - loss: 0.0747 - accuracy: 0.9714 - val_loss: 0.0329 - val_accuracy: 0.9778\n",
            "Epoch 305/500\n",
            "15/15 [==============================] - 0s 4ms/step - loss: 0.0660 - accuracy: 0.9714 - val_loss: 0.0373 - val_accuracy: 0.9778\n",
            "Epoch 306/500\n",
            "15/15 [==============================] - 0s 4ms/step - loss: 0.0657 - accuracy: 0.9714 - val_loss: 0.0340 - val_accuracy: 0.9778\n",
            "Epoch 307/500\n",
            "15/15 [==============================] - 0s 4ms/step - loss: 0.0702 - accuracy: 0.9714 - val_loss: 0.0349 - val_accuracy: 0.9778\n",
            "Epoch 308/500\n",
            "15/15 [==============================] - 0s 4ms/step - loss: 0.0764 - accuracy: 0.9714 - val_loss: 0.0285 - val_accuracy: 0.9778\n",
            "Epoch 309/500\n",
            "15/15 [==============================] - 0s 4ms/step - loss: 0.0737 - accuracy: 0.9810 - val_loss: 0.0475 - val_accuracy: 0.9778\n",
            "Epoch 310/500\n",
            "15/15 [==============================] - 0s 3ms/step - loss: 0.0684 - accuracy: 0.9810 - val_loss: 0.0313 - val_accuracy: 0.9778\n",
            "Epoch 311/500\n",
            "15/15 [==============================] - 0s 4ms/step - loss: 0.0726 - accuracy: 0.9810 - val_loss: 0.0379 - val_accuracy: 0.9778\n",
            "Epoch 312/500\n",
            "15/15 [==============================] - 0s 4ms/step - loss: 0.0659 - accuracy: 0.9714 - val_loss: 0.0328 - val_accuracy: 0.9778\n",
            "Epoch 313/500\n",
            "15/15 [==============================] - 0s 4ms/step - loss: 0.0712 - accuracy: 0.9714 - val_loss: 0.0376 - val_accuracy: 0.9778\n",
            "Epoch 314/500\n",
            "15/15 [==============================] - 0s 5ms/step - loss: 0.0767 - accuracy: 0.9714 - val_loss: 0.0356 - val_accuracy: 0.9778\n",
            "Epoch 315/500\n",
            "15/15 [==============================] - 0s 4ms/step - loss: 0.0909 - accuracy: 0.9619 - val_loss: 0.0250 - val_accuracy: 1.0000\n",
            "Epoch 316/500\n",
            "15/15 [==============================] - 0s 3ms/step - loss: 0.0663 - accuracy: 0.9905 - val_loss: 0.0481 - val_accuracy: 0.9778\n",
            "Epoch 317/500\n",
            "15/15 [==============================] - 0s 3ms/step - loss: 0.0700 - accuracy: 0.9714 - val_loss: 0.0315 - val_accuracy: 0.9778\n",
            "Epoch 318/500\n",
            "15/15 [==============================] - 0s 4ms/step - loss: 0.0663 - accuracy: 0.9810 - val_loss: 0.0333 - val_accuracy: 0.9778\n",
            "Epoch 319/500\n",
            "15/15 [==============================] - 0s 4ms/step - loss: 0.0668 - accuracy: 0.9810 - val_loss: 0.0393 - val_accuracy: 0.9778\n",
            "Epoch 320/500\n",
            "15/15 [==============================] - 0s 4ms/step - loss: 0.0717 - accuracy: 0.9714 - val_loss: 0.0346 - val_accuracy: 0.9778\n",
            "Epoch 321/500\n",
            "15/15 [==============================] - 0s 3ms/step - loss: 0.0782 - accuracy: 0.9714 - val_loss: 0.0371 - val_accuracy: 0.9778\n",
            "Epoch 322/500\n",
            "15/15 [==============================] - 0s 4ms/step - loss: 0.0672 - accuracy: 0.9810 - val_loss: 0.0279 - val_accuracy: 0.9778\n",
            "Epoch 323/500\n",
            "15/15 [==============================] - 0s 4ms/step - loss: 0.0671 - accuracy: 0.9714 - val_loss: 0.0345 - val_accuracy: 0.9778\n",
            "Epoch 324/500\n",
            "15/15 [==============================] - 0s 3ms/step - loss: 0.0679 - accuracy: 0.9714 - val_loss: 0.0360 - val_accuracy: 0.9778\n",
            "Epoch 325/500\n",
            "15/15 [==============================] - 0s 4ms/step - loss: 0.0716 - accuracy: 0.9810 - val_loss: 0.0457 - val_accuracy: 0.9778\n",
            "Epoch 326/500\n",
            "15/15 [==============================] - 0s 3ms/step - loss: 0.0615 - accuracy: 0.9810 - val_loss: 0.0274 - val_accuracy: 0.9778\n",
            "Epoch 327/500\n",
            "15/15 [==============================] - 0s 3ms/step - loss: 0.0717 - accuracy: 0.9714 - val_loss: 0.0292 - val_accuracy: 0.9778\n",
            "Epoch 328/500\n",
            "15/15 [==============================] - 0s 4ms/step - loss: 0.0680 - accuracy: 0.9714 - val_loss: 0.0360 - val_accuracy: 0.9778\n",
            "Epoch 329/500\n",
            "15/15 [==============================] - 0s 4ms/step - loss: 0.0659 - accuracy: 0.9714 - val_loss: 0.0315 - val_accuracy: 0.9778\n",
            "Epoch 330/500\n",
            "15/15 [==============================] - 0s 3ms/step - loss: 0.0675 - accuracy: 0.9714 - val_loss: 0.0351 - val_accuracy: 0.9778\n",
            "Epoch 331/500\n",
            "15/15 [==============================] - 0s 4ms/step - loss: 0.0773 - accuracy: 0.9714 - val_loss: 0.0301 - val_accuracy: 0.9778\n",
            "Epoch 332/500\n",
            "15/15 [==============================] - 0s 4ms/step - loss: 0.0657 - accuracy: 0.9905 - val_loss: 0.0440 - val_accuracy: 0.9778\n",
            "Epoch 333/500\n",
            "15/15 [==============================] - 0s 4ms/step - loss: 0.0679 - accuracy: 0.9810 - val_loss: 0.0304 - val_accuracy: 0.9778\n",
            "Epoch 334/500\n",
            "15/15 [==============================] - 0s 5ms/step - loss: 0.0639 - accuracy: 0.9714 - val_loss: 0.0368 - val_accuracy: 0.9778\n",
            "Epoch 335/500\n",
            "15/15 [==============================] - 0s 4ms/step - loss: 0.0754 - accuracy: 0.9714 - val_loss: 0.0314 - val_accuracy: 0.9778\n",
            "Epoch 336/500\n",
            "15/15 [==============================] - 0s 3ms/step - loss: 0.0603 - accuracy: 0.9714 - val_loss: 0.0424 - val_accuracy: 0.9778\n",
            "Epoch 337/500\n",
            "15/15 [==============================] - 0s 4ms/step - loss: 0.0793 - accuracy: 0.9524 - val_loss: 0.0314 - val_accuracy: 0.9778\n",
            "Epoch 338/500\n",
            "15/15 [==============================] - 0s 3ms/step - loss: 0.0744 - accuracy: 0.9714 - val_loss: 0.0302 - val_accuracy: 0.9778\n",
            "Epoch 339/500\n",
            "15/15 [==============================] - 0s 4ms/step - loss: 0.0668 - accuracy: 0.9905 - val_loss: 0.0494 - val_accuracy: 0.9778\n",
            "Epoch 340/500\n",
            "15/15 [==============================] - 0s 5ms/step - loss: 0.0648 - accuracy: 0.9714 - val_loss: 0.0327 - val_accuracy: 0.9778\n",
            "Epoch 341/500\n",
            "15/15 [==============================] - 0s 4ms/step - loss: 0.0665 - accuracy: 0.9714 - val_loss: 0.0343 - val_accuracy: 0.9778\n",
            "Epoch 342/500\n",
            "15/15 [==============================] - 0s 5ms/step - loss: 0.0681 - accuracy: 0.9714 - val_loss: 0.0394 - val_accuracy: 0.9778\n",
            "Epoch 343/500\n",
            "15/15 [==============================] - 0s 3ms/step - loss: 0.0643 - accuracy: 0.9714 - val_loss: 0.0342 - val_accuracy: 0.9778\n",
            "Epoch 344/500\n",
            "15/15 [==============================] - 0s 5ms/step - loss: 0.0633 - accuracy: 0.9714 - val_loss: 0.0311 - val_accuracy: 0.9778\n",
            "Epoch 345/500\n",
            "15/15 [==============================] - 0s 4ms/step - loss: 0.0712 - accuracy: 0.9714 - val_loss: 0.0388 - val_accuracy: 0.9778\n",
            "Epoch 346/500\n",
            "15/15 [==============================] - 0s 5ms/step - loss: 0.0683 - accuracy: 0.9714 - val_loss: 0.0346 - val_accuracy: 0.9778\n",
            "Epoch 347/500\n",
            "15/15 [==============================] - 0s 4ms/step - loss: 0.0636 - accuracy: 0.9714 - val_loss: 0.0340 - val_accuracy: 0.9778\n",
            "Epoch 348/500\n",
            "15/15 [==============================] - 0s 4ms/step - loss: 0.0727 - accuracy: 0.9810 - val_loss: 0.0352 - val_accuracy: 0.9778\n",
            "Epoch 349/500\n",
            "15/15 [==============================] - 0s 4ms/step - loss: 0.0648 - accuracy: 0.9810 - val_loss: 0.0278 - val_accuracy: 0.9778\n",
            "Epoch 350/500\n",
            "15/15 [==============================] - 0s 5ms/step - loss: 0.0692 - accuracy: 0.9714 - val_loss: 0.0372 - val_accuracy: 0.9778\n",
            "Epoch 351/500\n",
            "15/15 [==============================] - 0s 3ms/step - loss: 0.0720 - accuracy: 0.9810 - val_loss: 0.0289 - val_accuracy: 0.9778\n",
            "Epoch 352/500\n",
            "15/15 [==============================] - 0s 5ms/step - loss: 0.0622 - accuracy: 0.9714 - val_loss: 0.0455 - val_accuracy: 0.9778\n",
            "Epoch 353/500\n",
            "15/15 [==============================] - 0s 3ms/step - loss: 0.0696 - accuracy: 0.9714 - val_loss: 0.0366 - val_accuracy: 0.9778\n",
            "Epoch 354/500\n",
            "15/15 [==============================] - 0s 4ms/step - loss: 0.0642 - accuracy: 0.9714 - val_loss: 0.0362 - val_accuracy: 0.9778\n",
            "Epoch 355/500\n",
            "15/15 [==============================] - 0s 4ms/step - loss: 0.0665 - accuracy: 0.9714 - val_loss: 0.0345 - val_accuracy: 0.9778\n",
            "Epoch 356/500\n",
            "15/15 [==============================] - 0s 3ms/step - loss: 0.0638 - accuracy: 0.9714 - val_loss: 0.0368 - val_accuracy: 0.9778\n",
            "Epoch 357/500\n",
            "15/15 [==============================] - 0s 4ms/step - loss: 0.0645 - accuracy: 0.9714 - val_loss: 0.0375 - val_accuracy: 0.9778\n",
            "Epoch 358/500\n",
            "15/15 [==============================] - 0s 3ms/step - loss: 0.0673 - accuracy: 0.9810 - val_loss: 0.0317 - val_accuracy: 0.9778\n",
            "Epoch 359/500\n",
            "15/15 [==============================] - 0s 4ms/step - loss: 0.0631 - accuracy: 0.9714 - val_loss: 0.0388 - val_accuracy: 0.9778\n",
            "Epoch 360/500\n",
            "15/15 [==============================] - 0s 3ms/step - loss: 0.0642 - accuracy: 0.9714 - val_loss: 0.0310 - val_accuracy: 0.9778\n",
            "Epoch 361/500\n",
            "15/15 [==============================] - 0s 4ms/step - loss: 0.0773 - accuracy: 0.9810 - val_loss: 0.0340 - val_accuracy: 0.9778\n",
            "Epoch 362/500\n",
            "15/15 [==============================] - 0s 4ms/step - loss: 0.0625 - accuracy: 0.9714 - val_loss: 0.0400 - val_accuracy: 0.9778\n",
            "Epoch 363/500\n",
            "15/15 [==============================] - 0s 5ms/step - loss: 0.0641 - accuracy: 0.9714 - val_loss: 0.0370 - val_accuracy: 0.9778\n",
            "Epoch 364/500\n",
            "15/15 [==============================] - 0s 4ms/step - loss: 0.0705 - accuracy: 0.9714 - val_loss: 0.0407 - val_accuracy: 0.9778\n",
            "Epoch 365/500\n",
            "15/15 [==============================] - 0s 4ms/step - loss: 0.0670 - accuracy: 0.9810 - val_loss: 0.0251 - val_accuracy: 0.9778\n",
            "Epoch 366/500\n",
            "15/15 [==============================] - 0s 5ms/step - loss: 0.0764 - accuracy: 0.9619 - val_loss: 0.0429 - val_accuracy: 0.9778\n",
            "Epoch 367/500\n",
            "15/15 [==============================] - 0s 5ms/step - loss: 0.0625 - accuracy: 0.9714 - val_loss: 0.0321 - val_accuracy: 0.9778\n",
            "Epoch 368/500\n",
            "15/15 [==============================] - 0s 5ms/step - loss: 0.0657 - accuracy: 0.9714 - val_loss: 0.0297 - val_accuracy: 0.9778\n",
            "Epoch 369/500\n",
            "15/15 [==============================] - 0s 4ms/step - loss: 0.0627 - accuracy: 0.9810 - val_loss: 0.0404 - val_accuracy: 0.9778\n",
            "Epoch 370/500\n",
            "15/15 [==============================] - 0s 4ms/step - loss: 0.0663 - accuracy: 0.9810 - val_loss: 0.0326 - val_accuracy: 0.9778\n",
            "Epoch 371/500\n",
            "15/15 [==============================] - 0s 4ms/step - loss: 0.0644 - accuracy: 0.9714 - val_loss: 0.0450 - val_accuracy: 0.9778\n",
            "Epoch 372/500\n",
            "15/15 [==============================] - 0s 3ms/step - loss: 0.0751 - accuracy: 0.9714 - val_loss: 0.0370 - val_accuracy: 0.9778\n",
            "Epoch 373/500\n",
            "15/15 [==============================] - 0s 4ms/step - loss: 0.0706 - accuracy: 0.9810 - val_loss: 0.0279 - val_accuracy: 0.9778\n",
            "Epoch 374/500\n",
            "15/15 [==============================] - 0s 5ms/step - loss: 0.0626 - accuracy: 0.9810 - val_loss: 0.0406 - val_accuracy: 0.9778\n",
            "Epoch 375/500\n",
            "15/15 [==============================] - 0s 5ms/step - loss: 0.0636 - accuracy: 0.9714 - val_loss: 0.0354 - val_accuracy: 0.9778\n",
            "Epoch 376/500\n",
            "15/15 [==============================] - 0s 3ms/step - loss: 0.0661 - accuracy: 0.9810 - val_loss: 0.0319 - val_accuracy: 0.9778\n",
            "Epoch 377/500\n",
            "15/15 [==============================] - 0s 3ms/step - loss: 0.0733 - accuracy: 0.9714 - val_loss: 0.0275 - val_accuracy: 0.9778\n",
            "Epoch 378/500\n",
            "15/15 [==============================] - 0s 4ms/step - loss: 0.0602 - accuracy: 0.9810 - val_loss: 0.0418 - val_accuracy: 0.9778\n",
            "Epoch 379/500\n",
            "15/15 [==============================] - 0s 4ms/step - loss: 0.0675 - accuracy: 0.9810 - val_loss: 0.0342 - val_accuracy: 0.9778\n",
            "Epoch 380/500\n",
            "15/15 [==============================] - 0s 3ms/step - loss: 0.0845 - accuracy: 0.9619 - val_loss: 0.0252 - val_accuracy: 0.9778\n",
            "Epoch 381/500\n",
            "15/15 [==============================] - 0s 5ms/step - loss: 0.0916 - accuracy: 0.9619 - val_loss: 0.0415 - val_accuracy: 0.9778\n",
            "Epoch 382/500\n",
            "15/15 [==============================] - 0s 4ms/step - loss: 0.0762 - accuracy: 0.9714 - val_loss: 0.0261 - val_accuracy: 0.9778\n",
            "Epoch 383/500\n",
            "15/15 [==============================] - 0s 4ms/step - loss: 0.0735 - accuracy: 0.9714 - val_loss: 0.0407 - val_accuracy: 0.9778\n",
            "Epoch 384/500\n",
            "15/15 [==============================] - 0s 3ms/step - loss: 0.0760 - accuracy: 0.9714 - val_loss: 0.0342 - val_accuracy: 0.9778\n",
            "Epoch 385/500\n",
            "15/15 [==============================] - 0s 5ms/step - loss: 0.0641 - accuracy: 0.9810 - val_loss: 0.0375 - val_accuracy: 0.9778\n",
            "Epoch 386/500\n",
            "15/15 [==============================] - 0s 4ms/step - loss: 0.0652 - accuracy: 0.9810 - val_loss: 0.0340 - val_accuracy: 0.9778\n",
            "Epoch 387/500\n",
            "15/15 [==============================] - 0s 3ms/step - loss: 0.0632 - accuracy: 0.9810 - val_loss: 0.0317 - val_accuracy: 0.9778\n",
            "Epoch 388/500\n",
            "15/15 [==============================] - 0s 4ms/step - loss: 0.0629 - accuracy: 0.9714 - val_loss: 0.0336 - val_accuracy: 0.9778\n",
            "Epoch 389/500\n",
            "15/15 [==============================] - 0s 4ms/step - loss: 0.0654 - accuracy: 0.9714 - val_loss: 0.0371 - val_accuracy: 0.9778\n",
            "Epoch 390/500\n",
            "15/15 [==============================] - 0s 4ms/step - loss: 0.0633 - accuracy: 0.9714 - val_loss: 0.0355 - val_accuracy: 0.9778\n",
            "Epoch 391/500\n",
            "15/15 [==============================] - 0s 4ms/step - loss: 0.0637 - accuracy: 0.9810 - val_loss: 0.0289 - val_accuracy: 0.9778\n",
            "Epoch 392/500\n",
            "15/15 [==============================] - 0s 4ms/step - loss: 0.0671 - accuracy: 0.9810 - val_loss: 0.0404 - val_accuracy: 0.9778\n",
            "Epoch 393/500\n",
            "15/15 [==============================] - 0s 5ms/step - loss: 0.0595 - accuracy: 0.9810 - val_loss: 0.0328 - val_accuracy: 0.9778\n",
            "Epoch 394/500\n",
            "15/15 [==============================] - 0s 4ms/step - loss: 0.0667 - accuracy: 0.9810 - val_loss: 0.0327 - val_accuracy: 0.9778\n",
            "Epoch 395/500\n",
            "15/15 [==============================] - 0s 3ms/step - loss: 0.0748 - accuracy: 0.9714 - val_loss: 0.0428 - val_accuracy: 0.9778\n",
            "Epoch 396/500\n",
            "15/15 [==============================] - 0s 4ms/step - loss: 0.0809 - accuracy: 0.9619 - val_loss: 0.0270 - val_accuracy: 0.9778\n",
            "Epoch 397/500\n",
            "15/15 [==============================] - 0s 5ms/step - loss: 0.0650 - accuracy: 0.9714 - val_loss: 0.0354 - val_accuracy: 0.9778\n",
            "Epoch 398/500\n",
            "15/15 [==============================] - 0s 3ms/step - loss: 0.0651 - accuracy: 0.9714 - val_loss: 0.0379 - val_accuracy: 0.9778\n",
            "Epoch 399/500\n",
            "15/15 [==============================] - 0s 4ms/step - loss: 0.0615 - accuracy: 0.9714 - val_loss: 0.0368 - val_accuracy: 0.9778\n",
            "Epoch 400/500\n",
            "15/15 [==============================] - 0s 3ms/step - loss: 0.0686 - accuracy: 0.9714 - val_loss: 0.0328 - val_accuracy: 0.9778\n",
            "Epoch 401/500\n",
            "15/15 [==============================] - 0s 5ms/step - loss: 0.0669 - accuracy: 0.9714 - val_loss: 0.0395 - val_accuracy: 0.9778\n",
            "Epoch 402/500\n",
            "15/15 [==============================] - 0s 3ms/step - loss: 0.0608 - accuracy: 0.9810 - val_loss: 0.0315 - val_accuracy: 0.9778\n",
            "Epoch 403/500\n",
            "15/15 [==============================] - 0s 4ms/step - loss: 0.0633 - accuracy: 0.9714 - val_loss: 0.0353 - val_accuracy: 0.9778\n",
            "Epoch 404/500\n",
            "15/15 [==============================] - 0s 4ms/step - loss: 0.0706 - accuracy: 0.9810 - val_loss: 0.0336 - val_accuracy: 0.9778\n",
            "Epoch 405/500\n",
            "15/15 [==============================] - 0s 5ms/step - loss: 0.0654 - accuracy: 0.9810 - val_loss: 0.0486 - val_accuracy: 0.9778\n",
            "Epoch 406/500\n",
            "15/15 [==============================] - 0s 4ms/step - loss: 0.0623 - accuracy: 0.9810 - val_loss: 0.0331 - val_accuracy: 0.9778\n",
            "Epoch 407/500\n",
            "15/15 [==============================] - 0s 3ms/step - loss: 0.0677 - accuracy: 0.9810 - val_loss: 0.0303 - val_accuracy: 0.9778\n",
            "Epoch 408/500\n",
            "15/15 [==============================] - 0s 5ms/step - loss: 0.0612 - accuracy: 0.9714 - val_loss: 0.0420 - val_accuracy: 0.9778\n",
            "Epoch 409/500\n",
            "15/15 [==============================] - 0s 4ms/step - loss: 0.0621 - accuracy: 0.9810 - val_loss: 0.0313 - val_accuracy: 0.9778\n",
            "Epoch 410/500\n",
            "15/15 [==============================] - 0s 4ms/step - loss: 0.0638 - accuracy: 0.9810 - val_loss: 0.0289 - val_accuracy: 0.9778\n",
            "Epoch 411/500\n",
            "15/15 [==============================] - 0s 4ms/step - loss: 0.0756 - accuracy: 0.9714 - val_loss: 0.0453 - val_accuracy: 0.9778\n",
            "Epoch 412/500\n",
            "15/15 [==============================] - 0s 5ms/step - loss: 0.0662 - accuracy: 0.9714 - val_loss: 0.0279 - val_accuracy: 0.9778\n",
            "Epoch 413/500\n",
            "15/15 [==============================] - 0s 4ms/step - loss: 0.0602 - accuracy: 0.9714 - val_loss: 0.0375 - val_accuracy: 0.9778\n",
            "Epoch 414/500\n",
            "15/15 [==============================] - 0s 3ms/step - loss: 0.0677 - accuracy: 0.9714 - val_loss: 0.0377 - val_accuracy: 0.9778\n",
            "Epoch 415/500\n",
            "15/15 [==============================] - 0s 5ms/step - loss: 0.0650 - accuracy: 0.9810 - val_loss: 0.0352 - val_accuracy: 0.9778\n",
            "Epoch 416/500\n",
            "15/15 [==============================] - 0s 4ms/step - loss: 0.0620 - accuracy: 0.9714 - val_loss: 0.0328 - val_accuracy: 0.9778\n",
            "Epoch 417/500\n",
            "15/15 [==============================] - 0s 5ms/step - loss: 0.0695 - accuracy: 0.9714 - val_loss: 0.0419 - val_accuracy: 0.9778\n",
            "Epoch 418/500\n",
            "15/15 [==============================] - 0s 4ms/step - loss: 0.0584 - accuracy: 0.9810 - val_loss: 0.0314 - val_accuracy: 0.9778\n",
            "Epoch 419/500\n",
            "15/15 [==============================] - 0s 4ms/step - loss: 0.0676 - accuracy: 0.9714 - val_loss: 0.0350 - val_accuracy: 0.9778\n",
            "Epoch 420/500\n",
            "15/15 [==============================] - 0s 4ms/step - loss: 0.0713 - accuracy: 0.9714 - val_loss: 0.0359 - val_accuracy: 0.9778\n",
            "Epoch 421/500\n",
            "15/15 [==============================] - 0s 5ms/step - loss: 0.0679 - accuracy: 0.9810 - val_loss: 0.0320 - val_accuracy: 0.9778\n",
            "Epoch 422/500\n",
            "15/15 [==============================] - 0s 4ms/step - loss: 0.0612 - accuracy: 0.9810 - val_loss: 0.0388 - val_accuracy: 0.9778\n",
            "Epoch 423/500\n",
            "15/15 [==============================] - 0s 4ms/step - loss: 0.0617 - accuracy: 0.9714 - val_loss: 0.0342 - val_accuracy: 0.9778\n",
            "Epoch 424/500\n",
            "15/15 [==============================] - 0s 4ms/step - loss: 0.0639 - accuracy: 0.9714 - val_loss: 0.0372 - val_accuracy: 0.9778\n",
            "Epoch 425/500\n",
            "15/15 [==============================] - 0s 5ms/step - loss: 0.0606 - accuracy: 0.9810 - val_loss: 0.0278 - val_accuracy: 0.9778\n",
            "Epoch 426/500\n",
            "15/15 [==============================] - 0s 4ms/step - loss: 0.0635 - accuracy: 0.9810 - val_loss: 0.0344 - val_accuracy: 0.9778\n",
            "Epoch 427/500\n",
            "15/15 [==============================] - 0s 3ms/step - loss: 0.0692 - accuracy: 0.9714 - val_loss: 0.0360 - val_accuracy: 0.9778\n",
            "Epoch 428/500\n",
            "15/15 [==============================] - 0s 4ms/step - loss: 0.0617 - accuracy: 0.9714 - val_loss: 0.0345 - val_accuracy: 0.9778\n",
            "Epoch 429/500\n",
            "15/15 [==============================] - 0s 5ms/step - loss: 0.0685 - accuracy: 0.9810 - val_loss: 0.0329 - val_accuracy: 0.9778\n",
            "Epoch 430/500\n",
            "15/15 [==============================] - 0s 4ms/step - loss: 0.0643 - accuracy: 0.9714 - val_loss: 0.0381 - val_accuracy: 0.9778\n",
            "Epoch 431/500\n",
            "15/15 [==============================] - 0s 5ms/step - loss: 0.0621 - accuracy: 0.9714 - val_loss: 0.0335 - val_accuracy: 0.9778\n",
            "Epoch 432/500\n",
            "15/15 [==============================] - 0s 3ms/step - loss: 0.0606 - accuracy: 0.9714 - val_loss: 0.0375 - val_accuracy: 0.9778\n",
            "Epoch 433/500\n",
            "15/15 [==============================] - 0s 4ms/step - loss: 0.0636 - accuracy: 0.9714 - val_loss: 0.0357 - val_accuracy: 0.9778\n",
            "Epoch 434/500\n",
            "15/15 [==============================] - 0s 4ms/step - loss: 0.0780 - accuracy: 0.9619 - val_loss: 0.0430 - val_accuracy: 0.9778\n",
            "Epoch 435/500\n",
            "15/15 [==============================] - 0s 4ms/step - loss: 0.0696 - accuracy: 0.9714 - val_loss: 0.0254 - val_accuracy: 0.9778\n",
            "Epoch 436/500\n",
            "15/15 [==============================] - 0s 4ms/step - loss: 0.0713 - accuracy: 0.9714 - val_loss: 0.0433 - val_accuracy: 0.9778\n",
            "Epoch 437/500\n",
            "15/15 [==============================] - 0s 4ms/step - loss: 0.0582 - accuracy: 0.9714 - val_loss: 0.0313 - val_accuracy: 0.9778\n",
            "Epoch 438/500\n",
            "15/15 [==============================] - 0s 4ms/step - loss: 0.0683 - accuracy: 0.9810 - val_loss: 0.0284 - val_accuracy: 0.9778\n",
            "Epoch 439/500\n",
            "15/15 [==============================] - 0s 4ms/step - loss: 0.0704 - accuracy: 0.9714 - val_loss: 0.0530 - val_accuracy: 0.9778\n",
            "Epoch 440/500\n",
            "15/15 [==============================] - 0s 4ms/step - loss: 0.0581 - accuracy: 0.9810 - val_loss: 0.0293 - val_accuracy: 0.9778\n",
            "Epoch 441/500\n",
            "15/15 [==============================] - 0s 6ms/step - loss: 0.0647 - accuracy: 0.9810 - val_loss: 0.0279 - val_accuracy: 0.9778\n",
            "Epoch 442/500\n",
            "15/15 [==============================] - 0s 4ms/step - loss: 0.0681 - accuracy: 0.9714 - val_loss: 0.0316 - val_accuracy: 0.9778\n",
            "Epoch 443/500\n",
            "15/15 [==============================] - 0s 3ms/step - loss: 0.0661 - accuracy: 0.9810 - val_loss: 0.0463 - val_accuracy: 0.9778\n",
            "Epoch 444/500\n",
            "15/15 [==============================] - 0s 4ms/step - loss: 0.0748 - accuracy: 0.9714 - val_loss: 0.0273 - val_accuracy: 0.9778\n",
            "Epoch 445/500\n",
            "15/15 [==============================] - 0s 3ms/step - loss: 0.0617 - accuracy: 0.9714 - val_loss: 0.0360 - val_accuracy: 0.9778\n",
            "Epoch 446/500\n",
            "15/15 [==============================] - 0s 4ms/step - loss: 0.0641 - accuracy: 0.9810 - val_loss: 0.0403 - val_accuracy: 0.9778\n",
            "Epoch 447/500\n",
            "15/15 [==============================] - 0s 4ms/step - loss: 0.0832 - accuracy: 0.9714 - val_loss: 0.0305 - val_accuracy: 0.9778\n",
            "Epoch 448/500\n",
            "15/15 [==============================] - 0s 5ms/step - loss: 0.0640 - accuracy: 0.9810 - val_loss: 0.0429 - val_accuracy: 0.9778\n",
            "Epoch 449/500\n",
            "15/15 [==============================] - 0s 4ms/step - loss: 0.0608 - accuracy: 0.9810 - val_loss: 0.0357 - val_accuracy: 0.9778\n",
            "Epoch 450/500\n",
            "15/15 [==============================] - 0s 3ms/step - loss: 0.0610 - accuracy: 0.9810 - val_loss: 0.0264 - val_accuracy: 0.9778\n",
            "Epoch 451/500\n",
            "15/15 [==============================] - 0s 5ms/step - loss: 0.0672 - accuracy: 0.9714 - val_loss: 0.0447 - val_accuracy: 0.9778\n",
            "Epoch 452/500\n",
            "15/15 [==============================] - 0s 5ms/step - loss: 0.0603 - accuracy: 0.9714 - val_loss: 0.0310 - val_accuracy: 0.9778\n",
            "Epoch 453/500\n",
            "15/15 [==============================] - 0s 4ms/step - loss: 0.0672 - accuracy: 0.9810 - val_loss: 0.0279 - val_accuracy: 0.9778\n",
            "Epoch 454/500\n",
            "15/15 [==============================] - 0s 5ms/step - loss: 0.0643 - accuracy: 0.9714 - val_loss: 0.0389 - val_accuracy: 0.9778\n",
            "Epoch 455/500\n",
            "15/15 [==============================] - 0s 3ms/step - loss: 0.0734 - accuracy: 0.9619 - val_loss: 0.0437 - val_accuracy: 0.9778\n",
            "Epoch 456/500\n",
            "15/15 [==============================] - 0s 3ms/step - loss: 0.0666 - accuracy: 0.9714 - val_loss: 0.0251 - val_accuracy: 0.9778\n",
            "Epoch 457/500\n",
            "15/15 [==============================] - 0s 5ms/step - loss: 0.0581 - accuracy: 0.9810 - val_loss: 0.0349 - val_accuracy: 0.9778\n",
            "Epoch 458/500\n",
            "15/15 [==============================] - 0s 4ms/step - loss: 0.0615 - accuracy: 0.9714 - val_loss: 0.0376 - val_accuracy: 0.9778\n",
            "Epoch 459/500\n",
            "15/15 [==============================] - 0s 4ms/step - loss: 0.0608 - accuracy: 0.9810 - val_loss: 0.0393 - val_accuracy: 0.9778\n",
            "Epoch 460/500\n",
            "15/15 [==============================] - 0s 4ms/step - loss: 0.0606 - accuracy: 0.9714 - val_loss: 0.0340 - val_accuracy: 0.9778\n",
            "Epoch 461/500\n",
            "15/15 [==============================] - 0s 4ms/step - loss: 0.0596 - accuracy: 0.9810 - val_loss: 0.0364 - val_accuracy: 0.9778\n",
            "Epoch 462/500\n",
            "15/15 [==============================] - 0s 3ms/step - loss: 0.0730 - accuracy: 0.9714 - val_loss: 0.0341 - val_accuracy: 0.9778\n",
            "Epoch 463/500\n",
            "15/15 [==============================] - 0s 4ms/step - loss: 0.0656 - accuracy: 0.9810 - val_loss: 0.0302 - val_accuracy: 0.9778\n",
            "Epoch 464/500\n",
            "15/15 [==============================] - 0s 4ms/step - loss: 0.0660 - accuracy: 0.9714 - val_loss: 0.0378 - val_accuracy: 0.9778\n",
            "Epoch 465/500\n",
            "15/15 [==============================] - 0s 4ms/step - loss: 0.0657 - accuracy: 0.9810 - val_loss: 0.0288 - val_accuracy: 0.9778\n",
            "Epoch 466/500\n",
            "15/15 [==============================] - 0s 4ms/step - loss: 0.0593 - accuracy: 0.9810 - val_loss: 0.0392 - val_accuracy: 0.9778\n",
            "Epoch 467/500\n",
            "15/15 [==============================] - 0s 5ms/step - loss: 0.0600 - accuracy: 0.9714 - val_loss: 0.0368 - val_accuracy: 0.9778\n",
            "Epoch 468/500\n",
            "15/15 [==============================] - 0s 4ms/step - loss: 0.0649 - accuracy: 0.9810 - val_loss: 0.0300 - val_accuracy: 0.9778\n",
            "Epoch 469/500\n",
            "15/15 [==============================] - 0s 4ms/step - loss: 0.0606 - accuracy: 0.9905 - val_loss: 0.0440 - val_accuracy: 0.9778\n",
            "Epoch 470/500\n",
            "15/15 [==============================] - 0s 4ms/step - loss: 0.0673 - accuracy: 0.9810 - val_loss: 0.0289 - val_accuracy: 0.9778\n",
            "Epoch 471/500\n",
            "15/15 [==============================] - 0s 4ms/step - loss: 0.0606 - accuracy: 0.9714 - val_loss: 0.0374 - val_accuracy: 0.9778\n",
            "Epoch 472/500\n",
            "15/15 [==============================] - 0s 4ms/step - loss: 0.0675 - accuracy: 0.9714 - val_loss: 0.0390 - val_accuracy: 0.9778\n",
            "Epoch 473/500\n",
            "15/15 [==============================] - 0s 6ms/step - loss: 0.0637 - accuracy: 0.9714 - val_loss: 0.0334 - val_accuracy: 0.9778\n",
            "Epoch 474/500\n",
            "15/15 [==============================] - 0s 4ms/step - loss: 0.0647 - accuracy: 0.9810 - val_loss: 0.0379 - val_accuracy: 0.9778\n",
            "Epoch 475/500\n",
            "15/15 [==============================] - 0s 4ms/step - loss: 0.0614 - accuracy: 0.9810 - val_loss: 0.0305 - val_accuracy: 0.9778\n",
            "Epoch 476/500\n",
            "15/15 [==============================] - 0s 3ms/step - loss: 0.0636 - accuracy: 0.9714 - val_loss: 0.0327 - val_accuracy: 0.9778\n",
            "Epoch 477/500\n",
            "15/15 [==============================] - 0s 5ms/step - loss: 0.0614 - accuracy: 0.9714 - val_loss: 0.0347 - val_accuracy: 0.9778\n",
            "Epoch 478/500\n",
            "15/15 [==============================] - 0s 5ms/step - loss: 0.0643 - accuracy: 0.9714 - val_loss: 0.0420 - val_accuracy: 0.9778\n",
            "Epoch 479/500\n",
            "15/15 [==============================] - 0s 4ms/step - loss: 0.0606 - accuracy: 0.9810 - val_loss: 0.0326 - val_accuracy: 0.9778\n",
            "Epoch 480/500\n",
            "15/15 [==============================] - 0s 5ms/step - loss: 0.0646 - accuracy: 0.9810 - val_loss: 0.0397 - val_accuracy: 0.9778\n",
            "Epoch 481/500\n",
            "15/15 [==============================] - 0s 4ms/step - loss: 0.0639 - accuracy: 0.9810 - val_loss: 0.0287 - val_accuracy: 0.9778\n",
            "Epoch 482/500\n",
            "15/15 [==============================] - 0s 5ms/step - loss: 0.0619 - accuracy: 0.9810 - val_loss: 0.0492 - val_accuracy: 0.9778\n",
            "Epoch 483/500\n",
            "15/15 [==============================] - 0s 5ms/step - loss: 0.0620 - accuracy: 0.9714 - val_loss: 0.0330 - val_accuracy: 0.9778\n",
            "Epoch 484/500\n",
            "15/15 [==============================] - 0s 3ms/step - loss: 0.0628 - accuracy: 0.9714 - val_loss: 0.0387 - val_accuracy: 0.9778\n",
            "Epoch 485/500\n",
            "15/15 [==============================] - 0s 4ms/step - loss: 0.0621 - accuracy: 0.9714 - val_loss: 0.0306 - val_accuracy: 0.9778\n",
            "Epoch 486/500\n",
            "15/15 [==============================] - 0s 3ms/step - loss: 0.0610 - accuracy: 0.9714 - val_loss: 0.0343 - val_accuracy: 0.9778\n",
            "Epoch 487/500\n",
            "15/15 [==============================] - 0s 4ms/step - loss: 0.0594 - accuracy: 0.9810 - val_loss: 0.0343 - val_accuracy: 0.9778\n",
            "Epoch 488/500\n",
            "15/15 [==============================] - 0s 4ms/step - loss: 0.0605 - accuracy: 0.9810 - val_loss: 0.0371 - val_accuracy: 0.9778\n",
            "Epoch 489/500\n",
            "15/15 [==============================] - 0s 4ms/step - loss: 0.0598 - accuracy: 0.9810 - val_loss: 0.0400 - val_accuracy: 0.9778\n",
            "Epoch 490/500\n",
            "15/15 [==============================] - 0s 4ms/step - loss: 0.0594 - accuracy: 0.9810 - val_loss: 0.0318 - val_accuracy: 0.9778\n",
            "Epoch 491/500\n",
            "15/15 [==============================] - 0s 4ms/step - loss: 0.0632 - accuracy: 0.9810 - val_loss: 0.0423 - val_accuracy: 0.9778\n",
            "Epoch 492/500\n",
            "15/15 [==============================] - 0s 4ms/step - loss: 0.0602 - accuracy: 0.9810 - val_loss: 0.0332 - val_accuracy: 0.9778\n",
            "Epoch 493/500\n",
            "15/15 [==============================] - 0s 4ms/step - loss: 0.0592 - accuracy: 0.9714 - val_loss: 0.0312 - val_accuracy: 0.9778\n",
            "Epoch 494/500\n",
            "15/15 [==============================] - 0s 4ms/step - loss: 0.0594 - accuracy: 0.9810 - val_loss: 0.0373 - val_accuracy: 0.9778\n",
            "Epoch 495/500\n",
            "15/15 [==============================] - 0s 4ms/step - loss: 0.0626 - accuracy: 0.9810 - val_loss: 0.0387 - val_accuracy: 0.9778\n",
            "Epoch 496/500\n",
            "15/15 [==============================] - 0s 4ms/step - loss: 0.0657 - accuracy: 0.9810 - val_loss: 0.0446 - val_accuracy: 0.9778\n",
            "Epoch 497/500\n",
            "15/15 [==============================] - 0s 4ms/step - loss: 0.0620 - accuracy: 0.9714 - val_loss: 0.0277 - val_accuracy: 0.9778\n",
            "Epoch 498/500\n",
            "15/15 [==============================] - 0s 5ms/step - loss: 0.0633 - accuracy: 0.9714 - val_loss: 0.0416 - val_accuracy: 0.9778\n",
            "Epoch 499/500\n",
            "15/15 [==============================] - 0s 5ms/step - loss: 0.0634 - accuracy: 0.9810 - val_loss: 0.0317 - val_accuracy: 0.9778\n",
            "Epoch 500/500\n",
            "15/15 [==============================] - 0s 3ms/step - loss: 0.0640 - accuracy: 0.9810 - val_loss: 0.0376 - val_accuracy: 0.9778\n"
          ]
        }
      ]
    },
    {
      "cell_type": "markdown",
      "metadata": {
        "id": "jA-0e_bLXMW_"
      },
      "source": [
        "## 5) 학습 결과 시각화"
      ]
    },
    {
      "cell_type": "code",
      "metadata": {
        "colab": {
          "base_uri": "https://localhost:8080/",
          "height": 378
        },
        "id": "VjHdjhS2Z0RK",
        "outputId": "a42bf3fb-71e3-40cb-c695-a17eb48af6b9"
      },
      "source": [
        "import matplotlib.pyplot as plt\n",
        "\n",
        "plt.figure(figsize=(9,6))\n",
        "plt.ylim(0, 1.2)\n",
        "plt.plot(History_iris.history['loss'])\n",
        "plt.plot(History_iris.history['val_loss'])\n",
        "plt.plot(History_iris.history['accuracy'])\n",
        "plt.plot(History_iris.history['val_accuracy'])\n",
        "plt.legend(['loss','val_loss','accuracy','val_accuracy'])\n",
        "plt.grid()\n",
        "plt.show()"
      ],
      "execution_count": 22,
      "outputs": [
        {
          "output_type": "display_data",
          "data": {
            "image/png": "[encoded data removed]",
            "text/plain": [
              "<Figure size 648x432 with 1 Axes>"
            ]
          },
          "metadata": {
            "needs_background": "light"
          }
        }
      ]
    },
    {
      "cell_type": "markdown",
      "metadata": {
        "id": "3KxJvyTaaQg2"
      },
      "source": [
        "## 6) Model Evaluate\n",
        "- Loss & Accuracy"
      ]
    },
    {
      "cell_type": "code",
      "metadata": {
        "colab": {
          "base_uri": "https://localhost:8080/"
        },
        "id": "wdPDpkvLaQaG",
        "outputId": "18f1795d-e747-4dfe-95ed-fbf86449ba7c"
      },
      "source": [
        "loss, accuracy = Model_iris.evaluate(X_test, y_test)\n",
        "\n",
        "print('Loss = {:.2f}'.format(loss))\n",
        "print('Accuracy = {:.2f}'.format(accuracy))"
      ],
      "execution_count": 23,
      "outputs": [
        {
          "output_type": "stream",
          "name": "stdout",
          "text": [
            "2/2 [==============================] - 0s 8ms/step - loss: 0.0376 - accuracy: 0.9778\n",
            "Loss = 0.04\n",
            "Accuracy = 0.98\n"
          ]
        }
      ]
    },
    {
      "cell_type": "markdown",
      "metadata": {
        "id": "M5sFIqoJaQUQ"
      },
      "source": [
        "## 7) Model Predict\n",
        "\n",
        "- Probability"
      ]
    },
    {
      "cell_type": "code",
      "metadata": {
        "colab": {
          "base_uri": "https://localhost:8080/"
        },
        "id": "qS3jztm9aQNi",
        "outputId": "8d663f22-16bb-4b08-8f46-ef6313d1038a"
      },
      "source": [
        "import numpy as np\n",
        "np.set_printoptions(suppress = True, precision = 5)\n",
        "\n",
        "Model_iris.predict(X_test)"
      ],
      "execution_count": 24,
      "outputs": [
        {
          "output_type": "execute_result",
          "data": {
            "text/plain": [
              "array([[0.99998, 0.00002, 0.     ],\n",
              "       [0.99987, 0.00013, 0.     ],\n",
              "       [0.00114, 0.99877, 0.00008],\n",
              "       [0.     , 0.00011, 0.99989],\n",
              "       [1.     , 0.     , 0.     ],\n",
              "       [0.00002, 0.99995, 0.00003],\n",
              "       [0.     , 0.00479, 0.99521],\n",
              "       [1.     , 0.     , 0.     ],\n",
              "       [0.     , 0.00058, 0.99942],\n",
              "       [0.99997, 0.00003, 0.     ],\n",
              "       [0.00016, 0.92222, 0.07762],\n",
              "       [0.     , 0.00261, 0.99739],\n",
              "       [0.00002, 0.99896, 0.00102],\n",
              "       [1.     , 0.     , 0.     ],\n",
              "       [1.     , 0.     , 0.     ],\n",
              "       [0.00004, 0.99825, 0.00171],\n",
              "       [0.00003, 0.99273, 0.00724],\n",
              "       [0.99999, 0.00001, 0.     ],\n",
              "       [0.     , 0.99989, 0.00011],\n",
              "       [1.     , 0.     , 0.     ],\n",
              "       [0.99998, 0.00002, 0.     ],\n",
              "       [0.99998, 0.00002, 0.     ],\n",
              "       [0.     , 0.00067, 0.99933],\n",
              "       [0.99999, 0.00001, 0.     ],\n",
              "       [0.00001, 0.06289, 0.9371 ],\n",
              "       [0.00002, 0.00685, 0.99313],\n",
              "       [1.     , 0.     , 0.     ],\n",
              "       [0.00001, 0.99903, 0.00096],\n",
              "       [0.00001, 0.9989 , 0.00109],\n",
              "       [0.00002, 0.03622, 0.96376],\n",
              "       [1.     , 0.     , 0.     ],\n",
              "       [0.00001, 0.99942, 0.00058],\n",
              "       [1.     , 0.     , 0.     ],\n",
              "       [0.00007, 0.76704, 0.23289],\n",
              "       [0.00002, 0.9979 , 0.00208],\n",
              "       [0.     , 0.99998, 0.00001],\n",
              "       [0.     , 0.00012, 0.99988],\n",
              "       [0.00001, 0.99993, 0.00006],\n",
              "       [0.99999, 0.00001, 0.     ],\n",
              "       [0.00002, 0.99892, 0.00106],\n",
              "       [0.     , 0.00016, 0.99984],\n",
              "       [0.99994, 0.00006, 0.     ],\n",
              "       [0.     , 0.00172, 0.99828],\n",
              "       [0.     , 0.00072, 0.99928],\n",
              "       [0.     , 0.01599, 0.98401]], dtype=float32)"
            ]
          },
          "metadata": {},
          "execution_count": 24
        }
      ]
    },
    {
      "cell_type": "markdown",
      "metadata": {
        "id": "Vt1vMreBaQFG"
      },
      "source": [
        "- Probability to Class\n"
      ]
    },
    {
      "cell_type": "code",
      "metadata": {
        "colab": {
          "base_uri": "https://localhost:8080/"
        },
        "id": "fhkVfjetaOio",
        "outputId": "2418e131-da8e-4dcb-a074-ba751b050fda"
      },
      "source": [
        "y_hat = np.argmax(Model_iris.predict(X_test), axis = 1)\n",
        "y_hat"
      ],
      "execution_count": 25,
      "outputs": [
        {
          "output_type": "execute_result",
          "data": {
            "text/plain": [
              "array([0, 0, 1, 2, 0, 1, 2, 0, 2, 0, 1, 2, 1, 0, 0, 1, 1, 0, 1, 0, 0, 0,\n",
              "       2, 0, 2, 2, 0, 1, 1, 2, 0, 1, 0, 1, 1, 1, 2, 1, 0, 1, 2, 0, 2, 2,\n",
              "       2])"
            ]
          },
          "metadata": {},
          "execution_count": 25
        }
      ]
    },
    {
      "cell_type": "markdown",
      "metadata": {
        "id": "WSnVjwpCa4yF"
      },
      "source": [
        "- One_Hot Encoding -> Array\n",
        "    - np.argmax() : 다차원 배열의 차원에 따라 가장 큰 값의 인덱스를 return\n",
        "    - axis = 1 : 열기준"
      ]
    },
    {
      "cell_type": "code",
      "metadata": {
        "colab": {
          "base_uri": "https://localhost:8080/"
        },
        "id": "D_ZS4bZDax8I",
        "outputId": "850d2497-3cfb-447a-e44a-d5b635762472"
      },
      "source": [
        "y=np.argmax(y_test, axis = 1)\n",
        "y"
      ],
      "execution_count": 26,
      "outputs": [
        {
          "output_type": "execute_result",
          "data": {
            "text/plain": [
              "array([0, 0, 1, 2, 0, 1, 2, 0, 2, 0, 1, 2, 1, 0, 0, 1, 1, 0, 1, 0, 0, 0,\n",
              "       2, 0, 2, 2, 0, 1, 1, 2, 0, 1, 0, 2, 1, 1, 2, 1, 0, 1, 2, 0, 2, 2,\n",
              "       2])"
            ]
          },
          "metadata": {},
          "execution_count": 26
        }
      ]
    },
    {
      "cell_type": "markdown",
      "metadata": {
        "id": "xVc5TVQCazEv"
      },
      "source": [
        "- confusion Matrix & Classification Report"
      ]
    },
    {
      "cell_type": "code",
      "metadata": {
        "colab": {
          "base_uri": "https://localhost:8080/"
        },
        "id": "L03wLeCKay9t",
        "outputId": "0f6f45ab-3725-4a58-83a7-21e11c8661e1"
      },
      "source": [
        "from sklearn.metrics import confusion_matrix, classification_report\n",
        "\n",
        "confusion_matrix(y, y_hat)"
      ],
      "execution_count": 28,
      "outputs": [
        {
          "output_type": "execute_result",
          "data": {
            "text/plain": [
              "array([[17,  0,  0],\n",
              "       [ 0, 14,  0],\n",
              "       [ 0,  1, 13]])"
            ]
          },
          "metadata": {},
          "execution_count": 28
        }
      ]
    },
    {
      "cell_type": "code",
      "metadata": {
        "colab": {
          "base_uri": "https://localhost:8080/"
        },
        "id": "S9ru3RwlbTxF",
        "outputId": "25b1a844-37e2-432c-9d45-4b57a972a2e8"
      },
      "source": [
        "print(classification_report(y, y_hat, target_names=['setosa','virginica','versicolor']))"
      ],
      "execution_count": 29,
      "outputs": [
        {
          "output_type": "stream",
          "name": "stdout",
          "text": [
            "              precision    recall  f1-score   support\n",
            "\n",
            "      setosa       1.00      1.00      1.00        17\n",
            "   virginica       0.93      1.00      0.97        14\n",
            "  versicolor       1.00      0.93      0.96        14\n",
            "\n",
            "    accuracy                           0.98        45\n",
            "   macro avg       0.98      0.98      0.98        45\n",
            "weighted avg       0.98      0.98      0.98        45\n",
            "\n"
          ]
        }
      ]
    },
    {
      "cell_type": "markdown",
      "metadata": {
        "id": "cP1b0BHQay4I"
      },
      "source": [
        "# 3. Model Save & Load"
      ]
    },
    {
      "cell_type": "markdown",
      "metadata": {
        "id": "BDW1XrJwbcHI"
      },
      "source": [
        "## 1) File System\n",
        "- save to colab File system"
      ]
    },
    {
      "cell_type": "code",
      "metadata": {
        "colab": {
          "base_uri": "https://localhost:8080/"
        },
        "id": "xQ2rxpYRayxN",
        "outputId": "e4192fa8-51b8-4299-b966-9eff571ad47f"
      },
      "source": [
        "!ls -l"
      ],
      "execution_count": 30,
      "outputs": [
        {
          "output_type": "stream",
          "name": "stdout",
          "text": [
            "total 36\n",
            "-rw-r--r-- 1 root root 29384 Sep 28 07:54 model.png\n",
            "drwxr-xr-x 1 root root  4096 Sep 16 13:40 sample_data\n"
          ]
        }
      ]
    },
    {
      "cell_type": "code",
      "metadata": {
        "colab": {
          "base_uri": "https://localhost:8080/"
        },
        "id": "Jexep5GYbjRC",
        "outputId": "6d554f86-304e-4479-be53-04a27655450e"
      },
      "source": [
        "Model_iris.save('Model_iris.h5')\n",
        "\n",
        "!ls -l"
      ],
      "execution_count": 31,
      "outputs": [
        {
          "output_type": "stream",
          "name": "stdout",
          "text": [
            "total 72\n",
            "-rw-r--r-- 1 root root 34600 Sep 28 08:03 Model_iris.h5\n",
            "-rw-r--r-- 1 root root 29384 Sep 28 07:54 model.png\n",
            "drwxr-xr-x 1 root root  4096 Sep 16 13:40 sample_data\n"
          ]
        }
      ]
    },
    {
      "cell_type": "markdown",
      "metadata": {
        "id": "rvF6AyrIayrA"
      },
      "source": [
        "- Download colab file system to local file system"
      ]
    },
    {
      "cell_type": "code",
      "metadata": {
        "colab": {
          "base_uri": "https://localhost:8080/",
          "height": 17
        },
        "id": "efWBQek-aylP",
        "outputId": "35533794-54af-460f-aab8-a414246b14c5"
      },
      "source": [
        "from google.colab import files\n",
        "files.download('Model_iris.h5')"
      ],
      "execution_count": 32,
      "outputs": [
        {
          "output_type": "display_data",
          "data": {
            "application/javascript": [
              "\n",
              "    async function download(id, filename, size) {\n",
              "      if (!google.colab.kernel.accessAllowed) {\n",
              "        return;\n",
              "      }\n",
              "      const div = document.createElement('div');\n",
              "      const label = document.createElement('label');\n",
              "      label.textContent = `Downloading \"${filename}\": `;\n",
              "      div.appendChild(label);\n",
              "      const progress = document.createElement('progress');\n",
              "      progress.max = size;\n",
              "      div.appendChild(progress);\n",
              "      document.body.appendChild(div);\n",
              "\n",
              "      const buffers = [];\n",
              "      let downloaded = 0;\n",
              "\n",
              "      const channel = await google.colab.kernel.comms.open(id);\n",
              "      // Send a message to notify the kernel that we're ready.\n",
              "      channel.send({})\n",
              "\n",
              "      for await (const message of channel.messages) {\n",
              "        // Send a message to notify the kernel that we're ready.\n",
              "        channel.send({})\n",
              "        if (message.buffers) {\n",
              "          for (const buffer of message.buffers) {\n",
              "            buffers.push(buffer);\n",
              "            downloaded += buffer.byteLength;\n",
              "            progress.value = downloaded;\n",
              "          }\n",
              "        }\n",
              "      }\n",
              "      const blob = new Blob(buffers, {type: 'application/binary'});\n",
              "      const a = document.createElement('a');\n",
              "      a.href = window.URL.createObjectURL(blob);\n",
              "      a.download = filename;\n",
              "      div.appendChild(a);\n",
              "      a.click();\n",
              "      div.remove();\n",
              "    }\n",
              "  "
            ],
            "text/plain": [
              "<IPython.core.display.Javascript object>"
            ]
          },
          "metadata": {}
        },
        {
          "output_type": "display_data",
          "data": {
            "application/javascript": [
              "download(\"download_3640c6f5-57b6-48e4-9d51-f8e8eebf5148\", \"Model_iris.h5\", 34600)"
            ],
            "text/plain": [
              "<IPython.core.display.Javascript object>"
            ]
          },
          "metadata": {}
        }
      ]
    },
    {
      "cell_type": "markdown",
      "metadata": {
        "id": "G4eqFDGgayfM"
      },
      "source": [
        "- load from Colabe file system"
      ]
    },
    {
      "cell_type": "code",
      "metadata": {
        "colab": {
          "base_uri": "https://localhost:8080/"
        },
        "id": "KiLw-9yCb2zv",
        "outputId": "94f9bcf3-7924-4c39-d50e-5cc44ceac67f"
      },
      "source": [
        "from tensorflow.keras.models import load_model\n",
        "\n",
        "Model_local = load_model('Model_iris.h5')\n",
        "\n",
        "np.argmax(Model_local.predict(X_test), axis =1)"
      ],
      "execution_count": 33,
      "outputs": [
        {
          "output_type": "execute_result",
          "data": {
            "text/plain": [
              "array([0, 0, 1, 2, 0, 1, 2, 0, 2, 0, 1, 2, 1, 0, 0, 1, 1, 0, 1, 0, 0, 0,\n",
              "       2, 0, 2, 2, 0, 1, 1, 2, 0, 1, 0, 1, 1, 1, 2, 1, 0, 1, 2, 0, 2, 2,\n",
              "       2])"
            ]
          },
          "metadata": {},
          "execution_count": 33
        }
      ]
    },
    {
      "cell_type": "markdown",
      "metadata": {
        "id": "x03jiDMwcCuE"
      },
      "source": [
        "## 2) Google Drive\n",
        "\n",
        "- Mount Google Drive"
      ]
    },
    {
      "cell_type": "code",
      "metadata": {
        "colab": {
          "base_uri": "https://localhost:8080/"
        },
        "id": "-siFUxMIcB84",
        "outputId": "92720ea3-00c6-48c4-eebd-0503e526ac62"
      },
      "source": [
        "from google.colab import drive\n",
        "\n",
        "drive.mount('/content/drive')\n"
      ],
      "execution_count": 34,
      "outputs": [
        {
          "output_type": "stream",
          "name": "stdout",
          "text": [
            "Mounted at /content/drive\n"
          ]
        }
      ]
    },
    {
      "cell_type": "markdown",
      "metadata": {
        "id": "YRD-zIvmcSeM"
      },
      "source": [
        "- check Mounted_Drive"
      ]
    },
    {
      "cell_type": "code",
      "metadata": {
        "colab": {
          "base_uri": "https://localhost:8080/"
        },
        "id": "-9mKhxiRcSEI",
        "outputId": "41ea05d0-5f38-4c25-e1b2-91a662038172"
      },
      "source": [
        "!ls -l '/content/drive/My Drive/Colab Notebooks/models'"
      ],
      "execution_count": 41,
      "outputs": [
        {
          "output_type": "stream",
          "name": "stdout",
          "text": [
            "total 0\n"
          ]
        }
      ]
    },
    {
      "cell_type": "markdown",
      "metadata": {
        "id": "pPx2g2CJcR9y"
      },
      "source": [
        "- Save to Mounted Google Drive Directory"
      ]
    },
    {
      "cell_type": "code",
      "metadata": {
        "colab": {
          "base_uri": "https://localhost:8080/"
        },
        "id": "UlMNVH65cR3_",
        "outputId": "7a21bc4d-cb7e-4a85-a4e9-295d2feef95f"
      },
      "source": [
        "Model_iris.save('/content/drive/My Drive/Colab Notebooks/models/001_Model_iris.h5')\n",
        "\n",
        "!ls -l '/content/drive/My Drive/Colab Notebooks/models'"
      ],
      "execution_count": 42,
      "outputs": [
        {
          "output_type": "stream",
          "name": "stdout",
          "text": [
            "total 34\n",
            "-rw------- 1 root root 34600 Sep 28 08:10 001_Model_iris.h5\n"
          ]
        }
      ]
    },
    {
      "cell_type": "markdown",
      "metadata": {
        "id": "g3UfD7kzcRxo"
      },
      "source": [
        "- Load from Mounted Google Drive Directory"
      ]
    },
    {
      "cell_type": "code",
      "metadata": {
        "colab": {
          "base_uri": "https://localhost:8080/"
        },
        "id": "2s8zTa-rcKgI",
        "outputId": "bb8eab39-ca73-4718-b149-fdb1b9ac3b0f"
      },
      "source": [
        "from tensorflow.keras.models import load_model\n",
        "\n",
        "Model_google = load_model('/content/drive/My Drive/Colab Notebooks/models/001_Model_iris.h5')\n",
        "\n",
        "np.argmax(Model_google.predict(X_test), axis = 1)"
      ],
      "execution_count": 43,
      "outputs": [
        {
          "output_type": "execute_result",
          "data": {
            "text/plain": [
              "array([0, 0, 1, 2, 0, 1, 2, 0, 2, 0, 1, 2, 1, 0, 0, 1, 1, 0, 1, 0, 0, 0,\n",
              "       2, 0, 2, 2, 0, 1, 1, 2, 0, 1, 0, 1, 1, 1, 2, 1, 0, 1, 2, 0, 2, 2,\n",
              "       2])"
            ]
          },
          "metadata": {},
          "execution_count": 43
        }
      ]
    },
    {
      "cell_type": "markdown",
      "metadata": {
        "id": "_DLcZEU2diXi"
      },
      "source": [
        "# THE END"
      ]
    }
  ]
}