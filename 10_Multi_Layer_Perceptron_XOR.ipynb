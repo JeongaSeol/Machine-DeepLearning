{
  "nbformat": 4,
  "nbformat_minor": 0,
  "metadata": {
    "colab": {
      "name": "01_Multi_Layer_Perceptron_XOR_CPU.ipynb",
      "provenance": [],
      "collapsed_sections": [],
      "toc_visible": true
    },
    "kernelspec": {
      "name": "python3",
      "display_name": "Python 3"
    },
    "language_info": {
      "name": "python"
    }
  },
  "cells": [
    {
      "cell_type": "markdown",
      "metadata": {
        "id": "40SO-riLG-X6"
      },
      "source": [
        "# 1. 수치미분(Numerical Derivative)"
      ]
    },
    {
      "cell_type": "code",
      "metadata": {
        "id": "p3UsQc0FG1Wq"
      },
      "source": [
        "import warnings\n",
        "warnings.filterwarnings('ignore')"
      ],
      "execution_count": 1,
      "outputs": []
    },
    {
      "cell_type": "markdown",
      "metadata": {
        "id": "PW3ztJgyHFtm"
      },
      "source": [
        "## 1) Import numpy"
      ]
    },
    {
      "cell_type": "code",
      "metadata": {
        "id": "31A0lia7HE3G"
      },
      "source": [
        "import numpy as np"
      ],
      "execution_count": 2,
      "outputs": []
    },
    {
      "cell_type": "markdown",
      "metadata": {
        "id": "ib_5u_QHHLJw"
      },
      "source": [
        "## 2) gradient() 함수 정의\n",
        "- 다변수 함수의 수치미분"
      ]
    },
    {
      "cell_type": "code",
      "metadata": {
        "id": "40YE9Yz2HJ-2"
      },
      "source": [
        "def gradient(machine, param):\n",
        "    if param.ndim==1:\n",
        "        temp_param = param\n",
        "        delta=0.00005\n",
        "        learned_param = np.zeros(param.shape)\n",
        "\n",
        "        for index in range(len(param)):\n",
        "            target_param = float(temp_param[index])\n",
        "            temp_param[index]=target_param+delta\n",
        "            param_plus_delta = machine(temp_param)\n",
        "            temp_param[index]=target_param-delta\n",
        "            param_minus_delta = machine(temp_param)\n",
        "            learned_param[index]=(param_plus_delta-param_minus_delta) / (2*delta)\n",
        "            temp_param[index]=target_param\n",
        "        return learned_param\n",
        "\n",
        "    elif param.ndim==2:\n",
        "        temp_param = param\n",
        "        delta = 0.00005\n",
        "        learned_param = np.zeros(param.shape)\n",
        "\n",
        "        rows = param.shape[0]\n",
        "        columns = param.shape[1]\n",
        "\n",
        "        for row in range(rows):\n",
        "            for column in range(columns):\n",
        "                target_param = float(temp_param[row,column])\n",
        "                temp_param[row, column]=target_param+delta\n",
        "                param_plus_delta=machine(temp_param)\n",
        "                temp_param[row, column] = target_param - delta\n",
        "                param_minus_delta=machine(temp_param)\n",
        "                learned_param[row, column] = (param_plus_delta - param_minus_delta) /(2*delta)\n",
        "                temp_param[row,column] = target_param\n",
        "\n",
        "        return learned_param\n",
        "    "
      ],
      "execution_count": 10,
      "outputs": []
    },
    {
      "cell_type": "markdown",
      "metadata": {
        "id": "DdFJGt6oJBp5"
      },
      "source": [
        "# 2. Logic Gate() - 'AND','OR','NAND'"
      ]
    },
    {
      "cell_type": "markdown",
      "metadata": {
        "id": "Y12bVcTkJJCX"
      },
      "source": [
        "## 1) sigmoid() 함수 정의"
      ]
    },
    {
      "cell_type": "code",
      "metadata": {
        "id": "LOV2B00zJKo9"
      },
      "source": [
        "def sigmoid(x):\n",
        "    y_hat = 1/(1+np.exp(-x))\n",
        "    return y_hat"
      ],
      "execution_count": 11,
      "outputs": []
    },
    {
      "cell_type": "markdown",
      "metadata": {
        "id": "FrIdxoAnJTK0"
      },
      "source": [
        "## 2) LogicGate 클래스 선언"
      ]
    },
    {
      "cell_type": "code",
      "metadata": {
        "id": "DSHiYh86JPwM"
      },
      "source": [
        "class LogicGate:\n",
        "    def __init__(self, gate_Type, X_input, y_output):\n",
        "\n",
        "        # gate_Type 문자열 지정 Member\n",
        "        self.Type = gate_Type\n",
        "\n",
        "        # X_input, y_output Member 초기화\n",
        "        self.X_input = X_input.reshape(4,2)\n",
        "        self.y_output = y_output.reshape(4,1)\n",
        "\n",
        "        # W, b Member 초기화\n",
        "        self.W = np.random.rand(2,1)\n",
        "        self.b = np.random.rand(1)\n",
        "\n",
        "        # learning_rate Member 지정\n",
        "        self.learning_rate = 0.01\n",
        "\n",
        "     # Cost_Function(CEE) Method\n",
        "    def cost_func(self):\n",
        "        z=np.dot(self.X_input, self.W) +self.b\n",
        "        y_hat = sigmoid(z)\n",
        "        delta=0.00001\n",
        "        return -np.sum(self.y_output*np.log(y_hat+delta)+(1-self.y_output)*np.log((1-y_hat)+delta))\n",
        "\n",
        "    # Learning Method\n",
        "    def learn(self):\n",
        "        machine = lambda x : self.cost_func()\n",
        "        print('Initial Cost = ', self.cost_func())\n",
        "\n",
        "        for step in range(10001):\n",
        "            self.W = self.W-self.learning_rate*gradient(machine, self.W)\n",
        "            self.b = self.b-self.learning_rate*gradient(machine, self.b)\n",
        "\n",
        "            if (step % 1000 ==0):\n",
        "                print('Step = ', step, 'Cost = ', self.cost_func())\n",
        "    \n",
        "    # Predict Method\n",
        "    def predict(self, input_data):\n",
        "        z = np.dot(input_data, self.W) + self.b\n",
        "        y_prob = sigmoid(z)\n",
        "\n",
        "        if y_prob >0.5:\n",
        "            result =1\n",
        "        else:\n",
        "            result = 0\n",
        "        \n",
        "        return y_prob, result"
      ],
      "execution_count": 12,
      "outputs": []
    },
    {
      "cell_type": "markdown",
      "metadata": {
        "id": "hnQcrNj4LN4_"
      },
      "source": [
        "## 3) AND_Gate\n",
        "- X_input, y_output 지정"
      ]
    },
    {
      "cell_type": "code",
      "metadata": {
        "id": "IeIA-2GRLNKO"
      },
      "source": [
        "X_input = np.array([[0,0],[0,1],[1,0],[1,1]])\n",
        "y_output = np.array([0,0,0,1])"
      ],
      "execution_count": 13,
      "outputs": []
    },
    {
      "cell_type": "markdown",
      "metadata": {
        "id": "yctdp9zLLev2"
      },
      "source": [
        "- AND_Gate 객체 생성 및 학습"
      ]
    },
    {
      "cell_type": "code",
      "metadata": {
        "colab": {
          "base_uri": "https://localhost:8080/"
        },
        "id": "miOQBY75LdSU",
        "outputId": "c2a154a1-6a75-47b5-ac3e-8532c8f22ba1"
      },
      "source": [
        "AND_Gate = LogicGate('AND_GATE', X_input, y_output)\n",
        "\n",
        "AND_Gate.learn()"
      ],
      "execution_count": 14,
      "outputs": [
        {
          "output_type": "stream",
          "name": "stdout",
          "text": [
            "Initial Cost =  3.8304432592637068\n",
            "Step =  0 Cost =  3.7868709190274643\n",
            "Step =  1000 Cost =  1.0072027972253237\n",
            "Step =  2000 Cost =  0.660322417794516\n",
            "Step =  3000 Cost =  0.49143012040430156\n",
            "Step =  4000 Cost =  0.3902704229833698\n",
            "Step =  5000 Cost =  0.3228929155472935\n",
            "Step =  6000 Cost =  0.27488403422516877\n",
            "Step =  7000 Cost =  0.2390082924087702\n",
            "Step =  8000 Cost =  0.21122512456001807\n",
            "Step =  9000 Cost =  0.1891010666918855\n",
            "Step =  10000 Cost =  0.17108435559756857\n"
          ]
        }
      ]
    },
    {
      "cell_type": "markdown",
      "metadata": {
        "id": "695WeVCiMO4j"
      },
      "source": [
        "- AND_Gate Test"
      ]
    },
    {
      "cell_type": "code",
      "metadata": {
        "colab": {
          "base_uri": "https://localhost:8080/"
        },
        "id": "qN_BvJRQLojU",
        "outputId": "adcca59e-7b8a-44c5-f132-ad2b8a575245"
      },
      "source": [
        "print(AND_Gate.Type, '\\n')\n",
        "\n",
        "test_data = np.array([[0,0],[0,1],[1,0],[1,1]])\n",
        "\n",
        "for input_data in test_data:\n",
        "    (sigmoid_val, logical_val) = AND_Gate.predict(input_data)\n",
        "    print(input_data, '=', logical_val)\n",
        "    "
      ],
      "execution_count": 15,
      "outputs": [
        {
          "output_type": "stream",
          "name": "stdout",
          "text": [
            "AND_GATE \n",
            "\n",
            "[0 0] = 0\n",
            "[0 1] = 0\n",
            "[1 0] = 0\n",
            "[1 1] = 1\n"
          ]
        }
      ]
    },
    {
      "cell_type": "markdown",
      "metadata": {
        "id": "CS92LNAKMpMo"
      },
      "source": [
        "## 4) OR_Gate\n",
        "- X_input, y_output"
      ]
    },
    {
      "cell_type": "code",
      "metadata": {
        "id": "IesnNCiMMnmy"
      },
      "source": [
        "X_input = np.array([[0,0],[0,1],[1,0],[1,1]])\n",
        "y_output = np.array([0,1,1,1])"
      ],
      "execution_count": 16,
      "outputs": []
    },
    {
      "cell_type": "markdown",
      "metadata": {
        "id": "pj9aI7uMMxhE"
      },
      "source": [
        "- OR_Gate 객체 생성 및 학습"
      ]
    },
    {
      "cell_type": "code",
      "metadata": {
        "colab": {
          "base_uri": "https://localhost:8080/"
        },
        "id": "lc40ctqIMwjE",
        "outputId": "e99b6ef8-df01-4a32-a9af-496ed0199317"
      },
      "source": [
        "OR_Gate = LogicGate('OR_GATE',X_input,y_output)\n",
        "OR_Gate.learn()"
      ],
      "execution_count": 17,
      "outputs": [
        {
          "output_type": "stream",
          "name": "stdout",
          "text": [
            "Initial Cost =  1.817835457817753\n",
            "Step =  0 Cost =  1.8139228547657822\n",
            "Step =  1000 Cost =  0.7045529058963811\n",
            "Step =  2000 Cost =  0.42544347805174876\n",
            "Step =  3000 Cost =  0.3004215059212415\n",
            "Step =  4000 Cost =  0.23060900077830654\n",
            "Step =  5000 Cost =  0.18644448469091893\n",
            "Step =  6000 Cost =  0.15614391006501582\n",
            "Step =  7000 Cost =  0.13413484397686798\n",
            "Step =  8000 Cost =  0.1174582469524248\n",
            "Step =  9000 Cost =  0.10440418912999407\n",
            "Step =  10000 Cost =  0.09391864024614138\n"
          ]
        }
      ]
    },
    {
      "cell_type": "markdown",
      "metadata": {
        "id": "a9RETy4CM7ew"
      },
      "source": [
        "OR_Gate Test"
      ]
    },
    {
      "cell_type": "code",
      "metadata": {
        "colab": {
          "base_uri": "https://localhost:8080/"
        },
        "id": "b3D366MOM5fc",
        "outputId": "e3be94ff-3a2f-45ae-9d44-23bcc5c1fcfc"
      },
      "source": [
        "print(OR_Gate.Type, '\\n')\n",
        "test_data = np.array([[0,0],[0,1],[1,0],[1,1]])\n",
        "for input_data in test_data:\n",
        "    (sigmoid_val, logical_val) = OR_Gate.predict(input_data)\n",
        "    print(input_data, '=', logical_val)"
      ],
      "execution_count": 18,
      "outputs": [
        {
          "output_type": "stream",
          "name": "stdout",
          "text": [
            "OR_GATE \n",
            "\n",
            "[0 0] = 0\n",
            "[0 1] = 1\n",
            "[1 0] = 1\n",
            "[1 1] = 1\n"
          ]
        }
      ]
    },
    {
      "cell_type": "markdown",
      "metadata": {
        "id": "VFtd4OZsNOT8"
      },
      "source": [
        "## 5) NAND_Gate\n",
        "- X_input, y_output"
      ]
    },
    {
      "cell_type": "code",
      "metadata": {
        "id": "NYWr4lBHNNPV"
      },
      "source": [
        "X_input = np.array([[0,0],[0,1],[1,0],[1,1]])\n",
        "y_output = np.array([1,1,1,0])"
      ],
      "execution_count": 19,
      "outputs": []
    },
    {
      "cell_type": "markdown",
      "metadata": {
        "id": "TXpBW2x7NW2Z"
      },
      "source": [
        "- NAND_Gate 객체 생성 및 학습"
      ]
    },
    {
      "cell_type": "code",
      "metadata": {
        "colab": {
          "base_uri": "https://localhost:8080/"
        },
        "id": "_SNpF-jLNWWM",
        "outputId": "2ecd1c82-c12e-4322-9c0e-6b41100f663f"
      },
      "source": [
        "NAND_Gate = LogicGate('NAND_GATE',X_input, y_output)\n",
        "NAND_Gate.learn()"
      ],
      "execution_count": 20,
      "outputs": [
        {
          "output_type": "stream",
          "name": "stdout",
          "text": [
            "Initial Cost =  3.1729234043426797\n",
            "Step =  0 Cost =  3.161762440207733\n",
            "Step =  1000 Cost =  1.0670452875086385\n",
            "Step =  2000 Cost =  0.6847050345818122\n",
            "Step =  3000 Cost =  0.5049437397068927\n",
            "Step =  4000 Cost =  0.398869752974795\n",
            "Step =  5000 Cost =  0.32883384135990973\n",
            "Step =  6000 Cost =  0.27922435112364974\n",
            "Step =  7000 Cost =  0.24231177458888986\n",
            "Step =  8000 Cost =  0.21381977139679934\n",
            "Step =  9000 Cost =  0.19119048130307448\n",
            "Step =  10000 Cost =  0.17280144715598478\n"
          ]
        }
      ]
    },
    {
      "cell_type": "markdown",
      "metadata": {
        "id": "dxaBOPOkNiQR"
      },
      "source": [
        "- NAND_Gate Test"
      ]
    },
    {
      "cell_type": "code",
      "metadata": {
        "colab": {
          "base_uri": "https://localhost:8080/"
        },
        "id": "X_6UoujYNgxs",
        "outputId": "79bcbc72-edfc-4062-bf8a-0bb9f9feee1d"
      },
      "source": [
        "print(NAND_Gate.Type, '\\n')\n",
        "\n",
        "test_data = np.array([[0,0],[0,1],[1,0],[1,1]])\n",
        "\n",
        "for input_data in test_data:\n",
        "    (sigmoid_val, logical_val) = NAND_Gate.predict(input_data)\n",
        "    print(input_data, '=', logical_val)"
      ],
      "execution_count": 21,
      "outputs": [
        {
          "output_type": "stream",
          "name": "stdout",
          "text": [
            "NAND_GATE \n",
            "\n",
            "[0 0] = 1\n",
            "[0 1] = 1\n",
            "[1 0] = 1\n",
            "[1 1] = 0\n"
          ]
        }
      ]
    },
    {
      "cell_type": "markdown",
      "metadata": {
        "id": "0Gdu-nL8N27E"
      },
      "source": [
        "# 3. XOR_Gate Issue"
      ]
    },
    {
      "cell_type": "markdown",
      "metadata": {
        "id": "evLtf_AhN6VQ"
      },
      "source": [
        "## 1) XOR_Gate Failure\n",
        "\n",
        "- X_input, y_output"
      ]
    },
    {
      "cell_type": "code",
      "metadata": {
        "id": "DkS9IsW_N1Z9"
      },
      "source": [
        "X_input = np.array([[0,0],[0,1],[1,0],[1,1]])\n",
        "y_output = np.array([0,1,1,0])"
      ],
      "execution_count": 22,
      "outputs": []
    },
    {
      "cell_type": "markdown",
      "metadata": {
        "id": "UvMdS7YMOD42"
      },
      "source": [
        "- XOR_Gate 객체생성 및 학습"
      ]
    },
    {
      "cell_type": "code",
      "metadata": {
        "colab": {
          "base_uri": "https://localhost:8080/"
        },
        "id": "EiXE38YFODc8",
        "outputId": "9d519def-fe5f-4d7f-94c8-3fd25ffbc073"
      },
      "source": [
        "XOR_Gate = LogicGate('XOR_GATE',X_input, y_output)\n",
        "XOR_Gate.learn()"
      ],
      "execution_count": 23,
      "outputs": [
        {
          "output_type": "stream",
          "name": "stdout",
          "text": [
            "Initial Cost =  4.256973006580979\n",
            "Step =  0 Cost =  4.226184762638008\n",
            "Step =  1000 Cost =  2.7727475515585605\n",
            "Step =  2000 Cost =  2.7725188929739404\n",
            "Step =  3000 Cost =  2.7725091577018928\n",
            "Step =  4000 Cost =  2.7725087416282017\n",
            "Step =  5000 Cost =  2.772508723834784\n",
            "Step =  6000 Cost =  2.7725087230737735\n",
            "Step =  7000 Cost =  2.7725087230412253\n",
            "Step =  8000 Cost =  2.772508723039833\n",
            "Step =  9000 Cost =  2.7725087230397736\n",
            "Step =  10000 Cost =  2.772508723039771\n"
          ]
        }
      ]
    },
    {
      "cell_type": "markdown",
      "metadata": {
        "id": "7IDzopNoOOIK"
      },
      "source": [
        "- XOR_Gate Test"
      ]
    },
    {
      "cell_type": "code",
      "metadata": {
        "colab": {
          "base_uri": "https://localhost:8080/"
        },
        "id": "FsbE96WOOMpd",
        "outputId": "66e6a1bf-656c-47b8-d07e-7ff1deb2fa7a"
      },
      "source": [
        "print(XOR_Gate.Type, '\\n')\n",
        "test_data = np.array([[0,0],[0,1],[1,0],[1,1]])\n",
        "\n",
        "for input_data in test_data:\n",
        "    (sigmoid_val, logical_val) = XOR_Gate.predict(input_data)\n",
        "    print(input_data, '=', logical_val)"
      ],
      "execution_count": 24,
      "outputs": [
        {
          "output_type": "stream",
          "name": "stdout",
          "text": [
            "XOR_GATE \n",
            "\n",
            "[0 0] = 0\n",
            "[0 1] = 0\n",
            "[1 0] = 0\n",
            "[1 1] = 1\n"
          ]
        }
      ]
    },
    {
      "cell_type": "markdown",
      "metadata": {
        "id": "F7Umr7c9Oh4K"
      },
      "source": [
        "## 2) XOR_Gate Succeed\n",
        "- XOR를 (NAND + OR) 계층 및 AND 계층의 조합으로 연산\n",
        "- 이전 학습된 Parameter로 XOR 수행"
      ]
    },
    {
      "cell_type": "code",
      "metadata": {
        "id": "1fSw2-P5OfeT"
      },
      "source": [
        "input_data = np.array([[0,0],[0,1],[1,0],[1,1]])\n",
        "\n",
        "HL1_1 = []  # NAND 출력\n",
        "HL1_2 = []  # OR 출력\n",
        "\n",
        "new_input_data= []  # AND 입력\n",
        "final_output = []   # AND(XOR)출력\n",
        "\n",
        "for index in range(len(input_data)):\n",
        "    HL1_1 = NAND_Gate.predict(input_data[index])    # NAND  출력\n",
        "    HL1_2 = OR_Gate.predict(input_data[index])      # OR    출력\n",
        "\n",
        "    new_input_data.append(HL1_1[-1])    # AND 입력\n",
        "    new_input_data.append(HL1_2[-1])    # AND 입력\n",
        "\n",
        "    (sigmoid_val, logical_val) = AND_Gate.predict(np.array(new_input_data))\n",
        "\n",
        "    final_output.append(logical_val)    # AND(XOR) 출력\n",
        "    new_input_data = []                 # AND 입력 초기화"
      ],
      "execution_count": 26,
      "outputs": []
    },
    {
      "cell_type": "code",
      "metadata": {
        "colab": {
          "base_uri": "https://localhost:8080/"
        },
        "id": "H8gtLiEtPtwc",
        "outputId": "a0220a5b-e1fb-43c7-ba61-d98c94dd56fa"
      },
      "source": [
        "print(XOR_Gate.Type, '\\n')\n",
        "for index in range(len(input_data)):\n",
        "    print(input_data[index], '=', final_output[index])"
      ],
      "execution_count": 27,
      "outputs": [
        {
          "output_type": "stream",
          "name": "stdout",
          "text": [
            "XOR_GATE \n",
            "\n",
            "[0 0] = 0\n",
            "[0 1] = 1\n",
            "[1 0] = 1\n",
            "[1 1] = 0\n"
          ]
        }
      ]
    },
    {
      "cell_type": "markdown",
      "metadata": {
        "id": "WpX3RPh3P8G6"
      },
      "source": [
        "## 3) XOR_Gate Learning\n"
      ]
    },
    {
      "cell_type": "markdown",
      "metadata": {
        "id": "QMan3NJQQBFy"
      },
      "source": [
        "### (1)  XOR_Gate Class"
      ]
    },
    {
      "cell_type": "code",
      "metadata": {
        "id": "ghi96eDJP6mD"
      },
      "source": [
        "class XOR_Gate:\n",
        "    def __init__(self, gate_Type, X_input, y_output):\n",
        "\n",
        "        self.Type = gate_Type\n",
        "\n",
        "        self.X_input = X_input.reshape(4,2)\n",
        "        self.y_output = y_output.reshape(4,1)\n",
        "\n",
        "        self.W_1 = np.random.rand(2,2)\n",
        "        self.b_1 = np.random.rand(2)\n",
        "\n",
        "        self.W_2 = np.random.rand(2,1)\n",
        "        self.b_2 = np.random.rand(1)\n",
        "\n",
        "        self.learning_rate = 0.01\n",
        "\n",
        "    def cost_func(self):\n",
        "\n",
        "        z_1 = np.dot(self.X_input, self.W_1) + self.b_1         # Hidden Layer\n",
        "        a_1 = sigmoid(z_1)\n",
        "        \n",
        "        z_2 = np.dot(a_1, self.W_2) + self.b_2\n",
        "        y_hat = sigmoid(z_2)\n",
        "\n",
        "        delta = 0.00001\n",
        "        return -np.sum(self.y_output * np.log(y_hat+delta)+(1-self.y_output)* np.log((1-y_hat)+delta))\n",
        "\n",
        "    def learn(self):\n",
        "\n",
        "        machine = lambda x: self.cost_func()\n",
        "        print(\"Initial Cost = \", self.cost_func())\n",
        "\n",
        "        for step in range(20001):\n",
        "            self.W_1 = self.W_1-self.learning_rate*gradient(machine, self.W_1)\n",
        "            self.b_1 = self.b_1-self.learning_rate*gradient(machine, self.b_1)\n",
        "\n",
        "            self.W_2 = self.W_2-self.learning_rate*gradient(machine, self.W_2)\n",
        "            self.b_2 = self.b_2-self.learning_rate*gradient(machine, self.b_2)\n",
        "\n",
        "            if (step % 1000 == 0):\n",
        "                print(\"step = \", step, 'Cost = ', self.cost_func())\n",
        "\n",
        "    def predict(self, input_data):\n",
        "\n",
        "        z_1 = np.dot(input_data, self.W_1) + self.b_1       # Hidden Layer\n",
        "        a_1 = sigmoid(z_1)\n",
        "\n",
        "        z_2 = np.dot(a_1, self.W_2) + self.b_2\n",
        "        y_prob = sigmoid(z_2)                               # Output Layer\n",
        "\n",
        "        if y_prob > 0.5:\n",
        "            result = 1\n",
        "        else:\n",
        "            result = 0\n",
        "\n",
        "        return y_prob, result"
      ],
      "execution_count": 34,
      "outputs": []
    },
    {
      "cell_type": "markdown",
      "metadata": {
        "id": "FvVWpKlvSGXR"
      },
      "source": [
        "### (2) X_input, y_output"
      ]
    },
    {
      "cell_type": "code",
      "metadata": {
        "id": "hbqyRPy9RD81"
      },
      "source": [
        "X_input = np.array([[0,0],[0,1],[1,0],[1,1]])\n",
        "y_output = np.array([0,1,1,0])"
      ],
      "execution_count": 35,
      "outputs": []
    },
    {
      "cell_type": "markdown",
      "metadata": {
        "id": "4q3f1ZqfST01"
      },
      "source": [
        "### (3) XOR_Gate_2.learn()"
      ]
    },
    {
      "cell_type": "code",
      "metadata": {
        "colab": {
          "base_uri": "https://localhost:8080/"
        },
        "id": "o4tgQknKSTbr",
        "outputId": "c6315671-44cd-464f-911f-451b3408f224"
      },
      "source": [
        "XOR_Gate_2 = XOR_Gate('XOR_GATE', X_input, y_output)\n",
        "\n",
        "XOR_Gate_2.learn()"
      ],
      "execution_count": 36,
      "outputs": [
        {
          "output_type": "stream",
          "name": "stdout",
          "text": [
            "Initial Cost =  4.883988802670685\n",
            "step =  0 Cost =  4.8264903248014175\n",
            "step =  1000 Cost =  2.766052994831462\n",
            "step =  2000 Cost =  2.7571922598934666\n",
            "step =  3000 Cost =  2.7358014346583936\n",
            "step =  4000 Cost =  2.6843905641413763\n",
            "step =  5000 Cost =  2.576394439345046\n",
            "step =  6000 Cost =  2.407182753304786\n",
            "step =  7000 Cost =  2.2306631582219802\n",
            "step =  8000 Cost =  2.0772270628458083\n",
            "step =  9000 Cost =  1.899714378774305\n",
            "step =  10000 Cost =  1.572874646911247\n",
            "step =  11000 Cost =  1.0755042877010486\n",
            "step =  12000 Cost =  0.6775998970112086\n",
            "step =  13000 Cost =  0.4550269200488041\n",
            "step =  14000 Cost =  0.3316895629217615\n",
            "step =  15000 Cost =  0.25733185933738506\n",
            "step =  16000 Cost =  0.2087160069564888\n",
            "step =  17000 Cost =  0.17483052237194388\n",
            "step =  18000 Cost =  0.150020511780606\n",
            "step =  19000 Cost =  0.1311461021455915\n",
            "step =  20000 Cost =  0.11634448517316293\n"
          ]
        }
      ]
    },
    {
      "cell_type": "markdown",
      "metadata": {
        "id": "VNxFfcRzSvUF"
      },
      "source": [
        "###(4) XOR_Gate_2.predict()"
      ]
    },
    {
      "cell_type": "code",
      "metadata": {
        "colab": {
          "base_uri": "https://localhost:8080/"
        },
        "id": "Py1G0AneSdsc",
        "outputId": "466a11d4-77d3-449f-df70-4cf732e5f063"
      },
      "source": [
        "print(XOR_Gate_2.Type, '\\n')\n",
        "test_data = np.array([[0,0],[0,1],[1,0],[1,1]])\n",
        "\n",
        "for input_data in test_data:\n",
        "    (sigmoid_val, logical_val) = XOR_Gate_2.predict(input_data)\n",
        "    print(input_data, '=', logical_val)"
      ],
      "execution_count": 37,
      "outputs": [
        {
          "output_type": "stream",
          "name": "stdout",
          "text": [
            "XOR_GATE \n",
            "\n",
            "[0 0] = 0\n",
            "[0 1] = 1\n",
            "[1 0] = 1\n",
            "[1 1] = 0\n"
          ]
        }
      ]
    },
    {
      "cell_type": "markdown",
      "metadata": {
        "id": "WrIkjnTITFHX"
      },
      "source": [
        "# THE END"
      ]
    }
  ]
}