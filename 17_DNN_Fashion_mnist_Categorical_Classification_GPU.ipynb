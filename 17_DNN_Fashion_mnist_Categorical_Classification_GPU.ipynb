{
  "nbformat": 4,
  "nbformat_minor": 0,
  "metadata": {
    "colab": {
      "name": "17_DNN_Fashion_mnist_Categorical_Classification_GPU.ipynb",
      "provenance": [],
      "collapsed_sections": []
    },
    "kernelspec": {
      "name": "python3",
      "display_name": "Python 3"
    },
    "accelerator": "GPU"
  },
  "cells": [
    {
      "cell_type": "markdown",
      "metadata": {
        "id": "q2Pr7oBdYLdf"
      },
      "source": [
        "# Fashion MNIST - Categorical Classification"
      ]
    },
    {
      "cell_type": "code",
      "metadata": {
        "id": "RbPgODpVzdHI"
      },
      "source": [
        "import warnings\n",
        "warnings.filterwarnings('ignore')"
      ],
      "execution_count": 1,
      "outputs": []
    },
    {
      "cell_type": "markdown",
      "metadata": {
        "id": "H49A769LYp-a"
      },
      "source": [
        "# I. Fashion MNIST Data_Set Load & Review"
      ]
    },
    {
      "cell_type": "markdown",
      "metadata": {
        "id": "vb6EIkRcbPb4"
      },
      "source": [
        "> ## 1) Load Fashion MNIST Data_Set"
      ]
    },
    {
      "cell_type": "code",
      "metadata": {
        "id": "DxstjE8b_6Te",
        "colab": {
          "base_uri": "https://localhost:8080/"
        },
        "outputId": "d7f0d68f-74a4-491c-ac59-4eb25ecb8c02"
      },
      "source": [
        "from tensorflow.keras.datasets import fashion_mnist\n",
        "\n",
        "(X_train, y_train), (X_test, y_test) = fashion_mnist.load_data()"
      ],
      "execution_count": 2,
      "outputs": [
        {
          "output_type": "stream",
          "name": "stdout",
          "text": [
            "Downloading data from https://storage.googleapis.com/tensorflow/tf-keras-datasets/train-labels-idx1-ubyte.gz\n",
            "32768/29515 [=================================] - 0s 0us/step\n",
            "40960/29515 [=========================================] - 0s 0us/step\n",
            "Downloading data from https://storage.googleapis.com/tensorflow/tf-keras-datasets/train-images-idx3-ubyte.gz\n",
            "26427392/26421880 [==============================] - 0s 0us/step\n",
            "26435584/26421880 [==============================] - 0s 0us/step\n",
            "Downloading data from https://storage.googleapis.com/tensorflow/tf-keras-datasets/t10k-labels-idx1-ubyte.gz\n",
            "16384/5148 [===============================================================================================] - 0s 0us/step\n",
            "Downloading data from https://storage.googleapis.com/tensorflow/tf-keras-datasets/t10k-images-idx3-ubyte.gz\n",
            "4423680/4422102 [==============================] - 0s 0us/step\n",
            "4431872/4422102 [==============================] - 0s 0us/step\n"
          ]
        }
      ]
    },
    {
      "cell_type": "markdown",
      "metadata": {
        "id": "Mt11QE0EHCiJ"
      },
      "source": [
        "* Train_Data Information"
      ]
    },
    {
      "cell_type": "code",
      "metadata": {
        "id": "KT_Mr_Hb__VH",
        "colab": {
          "base_uri": "https://localhost:8080/"
        },
        "outputId": "9352de55-eb32-4577-8807-dd64b46b7cd7"
      },
      "source": [
        "print(len(X_train))\n",
        "print(X_train.shape)\n",
        "print(len(y_train))\n",
        "print(y_train[0:5])"
      ],
      "execution_count": 5,
      "outputs": [
        {
          "output_type": "stream",
          "name": "stdout",
          "text": [
            "60000\n",
            "(60000, 28, 28)\n",
            "60000\n",
            "[9 0 0 3 0]\n"
          ]
        }
      ]
    },
    {
      "cell_type": "markdown",
      "metadata": {
        "id": "QolAqIwgHGRI"
      },
      "source": [
        "* Test_Data Information"
      ]
    },
    {
      "cell_type": "code",
      "metadata": {
        "id": "NtkD2BKUANZE",
        "colab": {
          "base_uri": "https://localhost:8080/"
        },
        "outputId": "b0c7e245-769e-42f2-ccb7-efdc8e95dc62"
      },
      "source": [
        "print(len(X_test))\n",
        "print(X_test.shape)\n",
        "print(len(y_test))\n",
        "print(y_test[0:5])"
      ],
      "execution_count": 6,
      "outputs": [
        {
          "output_type": "stream",
          "name": "stdout",
          "text": [
            "10000\n",
            "(10000, 28, 28)\n",
            "10000\n",
            "[9 2 1 1 6]\n"
          ]
        }
      ]
    },
    {
      "cell_type": "markdown",
      "metadata": {
        "id": "BBSg_oWbZCyr"
      },
      "source": [
        "> ## 2) Visualization"
      ]
    },
    {
      "cell_type": "code",
      "metadata": {
        "id": "OV19FumXAWGH",
        "colab": {
          "base_uri": "https://localhost:8080/",
          "height": 265
        },
        "outputId": "81178ebf-e865-4bab-b3ab-272bdba5af45"
      },
      "source": [
        "import matplotlib.pyplot as plt\n",
        "\n",
        "digit = X_train[4]\n",
        "plt.imshow(digit, cmap = 'gray')\n",
        "plt.show()"
      ],
      "execution_count": 7,
      "outputs": [
        {
          "output_type": "display_data",
          "data": {
            "image/png": "[encoded data removed]",
            "text/plain": [
              "<Figure size 432x288 with 1 Axes>"
            ]
          },
          "metadata": {
            "needs_background": "light"
          }
        }
      ]
    },
    {
      "cell_type": "code",
      "metadata": {
        "id": "wWXMkCE8NyAg",
        "cellView": "code",
        "colab": {
          "base_uri": "https://localhost:8080/"
        },
        "outputId": "cea43775-5d2b-4431-8ed1-f7a67857e3c0"
      },
      "source": [
        "import numpy as np\n",
        "\n",
        "np.set_printoptions(linewidth = 150)\n",
        "\n",
        "print(X_train[4])"
      ],
      "execution_count": 8,
      "outputs": [
        {
          "output_type": "stream",
          "name": "stdout",
          "text": [
            "[[  0   0   0   0   0   0   0   0   0   0   0   0   0   0   0   0   0  26   0   0   0   0   0   0   0   0   0   0]\n",
            " [  0   0   0   0   0   0   0   0 189 206 187  32   0   0   0  26 217 226 196  11   0   0   0   0   0   0   0   0]\n",
            " [  0   0   0   0   0   0   0   0 192 227 234 243 230 147 239 242 234 218 209   0   0   0   0   0   0   0   0   0]\n",
            " [  0   0   0   0   0   0   0   0 173 225 215 233 254   0 194 240 217 221 190   0   0   0   0   0   0   0   0   0]\n",
            " [  0   0   0   0   0   0   0   0 139 229 212 226 255   0 162 255 213 226 200   0   0   0   0   0   0   0   0   0]\n",
            " [  0   0   0   0   0   0   0   0  98 232 211 215 249  46 162 246 214 230 186   0   0   0   0   0   0   0   0   0]\n",
            " [  0   0   0   0   0   0   0   0  70 228 213 220 224 252 239 219 217 231 171   0   0   0   0   0   0   0   0   0]\n",
            " [  0   0   0   0   0   0   0   0  45 222 214 218 216 210 215 217 202 224 172   0   0   0   0   0   0   0   0   0]\n",
            " [  0   0   0   0   0   0   0   0  24 254 214 210 211 214 215 212 203 221 167   0   0   0   0   0   0   0   0   0]\n",
            " [  0   0   0   0   0   0   0   0   0 254 216 215 217 217 216 216 206 225 150   0   0   0   0   0   0   0   0   0]\n",
            " [  0   0   0   0   0   0   0   0   0 247 216 214 217 216 214 212 203 226 136   0   0   0   0   0   0   0   0   0]\n",
            " [  0   0   0   0   0   0   0   0   0 245 216 214 216 217 215 211 204 225 125   0   0   0   0   0   0   0   0   0]\n",
            " [  0   0   0   0   0   0   0   0   0 247 216 214 217 220 217 213 203 222 147   0   0   0   0   0   0   0   0   0]\n",
            " [  0   0   0   0   0   0   0   0   0 248 216 215 218 222 216 214 207 218 179   0   0   0   0   0   0   0   0   0]\n",
            " [  0   0   0   0   0   0   0   0   0 249 216 217 219 222 217 214 210 215 211   0   0   0   0   0   0   0   0   0]\n",
            " [  0   0   0   0   0   0   0   0  38 255 214 218 219 224 218 215 211 211 231   0   0   0   0   0   0   0   0   0]\n",
            " [  0   0   0   0   0   0   0   0  79 227 209 219 219 227 219 215 213 206 254  58   0   0   0   0   0   0   0   0]\n",
            " [  0   0   0   0   0   0   0   0 146 226 211 220 219 228 218 215 216 205 219 163   0   0   0   0   0   0   0   0]\n",
            " [  0   0   0   0   0   0   0   0 202 221 214 221 219 231 218 215 218 213 212 220   0   0   0   0   0   0   0   0]\n",
            " [  0   0   0   0   0   0   0   0 234 217 216 220 219 234 217 215 218 216 223 247   7   0   0   0   0   0   0   0]\n",
            " [  0   0   0   0   0   0   0  17 254 212 219 219 220 233 214 216 219 222 153 238  58   0   0   0   0   0   0   0]\n",
            " [  0   0   0   0   0   0   0  66 255 208 220 219 222 241 220 218 218 218 192 242  99   0   0   0   0   0   0   0]\n",
            " [  0   0   0   0   0   0   0 142 235 203 218 216 231 242 225 233 219 214 216 238 144   0   0   0   0   0   0   0]\n",
            " [  0   0   0   0   0   0   0 177 248 227 229 211 255  76   0 247 243 230 230 249 187   0   0   0   0   0   0   0]\n",
            " [  0   0   0   0   0   0   0 101 241 228 228 220 255  64   0 243 237 230 227 241 142   0   0   0   0   0   0   0]\n",
            " [  0   0   0   0   0   0   0   0 255 242 222 218 255  62   0 223 238 225 238 255  31   0   0   0   0   0   0   0]\n",
            " [  0   0   0   0   0   0   0   0  45 255 242 235 255  84   0 246 255 242 255  70   0   0   0   0   0   0   0   0]\n",
            " [  0   0   0   0   0   0   0   0   0   0  61 102 168  25   0 139 161  74   0   0   0   0   0   0   0   0   0   0]]\n"
          ]
        }
      ]
    },
    {
      "cell_type": "markdown",
      "metadata": {
        "id": "Mk9XL5vGHor6"
      },
      "source": [
        "# II. Data Preprocessing"
      ]
    },
    {
      "cell_type": "markdown",
      "metadata": {
        "id": "ec8zU4XCZRUF"
      },
      "source": [
        "> ## 1) Reshape and Normalization"
      ]
    },
    {
      "cell_type": "markdown",
      "metadata": {
        "id": "olI6ZPtEIb8H"
      },
      "source": [
        "* reshape\n",
        " * (60000, 28, 28) to (60000, 784)"
      ]
    },
    {
      "cell_type": "code",
      "metadata": {
        "id": "8-toPn1ZAmFd",
        "colab": {
          "base_uri": "https://localhost:8080/"
        },
        "outputId": "323ce0c3-8501-41ef-f674-f2b50830bfb7"
      },
      "source": [
        "X_train = X_train.reshape((60000,28*28))\n",
        "X_test = X_test.reshape((10000,28*28))\n",
        "\n",
        "X_train.shape, X_test.shape"
      ],
      "execution_count": 9,
      "outputs": [
        {
          "output_type": "execute_result",
          "data": {
            "text/plain": [
              "((60000, 784), (10000, 784))"
            ]
          },
          "metadata": {},
          "execution_count": 9
        }
      ]
    },
    {
      "cell_type": "markdown",
      "metadata": {
        "id": "UN-xPWjYIeWL"
      },
      "source": [
        "* Normalization"
      ]
    },
    {
      "cell_type": "code",
      "metadata": {
        "id": "SoGHuYeFIGBj"
      },
      "source": [
        "X_train = X_train.astype(float) /255\n",
        "X_test = X_test.astype(float)/255"
      ],
      "execution_count": 10,
      "outputs": []
    },
    {
      "cell_type": "code",
      "metadata": {
        "id": "m1HezAboV-x8",
        "colab": {
          "base_uri": "https://localhost:8080/"
        },
        "outputId": "ffcb8efa-8c73-4bf1-aaec-6cd3cea1f41f"
      },
      "source": [
        "print(X_train[4])"
      ],
      "execution_count": 11,
      "outputs": [
        {
          "output_type": "stream",
          "name": "stdout",
          "text": [
            "[0.         0.         0.         0.         0.         0.         0.         0.         0.         0.         0.         0.         0.\n",
            " 0.         0.         0.         0.         0.10196078 0.         0.         0.         0.         0.         0.         0.         0.\n",
            " 0.         0.         0.         0.         0.         0.         0.         0.         0.         0.         0.74117647 0.80784314 0.73333333\n",
            " 0.1254902  0.         0.         0.         0.10196078 0.85098039 0.88627451 0.76862745 0.04313725 0.         0.         0.         0.\n",
            " 0.         0.         0.         0.         0.         0.         0.         0.         0.         0.         0.         0.         0.75294118\n",
            " 0.89019608 0.91764706 0.95294118 0.90196078 0.57647059 0.9372549  0.94901961 0.91764706 0.85490196 0.81960784 0.         0.         0.\n",
            " 0.         0.         0.         0.         0.         0.         0.         0.         0.         0.         0.         0.         0.\n",
            " 0.         0.67843137 0.88235294 0.84313725 0.91372549 0.99607843 0.         0.76078431 0.94117647 0.85098039 0.86666667 0.74509804 0.\n",
            " 0.         0.         0.         0.         0.         0.         0.         0.         0.         0.         0.         0.         0.\n",
            " 0.         0.         0.         0.54509804 0.89803922 0.83137255 0.88627451 1.         0.         0.63529412 1.         0.83529412 0.88627451\n",
            " 0.78431373 0.         0.         0.         0.         0.         0.         0.         0.         0.         0.         0.         0.\n",
            " 0.         0.         0.         0.         0.         0.38431373 0.90980392 0.82745098 0.84313725 0.97647059 0.18039216 0.63529412 0.96470588\n",
            " 0.83921569 0.90196078 0.72941176 0.         0.         0.         0.         0.         0.         0.         0.         0.         0.\n",
            " 0.         0.         0.         0.         0.         0.         0.         0.2745098  0.89411765 0.83529412 0.8627451  0.87843137 0.98823529\n",
            " 0.9372549  0.85882353 0.85098039 0.90588235 0.67058824 0.         0.         0.         0.         0.         0.         0.         0.\n",
            " 0.         0.         0.         0.         0.         0.         0.         0.         0.         0.17647059 0.87058824 0.83921569 0.85490196\n",
            " 0.84705882 0.82352941 0.84313725 0.85098039 0.79215686 0.87843137 0.6745098  0.         0.         0.         0.         0.         0.\n",
            " 0.         0.         0.         0.         0.         0.         0.         0.         0.         0.         0.         0.09411765 0.99607843\n",
            " 0.83921569 0.82352941 0.82745098 0.83921569 0.84313725 0.83137255 0.79607843 0.86666667 0.65490196 0.         0.         0.         0.\n",
            " 0.         0.         0.         0.         0.         0.         0.         0.         0.         0.         0.         0.         0.\n",
            " 0.         0.99607843 0.84705882 0.84313725 0.85098039 0.85098039 0.84705882 0.84705882 0.80784314 0.88235294 0.58823529 0.         0.\n",
            " 0.         0.         0.         0.         0.         0.         0.         0.         0.         0.         0.         0.         0.\n",
            " 0.         0.         0.         0.96862745 0.84705882 0.83921569 0.85098039 0.84705882 0.83921569 0.83137255 0.79607843 0.88627451 0.53333333\n",
            " 0.         0.         0.         0.         0.         0.         0.         0.         0.         0.         0.         0.         0.\n",
            " 0.         0.         0.         0.         0.         0.96078431 0.84705882 0.83921569 0.84705882 0.85098039 0.84313725 0.82745098 0.8\n",
            " 0.88235294 0.49019608 0.         0.         0.         0.         0.         0.         0.         0.         0.         0.         0.\n",
            " 0.         0.         0.         0.         0.         0.         0.         0.96862745 0.84705882 0.83921569 0.85098039 0.8627451  0.85098039\n",
            " 0.83529412 0.79607843 0.87058824 0.57647059 0.         0.         0.         0.         0.         0.         0.         0.         0.\n",
            " 0.         0.         0.         0.         0.         0.         0.         0.         0.         0.97254902 0.84705882 0.84313725 0.85490196\n",
            " 0.87058824 0.84705882 0.83921569 0.81176471 0.85490196 0.70196078 0.         0.         0.         0.         0.         0.         0.\n",
            " 0.         0.         0.         0.         0.         0.         0.         0.         0.         0.         0.         0.97647059 0.84705882\n",
            " 0.85098039 0.85882353 0.87058824 0.85098039 0.83921569 0.82352941 0.84313725 0.82745098 0.         0.         0.         0.         0.\n",
            " 0.         0.         0.         0.         0.         0.         0.         0.         0.         0.         0.         0.         0.14901961\n",
            " 1.         0.83921569 0.85490196 0.85882353 0.87843137 0.85490196 0.84313725 0.82745098 0.82745098 0.90588235 0.         0.         0.\n",
            " 0.         0.         0.         0.         0.         0.         0.         0.         0.         0.         0.         0.         0.\n",
            " 0.         0.30980392 0.89019608 0.81960784 0.85882353 0.85882353 0.89019608 0.85882353 0.84313725 0.83529412 0.80784314 0.99607843 0.22745098\n",
            " 0.         0.         0.         0.         0.         0.         0.         0.         0.         0.         0.         0.         0.\n",
            " 0.         0.         0.         0.57254902 0.88627451 0.82745098 0.8627451  0.85882353 0.89411765 0.85490196 0.84313725 0.84705882 0.80392157\n",
            " 0.85882353 0.63921569 0.         0.         0.         0.         0.         0.         0.         0.         0.         0.         0.\n",
            " 0.         0.         0.         0.         0.         0.79215686 0.86666667 0.83921569 0.86666667 0.85882353 0.90588235 0.85490196 0.84313725\n",
            " 0.85490196 0.83529412 0.83137255 0.8627451  0.         0.         0.         0.         0.         0.         0.         0.         0.\n",
            " 0.         0.         0.         0.         0.         0.         0.         0.91764706 0.85098039 0.84705882 0.8627451  0.85882353 0.91764706\n",
            " 0.85098039 0.84313725 0.85490196 0.84705882 0.8745098  0.96862745 0.02745098 0.         0.         0.         0.         0.         0.\n",
            " 0.         0.         0.         0.         0.         0.         0.         0.         0.06666667 0.99607843 0.83137255 0.85882353 0.85882353\n",
            " 0.8627451  0.91372549 0.83921569 0.84705882 0.85882353 0.87058824 0.6        0.93333333 0.22745098 0.         0.         0.         0.\n",
            " 0.         0.         0.         0.         0.         0.         0.         0.         0.         0.         0.25882353 1.         0.81568627\n",
            " 0.8627451  0.85882353 0.87058824 0.94509804 0.8627451  0.85490196 0.85490196 0.85490196 0.75294118 0.94901961 0.38823529 0.         0.\n",
            " 0.         0.         0.         0.         0.         0.         0.         0.         0.         0.         0.         0.         0.55686275\n",
            " 0.92156863 0.79607843 0.85490196 0.84705882 0.90588235 0.94901961 0.88235294 0.91372549 0.85882353 0.83921569 0.84705882 0.93333333 0.56470588\n",
            " 0.         0.         0.         0.         0.         0.         0.         0.         0.         0.         0.         0.         0.\n",
            " 0.         0.69411765 0.97254902 0.89019608 0.89803922 0.82745098 1.         0.29803922 0.         0.96862745 0.95294118 0.90196078 0.90196078\n",
            " 0.97647059 0.73333333 0.         0.         0.         0.         0.         0.         0.         0.         0.         0.         0.\n",
            " 0.         0.         0.         0.39607843 0.94509804 0.89411765 0.89411765 0.8627451  1.         0.25098039 0.         0.95294118 0.92941176\n",
            " 0.90196078 0.89019608 0.94509804 0.55686275 0.         0.         0.         0.         0.         0.         0.         0.         0.\n",
            " 0.         0.         0.         0.         0.         0.         1.         0.94901961 0.87058824 0.85490196 1.         0.24313725 0.\n",
            " 0.8745098  0.93333333 0.88235294 0.93333333 1.         0.12156863 0.         0.         0.         0.         0.         0.         0.\n",
            " 0.         0.         0.         0.         0.         0.         0.         0.         0.17647059 1.         0.94901961 0.92156863 1.\n",
            " 0.32941176 0.         0.96470588 1.         0.94901961 1.         0.2745098  0.         0.         0.         0.         0.         0.\n",
            " 0.         0.         0.         0.         0.         0.         0.         0.         0.         0.         0.         0.         0.23921569\n",
            " 0.4        0.65882353 0.09803922 0.         0.54509804 0.63137255 0.29019608 0.         0.         0.         0.         0.         0.\n",
            " 0.         0.         0.         0.        ]\n"
          ]
        }
      ]
    },
    {
      "cell_type": "markdown",
      "metadata": {
        "id": "BtSROU80aF12"
      },
      "source": [
        "> ## 2) One Hot Encoding"
      ]
    },
    {
      "cell_type": "code",
      "metadata": {
        "id": "eC48Oym3Ao8E"
      },
      "source": [
        "from tensorflow.keras.utils import to_categorical\n",
        "\n",
        "y_train = to_categorical(y_train)\n",
        "y_test = to_categorical(y_test)"
      ],
      "execution_count": 12,
      "outputs": []
    },
    {
      "cell_type": "code",
      "metadata": {
        "id": "q1O-NsoJMyWU",
        "colab": {
          "base_uri": "https://localhost:8080/"
        },
        "outputId": "ba8b6971-55e5-4033-9393-63f5534398fb"
      },
      "source": [
        "print(y_train[:5])"
      ],
      "execution_count": 14,
      "outputs": [
        {
          "output_type": "stream",
          "name": "stdout",
          "text": [
            "[[0. 0. 0. 0. 0. 0. 0. 0. 0. 1.]\n",
            " [1. 0. 0. 0. 0. 0. 0. 0. 0. 0.]\n",
            " [1. 0. 0. 0. 0. 0. 0. 0. 0. 0.]\n",
            " [0. 0. 0. 1. 0. 0. 0. 0. 0. 0.]\n",
            " [1. 0. 0. 0. 0. 0. 0. 0. 0. 0.]]\n"
          ]
        }
      ]
    },
    {
      "cell_type": "markdown",
      "metadata": {
        "id": "NTwZiSjiop3v"
      },
      "source": [
        "# III. Keras Modeling"
      ]
    },
    {
      "cell_type": "markdown",
      "metadata": {
        "id": "j5CT0TurJCkc"
      },
      "source": [
        "> ## 1) Model Define"
      ]
    },
    {
      "cell_type": "markdown",
      "metadata": {
        "id": "ydDCl0jTJD58"
      },
      "source": [
        "* 모델 신경망 구조 정의\n",
        " - 2개의 Hidden Layers & 768개의 Nodes"
      ]
    },
    {
      "cell_type": "code",
      "metadata": {
        "id": "II0DskRdAcHS"
      },
      "source": [
        "from tensorflow.keras import models\n",
        "from tensorflow.keras import layers\n",
        "\n",
        "mnist = models.Sequential()\n",
        "mnist.add(layers.Dense(512, activation = 'relu', input_shape = (28*28,)))\n",
        "mnist.add(layers.Dense(256, activation = 'relu'))\n",
        "mnist.add(layers.Dense(10, activation = 'softmax'))"
      ],
      "execution_count": 16,
      "outputs": []
    },
    {
      "cell_type": "markdown",
      "metadata": {
        "id": "PqrObAHZJTN8"
      },
      "source": [
        "* 모델 구조 확인"
      ]
    },
    {
      "cell_type": "code",
      "metadata": {
        "id": "wbtjOA4XMTUd",
        "colab": {
          "base_uri": "https://localhost:8080/"
        },
        "outputId": "f6b32bc0-a6fa-46fc-f907-bb2f65c4855b"
      },
      "source": [
        "mnist.summary()"
      ],
      "execution_count": 17,
      "outputs": [
        {
          "output_type": "stream",
          "name": "stdout",
          "text": [
            "Model: \"sequential_1\"\n",
            "_________________________________________________________________\n",
            "Layer (type)                 Output Shape              Param #   \n",
            "=================================================================\n",
            "dense (Dense)                (None, 512)               401920    \n",
            "_________________________________________________________________\n",
            "dense_1 (Dense)              (None, 256)               131328    \n",
            "_________________________________________________________________\n",
            "dense_2 (Dense)              (None, 10)                2570      \n",
            "=================================================================\n",
            "Total params: 535,818\n",
            "Trainable params: 535,818\n",
            "Non-trainable params: 0\n",
            "_________________________________________________________________\n"
          ]
        }
      ]
    },
    {
      "cell_type": "markdown",
      "metadata": {
        "id": "tpjBDBeYoyuj"
      },
      "source": [
        "> ## 2) Model Compile"
      ]
    },
    {
      "cell_type": "markdown",
      "metadata": {
        "id": "f3sxkQa0JoUr"
      },
      "source": [
        "* 모델 학습방법 설정"
      ]
    },
    {
      "cell_type": "code",
      "metadata": {
        "id": "AyK_t1qwAi6M"
      },
      "source": [
        "mnist.compile(loss = 'categorical_crossentropy',\n",
        "              optimizer = 'rmsprop',\n",
        "              metrics = ['accuracy'])"
      ],
      "execution_count": 18,
      "outputs": []
    },
    {
      "cell_type": "markdown",
      "metadata": {
        "id": "umiq4B-Xo3OB"
      },
      "source": [
        "> ## 3) Model Fit"
      ]
    },
    {
      "cell_type": "markdown",
      "metadata": {
        "id": "1KuXREziKMD1"
      },
      "source": [
        "* 약 3분"
      ]
    },
    {
      "cell_type": "code",
      "metadata": {
        "id": "zxwqwAqRAqRP",
        "colab": {
          "base_uri": "https://localhost:8080/"
        },
        "outputId": "d192419c-8c43-47f3-ae9f-33e8a6b36d60"
      },
      "source": [
        "%%time\n",
        "\n",
        "Hist_mnist = mnist.fit(X_train, y_train,\n",
        "                       epochs = 100,\n",
        "                       batch_size = 128,\n",
        "                       validation_split = 0.2)\n"
      ],
      "execution_count": 19,
      "outputs": [
        {
          "output_type": "stream",
          "name": "stdout",
          "text": [
            "Epoch 1/100\n",
            "375/375 [==============================] - 5s 6ms/step - loss: 0.5667 - accuracy: 0.7937 - val_loss: 0.4157 - val_accuracy: 0.8422\n",
            "Epoch 2/100\n",
            "375/375 [==============================] - 2s 5ms/step - loss: 0.3857 - accuracy: 0.8573 - val_loss: 0.3543 - val_accuracy: 0.8684\n",
            "Epoch 3/100\n",
            "375/375 [==============================] - 2s 5ms/step - loss: 0.3433 - accuracy: 0.8724 - val_loss: 0.3526 - val_accuracy: 0.8741\n",
            "Epoch 4/100\n",
            "375/375 [==============================] - 2s 5ms/step - loss: 0.3156 - accuracy: 0.8833 - val_loss: 0.3672 - val_accuracy: 0.8668\n",
            "Epoch 5/100\n",
            "375/375 [==============================] - 2s 5ms/step - loss: 0.2955 - accuracy: 0.8900 - val_loss: 0.3451 - val_accuracy: 0.8793\n",
            "Epoch 6/100\n",
            "375/375 [==============================] - 2s 5ms/step - loss: 0.2801 - accuracy: 0.8956 - val_loss: 0.3971 - val_accuracy: 0.8715\n",
            "Epoch 7/100\n",
            "375/375 [==============================] - 2s 5ms/step - loss: 0.2668 - accuracy: 0.9006 - val_loss: 0.3241 - val_accuracy: 0.8892\n",
            "Epoch 8/100\n",
            "375/375 [==============================] - 2s 5ms/step - loss: 0.2570 - accuracy: 0.9050 - val_loss: 0.3758 - val_accuracy: 0.8703\n",
            "Epoch 9/100\n",
            "375/375 [==============================] - 2s 5ms/step - loss: 0.2459 - accuracy: 0.9087 - val_loss: 0.3505 - val_accuracy: 0.8873\n",
            "Epoch 10/100\n",
            "375/375 [==============================] - 2s 5ms/step - loss: 0.2383 - accuracy: 0.9093 - val_loss: 0.3478 - val_accuracy: 0.8845\n",
            "Epoch 11/100\n",
            "375/375 [==============================] - 2s 5ms/step - loss: 0.2291 - accuracy: 0.9151 - val_loss: 0.3546 - val_accuracy: 0.8903\n",
            "Epoch 12/100\n",
            "375/375 [==============================] - 2s 5ms/step - loss: 0.2228 - accuracy: 0.9174 - val_loss: 0.3561 - val_accuracy: 0.8899\n",
            "Epoch 13/100\n",
            "375/375 [==============================] - 2s 5ms/step - loss: 0.2154 - accuracy: 0.9198 - val_loss: 0.3557 - val_accuracy: 0.8940\n",
            "Epoch 14/100\n",
            "375/375 [==============================] - 2s 5ms/step - loss: 0.2120 - accuracy: 0.9213 - val_loss: 0.4113 - val_accuracy: 0.8864\n",
            "Epoch 15/100\n",
            "375/375 [==============================] - 2s 5ms/step - loss: 0.2060 - accuracy: 0.9242 - val_loss: 0.4317 - val_accuracy: 0.8812\n",
            "Epoch 16/100\n",
            "375/375 [==============================] - 2s 5ms/step - loss: 0.1999 - accuracy: 0.9248 - val_loss: 0.3926 - val_accuracy: 0.8921\n",
            "Epoch 17/100\n",
            "375/375 [==============================] - 2s 5ms/step - loss: 0.1942 - accuracy: 0.9280 - val_loss: 0.4580 - val_accuracy: 0.8842\n",
            "Epoch 18/100\n",
            "375/375 [==============================] - 2s 5ms/step - loss: 0.1927 - accuracy: 0.9281 - val_loss: 0.4794 - val_accuracy: 0.8805\n",
            "Epoch 19/100\n",
            "375/375 [==============================] - 2s 5ms/step - loss: 0.1860 - accuracy: 0.9302 - val_loss: 0.4496 - val_accuracy: 0.8920\n",
            "Epoch 20/100\n",
            "375/375 [==============================] - 2s 5ms/step - loss: 0.1822 - accuracy: 0.9325 - val_loss: 0.4990 - val_accuracy: 0.8834\n",
            "Epoch 21/100\n",
            "375/375 [==============================] - 2s 5ms/step - loss: 0.1785 - accuracy: 0.9348 - val_loss: 0.5022 - val_accuracy: 0.8845\n",
            "Epoch 22/100\n",
            "375/375 [==============================] - 2s 5ms/step - loss: 0.1747 - accuracy: 0.9351 - val_loss: 0.5047 - val_accuracy: 0.8939\n",
            "Epoch 23/100\n",
            "375/375 [==============================] - 2s 5ms/step - loss: 0.1749 - accuracy: 0.9365 - val_loss: 0.5073 - val_accuracy: 0.8956\n",
            "Epoch 24/100\n",
            "375/375 [==============================] - 2s 5ms/step - loss: 0.1682 - accuracy: 0.9383 - val_loss: 0.4789 - val_accuracy: 0.8962\n",
            "Epoch 25/100\n",
            "375/375 [==============================] - 2s 5ms/step - loss: 0.1706 - accuracy: 0.9382 - val_loss: 0.4873 - val_accuracy: 0.8905\n",
            "Epoch 26/100\n",
            "375/375 [==============================] - 2s 5ms/step - loss: 0.1661 - accuracy: 0.9397 - val_loss: 0.5096 - val_accuracy: 0.8946\n",
            "Epoch 27/100\n",
            "375/375 [==============================] - 2s 5ms/step - loss: 0.1639 - accuracy: 0.9405 - val_loss: 0.5919 - val_accuracy: 0.8758\n",
            "Epoch 28/100\n",
            "375/375 [==============================] - 2s 5ms/step - loss: 0.1636 - accuracy: 0.9407 - val_loss: 0.6126 - val_accuracy: 0.8932\n",
            "Epoch 29/100\n",
            "375/375 [==============================] - 2s 5ms/step - loss: 0.1609 - accuracy: 0.9409 - val_loss: 0.4964 - val_accuracy: 0.8907\n",
            "Epoch 30/100\n",
            "375/375 [==============================] - 2s 5ms/step - loss: 0.1554 - accuracy: 0.9424 - val_loss: 0.6378 - val_accuracy: 0.8802\n",
            "Epoch 31/100\n",
            "375/375 [==============================] - 2s 5ms/step - loss: 0.1562 - accuracy: 0.9438 - val_loss: 0.5517 - val_accuracy: 0.8959\n",
            "Epoch 32/100\n",
            "375/375 [==============================] - 2s 5ms/step - loss: 0.1505 - accuracy: 0.9451 - val_loss: 0.6134 - val_accuracy: 0.8914\n",
            "Epoch 33/100\n",
            "375/375 [==============================] - 2s 5ms/step - loss: 0.1493 - accuracy: 0.9463 - val_loss: 0.5828 - val_accuracy: 0.8908\n",
            "Epoch 34/100\n",
            "375/375 [==============================] - 2s 5ms/step - loss: 0.1463 - accuracy: 0.9471 - val_loss: 0.6757 - val_accuracy: 0.8867\n",
            "Epoch 35/100\n",
            "375/375 [==============================] - 2s 5ms/step - loss: 0.1451 - accuracy: 0.9473 - val_loss: 0.6895 - val_accuracy: 0.8893\n",
            "Epoch 36/100\n",
            "375/375 [==============================] - 2s 5ms/step - loss: 0.1419 - accuracy: 0.9484 - val_loss: 0.6271 - val_accuracy: 0.8951\n",
            "Epoch 37/100\n",
            "375/375 [==============================] - 2s 5ms/step - loss: 0.1440 - accuracy: 0.9480 - val_loss: 0.6897 - val_accuracy: 0.8903\n",
            "Epoch 38/100\n",
            "375/375 [==============================] - 2s 5ms/step - loss: 0.1435 - accuracy: 0.9494 - val_loss: 0.6316 - val_accuracy: 0.8934\n",
            "Epoch 39/100\n",
            "375/375 [==============================] - 2s 5ms/step - loss: 0.1361 - accuracy: 0.9513 - val_loss: 0.7150 - val_accuracy: 0.8856\n",
            "Epoch 40/100\n",
            "375/375 [==============================] - 2s 5ms/step - loss: 0.1404 - accuracy: 0.9505 - val_loss: 0.7130 - val_accuracy: 0.8905\n",
            "Epoch 41/100\n",
            "375/375 [==============================] - 2s 5ms/step - loss: 0.1380 - accuracy: 0.9523 - val_loss: 0.7153 - val_accuracy: 0.8922\n",
            "Epoch 42/100\n",
            "375/375 [==============================] - 2s 5ms/step - loss: 0.1373 - accuracy: 0.9511 - val_loss: 0.7179 - val_accuracy: 0.8945\n",
            "Epoch 43/100\n",
            "375/375 [==============================] - 2s 5ms/step - loss: 0.1305 - accuracy: 0.9533 - val_loss: 0.7324 - val_accuracy: 0.8912\n",
            "Epoch 44/100\n",
            "375/375 [==============================] - 2s 5ms/step - loss: 0.1316 - accuracy: 0.9538 - val_loss: 0.7292 - val_accuracy: 0.8919\n",
            "Epoch 45/100\n",
            "375/375 [==============================] - 2s 5ms/step - loss: 0.1283 - accuracy: 0.9547 - val_loss: 0.7734 - val_accuracy: 0.8911\n",
            "Epoch 46/100\n",
            "375/375 [==============================] - 2s 5ms/step - loss: 0.1284 - accuracy: 0.9548 - val_loss: 0.8338 - val_accuracy: 0.8901\n",
            "Epoch 47/100\n",
            "375/375 [==============================] - 2s 5ms/step - loss: 0.1283 - accuracy: 0.9555 - val_loss: 0.7452 - val_accuracy: 0.8895\n",
            "Epoch 48/100\n",
            "375/375 [==============================] - 2s 5ms/step - loss: 0.1271 - accuracy: 0.9547 - val_loss: 0.8086 - val_accuracy: 0.8878\n",
            "Epoch 49/100\n",
            "375/375 [==============================] - 2s 5ms/step - loss: 0.1239 - accuracy: 0.9560 - val_loss: 0.8672 - val_accuracy: 0.8932\n",
            "Epoch 50/100\n",
            "375/375 [==============================] - 2s 5ms/step - loss: 0.1223 - accuracy: 0.9571 - val_loss: 0.8270 - val_accuracy: 0.8830\n",
            "Epoch 51/100\n",
            "375/375 [==============================] - 2s 5ms/step - loss: 0.1203 - accuracy: 0.9569 - val_loss: 0.7877 - val_accuracy: 0.8963\n",
            "Epoch 52/100\n",
            "375/375 [==============================] - 2s 5ms/step - loss: 0.1159 - accuracy: 0.9579 - val_loss: 0.9295 - val_accuracy: 0.8872\n",
            "Epoch 53/100\n",
            "375/375 [==============================] - 2s 5ms/step - loss: 0.1238 - accuracy: 0.9591 - val_loss: 1.0132 - val_accuracy: 0.8873\n",
            "Epoch 54/100\n",
            "375/375 [==============================] - 2s 5ms/step - loss: 0.1227 - accuracy: 0.9571 - val_loss: 0.9402 - val_accuracy: 0.8848\n",
            "Epoch 55/100\n",
            "375/375 [==============================] - 2s 5ms/step - loss: 0.1158 - accuracy: 0.9601 - val_loss: 1.0307 - val_accuracy: 0.8868\n",
            "Epoch 56/100\n",
            "375/375 [==============================] - 2s 5ms/step - loss: 0.1209 - accuracy: 0.9587 - val_loss: 0.8988 - val_accuracy: 0.8951\n",
            "Epoch 57/100\n",
            "375/375 [==============================] - 2s 5ms/step - loss: 0.1141 - accuracy: 0.9605 - val_loss: 0.9084 - val_accuracy: 0.8918\n",
            "Epoch 58/100\n",
            "375/375 [==============================] - 2s 5ms/step - loss: 0.1165 - accuracy: 0.9600 - val_loss: 0.9889 - val_accuracy: 0.8911\n",
            "Epoch 59/100\n",
            "375/375 [==============================] - 2s 5ms/step - loss: 0.1150 - accuracy: 0.9610 - val_loss: 0.9862 - val_accuracy: 0.8936\n",
            "Epoch 60/100\n",
            "375/375 [==============================] - 2s 5ms/step - loss: 0.1119 - accuracy: 0.9615 - val_loss: 0.8585 - val_accuracy: 0.8921\n",
            "Epoch 61/100\n",
            "375/375 [==============================] - 2s 5ms/step - loss: 0.1093 - accuracy: 0.9621 - val_loss: 0.9374 - val_accuracy: 0.8920\n",
            "Epoch 62/100\n",
            "375/375 [==============================] - 2s 5ms/step - loss: 0.1096 - accuracy: 0.9630 - val_loss: 0.8956 - val_accuracy: 0.8943\n",
            "Epoch 63/100\n",
            "375/375 [==============================] - 2s 5ms/step - loss: 0.1078 - accuracy: 0.9633 - val_loss: 1.0655 - val_accuracy: 0.8953\n",
            "Epoch 64/100\n",
            "375/375 [==============================] - 2s 5ms/step - loss: 0.1090 - accuracy: 0.9632 - val_loss: 1.1329 - val_accuracy: 0.8878\n",
            "Epoch 65/100\n",
            "375/375 [==============================] - 2s 5ms/step - loss: 0.1108 - accuracy: 0.9644 - val_loss: 1.0414 - val_accuracy: 0.8926\n",
            "Epoch 66/100\n",
            "375/375 [==============================] - 2s 5ms/step - loss: 0.1134 - accuracy: 0.9633 - val_loss: 1.1220 - val_accuracy: 0.8832\n",
            "Epoch 67/100\n",
            "375/375 [==============================] - 2s 5ms/step - loss: 0.1106 - accuracy: 0.9639 - val_loss: 0.9467 - val_accuracy: 0.8913\n",
            "Epoch 68/100\n",
            "375/375 [==============================] - 2s 5ms/step - loss: 0.1044 - accuracy: 0.9643 - val_loss: 1.1403 - val_accuracy: 0.8947\n",
            "Epoch 69/100\n",
            "375/375 [==============================] - 2s 5ms/step - loss: 0.1106 - accuracy: 0.9649 - val_loss: 1.0058 - val_accuracy: 0.8882\n",
            "Epoch 70/100\n",
            "375/375 [==============================] - 2s 5ms/step - loss: 0.1067 - accuracy: 0.9650 - val_loss: 1.1497 - val_accuracy: 0.8892\n",
            "Epoch 71/100\n",
            "375/375 [==============================] - 2s 5ms/step - loss: 0.1073 - accuracy: 0.9646 - val_loss: 1.2038 - val_accuracy: 0.8898\n",
            "Epoch 72/100\n",
            "375/375 [==============================] - 2s 5ms/step - loss: 0.1048 - accuracy: 0.9669 - val_loss: 1.0950 - val_accuracy: 0.8892\n",
            "Epoch 73/100\n",
            "375/375 [==============================] - 2s 5ms/step - loss: 0.1022 - accuracy: 0.9673 - val_loss: 1.2488 - val_accuracy: 0.8851\n",
            "Epoch 74/100\n",
            "375/375 [==============================] - 2s 5ms/step - loss: 0.1007 - accuracy: 0.9666 - val_loss: 1.1417 - val_accuracy: 0.8955\n",
            "Epoch 75/100\n",
            "375/375 [==============================] - 2s 5ms/step - loss: 0.1020 - accuracy: 0.9659 - val_loss: 1.1164 - val_accuracy: 0.8935\n",
            "Epoch 76/100\n",
            "375/375 [==============================] - 2s 5ms/step - loss: 0.0977 - accuracy: 0.9679 - val_loss: 1.1996 - val_accuracy: 0.8888\n",
            "Epoch 77/100\n",
            "375/375 [==============================] - 2s 5ms/step - loss: 0.0995 - accuracy: 0.9684 - val_loss: 1.2356 - val_accuracy: 0.8926\n",
            "Epoch 78/100\n",
            "375/375 [==============================] - 2s 5ms/step - loss: 0.1025 - accuracy: 0.9674 - val_loss: 1.2005 - val_accuracy: 0.8904\n",
            "Epoch 79/100\n",
            "375/375 [==============================] - 2s 5ms/step - loss: 0.0952 - accuracy: 0.9688 - val_loss: 1.1930 - val_accuracy: 0.8932\n",
            "Epoch 80/100\n",
            "375/375 [==============================] - 2s 5ms/step - loss: 0.1009 - accuracy: 0.9693 - val_loss: 1.2047 - val_accuracy: 0.8939\n",
            "Epoch 81/100\n",
            "375/375 [==============================] - 2s 5ms/step - loss: 0.0988 - accuracy: 0.9693 - val_loss: 1.3916 - val_accuracy: 0.8901\n",
            "Epoch 82/100\n",
            "375/375 [==============================] - 2s 5ms/step - loss: 0.0923 - accuracy: 0.9685 - val_loss: 1.4492 - val_accuracy: 0.8747\n",
            "Epoch 83/100\n",
            "375/375 [==============================] - 2s 5ms/step - loss: 0.0963 - accuracy: 0.9693 - val_loss: 1.3492 - val_accuracy: 0.8857\n",
            "Epoch 84/100\n",
            "375/375 [==============================] - 2s 5ms/step - loss: 0.0875 - accuracy: 0.9718 - val_loss: 1.3250 - val_accuracy: 0.8907\n",
            "Epoch 85/100\n",
            "375/375 [==============================] - 2s 5ms/step - loss: 0.0963 - accuracy: 0.9698 - val_loss: 1.2954 - val_accuracy: 0.8885\n",
            "Epoch 86/100\n",
            "375/375 [==============================] - 2s 5ms/step - loss: 0.0921 - accuracy: 0.9705 - val_loss: 1.4086 - val_accuracy: 0.8831\n",
            "Epoch 87/100\n",
            "375/375 [==============================] - 2s 5ms/step - loss: 0.0913 - accuracy: 0.9705 - val_loss: 1.3643 - val_accuracy: 0.8907\n",
            "Epoch 88/100\n",
            "375/375 [==============================] - 2s 5ms/step - loss: 0.0902 - accuracy: 0.9715 - val_loss: 1.4274 - val_accuracy: 0.8828\n",
            "Epoch 89/100\n",
            "375/375 [==============================] - 2s 5ms/step - loss: 0.0866 - accuracy: 0.9721 - val_loss: 1.2721 - val_accuracy: 0.8912\n",
            "Epoch 90/100\n",
            "375/375 [==============================] - 2s 5ms/step - loss: 0.0905 - accuracy: 0.9708 - val_loss: 1.4346 - val_accuracy: 0.8922\n",
            "Epoch 91/100\n",
            "375/375 [==============================] - 2s 5ms/step - loss: 0.0929 - accuracy: 0.9715 - val_loss: 1.3702 - val_accuracy: 0.8900\n",
            "Epoch 92/100\n",
            "375/375 [==============================] - 2s 5ms/step - loss: 0.0915 - accuracy: 0.9715 - val_loss: 1.8036 - val_accuracy: 0.8827\n",
            "Epoch 93/100\n",
            "375/375 [==============================] - 2s 5ms/step - loss: 0.0984 - accuracy: 0.9718 - val_loss: 1.3410 - val_accuracy: 0.8907\n",
            "Epoch 94/100\n",
            "375/375 [==============================] - 2s 5ms/step - loss: 0.0857 - accuracy: 0.9736 - val_loss: 1.4498 - val_accuracy: 0.8961\n",
            "Epoch 95/100\n",
            "375/375 [==============================] - 2s 5ms/step - loss: 0.0855 - accuracy: 0.9725 - val_loss: 1.4940 - val_accuracy: 0.8947\n",
            "Epoch 96/100\n",
            "375/375 [==============================] - 2s 5ms/step - loss: 0.0846 - accuracy: 0.9734 - val_loss: 1.4310 - val_accuracy: 0.8887\n",
            "Epoch 97/100\n",
            "375/375 [==============================] - 2s 5ms/step - loss: 0.0905 - accuracy: 0.9728 - val_loss: 1.4826 - val_accuracy: 0.8896\n",
            "Epoch 98/100\n",
            "375/375 [==============================] - 2s 5ms/step - loss: 0.0835 - accuracy: 0.9729 - val_loss: 1.4848 - val_accuracy: 0.8959\n",
            "Epoch 99/100\n",
            "375/375 [==============================] - 2s 5ms/step - loss: 0.0835 - accuracy: 0.9728 - val_loss: 1.5251 - val_accuracy: 0.8834\n",
            "Epoch 100/100\n",
            "375/375 [==============================] - 2s 5ms/step - loss: 0.0832 - accuracy: 0.9741 - val_loss: 1.5646 - val_accuracy: 0.8895\n",
            "CPU times: user 3min 12s, sys: 22.9 s, total: 3min 35s\n",
            "Wall time: 3min 22s\n"
          ]
        }
      ]
    },
    {
      "cell_type": "markdown",
      "metadata": {
        "id": "FnnIyFtNKhbD"
      },
      "source": [
        "> ## 4) 학습 결과 시각화"
      ]
    },
    {
      "cell_type": "markdown",
      "metadata": {
        "id": "YgXRhVauKqOm"
      },
      "source": [
        "* Loss Visualization"
      ]
    },
    {
      "cell_type": "code",
      "metadata": {
        "id": "OQ4ke8BbKi50",
        "colab": {
          "base_uri": "https://localhost:8080/",
          "height": 404
        },
        "outputId": "5865f508-4f11-471b-f2df-e974a64a2bec"
      },
      "source": [
        "epochs = range(1, len(Hist_mnist.history['loss'])+1)\n",
        "\n",
        "plt.figure(figsize = (9,6))\n",
        "plt.plot(epochs, Hist_mnist.history['loss'])\n",
        "plt.plot(epochs, Hist_mnist.history['val_loss'])\n",
        "#plt.ylim(0,0.25)\n",
        "plt.title('Training&Validation Loss')\n",
        "plt.xlabel('Epochs')\n",
        "plt.ylabel('Loss')\n",
        "plt.legend(['Training Loss', 'Validation Loss'])\n",
        "plt.grid()\n",
        "plt.show()"
      ],
      "execution_count": 20,
      "outputs": [
        {
          "output_type": "display_data",
          "data": {
            "image/png": "[encoded data removed]",
            "text/plain": [
              "<Figure size 648x432 with 1 Axes>"
            ]
          },
          "metadata": {
            "needs_background": "light"
          }
        }
      ]
    },
    {
      "cell_type": "markdown",
      "metadata": {
        "id": "_uJSOLBko7lh"
      },
      "source": [
        "> ## 5) Model Evaluate"
      ]
    },
    {
      "cell_type": "markdown",
      "metadata": {
        "id": "i-TqAB2ALGzZ"
      },
      "source": [
        "* Loss & Accuracy"
      ]
    },
    {
      "cell_type": "code",
      "metadata": {
        "id": "OF30PuZsAxQJ",
        "colab": {
          "base_uri": "https://localhost:8080/"
        },
        "outputId": "d5dc533b-212d-463d-b43a-9d1394b23a76"
      },
      "source": [
        "loss, accuracy = mnist.evaluate(X_test, y_test)\n",
        "\n",
        "print('Loss = {:.5f}'.format(loss))\n",
        "print('Accuracy = {:.5f}'.format(accuracy))"
      ],
      "execution_count": 21,
      "outputs": [
        {
          "output_type": "stream",
          "name": "stdout",
          "text": [
            "313/313 [==============================] - 1s 3ms/step - loss: 1.7249 - accuracy: 0.8858\n",
            "Loss = 1.72488\n",
            "Accuracy = 0.88580\n"
          ]
        }
      ]
    },
    {
      "cell_type": "markdown",
      "metadata": {
        "id": "1PRY6gAXo_PX"
      },
      "source": [
        "> ## 6) Model Predict"
      ]
    },
    {
      "cell_type": "markdown",
      "metadata": {
        "id": "M_pFxK4PLjxX"
      },
      "source": [
        "* Probability"
      ]
    },
    {
      "cell_type": "code",
      "metadata": {
        "id": "vCdPbgU1ajoV",
        "colab": {
          "base_uri": "https://localhost:8080/"
        },
        "outputId": "674aca31-2633-4d80-837a-55219d4cd104"
      },
      "source": [
        "np.set_printoptions(suppress = True, precision = 9)\n",
        "print(mnist.predict(X_test[:1,:]))"
      ],
      "execution_count": 22,
      "outputs": [
        {
          "output_type": "stream",
          "name": "stdout",
          "text": [
            "[[0. 0. 0. 0. 0. 0. 0. 0. 0. 1.]]\n"
          ]
        }
      ]
    },
    {
      "cell_type": "markdown",
      "metadata": {
        "id": "V10JgtGdLmKb"
      },
      "source": [
        "* Class"
      ]
    },
    {
      "cell_type": "code",
      "metadata": {
        "id": "xW6AhMK9a7RK",
        "colab": {
          "base_uri": "https://localhost:8080/"
        },
        "outputId": "b7dbd3d0-4cce-4956-cbad-6e1ca8f0b809"
      },
      "source": [
        "print(np.argmax(mnist.predict(X_test[:1,:])))"
      ],
      "execution_count": 23,
      "outputs": [
        {
          "output_type": "stream",
          "name": "stdout",
          "text": [
            "9\n"
          ]
        }
      ]
    },
    {
      "cell_type": "markdown",
      "metadata": {
        "id": "sN48I9GrLxOX"
      },
      "source": [
        "# \n",
        "# \n",
        "# \n",
        "# The End\n",
        "# \n",
        "# \n",
        "# "
      ]
    }
  ]
}